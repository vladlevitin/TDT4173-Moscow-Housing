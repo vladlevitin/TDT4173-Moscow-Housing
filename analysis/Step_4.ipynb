{
 "cells": [
  {
   "cell_type": "code",
   "execution_count": 1,
   "id": "c11150c1",
   "metadata": {},
   "outputs": [],
   "source": [
    "import pandas as pd\n",
    "import numpy as np\n",
    "\n",
    "from sklearn.model_selection import train_test_split, KFold\n",
    "from sklearn.tree import DecisionTreeRegressor\n",
    "from sklearn.metrics import mean_squared_error\n",
    "from sklearn.ensemble import RandomForestRegressor\n",
    "from sklearn.ensemble import AdaBoostRegressor\n",
    "from sklearn.ensemble import GradientBoostingRegressor\n",
    "import lightgbm as lgb\n",
    "from catboost import CatBoostRegressor\n",
    "\n",
    "from functions.datacleaning import MoscowHousing as mh\n",
    "from functions.distance import get_distance_coordinates, norm_features\n",
    "\n",
    "import matplotlib.pylab as plt\n",
    "import seaborn as sns\n",
    "plt.style.use('ggplot')"
   ]
  },
  {
   "cell_type": "markdown",
   "id": "d521819d",
   "metadata": {},
   "source": [
    "# Prepare NaN Values"
   ]
  },
  {
   "cell_type": "raw",
   "id": "7a33568b",
   "metadata": {},
   "source": [
    "Currently only one nan value has been replaced by computations and that is setting district of a property not in Moscow to 12. All other prior replacements were done on district, missing longitudes and latitudes based on existing neighbouring buildings or same street and nearby address (all done in Trifacta).\n",
    "\n",
    "The following replacing of NaN will be more experimental.\n",
    "\n",
    "\n",
    "Suggestions:\n",
    "\n",
    "1. Same building + same number of rooms ---> take area_kitchen and area_living and other apartement information from an apartment with values. Take average if more than one.\n"
   ]
  },
  {
   "cell_type": "code",
   "execution_count": 2,
   "id": "4dcbe0d5",
   "metadata": {},
   "outputs": [],
   "source": [
    "# Get data\n",
    "data = mh(\n",
    "          coordinates=None,\n",
    "          data_train=\"../prepared_data/train_prepared.csv\",\n",
    "          data_test=\"../prepared_data/test_prepared.csv\",\n",
    "          need_correction=False,\n",
    "          normalize = False,\n",
    "          features_float = [\"area_total\", \n",
    "                            \"distance\", \n",
    "                            \"area_kitchen\", \n",
    "                            \"area_living\", \n",
    "                            \"ceiling\",\n",
    "                            \"distance_metro\"]\n",
    "          )\n",
    "\n",
    "XTrain, YTrain = data.get_data_train()\n",
    "XTest = data.get_data_test()"
   ]
  },
  {
   "cell_type": "code",
   "execution_count": null,
   "id": "0e43ba64",
   "metadata": {},
   "outputs": [],
   "source": [
    "X_Train = XTrain.copy()\n",
    "Y_Train = YTrain.copy()\n",
    "X_Test = XTest.copy()"
   ]
  },
  {
   "cell_type": "code",
   "execution_count": null,
   "id": "d136454c",
   "metadata": {},
   "outputs": [],
   "source": [
    "X = X_Train.copy()\n",
    "y = Y_Train.copy()"
   ]
  },
  {
   "cell_type": "code",
   "execution_count": null,
   "id": "ed880c8e",
   "metadata": {},
   "outputs": [],
   "source": [
    "X_train, X_test, y_train, y_test = train_test_split(X, y, test_size=0.2, random_state=42)"
   ]
  },
  {
   "cell_type": "code",
   "execution_count": 3,
   "id": "5d990793",
   "metadata": {},
   "outputs": [],
   "source": [
    "# Template for replacing nan by computing other variables\n",
    "#df[\"parking\"] = df.groupby(\"district\").transform(lambda x: x.fillna(x.median()))[\"parking\"]"
   ]
  },
  {
   "cell_type": "code",
   "execution_count": 4,
   "id": "cdc66be3",
   "metadata": {},
   "outputs": [],
   "source": [
    "#df.column_name.loc[df.column_name > max_value]  = max_value"
   ]
  },
  {
   "cell_type": "code",
   "execution_count": 5,
   "id": "6faef3d9",
   "metadata": {},
   "outputs": [],
   "source": [
    "district_counts = {0:{},1:{},2:{},3:{},4:{},5:{},6:{},7:{},8:{},9:{},10:{},11:{},12:{}}\n",
    "districts = XTrain[\"district\"]\n",
    "for d in districts:\n",
    "    pass"
   ]
  },
  {
   "cell_type": "code",
   "execution_count": null,
   "id": "2039ed0c",
   "metadata": {},
   "outputs": [],
   "source": []
  }
 ],
 "metadata": {
  "kernelspec": {
   "display_name": "Python 3 (ipykernel)",
   "language": "python",
   "name": "python3"
  },
  "language_info": {
   "codemirror_mode": {
    "name": "ipython",
    "version": 3
   },
   "file_extension": ".py",
   "mimetype": "text/x-python",
   "name": "python",
   "nbconvert_exporter": "python",
   "pygments_lexer": "ipython3",
   "version": "3.8.11"
  }
 },
 "nbformat": 4,
 "nbformat_minor": 5
}
