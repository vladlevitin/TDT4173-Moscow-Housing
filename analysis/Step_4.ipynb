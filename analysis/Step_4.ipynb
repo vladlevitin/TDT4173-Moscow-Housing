{
 "cells": [
  {
   "cell_type": "code",
   "execution_count": 1,
   "id": "c0945d2a",
   "metadata": {},
   "outputs": [],
   "source": [
    "import pandas as pd\n",
    "import numpy as np\n",
    "\n",
    "from sklearn.model_selection import train_test_split, KFold\n",
    "from sklearn.tree import DecisionTreeRegressor\n",
    "from sklearn.metrics import mean_squared_error\n",
    "from sklearn.ensemble import RandomForestRegressor\n",
    "from sklearn.ensemble import AdaBoostRegressor\n",
    "from sklearn.ensemble import GradientBoostingRegressor\n",
    "import lightgbm as lgb\n",
    "from catboost import CatBoostRegressor\n",
    "\n",
    "from functions.datacleaning import MoscowHousing as mh\n",
    "from functions.distance import get_distance_coordinates, norm_features\n",
    "\n",
    "import matplotlib.pylab as plt\n",
    "import seaborn as sns\n",
    "plt.style.use('ggplot')"
   ]
  },
  {
   "cell_type": "markdown",
   "id": "413549c9",
   "metadata": {},
   "source": [
    "# Prepare NaN Values"
   ]
  },
  {
   "cell_type": "raw",
   "id": "c08ce2f2",
   "metadata": {},
   "source": [
    "Currently only one nan value has been replaced by computations and that is setting district of a property not in Moscow to 12. All other prior replacements were done on district, missing longitudes and latitudes based on existing neighbouring buildings or same street and nearby address (all done in Trifacta).\n",
    "\n",
    "The following replacing of NaN will be more experimental."
   ]
  },
  {
   "cell_type": "code",
   "execution_count": 2,
   "id": "0ec29ffe",
   "metadata": {},
   "outputs": [],
   "source": [
    "# Get data\n",
    "data = mh()\n",
    "\n",
    "XTrain, YTrain = data.get_data_train()\n",
    "XTest = data.get_data_test()"
   ]
  },
  {
   "cell_type": "code",
   "execution_count": 3,
   "id": "0ac8bb88",
   "metadata": {},
   "outputs": [],
   "source": [
    "# Template for replacing nan by computing other variables\n",
    "#df[\"parking\"] = df.groupby(\"district\").transform(lambda x: x.fillna(x.median()))[\"parking\"]"
   ]
  },
  {
   "cell_type": "code",
   "execution_count": 4,
   "id": "158327d5",
   "metadata": {},
   "outputs": [],
   "source": [
    "#df.column_name.loc[df.column_name > max_value]  = max_value"
   ]
  },
  {
   "cell_type": "code",
   "execution_count": 5,
   "id": "fd3892f4",
   "metadata": {},
   "outputs": [],
   "source": [
    "district_counts = {0:{},1:{},2:{},3:{},4:{},5:{},6:{},7:{},8:{},9:{},10:{},11:{},12:{}}\n",
    "districts = XTrain[\"district\"]\n",
    "for d in districts:\n",
    "    pass"
   ]
  }
 ],
 "metadata": {
  "kernelspec": {
   "display_name": "Python 3 (ipykernel)",
   "language": "python",
   "name": "python3"
  },
  "language_info": {
   "codemirror_mode": {
    "name": "ipython",
    "version": 3
   },
   "file_extension": ".py",
   "mimetype": "text/x-python",
   "name": "python",
   "nbconvert_exporter": "python",
   "pygments_lexer": "ipython3",
   "version": "3.8.11"
  }
 },
 "nbformat": 4,
 "nbformat_minor": 5
}
