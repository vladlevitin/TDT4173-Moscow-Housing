{
 "cells": [
  {
   "cell_type": "code",
   "execution_count": 1,
   "id": "697c42be",
   "metadata": {},
   "outputs": [],
   "source": [
    "import pandas as pd\n",
    "import numpy as np\n",
    "\n",
    "from sklearn.model_selection import train_test_split, KFold\n",
    "from sklearn.tree import DecisionTreeRegressor\n",
    "from sklearn.metrics import mean_squared_error\n",
    "from sklearn.ensemble import RandomForestRegressor\n",
    "from sklearn.ensemble import AdaBoostRegressor\n",
    "from sklearn.ensemble import GradientBoostingRegressor\n",
    "import lightgbm as lgb\n",
    "from catboost import CatBoostRegressor\n",
    "from sklearn.decomposition import PCA  # Principal component\n",
    "\n",
    "from functions.datacleaning import MoscowHousing as mh\n",
    "from functions.distance import get_distance_coordinates, norm_features\n",
    "\n",
    "import matplotlib.pylab as plt\n",
    "import seaborn as sns\n",
    "plt.style.use('ggplot')"
   ]
  },
  {
   "cell_type": "markdown",
   "id": "40ab0d97",
   "metadata": {},
   "source": [
    "# Prepare NaN Values"
   ]
  },
  {
   "cell_type": "raw",
   "id": "4bcfacd4",
   "metadata": {},
   "source": [
    "Currently only one nan value has been replaced by computations and that is setting district of a property not in Moscow to 12. All other prior replacements were done on district, missing longitudes and latitudes based on existing neighbouring buildings or same street and nearby address (all done in Trifacta).\n",
    "\n",
    "The following replacing of NaN will be more experimental.\n",
    "\n",
    "\n",
    "Suggestions:\n",
    "\n",
    "1. Same building + same number of rooms ---> take area_kitchen and area_living and other apartement information from an apartment with values. Take average if more than one.\n"
   ]
  },
  {
   "cell_type": "code",
   "execution_count": 2,
   "id": "380575f6",
   "metadata": {},
   "outputs": [],
   "source": [
    "# Get data\n",
    "data = mh(\n",
    "          coordinates=None,\n",
    "          data_train=\"../prepared_data/train_prepared.csv\",\n",
    "          data_test=\"../prepared_data/test_prepared.csv\",\n",
    "          need_correction=False,\n",
    "          normalize = False,\n",
    "          features_float = [\"area_total\", \n",
    "                            \"distance\", \n",
    "                            \"area_kitchen\", \n",
    "                            \"area_living\", \n",
    "                            \"ceiling\",\n",
    "                            \"distance_metro\"]\n",
    "          )"
   ]
  },
  {
   "cell_type": "code",
   "execution_count": 3,
   "id": "b8116b84",
   "metadata": {},
   "outputs": [],
   "source": [
    "XTrain, YTrain = data.get_data_train()\n",
    "XTest = data.get_data_test()"
   ]
  },
  {
   "cell_type": "code",
   "execution_count": 15,
   "id": "37de6d67",
   "metadata": {},
   "outputs": [
    {
     "data": {
      "text/html": [
       "<div>\n",
       "<style scoped>\n",
       "    .dataframe tbody tr th:only-of-type {\n",
       "        vertical-align: middle;\n",
       "    }\n",
       "\n",
       "    .dataframe tbody tr th {\n",
       "        vertical-align: top;\n",
       "    }\n",
       "\n",
       "    .dataframe thead th {\n",
       "        text-align: right;\n",
       "    }\n",
       "</style>\n",
       "<table border=\"1\" class=\"dataframe\">\n",
       "  <thead>\n",
       "    <tr style=\"text-align: right;\">\n",
       "      <th></th>\n",
       "      <th>building_id</th>\n",
       "      <th>id</th>\n",
       "      <th>seller</th>\n",
       "      <th>price</th>\n",
       "      <th>area_total</th>\n",
       "      <th>price_per_square_meter</th>\n",
       "      <th>area_kitchen</th>\n",
       "      <th>area_living</th>\n",
       "      <th>floor</th>\n",
       "      <th>rooms</th>\n",
       "      <th>...</th>\n",
       "      <th>material</th>\n",
       "      <th>stories</th>\n",
       "      <th>elevator_without</th>\n",
       "      <th>elevator_passenger</th>\n",
       "      <th>elevator_service</th>\n",
       "      <th>parking</th>\n",
       "      <th>garbage_chute</th>\n",
       "      <th>heating</th>\n",
       "      <th>distance</th>\n",
       "      <th>distance_metro</th>\n",
       "    </tr>\n",
       "  </thead>\n",
       "  <tbody>\n",
       "    <tr>\n",
       "      <th>0</th>\n",
       "      <td>0</td>\n",
       "      <td>18450</td>\n",
       "      <td>NaN</td>\n",
       "      <td>11300000.0</td>\n",
       "      <td>-0.011096</td>\n",
       "      <td>153116.531165</td>\n",
       "      <td>-0.541037</td>\n",
       "      <td>0.263027</td>\n",
       "      <td>1</td>\n",
       "      <td>3</td>\n",
       "      <td>...</td>\n",
       "      <td>NaN</td>\n",
       "      <td>5</td>\n",
       "      <td>NaN</td>\n",
       "      <td>NaN</td>\n",
       "      <td>NaN</td>\n",
       "      <td>NaN</td>\n",
       "      <td>NaN</td>\n",
       "      <td>NaN</td>\n",
       "      <td>10.252880</td>\n",
       "      <td>286.45</td>\n",
       "    </tr>\n",
       "    <tr>\n",
       "      <th>1</th>\n",
       "      <td>1</td>\n",
       "      <td>20065</td>\n",
       "      <td>1.0</td>\n",
       "      <td>7100000.0</td>\n",
       "      <td>-0.553098</td>\n",
       "      <td>169047.619048</td>\n",
       "      <td>-0.388730</td>\n",
       "      <td>-0.596888</td>\n",
       "      <td>5</td>\n",
       "      <td>1</td>\n",
       "      <td>...</td>\n",
       "      <td>2.0</td>\n",
       "      <td>17</td>\n",
       "      <td>0.0</td>\n",
       "      <td>1.0</td>\n",
       "      <td>1.0</td>\n",
       "      <td>1.0</td>\n",
       "      <td>1.0</td>\n",
       "      <td>0.0</td>\n",
       "      <td>36.091930</td>\n",
       "      <td>16183.78</td>\n",
       "    </tr>\n",
       "    <tr>\n",
       "      <th>2</th>\n",
       "      <td>2</td>\n",
       "      <td>2137</td>\n",
       "      <td>0.0</td>\n",
       "      <td>13600000.0</td>\n",
       "      <td>0.009357</td>\n",
       "      <td>181333.333333</td>\n",
       "      <td>-0.388730</td>\n",
       "      <td>0.517816</td>\n",
       "      <td>3</td>\n",
       "      <td>3</td>\n",
       "      <td>...</td>\n",
       "      <td>3.0</td>\n",
       "      <td>12</td>\n",
       "      <td>0.0</td>\n",
       "      <td>1.0</td>\n",
       "      <td>0.0</td>\n",
       "      <td>1.0</td>\n",
       "      <td>1.0</td>\n",
       "      <td>0.0</td>\n",
       "      <td>12.374064</td>\n",
       "      <td>956.44</td>\n",
       "    </tr>\n",
       "    <tr>\n",
       "      <th>3</th>\n",
       "      <td>3</td>\n",
       "      <td>4155</td>\n",
       "      <td>1.0</td>\n",
       "      <td>10100000.0</td>\n",
       "      <td>-0.263348</td>\n",
       "      <td>171186.440678</td>\n",
       "      <td>NaN</td>\n",
       "      <td>NaN</td>\n",
       "      <td>2</td>\n",
       "      <td>2</td>\n",
       "      <td>...</td>\n",
       "      <td>2.0</td>\n",
       "      <td>7</td>\n",
       "      <td>0.0</td>\n",
       "      <td>1.0</td>\n",
       "      <td>1.0</td>\n",
       "      <td>NaN</td>\n",
       "      <td>NaN</td>\n",
       "      <td>0.0</td>\n",
       "      <td>15.232969</td>\n",
       "      <td>1405.21</td>\n",
       "    </tr>\n",
       "    <tr>\n",
       "      <th>4</th>\n",
       "      <td>3</td>\n",
       "      <td>8798</td>\n",
       "      <td>1.0</td>\n",
       "      <td>10100000.0</td>\n",
       "      <td>-0.263348</td>\n",
       "      <td>171186.440678</td>\n",
       "      <td>-0.084116</td>\n",
       "      <td>-0.262477</td>\n",
       "      <td>2</td>\n",
       "      <td>2</td>\n",
       "      <td>...</td>\n",
       "      <td>2.0</td>\n",
       "      <td>7</td>\n",
       "      <td>0.0</td>\n",
       "      <td>1.0</td>\n",
       "      <td>1.0</td>\n",
       "      <td>NaN</td>\n",
       "      <td>NaN</td>\n",
       "      <td>0.0</td>\n",
       "      <td>15.232969</td>\n",
       "      <td>1405.21</td>\n",
       "    </tr>\n",
       "  </tbody>\n",
       "</table>\n",
       "<p>5 rows × 38 columns</p>\n",
       "</div>"
      ],
      "text/plain": [
       "   building_id     id  seller       price  area_total  price_per_square_meter  \\\n",
       "0            0  18450     NaN  11300000.0   -0.011096           153116.531165   \n",
       "1            1  20065     1.0   7100000.0   -0.553098           169047.619048   \n",
       "2            2   2137     0.0  13600000.0    0.009357           181333.333333   \n",
       "3            3   4155     1.0  10100000.0   -0.263348           171186.440678   \n",
       "4            3   8798     1.0  10100000.0   -0.263348           171186.440678   \n",
       "\n",
       "   area_kitchen  area_living  floor  rooms  ...  material  stories  \\\n",
       "0     -0.541037     0.263027      1      3  ...       NaN        5   \n",
       "1     -0.388730    -0.596888      5      1  ...       2.0       17   \n",
       "2     -0.388730     0.517816      3      3  ...       3.0       12   \n",
       "3           NaN          NaN      2      2  ...       2.0        7   \n",
       "4     -0.084116    -0.262477      2      2  ...       2.0        7   \n",
       "\n",
       "   elevator_without  elevator_passenger  elevator_service  parking  \\\n",
       "0               NaN                 NaN               NaN      NaN   \n",
       "1               0.0                 1.0               1.0      1.0   \n",
       "2               0.0                 1.0               0.0      1.0   \n",
       "3               0.0                 1.0               1.0      NaN   \n",
       "4               0.0                 1.0               1.0      NaN   \n",
       "\n",
       "   garbage_chute  heating   distance  distance_metro  \n",
       "0            NaN      NaN  10.252880          286.45  \n",
       "1            1.0      0.0  36.091930        16183.78  \n",
       "2            1.0      0.0  12.374064          956.44  \n",
       "3            NaN      0.0  15.232969         1405.21  \n",
       "4            NaN      0.0  15.232969         1405.21  \n",
       "\n",
       "[5 rows x 38 columns]"
      ]
     },
     "execution_count": 15,
     "metadata": {},
     "output_type": "execute_result"
    }
   ],
   "source": [
    "XTrain.head()"
   ]
  },
  {
   "cell_type": "code",
   "execution_count": 5,
   "id": "6e266ae2",
   "metadata": {},
   "outputs": [
    {
     "name": "stdout",
     "output_type": "stream",
     "text": [
      "0        11300000.0\n",
      "1         7100000.0\n",
      "2        13600000.0\n",
      "3        10100000.0\n",
      "4        10100000.0\n",
      "            ...    \n",
      "23280    11229240.0\n",
      "23281    10047510.0\n",
      "23282     7898040.0\n",
      "23283    12442250.0\n",
      "23284     4999500.0\n",
      "Name: price, Length: 23285, dtype: float64\n"
     ]
    }
   ],
   "source": [
    "print(YTrain)"
   ]
  },
  {
   "cell_type": "code",
   "execution_count": 6,
   "id": "723825a3",
   "metadata": {},
   "outputs": [
    {
     "name": "stdout",
     "output_type": "stream",
     "text": [
      "      building_id     id  seller  area_total  area_kitchen  area_living  \\\n",
      "0               4  26052     NaN    5.675295           NaN          NaN   \n",
      "1               5  29404     1.0   -0.896821     -1.581108    -0.588336   \n",
      "2               6  24089     2.0    0.494253     -0.417982     0.678815   \n",
      "3              11  24033     0.0    0.087932      0.163582     0.165921   \n",
      "4              11  32976     1.0    0.096804     -0.316208     0.368062   \n",
      "...           ...    ...     ...         ...           ...          ...   \n",
      "9932         9726  23702     NaN   -0.552601           NaN          NaN   \n",
      "9933         9729  29243     0.0   -0.634220     -0.417982    -0.642642   \n",
      "9934         9734  28599     1.0   -0.307744     -0.417982    -0.135782   \n",
      "9935         9734  27897     1.0   -0.428398           NaN          NaN   \n",
      "9936         4202  25814     2.0   -0.795684           NaN          NaN   \n",
      "\n",
      "      floor  rooms  layout   ceiling  ...  material  stories  \\\n",
      "0         3      6     NaN       NaN  ...       NaN        4   \n",
      "1         1      1     NaN -0.077026  ...       3.0       12   \n",
      "2         3      4     1.0 -0.068230  ...       3.0       22   \n",
      "3        11      3     NaN       NaN  ...       3.0       17   \n",
      "4         5      3     1.0       NaN  ...       3.0       17   \n",
      "...     ...    ...     ...       ...  ...       ...      ...   \n",
      "9932      3      2     NaN       NaN  ...       NaN        9   \n",
      "9933     12      1     NaN -0.059433  ...       3.0       18   \n",
      "9934      5      2     NaN       NaN  ...       3.0       16   \n",
      "9935      5      2     NaN       NaN  ...       3.0       16   \n",
      "9936      1      1     NaN       NaN  ...       NaN        3   \n",
      "\n",
      "      elevator_without  elevator_passenger  elevator_service  parking  \\\n",
      "0                  NaN                 NaN               NaN      NaN   \n",
      "1                  0.0                 1.0               0.0      NaN   \n",
      "2                  0.0                 1.0               1.0      1.0   \n",
      "3                  0.0                 1.0               1.0      NaN   \n",
      "4                  0.0                 1.0               1.0      NaN   \n",
      "...                ...                 ...               ...      ...   \n",
      "9932               NaN                 NaN               NaN      NaN   \n",
      "9933               0.0                 1.0               0.0      NaN   \n",
      "9934               0.0                 1.0               1.0      NaN   \n",
      "9935               0.0                 1.0               1.0      NaN   \n",
      "9936               NaN                 NaN               NaN      NaN   \n",
      "\n",
      "      garbage_chute  heating     distance  distance_metro  \n",
      "0               NaN      NaN    22.208129         4981.58  \n",
      "1               1.0      NaN    16.744106          499.31  \n",
      "2               1.0      0.0    11.886858         1123.52  \n",
      "3               1.0      0.0    15.455810          955.56  \n",
      "4               1.0      0.0    15.455810          955.56  \n",
      "...             ...      ...          ...             ...  \n",
      "9932            NaN      NaN     8.497997          409.74  \n",
      "9933            1.0      0.0    11.259012          738.25  \n",
      "9934            NaN      0.0    14.317646          584.71  \n",
      "9935            NaN      0.0    14.317646          584.71  \n",
      "9936            NaN      NaN  2981.945900      2961963.12  \n",
      "\n",
      "[9937 rows x 35 columns]\n"
     ]
    }
   ],
   "source": [
    "print(XTest)"
   ]
  },
  {
   "cell_type": "code",
   "execution_count": 7,
   "id": "690ed666",
   "metadata": {},
   "outputs": [],
   "source": [
    "X_Train = XTrain.copy()\n",
    "Y_Train = YTrain.copy()\n",
    "X_Test = XTest.copy()"
   ]
  },
  {
   "cell_type": "code",
   "execution_count": 8,
   "id": "af873e4c",
   "metadata": {},
   "outputs": [],
   "source": [
    "X = X_Train.copy()\n",
    "y = Y_Train.copy()"
   ]
  },
  {
   "cell_type": "code",
   "execution_count": 9,
   "id": "e71b64a2",
   "metadata": {},
   "outputs": [],
   "source": [
    "X_train, X_test, y_train, y_test = train_test_split(X, y, test_size=0.2, random_state=42)"
   ]
  },
  {
   "cell_type": "code",
   "execution_count": 10,
   "id": "06f13c4a",
   "metadata": {},
   "outputs": [],
   "source": [
    "# Template for replacing nan by computing other variables\n",
    "#df[\"parking\"] = df.groupby(\"district\").transform(lambda x: x.fillna(x.median()))[\"parking\"]"
   ]
  },
  {
   "cell_type": "code",
   "execution_count": 11,
   "id": "987a8b78",
   "metadata": {},
   "outputs": [],
   "source": [
    "#df.column_name.loc[df.column_name > max_value]  = max_value"
   ]
  },
  {
   "cell_type": "code",
   "execution_count": 12,
   "id": "cf3fe20d",
   "metadata": {},
   "outputs": [],
   "source": [
    "district_counts = {0:{},1:{},2:{},3:{},4:{},5:{},6:{},7:{},8:{},9:{},10:{},11:{},12:{}}\n",
    "districts = XTrain[\"district\"]\n",
    "for d in districts:\n",
    "    pass"
   ]
  },
  {
   "cell_type": "code",
   "execution_count": 13,
   "id": "a4b4a012",
   "metadata": {},
   "outputs": [],
   "source": [
    "pca_model = PCA(n_components=4)"
   ]
  },
  {
   "cell_type": "code",
   "execution_count": 14,
   "id": "15f8feb2",
   "metadata": {},
   "outputs": [
    {
     "ename": "ValueError",
     "evalue": "could not convert string to float: 'Ломоносовский проспект'",
     "output_type": "error",
     "traceback": [
      "\u001b[0;31m---------------------------------------------------------------------------\u001b[0m",
      "\u001b[0;31mValueError\u001b[0m                                Traceback (most recent call last)",
      "\u001b[0;32m/var/folders/49/l2945tw56gg9jn_kjxk7_h440000gp/T/ipykernel_21218/2959452277.py\u001b[0m in \u001b[0;36m<module>\u001b[0;34m\u001b[0m\n\u001b[0;32m----> 1\u001b[0;31m \u001b[0mpca_train\u001b[0m \u001b[0;34m=\u001b[0m \u001b[0mpca_model\u001b[0m\u001b[0;34m.\u001b[0m\u001b[0mfit_transform\u001b[0m\u001b[0;34m(\u001b[0m\u001b[0mX_train\u001b[0m\u001b[0;34m)\u001b[0m\u001b[0;34m\u001b[0m\u001b[0;34m\u001b[0m\u001b[0m\n\u001b[0m",
      "\u001b[0;32m~/opt/anaconda3/envs/Statistics/lib/python3.8/site-packages/sklearn/decomposition/_pca.py\u001b[0m in \u001b[0;36mfit_transform\u001b[0;34m(self, X, y)\u001b[0m\n\u001b[1;32m    381\u001b[0m         \u001b[0mC\u001b[0m\u001b[0;34m-\u001b[0m\u001b[0mordered\u001b[0m \u001b[0marray\u001b[0m\u001b[0;34m,\u001b[0m \u001b[0muse\u001b[0m \u001b[0;34m'np.ascontiguousarray'\u001b[0m\u001b[0;34m.\u001b[0m\u001b[0;34m\u001b[0m\u001b[0;34m\u001b[0m\u001b[0m\n\u001b[1;32m    382\u001b[0m         \"\"\"\n\u001b[0;32m--> 383\u001b[0;31m         \u001b[0mU\u001b[0m\u001b[0;34m,\u001b[0m \u001b[0mS\u001b[0m\u001b[0;34m,\u001b[0m \u001b[0mVt\u001b[0m \u001b[0;34m=\u001b[0m \u001b[0mself\u001b[0m\u001b[0;34m.\u001b[0m\u001b[0m_fit\u001b[0m\u001b[0;34m(\u001b[0m\u001b[0mX\u001b[0m\u001b[0;34m)\u001b[0m\u001b[0;34m\u001b[0m\u001b[0;34m\u001b[0m\u001b[0m\n\u001b[0m\u001b[1;32m    384\u001b[0m         \u001b[0mU\u001b[0m \u001b[0;34m=\u001b[0m \u001b[0mU\u001b[0m\u001b[0;34m[\u001b[0m\u001b[0;34m:\u001b[0m\u001b[0;34m,\u001b[0m \u001b[0;34m:\u001b[0m\u001b[0mself\u001b[0m\u001b[0;34m.\u001b[0m\u001b[0mn_components_\u001b[0m\u001b[0;34m]\u001b[0m\u001b[0;34m\u001b[0m\u001b[0;34m\u001b[0m\u001b[0m\n\u001b[1;32m    385\u001b[0m \u001b[0;34m\u001b[0m\u001b[0m\n",
      "\u001b[0;32m~/opt/anaconda3/envs/Statistics/lib/python3.8/site-packages/sklearn/decomposition/_pca.py\u001b[0m in \u001b[0;36m_fit\u001b[0;34m(self, X)\u001b[0m\n\u001b[1;32m    402\u001b[0m                             'TruncatedSVD for a possible alternative.')\n\u001b[1;32m    403\u001b[0m \u001b[0;34m\u001b[0m\u001b[0m\n\u001b[0;32m--> 404\u001b[0;31m         X = self._validate_data(X, dtype=[np.float64, np.float32],\n\u001b[0m\u001b[1;32m    405\u001b[0m                                 ensure_2d=True, copy=self.copy)\n\u001b[1;32m    406\u001b[0m \u001b[0;34m\u001b[0m\u001b[0m\n",
      "\u001b[0;32m~/opt/anaconda3/envs/Statistics/lib/python3.8/site-packages/sklearn/base.py\u001b[0m in \u001b[0;36m_validate_data\u001b[0;34m(self, X, y, reset, validate_separately, **check_params)\u001b[0m\n\u001b[1;32m    419\u001b[0m             \u001b[0mout\u001b[0m \u001b[0;34m=\u001b[0m \u001b[0mX\u001b[0m\u001b[0;34m\u001b[0m\u001b[0;34m\u001b[0m\u001b[0m\n\u001b[1;32m    420\u001b[0m         \u001b[0;32melif\u001b[0m \u001b[0misinstance\u001b[0m\u001b[0;34m(\u001b[0m\u001b[0my\u001b[0m\u001b[0;34m,\u001b[0m \u001b[0mstr\u001b[0m\u001b[0;34m)\u001b[0m \u001b[0;32mand\u001b[0m \u001b[0my\u001b[0m \u001b[0;34m==\u001b[0m \u001b[0;34m'no_validation'\u001b[0m\u001b[0;34m:\u001b[0m\u001b[0;34m\u001b[0m\u001b[0;34m\u001b[0m\u001b[0m\n\u001b[0;32m--> 421\u001b[0;31m             \u001b[0mX\u001b[0m \u001b[0;34m=\u001b[0m \u001b[0mcheck_array\u001b[0m\u001b[0;34m(\u001b[0m\u001b[0mX\u001b[0m\u001b[0;34m,\u001b[0m \u001b[0;34m**\u001b[0m\u001b[0mcheck_params\u001b[0m\u001b[0;34m)\u001b[0m\u001b[0;34m\u001b[0m\u001b[0;34m\u001b[0m\u001b[0m\n\u001b[0m\u001b[1;32m    422\u001b[0m             \u001b[0mout\u001b[0m \u001b[0;34m=\u001b[0m \u001b[0mX\u001b[0m\u001b[0;34m\u001b[0m\u001b[0;34m\u001b[0m\u001b[0m\n\u001b[1;32m    423\u001b[0m         \u001b[0;32melse\u001b[0m\u001b[0;34m:\u001b[0m\u001b[0;34m\u001b[0m\u001b[0;34m\u001b[0m\u001b[0m\n",
      "\u001b[0;32m~/opt/anaconda3/envs/Statistics/lib/python3.8/site-packages/sklearn/utils/validation.py\u001b[0m in \u001b[0;36minner_f\u001b[0;34m(*args, **kwargs)\u001b[0m\n\u001b[1;32m     61\u001b[0m             \u001b[0mextra_args\u001b[0m \u001b[0;34m=\u001b[0m \u001b[0mlen\u001b[0m\u001b[0;34m(\u001b[0m\u001b[0margs\u001b[0m\u001b[0;34m)\u001b[0m \u001b[0;34m-\u001b[0m \u001b[0mlen\u001b[0m\u001b[0;34m(\u001b[0m\u001b[0mall_args\u001b[0m\u001b[0;34m)\u001b[0m\u001b[0;34m\u001b[0m\u001b[0;34m\u001b[0m\u001b[0m\n\u001b[1;32m     62\u001b[0m             \u001b[0;32mif\u001b[0m \u001b[0mextra_args\u001b[0m \u001b[0;34m<=\u001b[0m \u001b[0;36m0\u001b[0m\u001b[0;34m:\u001b[0m\u001b[0;34m\u001b[0m\u001b[0;34m\u001b[0m\u001b[0m\n\u001b[0;32m---> 63\u001b[0;31m                 \u001b[0;32mreturn\u001b[0m \u001b[0mf\u001b[0m\u001b[0;34m(\u001b[0m\u001b[0;34m*\u001b[0m\u001b[0margs\u001b[0m\u001b[0;34m,\u001b[0m \u001b[0;34m**\u001b[0m\u001b[0mkwargs\u001b[0m\u001b[0;34m)\u001b[0m\u001b[0;34m\u001b[0m\u001b[0;34m\u001b[0m\u001b[0m\n\u001b[0m\u001b[1;32m     64\u001b[0m \u001b[0;34m\u001b[0m\u001b[0m\n\u001b[1;32m     65\u001b[0m             \u001b[0;31m# extra_args > 0\u001b[0m\u001b[0;34m\u001b[0m\u001b[0;34m\u001b[0m\u001b[0;34m\u001b[0m\u001b[0m\n",
      "\u001b[0;32m~/opt/anaconda3/envs/Statistics/lib/python3.8/site-packages/sklearn/utils/validation.py\u001b[0m in \u001b[0;36mcheck_array\u001b[0;34m(array, accept_sparse, accept_large_sparse, dtype, order, copy, force_all_finite, ensure_2d, allow_nd, ensure_min_samples, ensure_min_features, estimator)\u001b[0m\n\u001b[1;32m    671\u001b[0m                     \u001b[0marray\u001b[0m \u001b[0;34m=\u001b[0m \u001b[0marray\u001b[0m\u001b[0;34m.\u001b[0m\u001b[0mastype\u001b[0m\u001b[0;34m(\u001b[0m\u001b[0mdtype\u001b[0m\u001b[0;34m,\u001b[0m \u001b[0mcasting\u001b[0m\u001b[0;34m=\u001b[0m\u001b[0;34m\"unsafe\"\u001b[0m\u001b[0;34m,\u001b[0m \u001b[0mcopy\u001b[0m\u001b[0;34m=\u001b[0m\u001b[0;32mFalse\u001b[0m\u001b[0;34m)\u001b[0m\u001b[0;34m\u001b[0m\u001b[0;34m\u001b[0m\u001b[0m\n\u001b[1;32m    672\u001b[0m                 \u001b[0;32melse\u001b[0m\u001b[0;34m:\u001b[0m\u001b[0;34m\u001b[0m\u001b[0;34m\u001b[0m\u001b[0m\n\u001b[0;32m--> 673\u001b[0;31m                     \u001b[0marray\u001b[0m \u001b[0;34m=\u001b[0m \u001b[0mnp\u001b[0m\u001b[0;34m.\u001b[0m\u001b[0masarray\u001b[0m\u001b[0;34m(\u001b[0m\u001b[0marray\u001b[0m\u001b[0;34m,\u001b[0m \u001b[0morder\u001b[0m\u001b[0;34m=\u001b[0m\u001b[0morder\u001b[0m\u001b[0;34m,\u001b[0m \u001b[0mdtype\u001b[0m\u001b[0;34m=\u001b[0m\u001b[0mdtype\u001b[0m\u001b[0;34m)\u001b[0m\u001b[0;34m\u001b[0m\u001b[0;34m\u001b[0m\u001b[0m\n\u001b[0m\u001b[1;32m    674\u001b[0m             \u001b[0;32mexcept\u001b[0m \u001b[0mComplexWarning\u001b[0m \u001b[0;32mas\u001b[0m \u001b[0mcomplex_warning\u001b[0m\u001b[0;34m:\u001b[0m\u001b[0;34m\u001b[0m\u001b[0;34m\u001b[0m\u001b[0m\n\u001b[1;32m    675\u001b[0m                 raise ValueError(\"Complex data not supported\\n\"\n",
      "\u001b[0;32m~/opt/anaconda3/envs/Statistics/lib/python3.8/site-packages/numpy/core/_asarray.py\u001b[0m in \u001b[0;36masarray\u001b[0;34m(a, dtype, order, like)\u001b[0m\n\u001b[1;32m    100\u001b[0m         \u001b[0;32mreturn\u001b[0m \u001b[0m_asarray_with_like\u001b[0m\u001b[0;34m(\u001b[0m\u001b[0ma\u001b[0m\u001b[0;34m,\u001b[0m \u001b[0mdtype\u001b[0m\u001b[0;34m=\u001b[0m\u001b[0mdtype\u001b[0m\u001b[0;34m,\u001b[0m \u001b[0morder\u001b[0m\u001b[0;34m=\u001b[0m\u001b[0morder\u001b[0m\u001b[0;34m,\u001b[0m \u001b[0mlike\u001b[0m\u001b[0;34m=\u001b[0m\u001b[0mlike\u001b[0m\u001b[0;34m)\u001b[0m\u001b[0;34m\u001b[0m\u001b[0;34m\u001b[0m\u001b[0m\n\u001b[1;32m    101\u001b[0m \u001b[0;34m\u001b[0m\u001b[0m\n\u001b[0;32m--> 102\u001b[0;31m     \u001b[0;32mreturn\u001b[0m \u001b[0marray\u001b[0m\u001b[0;34m(\u001b[0m\u001b[0ma\u001b[0m\u001b[0;34m,\u001b[0m \u001b[0mdtype\u001b[0m\u001b[0;34m,\u001b[0m \u001b[0mcopy\u001b[0m\u001b[0;34m=\u001b[0m\u001b[0;32mFalse\u001b[0m\u001b[0;34m,\u001b[0m \u001b[0morder\u001b[0m\u001b[0;34m=\u001b[0m\u001b[0morder\u001b[0m\u001b[0;34m)\u001b[0m\u001b[0;34m\u001b[0m\u001b[0;34m\u001b[0m\u001b[0m\n\u001b[0m\u001b[1;32m    103\u001b[0m \u001b[0;34m\u001b[0m\u001b[0m\n\u001b[1;32m    104\u001b[0m \u001b[0;34m\u001b[0m\u001b[0m\n",
      "\u001b[0;32m~/opt/anaconda3/envs/Statistics/lib/python3.8/site-packages/pandas/core/generic.py\u001b[0m in \u001b[0;36m__array__\u001b[0;34m(self, dtype)\u001b[0m\n\u001b[1;32m   1991\u001b[0m \u001b[0;34m\u001b[0m\u001b[0m\n\u001b[1;32m   1992\u001b[0m     \u001b[0;32mdef\u001b[0m \u001b[0m__array__\u001b[0m\u001b[0;34m(\u001b[0m\u001b[0mself\u001b[0m\u001b[0;34m,\u001b[0m \u001b[0mdtype\u001b[0m\u001b[0;34m:\u001b[0m \u001b[0mNpDtype\u001b[0m \u001b[0;34m|\u001b[0m \u001b[0;32mNone\u001b[0m \u001b[0;34m=\u001b[0m \u001b[0;32mNone\u001b[0m\u001b[0;34m)\u001b[0m \u001b[0;34m->\u001b[0m \u001b[0mnp\u001b[0m\u001b[0;34m.\u001b[0m\u001b[0mndarray\u001b[0m\u001b[0;34m:\u001b[0m\u001b[0;34m\u001b[0m\u001b[0;34m\u001b[0m\u001b[0m\n\u001b[0;32m-> 1993\u001b[0;31m         \u001b[0;32mreturn\u001b[0m \u001b[0mnp\u001b[0m\u001b[0;34m.\u001b[0m\u001b[0masarray\u001b[0m\u001b[0;34m(\u001b[0m\u001b[0mself\u001b[0m\u001b[0;34m.\u001b[0m\u001b[0m_values\u001b[0m\u001b[0;34m,\u001b[0m \u001b[0mdtype\u001b[0m\u001b[0;34m=\u001b[0m\u001b[0mdtype\u001b[0m\u001b[0;34m)\u001b[0m\u001b[0;34m\u001b[0m\u001b[0;34m\u001b[0m\u001b[0m\n\u001b[0m\u001b[1;32m   1994\u001b[0m \u001b[0;34m\u001b[0m\u001b[0m\n\u001b[1;32m   1995\u001b[0m     def __array_wrap__(\n",
      "\u001b[0;32m~/opt/anaconda3/envs/Statistics/lib/python3.8/site-packages/numpy/core/_asarray.py\u001b[0m in \u001b[0;36masarray\u001b[0;34m(a, dtype, order, like)\u001b[0m\n\u001b[1;32m    100\u001b[0m         \u001b[0;32mreturn\u001b[0m \u001b[0m_asarray_with_like\u001b[0m\u001b[0;34m(\u001b[0m\u001b[0ma\u001b[0m\u001b[0;34m,\u001b[0m \u001b[0mdtype\u001b[0m\u001b[0;34m=\u001b[0m\u001b[0mdtype\u001b[0m\u001b[0;34m,\u001b[0m \u001b[0morder\u001b[0m\u001b[0;34m=\u001b[0m\u001b[0morder\u001b[0m\u001b[0;34m,\u001b[0m \u001b[0mlike\u001b[0m\u001b[0;34m=\u001b[0m\u001b[0mlike\u001b[0m\u001b[0;34m)\u001b[0m\u001b[0;34m\u001b[0m\u001b[0;34m\u001b[0m\u001b[0m\n\u001b[1;32m    101\u001b[0m \u001b[0;34m\u001b[0m\u001b[0m\n\u001b[0;32m--> 102\u001b[0;31m     \u001b[0;32mreturn\u001b[0m \u001b[0marray\u001b[0m\u001b[0;34m(\u001b[0m\u001b[0ma\u001b[0m\u001b[0;34m,\u001b[0m \u001b[0mdtype\u001b[0m\u001b[0;34m,\u001b[0m \u001b[0mcopy\u001b[0m\u001b[0;34m=\u001b[0m\u001b[0;32mFalse\u001b[0m\u001b[0;34m,\u001b[0m \u001b[0morder\u001b[0m\u001b[0;34m=\u001b[0m\u001b[0morder\u001b[0m\u001b[0;34m)\u001b[0m\u001b[0;34m\u001b[0m\u001b[0;34m\u001b[0m\u001b[0m\n\u001b[0m\u001b[1;32m    103\u001b[0m \u001b[0;34m\u001b[0m\u001b[0m\n\u001b[1;32m    104\u001b[0m \u001b[0;34m\u001b[0m\u001b[0m\n",
      "\u001b[0;31mValueError\u001b[0m: could not convert string to float: 'Ломоносовский проспект'"
     ]
    }
   ],
   "source": [
    "pca_train = pca_model.fit_transform(X_train)"
   ]
  },
  {
   "cell_type": "code",
   "execution_count": null,
   "id": "9a9e6f17",
   "metadata": {},
   "outputs": [],
   "source": [
    "pca_train_Df = pd.DataFrame(data = pca_train\n",
    "             , columns = ['principal 1', 'principal 2', 'principal 3', 'principal 4'])"
   ]
  },
  {
   "cell_type": "code",
   "execution_count": null,
   "id": "1b0a496c",
   "metadata": {},
   "outputs": [],
   "source": [
    "print('Explained variation per principal component: {}'.format(pca_model.explained_variance_ratio_))"
   ]
  },
  {
   "cell_type": "code",
   "execution_count": null,
   "id": "9d6bb7dc",
   "metadata": {},
   "outputs": [],
   "source": []
  }
 ],
 "metadata": {
  "kernelspec": {
   "display_name": "Python 3 (ipykernel)",
   "language": "python",
   "name": "python3"
  },
  "language_info": {
   "codemirror_mode": {
    "name": "ipython",
    "version": 3
   },
   "file_extension": ".py",
   "mimetype": "text/x-python",
   "name": "python",
   "nbconvert_exporter": "python",
   "pygments_lexer": "ipython3",
   "version": "3.8.11"
  }
 },
 "nbformat": 4,
 "nbformat_minor": 5
}
