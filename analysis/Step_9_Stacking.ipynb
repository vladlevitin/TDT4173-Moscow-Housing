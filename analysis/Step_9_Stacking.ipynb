{
 "cells": [
  {
   "cell_type": "code",
   "execution_count": 15,
   "id": "002108aa",
   "metadata": {},
   "outputs": [],
   "source": [
    "import pandas as pd\n",
    "import numpy as np\n",
    "import h2o\n",
    "import lime\n",
    "import optuna\n",
    "\n",
    "\n",
    "from sklearn.metrics import mean_squared_error, mean_squared_log_error\n",
    "from sklearn.model_selection import cross_val_score, train_test_split\n",
    "from sklearn.model_selection import RepeatedKFold, KFold\n",
    "from sklearn.tree import DecisionTreeRegressor\n",
    "from sklearn.ensemble import RandomForestRegressor\n",
    "from sklearn.ensemble import AdaBoostRegressor\n",
    "from sklearn.ensemble import GradientBoostingRegressor\n",
    "from sklearn.neighbors import KNeighborsRegressor\n",
    "from sklearn.ensemble import StackingRegressor\n",
    "from sklearn.decomposition import PCA  # Principal component\n",
    "from sklearn.linear_model import LinearRegression, Ridge\n",
    "\n",
    "\n",
    "import lightgbm as lgb\n",
    "from catboost import CatBoostRegressor\n",
    "from h2o.automl import H2OAutoML as ml\n",
    "from lime import lime_tabular\n",
    "\n",
    "from functions.datacleaning import MoscowHousing as mh\n",
    "from functions.clean import revert, write_predictions\n",
    "from functions.distance import get_distance_coordinates, norm_features, PCA_plot\n",
    "\n",
    "import matplotlib.pylab as plt\n",
    "import seaborn as sns\n",
    "plt.style.use('ggplot')"
   ]
  },
  {
   "cell_type": "code",
   "execution_count": 17,
   "id": "98899404",
   "metadata": {},
   "outputs": [],
   "source": [
    "XTrain = pd.read_csv(\"../data/train_prepared_category_3.csv\")\n",
    "XTest = pd.read_csv(\"../data/test_prepared_category_3.csv\")"
   ]
  },
  {
   "cell_type": "code",
   "execution_count": 18,
   "id": "ad215efb",
   "metadata": {},
   "outputs": [],
   "source": [
    "X_Train = XTrain.copy()\n",
    "y_Train = XTrain[\"price\"].copy()\n",
    "y_Train = np.log(y_Train)  # use ln-scores to train\n",
    "\n",
    "X_Test = XTest.copy()\n",
    "drop_features = [\"Unnamed: 0\",\n",
    "                 \"id\",\n",
    "                 \"street\", \n",
    "                 \"address\"]\n",
    "X_Train = X_Train.drop(drop_features, axis=1)\n",
    "X_Train = X_Train.drop(\"price\", axis=1)\n",
    "X_Test = X_Test.drop(drop_features, axis=1)"
   ]
  },
  {
   "cell_type": "code",
   "execution_count": 19,
   "id": "61c5bfc7",
   "metadata": {},
   "outputs": [],
   "source": [
    "#X_Train.info()"
   ]
  },
  {
   "cell_type": "code",
   "execution_count": 20,
   "id": "54e12c08",
   "metadata": {},
   "outputs": [],
   "source": [
    "# STACKING\n",
    "\n",
    "# get a stacking ensemble of models\n",
    "def get_stacking():\n",
    "    # define the base models\n",
    "    level0 = list()\n",
    "    level0.append(('lgbm', lgb.LGBMRegressor(num_leaves=25,\n",
    "                                       max_depth=15, \n",
    "                                       random_state=42,\n",
    "                                       metric='mse',\n",
    "                                       n_jobs=4, \n",
    "                                       n_estimators=3000,\n",
    "                                       colsample_bytree=0.7,\n",
    "                                       subsample=0.9,\n",
    "                                       learning_rate=0.05)))\n",
    "    level0.append(('cat', CatBoostRegressor(n_estimators=1000,\n",
    "                                      learning_rate=0.008,\n",
    "                                      thread_count=-1,\n",
    "                                      depth=7,\n",
    "                                      silent=True,\n",
    "                                      random_seed=42,\n",
    "                                      bagging_temperature=0.2)))\n",
    "    level0.append(('rf',RandomForestRegressor(n_estimators=1000,\n",
    "                                         criterion='mse',\n",
    "                                         max_depth=None,\n",
    "                                         #min_samples_split=2,\n",
    "                                         #min_samples_leaf=2,\n",
    "                                         min_weight_fraction_leaf=0.0,\n",
    "                                         max_features='auto',\n",
    "                                         max_leaf_nodes=None,\n",
    "                                         min_impurity_decrease=0.0,\n",
    "                                         bootstrap=True,\n",
    "                                         oob_score=False,\n",
    "                                         n_jobs=None,\n",
    "                                         random_state=42,\n",
    "                                         verbose=0,\n",
    "                                         warm_start=False,\n",
    "                                         ccp_alpha=0.0,\n",
    "                                         max_samples=None)))\n",
    "    # define meta learner model\n",
    "    level1 = LinearRegression()\n",
    "    # define the stacking ensemble\n",
    "    model = StackingRegressor(estimators=level0, \n",
    "                              final_estimator=level1, \n",
    "                              cv=5)\n",
    "    return model\n",
    "\n",
    "\n",
    "def evaluate_model(model, X, y):\n",
    "    cv = RepeatedKFold(n_splits=10,\n",
    "                       n_repeats= 3,\n",
    "                       random_state=42)\n",
    "\n",
    "    score = cross_val_score(model, X, y, \n",
    "                            scoring=\"neg_mean_absolute_error\", \n",
    "                            cv=cv,\n",
    "                            n_jobs=-1,\n",
    "                            error_score=\"raise\")\n",
    "    return score\n",
    "\n",
    "def get_models():\n",
    "    models = {}\n",
    "\n",
    "    #models[\"knn\"] = KNeighborsRegressor()\n",
    "    \n",
    "    models[\"lgbm\"] = lgb.LGBMRegressor(num_leaves=25,\n",
    "                                       max_depth=15, \n",
    "                                       random_state=42,\n",
    "                                       metric='mse',\n",
    "                                       n_jobs=4, \n",
    "                                       n_estimators=3000,\n",
    "                                       colsample_bytree=0.7,\n",
    "                                       subsample=0.9,\n",
    "                                       learning_rate=0.05)\n",
    "    \n",
    "    models[\"cat\"] = CatBoostRegressor(n_estimators=1000,\n",
    "                                      learning_rate=0.008,\n",
    "                                      thread_count=-1,\n",
    "                                      depth=7,\n",
    "                                      silent=True,\n",
    "                                      random_seed=42,\n",
    "                                      bagging_temperature=0.2)\n",
    "    \n",
    "    models[\"rf\"] = RandomForestRegressor(n_estimators=1000,\n",
    "                                         criterion='mse',\n",
    "                                         max_depth=None,\n",
    "                                         #min_samples_split=2,\n",
    "                                         #min_samples_leaf=2,\n",
    "                                         min_weight_fraction_leaf=0.0,\n",
    "                                         max_features='auto',\n",
    "                                         max_leaf_nodes=None,\n",
    "                                         min_impurity_decrease=0.0,\n",
    "                                         bootstrap=True,\n",
    "                                         oob_score=False,\n",
    "                                         n_jobs=None,\n",
    "                                         random_state=42,\n",
    "                                         verbose=0,\n",
    "                                         warm_start=False,\n",
    "                                         ccp_alpha=0.0,\n",
    "                                         max_samples=None)\n",
    "    \n",
    "    models['stacking'] = get_stacking()\n",
    "    \n",
    "    return models"
   ]
  },
  {
   "cell_type": "code",
   "execution_count": null,
   "id": "e2d4c4f5",
   "metadata": {},
   "outputs": [],
   "source": []
  },
  {
   "cell_type": "code",
   "execution_count": 21,
   "id": "90fc8248",
   "metadata": {},
   "outputs": [
    {
     "name": "stdout",
     "output_type": "stream",
     "text": [
      "lgbm\n",
      "LGBMRegressor(colsample_bytree=0.7, learning_rate=0.05, max_depth=15,\n",
      "              metric='mse', n_estimators=3000, n_jobs=4, num_leaves=25,\n",
      "              random_state=42, subsample=0.9)\n",
      "cat\n",
      "<catboost.core.CatBoostRegressor object at 0x7fc7c2e8dcd0>\n",
      "rf\n",
      "RandomForestRegressor(n_estimators=1000, random_state=42)\n",
      "stacking\n",
      "StackingRegressor(cv=5,\n",
      "                  estimators=[('lgbm',\n",
      "                               LGBMRegressor(colsample_bytree=0.7,\n",
      "                                             learning_rate=0.05, max_depth=15,\n",
      "                                             metric='mse', n_estimators=3000,\n",
      "                                             n_jobs=4, num_leaves=25,\n",
      "                                             random_state=42, subsample=0.9)),\n",
      "                              ('cat',\n",
      "                               <catboost.core.CatBoostRegressor object at 0x7fc7d98584c0>),\n",
      "                              ('rf',\n",
      "                               RandomForestRegressor(n_estimators=1000,\n",
      "                                                     random_state=42))],\n",
      "                  final_estimator=LinearRegression())\n"
     ]
    }
   ],
   "source": [
    "y = y_Train.copy()\n",
    "X = X_Train.copy()\n",
    "\n",
    "X = X.drop([\"constructed\"], axis=1)\n",
    "\n",
    "models = get_models()\n",
    "\n",
    "for k, o in models.items():\n",
    "\n",
    "    print(k)\n",
    "    print(o)\n"
   ]
  },
  {
   "cell_type": "code",
   "execution_count": 22,
   "id": "610497ae",
   "metadata": {},
   "outputs": [
    {
     "name": "stdout",
     "output_type": "stream",
     "text": [
      ">lgbm -0.130 (0.003)\n",
      ">cat -0.203 (0.004)\n",
      ">rf -0.153 (0.004)\n",
      ">stacking -0.128 (0.003)\n"
     ]
    },
    {
     "data": {
      "image/png": "[encoded data removed]",
      "text/plain": [
       "<Figure size 432x288 with 1 Axes>"
      ]
     },
     "metadata": {},
     "output_type": "display_data"
    }
   ],
   "source": [
    "results = []\n",
    "names = []\n",
    "for name, model in models.items():\n",
    "    scores = evaluate_model(model, X, y)\n",
    "    results.append(scores)\n",
    "    names.append(name)\n",
    "    print('>%s %.3f (%.3f)' % (name, np.mean(scores), np.std(scores)))\n",
    "# plot model performance for comparison\n",
    "plt.boxplot(results, labels=names, showmeans=True)\n",
    "plt.show()"
   ]
  },
  {
   "cell_type": "code",
   "execution_count": null,
   "id": "d097c85b",
   "metadata": {},
   "outputs": [],
   "source": []
  },
  {
   "cell_type": "code",
   "execution_count": null,
   "id": "d45dae39",
   "metadata": {},
   "outputs": [],
   "source": []
  },
  {
   "cell_type": "code",
   "execution_count": 23,
   "id": "c270bf2d",
   "metadata": {},
   "outputs": [],
   "source": [
    "def objective(trial):\n",
    "    alpha = trial.suggest_float(\"alpha\", 0, 10)\n",
    "    intercept = trial.suggest_categorical(\"fit_intercept\", [True, False])\n",
    "    tol = trial.suggest_float(\"tol\", 0.001, 0.01, log=False)\n",
    "    solver = trial.suggest_categorical(\"solver\", [\"auto\", \"svd\",\"cholesky\", \"lsqr\", \"saga\", \"sag\"])\n",
    "\n",
    "    ## Create Model\n",
    "    regressor = Ridge(alpha=alpha,fit_intercept=intercept,tol=tol,solver=solver)\n",
    "    ## Fit Model\n",
    "    regressor.fit(X_train, Y_train)\n",
    "\n",
    "    return mean_squared_error(Y_test, regressor.predict(X_test))"
   ]
  },
  {
   "cell_type": "code",
   "execution_count": 24,
   "id": "78b4adff",
   "metadata": {},
   "outputs": [],
   "source": [
    "y = y_Train.copy()\n",
    "X = X_Train.copy()\n",
    "X = X.drop([\"constructed\"], axis=1)"
   ]
  },
  {
   "cell_type": "code",
   "execution_count": 25,
   "id": "2bd17110",
   "metadata": {},
   "outputs": [],
   "source": [
    "X_train, X_test, Y_train, Y_test = train_test_split(X, y, train_size=0.80, random_state=42)"
   ]
  },
  {
   "cell_type": "code",
   "execution_count": 26,
   "id": "50a0df6e",
   "metadata": {},
   "outputs": [
    {
     "name": "stderr",
     "output_type": "stream",
     "text": [
      "\u001b[32m[I 2021-11-17 01:53:46,457]\u001b[0m A new study created in memory with name: RidgeRegression\u001b[0m\n",
      "\u001b[32m[I 2021-11-17 01:53:46,548]\u001b[0m Trial 0 finished with value: 1.1711571697565437 and parameters: {'alpha': 4.936527656860949, 'fit_intercept': False, 'tol': 0.003459531144392265, 'solver': 'lsqr'}. Best is trial 0 with value: 1.1711571697565437.\u001b[0m\n",
      "\u001b[32m[I 2021-11-17 01:53:46,683]\u001b[0m Trial 1 finished with value: 0.1626303804884957 and parameters: {'alpha': 0.4307621281594931, 'fit_intercept': True, 'tol': 0.003924055028038361, 'solver': 'svd'}. Best is trial 1 with value: 0.1626303804884957.\u001b[0m\n",
      "\u001b[32m[I 2021-11-17 01:53:46,705]\u001b[0m Trial 2 finished with value: 0.7882615051319328 and parameters: {'alpha': 9.515591201352867, 'fit_intercept': True, 'tol': 0.0024813005683958717, 'solver': 'lsqr'}. Best is trial 1 with value: 0.1626303804884957.\u001b[0m\n",
      "\u001b[32m[I 2021-11-17 01:53:46,986]\u001b[0m Trial 3 finished with value: 0.9849317349875538 and parameters: {'alpha': 7.867537652051948, 'fit_intercept': False, 'tol': 0.005337698818336456, 'solver': 'sag'}. Best is trial 1 with value: 0.1626303804884957.\u001b[0m\n",
      "\u001b[32m[I 2021-11-17 01:53:47,019]\u001b[0m Trial 4 finished with value: 0.16298535824377203 and parameters: {'alpha': 6.625100690511667, 'fit_intercept': False, 'tol': 0.00884564003200684, 'solver': 'auto'}. Best is trial 1 with value: 0.1626303804884957.\u001b[0m\n",
      "\u001b[32m[I 2021-11-17 01:53:51,097]\u001b[0m Trial 5 finished with value: 0.5181108645659377 and parameters: {'alpha': 9.813053361709109, 'fit_intercept': True, 'tol': 0.0033397818376995755, 'solver': 'saga'}. Best is trial 1 with value: 0.1626303804884957.\u001b[0m\n",
      "\u001b[32m[I 2021-11-17 01:53:53,057]\u001b[0m Trial 6 finished with value: 0.4975621872014228 and parameters: {'alpha': 1.8860530158230127, 'fit_intercept': True, 'tol': 0.005882345335164479, 'solver': 'sag'}. Best is trial 1 with value: 0.1626303804884957.\u001b[0m\n",
      "\u001b[32m[I 2021-11-17 01:53:53,537]\u001b[0m Trial 7 finished with value: 1.0792915200534579 and parameters: {'alpha': 7.349609981210611, 'fit_intercept': False, 'tol': 0.0061188363380204405, 'solver': 'saga'}. Best is trial 1 with value: 0.1626303804884957.\u001b[0m\n",
      "\u001b[32m[I 2021-11-17 01:53:54,016]\u001b[0m Trial 8 finished with value: 1.0314428175809953 and parameters: {'alpha': 3.1579014594243873, 'fit_intercept': False, 'tol': 0.0049243079413428354, 'solver': 'saga'}. Best is trial 1 with value: 0.1626303804884957.\u001b[0m\n",
      "\u001b[32m[I 2021-11-17 01:53:54,041]\u001b[0m Trial 9 finished with value: 0.1624228747484694 and parameters: {'alpha': 4.250218434396756, 'fit_intercept': True, 'tol': 0.004936569248633947, 'solver': 'cholesky'}. Best is trial 9 with value: 0.1624228747484694.\u001b[0m\n",
      "\u001b[32m[I 2021-11-17 01:53:54,082]\u001b[0m Trial 10 finished with value: 0.16240427187152046 and parameters: {'alpha': 4.733208106727229, 'fit_intercept': True, 'tol': 0.0011634456088184036, 'solver': 'cholesky'}. Best is trial 10 with value: 0.16240427187152046.\u001b[0m\n",
      "\u001b[32m[I 2021-11-17 01:53:54,115]\u001b[0m Trial 11 finished with value: 0.16242621876746435 and parameters: {'alpha': 4.166103600800323, 'fit_intercept': True, 'tol': 0.0015704545944096697, 'solver': 'cholesky'}. Best is trial 10 with value: 0.16240427187152046.\u001b[0m\n",
      "\u001b[32m[I 2021-11-17 01:53:54,148]\u001b[0m Trial 12 finished with value: 0.16236789995954987 and parameters: {'alpha': 5.75679448963391, 'fit_intercept': True, 'tol': 0.007544349527190381, 'solver': 'cholesky'}. Best is trial 12 with value: 0.16236789995954987.\u001b[0m\n",
      "\u001b[32m[I 2021-11-17 01:53:54,181]\u001b[0m Trial 13 finished with value: 0.16235570142890224 and parameters: {'alpha': 6.125854142810377, 'fit_intercept': True, 'tol': 0.007963963041933237, 'solver': 'cholesky'}. Best is trial 13 with value: 0.16235570142890224.\u001b[0m\n",
      "\u001b[32m[I 2021-11-17 01:53:54,214]\u001b[0m Trial 14 finished with value: 0.16235170041233393 and parameters: {'alpha': 6.249955540030098, 'fit_intercept': True, 'tol': 0.008495543604325128, 'solver': 'cholesky'}. Best is trial 14 with value: 0.16235170041233393.\u001b[0m\n"
     ]
    }
   ],
   "source": [
    "study = optuna.create_study(study_name=\"RidgeRegression\")\n",
    "study.optimize(objective, n_trials=15)"
   ]
  },
  {
   "cell_type": "code",
   "execution_count": 27,
   "id": "8f7ba038",
   "metadata": {},
   "outputs": [
    {
     "data": {
      "text/plain": [
       "{'alpha': 6.249955540030098,\n",
       " 'fit_intercept': True,\n",
       " 'tol': 0.008495543604325128,\n",
       " 'solver': 'cholesky'}"
      ]
     },
     "execution_count": 27,
     "metadata": {},
     "output_type": "execute_result"
    }
   ],
   "source": [
    "study.best_params "
   ]
  },
  {
   "cell_type": "code",
   "execution_count": 29,
   "id": "aa046fac",
   "metadata": {},
   "outputs": [
    {
     "name": "stdout",
     "output_type": "stream",
     "text": [
      "Best Params : {'alpha': 6.249955540030098, 'fit_intercept': True, 'tol': 0.008495543604325128, 'solver': 'cholesky'}\n",
      "\n",
      "Best MSE : 0.16235170041233393\n"
     ]
    }
   ],
   "source": [
    "print(\"Best Params : {}\".format(study.best_params))\n",
    "\n",
    "print(\"\\nBest MSE : {}\".format(study.best_value))"
   ]
  },
  {
   "cell_type": "code",
   "execution_count": 30,
   "id": "48766af2",
   "metadata": {},
   "outputs": [
    {
     "data": {
      "text/plain": [
       "Ridge(alpha=6.249955540030098, solver='cholesky', tol=0.008495543604325128)"
      ]
     },
     "execution_count": 30,
     "metadata": {},
     "output_type": "execute_result"
    }
   ],
   "source": [
    "ridge = Ridge(**study.best_params)\n",
    "ridge.fit(X_train, Y_train)"
   ]
  },
  {
   "cell_type": "code",
   "execution_count": 31,
   "id": "b92895e8",
   "metadata": {},
   "outputs": [
    {
     "name": "stdout",
     "output_type": "stream",
     "text": [
      "Ridge Regression MSE on Train Dataset : 0.1581142868870628\n",
      "Ridge Regression MSE on Test  Dataset : 0.16235170041233393\n"
     ]
    }
   ],
   "source": [
    "print(\"Ridge Regression MSE on Train Dataset : {}\".format(mean_squared_error(Y_train, ridge.predict(X_train))))\n",
    "print(\"Ridge Regression MSE on Test  Dataset : {}\".format(mean_squared_error(Y_test, ridge.predict(X_test))))"
   ]
  },
  {
   "cell_type": "code",
   "execution_count": null,
   "id": "ee6ea2ec",
   "metadata": {},
   "outputs": [],
   "source": [
    "study.optimize(objective, n_trials=10)"
   ]
  },
  {
   "cell_type": "code",
   "execution_count": null,
   "id": "2a480b6d",
   "metadata": {},
   "outputs": [],
   "source": [
    "def objective(trial):\n",
    "    kernel=trial.suggest_categorical('kernel',['rbf','poly','linear','sigmoid'])\n",
    "    c=trial.suggest_float(\"C\",0.1,3.0,log=True)\n",
    "    gamma=trial.suggest_categorical('gamma',['auto','scale'])\n",
    "    degree=trial.suggest_int(\"degree\",1,3,log=True)\n",
    "    model =SVR(kernel=kernel,degree=degree,gamma=gamma,C=c)\n",
    "    model.fit(X_train,y_train)\n",
    "    accuracy = model.score(X_test,y_test)\n",
    "    return accuracy\n",
    "model =SVR(kernel=kernel,degree=degree,gamma=gamma,C=c)\n",
    "study = op.create_study(direction=\"maximize\")\n",
    "study.optimize(objective, n_trials=20,n_jobs=-1)"
   ]
  }
 ],
 "metadata": {
  "kernelspec": {
   "display_name": "Python 3 (ipykernel)",
   "language": "python",
   "name": "python3"
  },
  "language_info": {
   "codemirror_mode": {
    "name": "ipython",
    "version": 3
   },
   "file_extension": ".py",
   "mimetype": "text/x-python",
   "name": "python",
   "nbconvert_exporter": "python",
   "pygments_lexer": "ipython3",
   "version": "3.8.11"
  }
 },
 "nbformat": 4,
 "nbformat_minor": 5
}
