{
 "cells": [
  {
   "cell_type": "code",
   "execution_count": 1,
   "id": "524a8a14",
   "metadata": {},
   "outputs": [],
   "source": [
    "import pandas as pd\n",
    "import numpy as np\n",
    "\n",
    "from sklearn.model_selection import train_test_split, KFold\n",
    "from sklearn.tree import DecisionTreeRegressor\n",
    "from sklearn.metrics import mean_squared_error\n",
    "from sklearn.ensemble import RandomForestRegressor\n",
    "from sklearn.ensemble import AdaBoostRegressor\n",
    "from sklearn.ensemble import GradientBoostingRegressor\n",
    "import lightgbm as lgb\n",
    "from catboost import CatBoostRegressor\n",
    "\n",
    "from functions.datacleaning import MoscowHousing as mh\n",
    "from functions.distance import get_distance_coordinates, norm_features\n",
    "\n",
    "from selenium import webdriver\n",
    "from selenium.webdriver.chrome.service import Service\n",
    "\n",
    "from bs4 import BeautifulSoup\n",
    "import re\n",
    "\n",
    "import matplotlib.pylab as plt\n",
    "import seaborn as sns\n",
    "plt.style.use('ggplot')"
   ]
  },
  {
   "cell_type": "code",
   "execution_count": 2,
   "id": "5a84fe76",
   "metadata": {},
   "outputs": [],
   "source": [
    "XTrain = pd.read_csv(\"../data/train_prepared_category_6.csv\")\n",
    "XTest = pd.read_csv(\"../data/test_prepared_category_6.csv\")"
   ]
  },
  {
   "cell_type": "code",
   "execution_count": 3,
   "id": "32b103a7",
   "metadata": {},
   "outputs": [
    {
     "data": {
      "text/plain": [
       "'\\n# Start web session for collecting coordinates to metro stations\\nservice = Service(\\'/usr/local/bin/chromedriver\\')\\nservice.start()\\ndriver = webdriver.Remote(service.service_url)\\ndriver.get(\\'https://en.wikipedia.org/wiki/List_of_Moscow_Metro_stations\\')\\n\\n# Get content from web page\\ncontent = driver.page_source\\n\\n# Find all spans with coordinates\\nsoup = BeautifulSoup(content, features=\"html.parser\")\\nspans = soup.find_all(\\'span\\', class_=\"geo-dec\")\\ndriver.quit()\\n\\n# Collect coordinates for all metro stations in Moscow\\ncoordinates = []\\nnumbers = re.compile(r\\'\\\\d+(?:\\\\.\\\\d+)?\\')\\n# iterate all spans with coordinates\\nfor span in spans:\\n    coord = span.get_text()\\n    coord = numbers.findall(coord)\\n    coord = [float(x) for x in coord]\\n    coordinates.append(tuple(coord))\\n\\n# Close browser connection\\ndriver.quit()\\n\\n'"
      ]
     },
     "execution_count": 3,
     "metadata": {},
     "output_type": "execute_result"
    }
   ],
   "source": [
    "\n",
    "\"\"\"\n",
    "# Start web session for collecting coordinates to metro stations\n",
    "service = Service('/usr/local/bin/chromedriver')\n",
    "service.start()\n",
    "driver = webdriver.Remote(service.service_url)\n",
    "driver.get('https://en.wikipedia.org/wiki/List_of_Moscow_Metro_stations')\n",
    "\n",
    "# Get content from web page\n",
    "content = driver.page_source\n",
    "\n",
    "# Find all spans with coordinates\n",
    "soup = BeautifulSoup(content, features=\"html.parser\")\n",
    "spans = soup.find_all('span', class_=\"geo-dec\")\n",
    "driver.quit()\n",
    "\n",
    "# Collect coordinates for all metro stations in Moscow\n",
    "coordinates = []\n",
    "numbers = re.compile(r'\\d+(?:\\.\\d+)?')\n",
    "# iterate all spans with coordinates\n",
    "for span in spans:\n",
    "    coord = span.get_text()\n",
    "    coord = numbers.findall(coord)\n",
    "    coord = [float(x) for x in coord]\n",
    "    coordinates.append(tuple(coord))\n",
    "\n",
    "# Close browser connection\n",
    "driver.quit()\n",
    "\n",
    "\"\"\""
   ]
  },
  {
   "cell_type": "code",
   "execution_count": 4,
   "id": "9d3961cb",
   "metadata": {},
   "outputs": [],
   "source": [
    "#coordinates_df = pd.DataFrame(coordinates,columns=[\"latitude\", \"longitude\"])"
   ]
  },
  {
   "cell_type": "code",
   "execution_count": 5,
   "id": "03528619",
   "metadata": {},
   "outputs": [],
   "source": [
    "#coordinates_df.head()"
   ]
  },
  {
   "cell_type": "code",
   "execution_count": 6,
   "id": "3eaeda68",
   "metadata": {},
   "outputs": [],
   "source": [
    "#coordinates_df.to_csv(\"moscow_metros.csv\", index=False)"
   ]
  },
  {
   "cell_type": "code",
   "execution_count": 7,
   "id": "3de54c63",
   "metadata": {},
   "outputs": [
    {
     "data": {
      "text/plain": [
       "'\\n\\n# Get data\\ndata = mh(coordinates)\\nfeatures = [\"area_total\", \"distance\", \"distance_metro\", \"floor\", \"district\"]\\nXTrain, YTrain = data.get_data_train()\\nXTest = data.get_data_test()\\n\\nX_Train = XTrain.copy() # Keep originals\\nX_Test = XTest.copy()   #\\nY_Train = YTrain.copy() #\\n\\n'"
      ]
     },
     "execution_count": 7,
     "metadata": {},
     "output_type": "execute_result"
    }
   ],
   "source": [
    "\"\"\"\n",
    "\n",
    "# Get data\n",
    "data = mh(coordinates)\n",
    "features = [\"area_total\", \"distance\", \"distance_metro\", \"floor\", \"district\"]\n",
    "XTrain, YTrain = data.get_data_train()\n",
    "XTest = data.get_data_test()\n",
    "\n",
    "X_Train = XTrain.copy() # Keep originals\n",
    "X_Test = XTest.copy()   #\n",
    "Y_Train = YTrain.copy() #\n",
    "\n",
    "\"\"\""
   ]
  },
  {
   "cell_type": "code",
   "execution_count": 8,
   "id": "5d0d8aa9",
   "metadata": {},
   "outputs": [],
   "source": [
    "#XTrain.to_csv(\"train_prepared.csv\", index=False)\n",
    "#XTest.to_csv(\"test_prpared.csv\", index=False)"
   ]
  },
  {
   "cell_type": "code",
   "execution_count": 9,
   "id": "912c4dfb",
   "metadata": {},
   "outputs": [
    {
     "data": {
      "text/html": [
       "<div>\n",
       "<style scoped>\n",
       "    .dataframe tbody tr th:only-of-type {\n",
       "        vertical-align: middle;\n",
       "    }\n",
       "\n",
       "    .dataframe tbody tr th {\n",
       "        vertical-align: top;\n",
       "    }\n",
       "\n",
       "    .dataframe thead th {\n",
       "        text-align: right;\n",
       "    }\n",
       "</style>\n",
       "<table border=\"1\" class=\"dataframe\">\n",
       "  <thead>\n",
       "    <tr style=\"text-align: right;\">\n",
       "      <th></th>\n",
       "      <th>Unnamed: 0</th>\n",
       "      <th>id</th>\n",
       "      <th>price</th>\n",
       "      <th>area_total</th>\n",
       "      <th>area_kitchen</th>\n",
       "      <th>area_living</th>\n",
       "      <th>floor</th>\n",
       "      <th>rooms</th>\n",
       "      <th>ceiling</th>\n",
       "      <th>building_id</th>\n",
       "      <th>...</th>\n",
       "      <th>district_9.0</th>\n",
       "      <th>district_10.0</th>\n",
       "      <th>district_11.0</th>\n",
       "      <th>district_nan</th>\n",
       "      <th>elevator</th>\n",
       "      <th>elevator_no</th>\n",
       "      <th>balconies_yes</th>\n",
       "      <th>loggias_yes</th>\n",
       "      <th>bathrooms_shared_yes</th>\n",
       "      <th>bathrooms_private_yes</th>\n",
       "    </tr>\n",
       "  </thead>\n",
       "  <tbody>\n",
       "    <tr>\n",
       "      <th>0</th>\n",
       "      <td>0</td>\n",
       "      <td>0</td>\n",
       "      <td>7139520.0</td>\n",
       "      <td>-0.259939</td>\n",
       "      <td>-0.007962</td>\n",
       "      <td>-0.246552</td>\n",
       "      <td>-0.837486</td>\n",
       "      <td>-0.175954</td>\n",
       "      <td>-0.057242</td>\n",
       "      <td>4076</td>\n",
       "      <td>...</td>\n",
       "      <td>0</td>\n",
       "      <td>0</td>\n",
       "      <td>0</td>\n",
       "      <td>0</td>\n",
       "      <td>1</td>\n",
       "      <td>0</td>\n",
       "      <td>0</td>\n",
       "      <td>0</td>\n",
       "      <td>0</td>\n",
       "      <td>1</td>\n",
       "    </tr>\n",
       "    <tr>\n",
       "      <th>1</th>\n",
       "      <td>36</td>\n",
       "      <td>1</td>\n",
       "      <td>10500000.0</td>\n",
       "      <td>0.230930</td>\n",
       "      <td>-0.388730</td>\n",
       "      <td>-0.787980</td>\n",
       "      <td>1.085119</td>\n",
       "      <td>0.753302</td>\n",
       "      <td>-0.059725</td>\n",
       "      <td>1893</td>\n",
       "      <td>...</td>\n",
       "      <td>0</td>\n",
       "      <td>0</td>\n",
       "      <td>0</td>\n",
       "      <td>0</td>\n",
       "      <td>1</td>\n",
       "      <td>0</td>\n",
       "      <td>1</td>\n",
       "      <td>0</td>\n",
       "      <td>1</td>\n",
       "      <td>0</td>\n",
       "    </tr>\n",
       "    <tr>\n",
       "      <th>2</th>\n",
       "      <td>38</td>\n",
       "      <td>2</td>\n",
       "      <td>9019650.0</td>\n",
       "      <td>0.069012</td>\n",
       "      <td>-0.997958</td>\n",
       "      <td>-0.765686</td>\n",
       "      <td>0.364142</td>\n",
       "      <td>0.753302</td>\n",
       "      <td>-0.057242</td>\n",
       "      <td>5176</td>\n",
       "      <td>...</td>\n",
       "      <td>0</td>\n",
       "      <td>0</td>\n",
       "      <td>0</td>\n",
       "      <td>0</td>\n",
       "      <td>1</td>\n",
       "      <td>0</td>\n",
       "      <td>0</td>\n",
       "      <td>0</td>\n",
       "      <td>0</td>\n",
       "      <td>1</td>\n",
       "    </tr>\n",
       "    <tr>\n",
       "      <th>3</th>\n",
       "      <td>37</td>\n",
       "      <td>3</td>\n",
       "      <td>10500000.0</td>\n",
       "      <td>0.230930</td>\n",
       "      <td>-0.236423</td>\n",
       "      <td>-0.724282</td>\n",
       "      <td>1.085119</td>\n",
       "      <td>0.753302</td>\n",
       "      <td>-0.055312</td>\n",
       "      <td>1893</td>\n",
       "      <td>...</td>\n",
       "      <td>0</td>\n",
       "      <td>0</td>\n",
       "      <td>0</td>\n",
       "      <td>0</td>\n",
       "      <td>1</td>\n",
       "      <td>0</td>\n",
       "      <td>0</td>\n",
       "      <td>1</td>\n",
       "      <td>0</td>\n",
       "      <td>1</td>\n",
       "    </tr>\n",
       "    <tr>\n",
       "      <th>4</th>\n",
       "      <td>60</td>\n",
       "      <td>4</td>\n",
       "      <td>13900000.0</td>\n",
       "      <td>0.060489</td>\n",
       "      <td>0.438011</td>\n",
       "      <td>0.450934</td>\n",
       "      <td>-0.236672</td>\n",
       "      <td>-0.175954</td>\n",
       "      <td>0.027425</td>\n",
       "      <td>6604</td>\n",
       "      <td>...</td>\n",
       "      <td>0</td>\n",
       "      <td>0</td>\n",
       "      <td>0</td>\n",
       "      <td>0</td>\n",
       "      <td>1</td>\n",
       "      <td>0</td>\n",
       "      <td>0</td>\n",
       "      <td>1</td>\n",
       "      <td>1</td>\n",
       "      <td>0</td>\n",
       "    </tr>\n",
       "  </tbody>\n",
       "</table>\n",
       "<p>5 rows × 98 columns</p>\n",
       "</div>"
      ],
      "text/plain": [
       "   Unnamed: 0  id       price  area_total  area_kitchen  area_living  \\\n",
       "0           0   0   7139520.0   -0.259939     -0.007962    -0.246552   \n",
       "1          36   1  10500000.0    0.230930     -0.388730    -0.787980   \n",
       "2          38   2   9019650.0    0.069012     -0.997958    -0.765686   \n",
       "3          37   3  10500000.0    0.230930     -0.236423    -0.724282   \n",
       "4          60   4  13900000.0    0.060489      0.438011     0.450934   \n",
       "\n",
       "      floor     rooms   ceiling  building_id  ...  district_9.0  \\\n",
       "0 -0.837486 -0.175954 -0.057242         4076  ...             0   \n",
       "1  1.085119  0.753302 -0.059725         1893  ...             0   \n",
       "2  0.364142  0.753302 -0.057242         5176  ...             0   \n",
       "3  1.085119  0.753302 -0.055312         1893  ...             0   \n",
       "4 -0.236672 -0.175954  0.027425         6604  ...             0   \n",
       "\n",
       "   district_10.0 district_11.0 district_nan  elevator  elevator_no  \\\n",
       "0              0             0            0         1            0   \n",
       "1              0             0            0         1            0   \n",
       "2              0             0            0         1            0   \n",
       "3              0             0            0         1            0   \n",
       "4              0             0            0         1            0   \n",
       "\n",
       "   balconies_yes  loggias_yes  bathrooms_shared_yes  bathrooms_private_yes  \n",
       "0              0            0                     0                      1  \n",
       "1              1            0                     1                      0  \n",
       "2              0            0                     0                      1  \n",
       "3              0            1                     0                      1  \n",
       "4              0            1                     1                      0  \n",
       "\n",
       "[5 rows x 98 columns]"
      ]
     },
     "execution_count": 9,
     "metadata": {},
     "output_type": "execute_result"
    }
   ],
   "source": [
    "XTrain.head()"
   ]
  },
  {
   "cell_type": "code",
   "execution_count": 10,
   "id": "18ca4d45",
   "metadata": {},
   "outputs": [
    {
     "data": {
      "text/html": [
       "<div>\n",
       "<style scoped>\n",
       "    .dataframe tbody tr th:only-of-type {\n",
       "        vertical-align: middle;\n",
       "    }\n",
       "\n",
       "    .dataframe tbody tr th {\n",
       "        vertical-align: top;\n",
       "    }\n",
       "\n",
       "    .dataframe thead th {\n",
       "        text-align: right;\n",
       "    }\n",
       "</style>\n",
       "<table border=\"1\" class=\"dataframe\">\n",
       "  <thead>\n",
       "    <tr style=\"text-align: right;\">\n",
       "      <th></th>\n",
       "      <th>Unnamed: 0</th>\n",
       "      <th>id</th>\n",
       "      <th>area_total</th>\n",
       "      <th>area_kitchen</th>\n",
       "      <th>area_living</th>\n",
       "      <th>floor</th>\n",
       "      <th>rooms</th>\n",
       "      <th>ceiling</th>\n",
       "      <th>building_id</th>\n",
       "      <th>latitude</th>\n",
       "      <th>...</th>\n",
       "      <th>district_9.0</th>\n",
       "      <th>district_10.0</th>\n",
       "      <th>district_11.0</th>\n",
       "      <th>district_nan</th>\n",
       "      <th>elevator</th>\n",
       "      <th>elevator_no</th>\n",
       "      <th>balconies_yes</th>\n",
       "      <th>loggias_yes</th>\n",
       "      <th>bathrooms_shared_yes</th>\n",
       "      <th>bathrooms_private_yes</th>\n",
       "    </tr>\n",
       "  </thead>\n",
       "  <tbody>\n",
       "    <tr>\n",
       "      <th>0</th>\n",
       "      <td>0</td>\n",
       "      <td>23285</td>\n",
       "      <td>-0.066435</td>\n",
       "      <td>0.275148</td>\n",
       "      <td>-0.031875</td>\n",
       "      <td>-0.902184</td>\n",
       "      <td>-1.086301</td>\n",
       "      <td>0.002551</td>\n",
       "      <td>5148</td>\n",
       "      <td>0.863647</td>\n",
       "      <td>...</td>\n",
       "      <td>0</td>\n",
       "      <td>0</td>\n",
       "      <td>0</td>\n",
       "      <td>0</td>\n",
       "      <td>1</td>\n",
       "      <td>1</td>\n",
       "      <td>1</td>\n",
       "      <td>0</td>\n",
       "      <td>0</td>\n",
       "      <td>0</td>\n",
       "    </tr>\n",
       "    <tr>\n",
       "      <th>1</th>\n",
       "      <td>12</td>\n",
       "      <td>23286</td>\n",
       "      <td>-0.375168</td>\n",
       "      <td>-0.563372</td>\n",
       "      <td>-0.829698</td>\n",
       "      <td>-0.651025</td>\n",
       "      <td>-1.086301</td>\n",
       "      <td>-0.025882</td>\n",
       "      <td>1290</td>\n",
       "      <td>0.313897</td>\n",
       "      <td>...</td>\n",
       "      <td>0</td>\n",
       "      <td>0</td>\n",
       "      <td>0</td>\n",
       "      <td>0</td>\n",
       "      <td>1</td>\n",
       "      <td>0</td>\n",
       "      <td>0</td>\n",
       "      <td>0</td>\n",
       "      <td>0</td>\n",
       "      <td>0</td>\n",
       "    </tr>\n",
       "    <tr>\n",
       "      <th>2</th>\n",
       "      <td>15</td>\n",
       "      <td>23287</td>\n",
       "      <td>-0.634220</td>\n",
       "      <td>-0.170817</td>\n",
       "      <td>-0.500842</td>\n",
       "      <td>0.102453</td>\n",
       "      <td>-1.086301</td>\n",
       "      <td>-0.013713</td>\n",
       "      <td>681</td>\n",
       "      <td>1.387559</td>\n",
       "      <td>...</td>\n",
       "      <td>0</td>\n",
       "      <td>0</td>\n",
       "      <td>0</td>\n",
       "      <td>0</td>\n",
       "      <td>1</td>\n",
       "      <td>0</td>\n",
       "      <td>0</td>\n",
       "      <td>0</td>\n",
       "      <td>1</td>\n",
       "      <td>0</td>\n",
       "    </tr>\n",
       "    <tr>\n",
       "      <th>3</th>\n",
       "      <td>76</td>\n",
       "      <td>23288</td>\n",
       "      <td>-0.252739</td>\n",
       "      <td>0.178121</td>\n",
       "      <td>-0.476706</td>\n",
       "      <td>-0.525445</td>\n",
       "      <td>-0.183216</td>\n",
       "      <td>-0.058176</td>\n",
       "      <td>4261</td>\n",
       "      <td>0.942597</td>\n",
       "      <td>...</td>\n",
       "      <td>0</td>\n",
       "      <td>0</td>\n",
       "      <td>0</td>\n",
       "      <td>0</td>\n",
       "      <td>1</td>\n",
       "      <td>1</td>\n",
       "      <td>0</td>\n",
       "      <td>0</td>\n",
       "      <td>1</td>\n",
       "      <td>0</td>\n",
       "    </tr>\n",
       "    <tr>\n",
       "      <th>4</th>\n",
       "      <td>78</td>\n",
       "      <td>23289</td>\n",
       "      <td>-0.730034</td>\n",
       "      <td>-0.926849</td>\n",
       "      <td>-0.368093</td>\n",
       "      <td>0.604772</td>\n",
       "      <td>-1.086301</td>\n",
       "      <td>-0.058176</td>\n",
       "      <td>7530</td>\n",
       "      <td>0.099888</td>\n",
       "      <td>...</td>\n",
       "      <td>0</td>\n",
       "      <td>0</td>\n",
       "      <td>0</td>\n",
       "      <td>0</td>\n",
       "      <td>1</td>\n",
       "      <td>0</td>\n",
       "      <td>0</td>\n",
       "      <td>1</td>\n",
       "      <td>1</td>\n",
       "      <td>0</td>\n",
       "    </tr>\n",
       "  </tbody>\n",
       "</table>\n",
       "<p>5 rows × 97 columns</p>\n",
       "</div>"
      ],
      "text/plain": [
       "   Unnamed: 0     id  area_total  area_kitchen  area_living     floor  \\\n",
       "0           0  23285   -0.066435      0.275148    -0.031875 -0.902184   \n",
       "1          12  23286   -0.375168     -0.563372    -0.829698 -0.651025   \n",
       "2          15  23287   -0.634220     -0.170817    -0.500842  0.102453   \n",
       "3          76  23288   -0.252739      0.178121    -0.476706 -0.525445   \n",
       "4          78  23289   -0.730034     -0.926849    -0.368093  0.604772   \n",
       "\n",
       "      rooms   ceiling  building_id  latitude  ...  district_9.0 district_10.0  \\\n",
       "0 -1.086301  0.002551         5148  0.863647  ...             0             0   \n",
       "1 -1.086301 -0.025882         1290  0.313897  ...             0             0   \n",
       "2 -1.086301 -0.013713          681  1.387559  ...             0             0   \n",
       "3 -0.183216 -0.058176         4261  0.942597  ...             0             0   \n",
       "4 -1.086301 -0.058176         7530  0.099888  ...             0             0   \n",
       "\n",
       "  district_11.0  district_nan  elevator  elevator_no  balconies_yes  \\\n",
       "0             0             0         1            1              1   \n",
       "1             0             0         1            0              0   \n",
       "2             0             0         1            0              0   \n",
       "3             0             0         1            1              0   \n",
       "4             0             0         1            0              0   \n",
       "\n",
       "   loggias_yes  bathrooms_shared_yes  bathrooms_private_yes  \n",
       "0            0                     0                      0  \n",
       "1            0                     0                      0  \n",
       "2            0                     1                      0  \n",
       "3            0                     1                      0  \n",
       "4            1                     1                      0  \n",
       "\n",
       "[5 rows x 97 columns]"
      ]
     },
     "execution_count": 10,
     "metadata": {},
     "output_type": "execute_result"
    }
   ],
   "source": [
    "XTest.head()"
   ]
  },
  {
   "cell_type": "code",
   "execution_count": 11,
   "id": "3b9d4ea1",
   "metadata": {},
   "outputs": [],
   "source": [
    "drop_features = [\"Unnamed: 0\",\n",
    "                 \"id\", \n",
    "                 \"street\", \n",
    "                 \"address\",\n",
    "                 \"building_id\",\n",
    "                 \"phones_0.0\", \"phones_1.0\", \"phones_2.0\", \"phones_nan\",\n",
    "                 \"layout_0.0\", \"layout_1.0\", \"layout_2.0\", \"layout_nan\",\n",
    "                 \"new_0.0\", \"new_1.0\", \"new_nan\"]\n",
    "\n",
    "X_Train = XTrain.copy()\n",
    "X_Test = XTest.copy()\n",
    "\n",
    "X_Train = X_Train.drop(drop_features, axis=1)\n",
    "X_Test = X_Test.drop(drop_features, axis=1)\n",
    "\n",
    "X_Train = X_Train.drop(\"price\", axis=1)\n",
    "#features_4 = D4_train.columns.values.tolist()\n",
    "\n",
    "# Real prices\n",
    "Y_Train = XTrain[\"price\"].copy()\n",
    "\n",
    "# Log prices (ln) \n",
    "Y_Train = np.log(Y_Train)\n",
    "\n",
    "# Normalize\n",
    "Y_Train = norm_features(Y_Train)\n",
    "\n",
    "# Log 10 prices (log10) \n",
    "#Y_Train = np.log10(Y_Train)\n"
   ]
  },
  {
   "cell_type": "code",
   "execution_count": 12,
   "id": "afae3fb2",
   "metadata": {},
   "outputs": [
    {
     "data": {
      "text/plain": [
       "(23285, 98)"
      ]
     },
     "execution_count": 12,
     "metadata": {},
     "output_type": "execute_result"
    }
   ],
   "source": [
    "XTrain.shape  # Should be 9937 examples"
   ]
  },
  {
   "cell_type": "code",
   "execution_count": 13,
   "id": "9eab1ec7",
   "metadata": {},
   "outputs": [
    {
     "data": {
      "text/html": [
       "<div>\n",
       "<style scoped>\n",
       "    .dataframe tbody tr th:only-of-type {\n",
       "        vertical-align: middle;\n",
       "    }\n",
       "\n",
       "    .dataframe tbody tr th {\n",
       "        vertical-align: top;\n",
       "    }\n",
       "\n",
       "    .dataframe thead th {\n",
       "        text-align: right;\n",
       "    }\n",
       "</style>\n",
       "<table border=\"1\" class=\"dataframe\">\n",
       "  <thead>\n",
       "    <tr style=\"text-align: right;\">\n",
       "      <th></th>\n",
       "      <th>Unnamed: 0</th>\n",
       "      <th>id</th>\n",
       "      <th>area_total</th>\n",
       "      <th>area_kitchen</th>\n",
       "      <th>area_living</th>\n",
       "      <th>floor</th>\n",
       "      <th>rooms</th>\n",
       "      <th>ceiling</th>\n",
       "      <th>building_id</th>\n",
       "      <th>latitude</th>\n",
       "      <th>...</th>\n",
       "      <th>district_9.0</th>\n",
       "      <th>district_10.0</th>\n",
       "      <th>district_11.0</th>\n",
       "      <th>district_nan</th>\n",
       "      <th>elevator</th>\n",
       "      <th>elevator_no</th>\n",
       "      <th>balconies_yes</th>\n",
       "      <th>loggias_yes</th>\n",
       "      <th>bathrooms_shared_yes</th>\n",
       "      <th>bathrooms_private_yes</th>\n",
       "    </tr>\n",
       "  </thead>\n",
       "  <tbody>\n",
       "    <tr>\n",
       "      <th>0</th>\n",
       "      <td>0</td>\n",
       "      <td>23285</td>\n",
       "      <td>-0.066435</td>\n",
       "      <td>0.275148</td>\n",
       "      <td>-0.031875</td>\n",
       "      <td>-0.902184</td>\n",
       "      <td>-1.086301</td>\n",
       "      <td>0.002551</td>\n",
       "      <td>5148</td>\n",
       "      <td>0.863647</td>\n",
       "      <td>...</td>\n",
       "      <td>0</td>\n",
       "      <td>0</td>\n",
       "      <td>0</td>\n",
       "      <td>0</td>\n",
       "      <td>1</td>\n",
       "      <td>1</td>\n",
       "      <td>1</td>\n",
       "      <td>0</td>\n",
       "      <td>0</td>\n",
       "      <td>0</td>\n",
       "    </tr>\n",
       "    <tr>\n",
       "      <th>1</th>\n",
       "      <td>12</td>\n",
       "      <td>23286</td>\n",
       "      <td>-0.375168</td>\n",
       "      <td>-0.563372</td>\n",
       "      <td>-0.829698</td>\n",
       "      <td>-0.651025</td>\n",
       "      <td>-1.086301</td>\n",
       "      <td>-0.025882</td>\n",
       "      <td>1290</td>\n",
       "      <td>0.313897</td>\n",
       "      <td>...</td>\n",
       "      <td>0</td>\n",
       "      <td>0</td>\n",
       "      <td>0</td>\n",
       "      <td>0</td>\n",
       "      <td>1</td>\n",
       "      <td>0</td>\n",
       "      <td>0</td>\n",
       "      <td>0</td>\n",
       "      <td>0</td>\n",
       "      <td>0</td>\n",
       "    </tr>\n",
       "    <tr>\n",
       "      <th>2</th>\n",
       "      <td>15</td>\n",
       "      <td>23287</td>\n",
       "      <td>-0.634220</td>\n",
       "      <td>-0.170817</td>\n",
       "      <td>-0.500842</td>\n",
       "      <td>0.102453</td>\n",
       "      <td>-1.086301</td>\n",
       "      <td>-0.013713</td>\n",
       "      <td>681</td>\n",
       "      <td>1.387559</td>\n",
       "      <td>...</td>\n",
       "      <td>0</td>\n",
       "      <td>0</td>\n",
       "      <td>0</td>\n",
       "      <td>0</td>\n",
       "      <td>1</td>\n",
       "      <td>0</td>\n",
       "      <td>0</td>\n",
       "      <td>0</td>\n",
       "      <td>1</td>\n",
       "      <td>0</td>\n",
       "    </tr>\n",
       "    <tr>\n",
       "      <th>3</th>\n",
       "      <td>76</td>\n",
       "      <td>23288</td>\n",
       "      <td>-0.252739</td>\n",
       "      <td>0.178121</td>\n",
       "      <td>-0.476706</td>\n",
       "      <td>-0.525445</td>\n",
       "      <td>-0.183216</td>\n",
       "      <td>-0.058176</td>\n",
       "      <td>4261</td>\n",
       "      <td>0.942597</td>\n",
       "      <td>...</td>\n",
       "      <td>0</td>\n",
       "      <td>0</td>\n",
       "      <td>0</td>\n",
       "      <td>0</td>\n",
       "      <td>1</td>\n",
       "      <td>1</td>\n",
       "      <td>0</td>\n",
       "      <td>0</td>\n",
       "      <td>1</td>\n",
       "      <td>0</td>\n",
       "    </tr>\n",
       "    <tr>\n",
       "      <th>4</th>\n",
       "      <td>78</td>\n",
       "      <td>23289</td>\n",
       "      <td>-0.730034</td>\n",
       "      <td>-0.926849</td>\n",
       "      <td>-0.368093</td>\n",
       "      <td>0.604772</td>\n",
       "      <td>-1.086301</td>\n",
       "      <td>-0.058176</td>\n",
       "      <td>7530</td>\n",
       "      <td>0.099888</td>\n",
       "      <td>...</td>\n",
       "      <td>0</td>\n",
       "      <td>0</td>\n",
       "      <td>0</td>\n",
       "      <td>0</td>\n",
       "      <td>1</td>\n",
       "      <td>0</td>\n",
       "      <td>0</td>\n",
       "      <td>1</td>\n",
       "      <td>1</td>\n",
       "      <td>0</td>\n",
       "    </tr>\n",
       "  </tbody>\n",
       "</table>\n",
       "<p>5 rows × 97 columns</p>\n",
       "</div>"
      ],
      "text/plain": [
       "   Unnamed: 0     id  area_total  area_kitchen  area_living     floor  \\\n",
       "0           0  23285   -0.066435      0.275148    -0.031875 -0.902184   \n",
       "1          12  23286   -0.375168     -0.563372    -0.829698 -0.651025   \n",
       "2          15  23287   -0.634220     -0.170817    -0.500842  0.102453   \n",
       "3          76  23288   -0.252739      0.178121    -0.476706 -0.525445   \n",
       "4          78  23289   -0.730034     -0.926849    -0.368093  0.604772   \n",
       "\n",
       "      rooms   ceiling  building_id  latitude  ...  district_9.0 district_10.0  \\\n",
       "0 -1.086301  0.002551         5148  0.863647  ...             0             0   \n",
       "1 -1.086301 -0.025882         1290  0.313897  ...             0             0   \n",
       "2 -1.086301 -0.013713          681  1.387559  ...             0             0   \n",
       "3 -0.183216 -0.058176         4261  0.942597  ...             0             0   \n",
       "4 -1.086301 -0.058176         7530  0.099888  ...             0             0   \n",
       "\n",
       "  district_11.0  district_nan  elevator  elevator_no  balconies_yes  \\\n",
       "0             0             0         1            1              1   \n",
       "1             0             0         1            0              0   \n",
       "2             0             0         1            0              0   \n",
       "3             0             0         1            1              0   \n",
       "4             0             0         1            0              0   \n",
       "\n",
       "   loggias_yes  bathrooms_shared_yes  bathrooms_private_yes  \n",
       "0            0                     0                      0  \n",
       "1            0                     0                      0  \n",
       "2            0                     1                      0  \n",
       "3            0                     1                      0  \n",
       "4            1                     1                      0  \n",
       "\n",
       "[5 rows x 97 columns]"
      ]
     },
     "execution_count": 13,
     "metadata": {},
     "output_type": "execute_result"
    }
   ],
   "source": [
    "XTest.head()  # All features"
   ]
  },
  {
   "cell_type": "code",
   "execution_count": 14,
   "id": "27377abd",
   "metadata": {},
   "outputs": [
    {
     "data": {
      "text/html": [
       "<div>\n",
       "<style scoped>\n",
       "    .dataframe tbody tr th:only-of-type {\n",
       "        vertical-align: middle;\n",
       "    }\n",
       "\n",
       "    .dataframe tbody tr th {\n",
       "        vertical-align: top;\n",
       "    }\n",
       "\n",
       "    .dataframe thead th {\n",
       "        text-align: right;\n",
       "    }\n",
       "</style>\n",
       "<table border=\"1\" class=\"dataframe\">\n",
       "  <thead>\n",
       "    <tr style=\"text-align: right;\">\n",
       "      <th></th>\n",
       "      <th>area_total</th>\n",
       "      <th>area_kitchen</th>\n",
       "      <th>area_living</th>\n",
       "      <th>floor</th>\n",
       "      <th>rooms</th>\n",
       "      <th>ceiling</th>\n",
       "      <th>latitude</th>\n",
       "      <th>longitude</th>\n",
       "      <th>constructed</th>\n",
       "      <th>stories</th>\n",
       "      <th>...</th>\n",
       "      <th>district_9.0</th>\n",
       "      <th>district_10.0</th>\n",
       "      <th>district_11.0</th>\n",
       "      <th>district_nan</th>\n",
       "      <th>elevator</th>\n",
       "      <th>elevator_no</th>\n",
       "      <th>balconies_yes</th>\n",
       "      <th>loggias_yes</th>\n",
       "      <th>bathrooms_shared_yes</th>\n",
       "      <th>bathrooms_private_yes</th>\n",
       "    </tr>\n",
       "  </thead>\n",
       "  <tbody>\n",
       "    <tr>\n",
       "      <th>0</th>\n",
       "      <td>-0.066435</td>\n",
       "      <td>0.275148</td>\n",
       "      <td>-0.031875</td>\n",
       "      <td>-0.902184</td>\n",
       "      <td>-1.086301</td>\n",
       "      <td>0.002551</td>\n",
       "      <td>0.863647</td>\n",
       "      <td>0.988802</td>\n",
       "      <td>0.624490</td>\n",
       "      <td>0.176445</td>\n",
       "      <td>...</td>\n",
       "      <td>0</td>\n",
       "      <td>0</td>\n",
       "      <td>0</td>\n",
       "      <td>0</td>\n",
       "      <td>1</td>\n",
       "      <td>1</td>\n",
       "      <td>1</td>\n",
       "      <td>0</td>\n",
       "      <td>0</td>\n",
       "      <td>0</td>\n",
       "    </tr>\n",
       "    <tr>\n",
       "      <th>1</th>\n",
       "      <td>-0.375168</td>\n",
       "      <td>-0.563372</td>\n",
       "      <td>-0.829698</td>\n",
       "      <td>-0.651025</td>\n",
       "      <td>-1.086301</td>\n",
       "      <td>-0.025882</td>\n",
       "      <td>0.313897</td>\n",
       "      <td>1.064595</td>\n",
       "      <td>0.497565</td>\n",
       "      <td>-0.289743</td>\n",
       "      <td>...</td>\n",
       "      <td>0</td>\n",
       "      <td>0</td>\n",
       "      <td>0</td>\n",
       "      <td>0</td>\n",
       "      <td>1</td>\n",
       "      <td>0</td>\n",
       "      <td>0</td>\n",
       "      <td>0</td>\n",
       "      <td>0</td>\n",
       "      <td>0</td>\n",
       "    </tr>\n",
       "    <tr>\n",
       "      <th>2</th>\n",
       "      <td>-0.634220</td>\n",
       "      <td>-0.170817</td>\n",
       "      <td>-0.500842</td>\n",
       "      <td>0.102453</td>\n",
       "      <td>-1.086301</td>\n",
       "      <td>-0.013713</td>\n",
       "      <td>1.387559</td>\n",
       "      <td>0.866866</td>\n",
       "      <td>0.497565</td>\n",
       "      <td>-0.849169</td>\n",
       "      <td>...</td>\n",
       "      <td>0</td>\n",
       "      <td>0</td>\n",
       "      <td>0</td>\n",
       "      <td>0</td>\n",
       "      <td>1</td>\n",
       "      <td>0</td>\n",
       "      <td>0</td>\n",
       "      <td>0</td>\n",
       "      <td>1</td>\n",
       "      <td>0</td>\n",
       "    </tr>\n",
       "    <tr>\n",
       "      <th>3</th>\n",
       "      <td>-0.252739</td>\n",
       "      <td>0.178121</td>\n",
       "      <td>-0.476706</td>\n",
       "      <td>-0.525445</td>\n",
       "      <td>-0.183216</td>\n",
       "      <td>-0.058176</td>\n",
       "      <td>0.942597</td>\n",
       "      <td>0.276288</td>\n",
       "      <td>0.793723</td>\n",
       "      <td>-0.103268</td>\n",
       "      <td>...</td>\n",
       "      <td>0</td>\n",
       "      <td>0</td>\n",
       "      <td>0</td>\n",
       "      <td>0</td>\n",
       "      <td>1</td>\n",
       "      <td>1</td>\n",
       "      <td>0</td>\n",
       "      <td>0</td>\n",
       "      <td>1</td>\n",
       "      <td>0</td>\n",
       "    </tr>\n",
       "    <tr>\n",
       "      <th>4</th>\n",
       "      <td>-0.730034</td>\n",
       "      <td>-0.926849</td>\n",
       "      <td>-0.368093</td>\n",
       "      <td>0.604772</td>\n",
       "      <td>-1.086301</td>\n",
       "      <td>-0.058176</td>\n",
       "      <td>0.099888</td>\n",
       "      <td>0.069213</td>\n",
       "      <td>0.793723</td>\n",
       "      <td>-0.103268</td>\n",
       "      <td>...</td>\n",
       "      <td>0</td>\n",
       "      <td>0</td>\n",
       "      <td>0</td>\n",
       "      <td>0</td>\n",
       "      <td>1</td>\n",
       "      <td>0</td>\n",
       "      <td>0</td>\n",
       "      <td>1</td>\n",
       "      <td>1</td>\n",
       "      <td>0</td>\n",
       "    </tr>\n",
       "  </tbody>\n",
       "</table>\n",
       "<p>5 rows × 81 columns</p>\n",
       "</div>"
      ],
      "text/plain": [
       "   area_total  area_kitchen  area_living     floor     rooms   ceiling  \\\n",
       "0   -0.066435      0.275148    -0.031875 -0.902184 -1.086301  0.002551   \n",
       "1   -0.375168     -0.563372    -0.829698 -0.651025 -1.086301 -0.025882   \n",
       "2   -0.634220     -0.170817    -0.500842  0.102453 -1.086301 -0.013713   \n",
       "3   -0.252739      0.178121    -0.476706 -0.525445 -0.183216 -0.058176   \n",
       "4   -0.730034     -0.926849    -0.368093  0.604772 -1.086301 -0.058176   \n",
       "\n",
       "   latitude  longitude  constructed   stories  ...  district_9.0  \\\n",
       "0  0.863647   0.988802     0.624490  0.176445  ...             0   \n",
       "1  0.313897   1.064595     0.497565 -0.289743  ...             0   \n",
       "2  1.387559   0.866866     0.497565 -0.849169  ...             0   \n",
       "3  0.942597   0.276288     0.793723 -0.103268  ...             0   \n",
       "4  0.099888   0.069213     0.793723 -0.103268  ...             0   \n",
       "\n",
       "   district_10.0  district_11.0  district_nan  elevator  elevator_no  \\\n",
       "0              0              0             0         1            1   \n",
       "1              0              0             0         1            0   \n",
       "2              0              0             0         1            0   \n",
       "3              0              0             0         1            1   \n",
       "4              0              0             0         1            0   \n",
       "\n",
       "   balconies_yes  loggias_yes  bathrooms_shared_yes  bathrooms_private_yes  \n",
       "0              1            0                     0                      0  \n",
       "1              0            0                     0                      0  \n",
       "2              0            0                     1                      0  \n",
       "3              0            0                     1                      0  \n",
       "4              0            1                     1                      0  \n",
       "\n",
       "[5 rows x 81 columns]"
      ]
     },
     "execution_count": 14,
     "metadata": {},
     "output_type": "execute_result"
    }
   ],
   "source": [
    "X_Test.head()  # Only with features"
   ]
  },
  {
   "cell_type": "code",
   "execution_count": 15,
   "id": "02dfb12f",
   "metadata": {},
   "outputs": [],
   "source": [
    "X = X_Train.copy() # Keep prepared \"originals\" (the real orig = XTrain)\n",
    "y = Y_Train.copy() #\n",
    "\n",
    "X_train, X_test, y_train, y_test = train_test_split(X, y, test_size=0.2, random_state=42)"
   ]
  },
  {
   "cell_type": "markdown",
   "id": "ce0a76d6",
   "metadata": {},
   "source": [
    "# CatBoostRegressor"
   ]
  },
  {
   "cell_type": "code",
   "execution_count": 16,
   "id": "2baefeef",
   "metadata": {},
   "outputs": [
    {
     "data": {
      "text/plain": [
       "'\\n\\n# Kaggle score on this prediction is: 0.29393 (best single model performance until now)\\n\\nmodelCBR = CatBoostRegressor(\\n    n_estimators=1000,\\n    learning_rate=0.008,\\n    thread_count=-1,\\n    depth=7,\\n    silent=True,\\n    random_seed=42,\\n    bagging_temperature=0.2\\n#     od_type=\"Iter\"\\n)\\n\\n\\n1. Default from Ensembele ---------------------> mse 0.36905\\n2. change n_estimators = 1000 (default 500) ---> mse 0.36763 # Choose this 1000\\n3. change n_estimators = 5000 -----------------> mse 0.37690\\n4. n_estim = 1000 lr = 0.08 (default 0.1) -----> mse 0.36366\\n\\n5. removing district and rooms ----------------> mse 0.35049\\n6. removing rooms -----------------------------> mse 0.33331 # Choose this\\n\\n7.  lr = 0.04 ---------------------------------> mse 0.32079\\n8.  lr = 0.02 ---------------------------------> mse 0.32118\\n9.  lr = 0.009 --------------------------------> mse 0.31140\\n10. lr = 0.008 --------------------------------> mse 0.31097 # Choose this 0.008\\n\\n11. depth = 10 (default 7) --------------------> mse 0.32140\\n12. depth = 9 ---------------------------------> mse 0.31622 # Choose default 7\\n\\n13. added \"distance_metro\" (not normalized, m) > mse 0.29202 # Choose this\\n\\n'"
      ]
     },
     "execution_count": 16,
     "metadata": {},
     "output_type": "execute_result"
    }
   ],
   "source": [
    "\"\"\"\n",
    "\n",
    "# Kaggle score on this prediction is: 0.29393 (best single model performance until now)\n",
    "\n",
    "modelCBR = CatBoostRegressor(\n",
    "    n_estimators=1000,\n",
    "    learning_rate=0.008,\n",
    "    thread_count=-1,\n",
    "    depth=7,\n",
    "    silent=True,\n",
    "    random_seed=42,\n",
    "    bagging_temperature=0.2\n",
    "#     od_type=\"Iter\"\n",
    ")\n",
    "\n",
    "\n",
    "1. Default from Ensembele ---------------------> mse 0.36905\n",
    "2. change n_estimators = 1000 (default 500) ---> mse 0.36763 # Choose this 1000\n",
    "3. change n_estimators = 5000 -----------------> mse 0.37690\n",
    "4. n_estim = 1000 lr = 0.08 (default 0.1) -----> mse 0.36366\n",
    "\n",
    "5. removing district and rooms ----------------> mse 0.35049\n",
    "6. removing rooms -----------------------------> mse 0.33331 # Choose this\n",
    "\n",
    "7.  lr = 0.04 ---------------------------------> mse 0.32079\n",
    "8.  lr = 0.02 ---------------------------------> mse 0.32118\n",
    "9.  lr = 0.009 --------------------------------> mse 0.31140\n",
    "10. lr = 0.008 --------------------------------> mse 0.31097 # Choose this 0.008\n",
    "\n",
    "11. depth = 10 (default 7) --------------------> mse 0.32140\n",
    "12. depth = 9 ---------------------------------> mse 0.31622 # Choose default 7\n",
    "\n",
    "13. added \"distance_metro\" (not normalized, m) > mse 0.29202 # Choose this\n",
    "\n",
    "\"\"\""
   ]
  },
  {
   "cell_type": "code",
   "execution_count": 17,
   "id": "008da6e4",
   "metadata": {},
   "outputs": [],
   "source": [
    "#modelCBR.fit(X_train, y_train)"
   ]
  },
  {
   "cell_type": "code",
   "execution_count": 18,
   "id": "1d7b7b57",
   "metadata": {},
   "outputs": [],
   "source": [
    "#cat_prediction = modelCBR.predict(X_test)"
   ]
  },
  {
   "cell_type": "code",
   "execution_count": 19,
   "id": "900f8d70",
   "metadata": {},
   "outputs": [],
   "source": [
    "#cat_mse = round(mean_squared_error(cat_prediction, y_test), 5)\n",
    "#print('Test MSE:', cat_mse)\n",
    "#print('Test RMSE:', np.sqrt(cat_mse))"
   ]
  },
  {
   "cell_type": "raw",
   "id": "24434c0b",
   "metadata": {},
   "source": [
    "Run with cat_6 data (cat_4 optimized hyperparameters) \n",
    "Slightly worse score than the first CatBoost\n",
    "Kaggle: 0.29942 (versus 0.29393) NB! USING A BETTER MODEL THAN THIS\n",
    "Test MSE: 0.01533\n",
    "Test RMSE: 0.12381437719424994"
   ]
  },
  {
   "cell_type": "code",
   "execution_count": 20,
   "id": "44ce5e0d",
   "metadata": {},
   "outputs": [],
   "source": [
    "#cat_prediction_REAL = modelCBR.predict(XTest[features])"
   ]
  },
  {
   "cell_type": "code",
   "execution_count": 21,
   "id": "8e296f8b",
   "metadata": {},
   "outputs": [],
   "source": [
    "# Kaggle score on this prediction is: 0.29393 (best single performance until now)\n",
    "#data.write_results(\"cat_prediction.csv\", cat_prediction_REAL)"
   ]
  },
  {
   "cell_type": "code",
   "execution_count": 22,
   "id": "2b2bd5ac",
   "metadata": {},
   "outputs": [],
   "source": [
    "#plt.scatter(cat_prediction, y_test)\n",
    "#plt.xlabel('CatBoost prediction')\n",
    "#plt.ylabel('Ground Truth')"
   ]
  },
  {
   "cell_type": "code",
   "execution_count": 23,
   "id": "a8e88e5a",
   "metadata": {},
   "outputs": [],
   "source": [
    "#importances = modelCBR.feature_importances_\n",
    "#forest_importances = pd.Series(importances, index=X.columns)\n",
    "\n",
    "#fig, ax=plt.subplots(1, 1, figsize=(14,6))\n",
    "#forest_importances.plot.bar(ax=ax)\n",
    "#ax.set_title(\"Gini Importance\")\n",
    "#ax.set_ylabel(\"Importance\")\n",
    "#fig.tight_layout()"
   ]
  },
  {
   "cell_type": "code",
   "execution_count": 24,
   "id": "92e5f1d9",
   "metadata": {},
   "outputs": [],
   "source": [
    "#ax = sns.boxplot(data=XTrain, orient=\"h\", palette=\"Set2\")"
   ]
  },
  {
   "cell_type": "code",
   "execution_count": 25,
   "id": "601a4bdc",
   "metadata": {},
   "outputs": [
    {
     "data": {
      "text/plain": [
       "Text(0, 0.5, 'Ground Truth')"
      ]
     },
     "execution_count": 25,
     "metadata": {},
     "output_type": "execute_result"
    },
    {
     "data": {
      "image/png": "[encoded data removed]",
      "text/plain": [
       "<Figure size 432x288 with 1 Axes>"
      ]
     },
     "metadata": {},
     "output_type": "display_data"
    }
   ],
   "source": [
    "plt.scatter((X_test[\"distance_metro\"]), y_test)\n",
    "plt.xlabel('Distance Metro')\n",
    "plt.ylabel('Ground Truth')"
   ]
  },
  {
   "cell_type": "markdown",
   "id": "25175ee4",
   "metadata": {},
   "source": [
    "# CatBoost optimized hyperparmeters catergory_6 data"
   ]
  },
  {
   "cell_type": "code",
   "execution_count": 26,
   "id": "e52473bd",
   "metadata": {},
   "outputs": [],
   "source": [
    "# category_6 data\n",
    "#df_train_4 = pd.read_csv(\"../data/train_prepared_category_6.csv\")\n",
    "#df_test_4 = pd.read_csv(\"../data/test_prepared_category_6.csv\")"
   ]
  },
  {
   "cell_type": "code",
   "execution_count": 27,
   "id": "dabdf341",
   "metadata": {},
   "outputs": [],
   "source": [
    "# Keep originals\n",
    "X = X_Train.copy()\n",
    "y = Y_Train.copy()"
   ]
  },
  {
   "cell_type": "code",
   "execution_count": 28,
   "id": "d438e10c",
   "metadata": {},
   "outputs": [],
   "source": [
    "X_train, X_test, y_train, y_test = train_test_split(X, y, train_size=0.80, random_state=42)"
   ]
  },
  {
   "cell_type": "markdown",
   "id": "40cf4593",
   "metadata": {},
   "source": [
    "# Comparing models and datasets on CatBoost"
   ]
  },
  {
   "cell_type": "code",
   "execution_count": 29,
   "id": "47abf564",
   "metadata": {},
   "outputs": [
    {
     "name": "stdout",
     "output_type": "stream",
     "text": [
      "Test MSE: 0.06687\n",
      "Test RMSE:  0.2585923432741194\n"
     ]
    }
   ],
   "source": [
    "# Using optimized hyperparameter for complete category_4 data\n",
    "modelCBR = CatBoostRegressor(\n",
    "    n_estimators=1968,\n",
    "    learning_rate=0.05798827431610841,\n",
    "    thread_count=-1,\n",
    "    depth=12,\n",
    "    silent=True,\n",
    "    random_seed=42,\n",
    "    bagging_temperature=0.1058370968938238\n",
    "#     od_type=\"Iter\"\n",
    ")\n",
    "\n",
    "modelCBR.fit(X_train, y_train)\n",
    "cat_prediction = modelCBR.predict(X_test)\n",
    "\n",
    "cat_mse = round(mean_squared_error(cat_prediction, y_test), 5)\n",
    "print('Test MSE:', cat_mse)\n",
    "print(\"Test RMSE: \", np.sqrt(cat_mse))"
   ]
  },
  {
   "cell_type": "raw",
   "id": "bfa1a2a0",
   "metadata": {},
   "source": [
    "Category_6 data on optimized category_4 log10 prices\n",
    "\n",
    "All basic features --------->\n",
    "# Kaggle score 0.29942            (log10 prices)\n",
    "Test MSE: 0.00941\n",
    "Test RMSE:  0.0970051545022222\n",
    "\n",
    "2nd model (not used)\n",
    "Test MSE: 0.00946\n",
    "Test RMSE:  0.09726253132630262\n",
    "\n",
    "Model with ln prices              (ln prices)\n",
    "Test MSE: 0.05008\n",
    "Test RMSE:  0.22378561169118982\n",
    "\n",
    "Model with ln prices normalized   (ln prices normalized)\n",
    "Test MSE: 0.06687\n",
    "Test RMSE:  0.2585923432741194\n",
    "\n",
    "Start removing features ----->"
   ]
  },
  {
   "cell_type": "code",
   "execution_count": 30,
   "id": "95aecc35",
   "metadata": {},
   "outputs": [
    {
     "data": {
      "text/plain": [
       "'\\n# Using optimized hyperparameter for complete category_4 data\\nmodelCBR2 = CatBoostRegressor(n_estimators=2343,\\n                             learning_rate=0.058500478169372754,\\n                             thread_count=-1,\\n                             depth=12,\\n                             silent=True,\\n                             random_seed=42,\\n                             bagging_temperature=0.08070463240695834)\\n\\nmodelCBR2.fit(X_train, y_train)\\ncat_prediction2 = modelCBR2.predict(X_test)\\n\\ncat_mse2 = round(mean_squared_error(cat_prediction2, y_test), 5)\\nprint(\\'Test MSE:\\', cat_mse2)\\nprint(\"Test RMSE: \", np.sqrt(cat_mse2))\\n'"
      ]
     },
     "execution_count": 30,
     "metadata": {},
     "output_type": "execute_result"
    }
   ],
   "source": [
    "\"\"\"\n",
    "# Using optimized hyperparameter for complete category_4 data\n",
    "modelCBR2 = CatBoostRegressor(n_estimators=2343,\n",
    "                             learning_rate=0.058500478169372754,\n",
    "                             thread_count=-1,\n",
    "                             depth=12,\n",
    "                             silent=True,\n",
    "                             random_seed=42,\n",
    "                             bagging_temperature=0.08070463240695834)\n",
    "\n",
    "modelCBR2.fit(X_train, y_train)\n",
    "cat_prediction2 = modelCBR2.predict(X_test)\n",
    "\n",
    "cat_mse2 = round(mean_squared_error(cat_prediction2, y_test), 5)\n",
    "print('Test MSE:', cat_mse2)\n",
    "print(\"Test RMSE: \", np.sqrt(cat_mse2))\n",
    "\"\"\""
   ]
  },
  {
   "cell_type": "raw",
   "id": "578d1ba2",
   "metadata": {},
   "source": []
  },
  {
   "cell_type": "code",
   "execution_count": 31,
   "id": "1123a026",
   "metadata": {},
   "outputs": [
    {
     "data": {
      "text/plain": [
       "<catboost.core.CatBoostRegressor at 0x7fca1d096eb0>"
      ]
     },
     "execution_count": 31,
     "metadata": {},
     "output_type": "execute_result"
    }
   ],
   "source": [
    "modelCBR.fit(X_train, y_train)\n",
    "#modelCBR2.fit(X_train, y_train)"
   ]
  },
  {
   "cell_type": "code",
   "execution_count": 32,
   "id": "cf472335",
   "metadata": {},
   "outputs": [],
   "source": [
    "cat_prediction = modelCBR.predict(X_test)\n",
    "#cat_prediction2 = modelCBR2.predict(X_test)"
   ]
  },
  {
   "cell_type": "code",
   "execution_count": 33,
   "id": "3aa07a23",
   "metadata": {},
   "outputs": [
    {
     "data": {
      "text/plain": [
       "Text(0, 0.5, 'Ground Truth')"
      ]
     },
     "execution_count": 33,
     "metadata": {},
     "output_type": "execute_result"
    },
    {
     "data": {
      "image/png": "[encoded data removed]",
      "text/plain": [
       "<Figure size 432x288 with 1 Axes>"
      ]
     },
     "metadata": {},
     "output_type": "display_data"
    }
   ],
   "source": [
    "plt.scatter(cat_prediction, y_test)\n",
    "plt.xlabel('CatBoost prediction')\n",
    "plt.ylabel('Ground Truth')"
   ]
  },
  {
   "cell_type": "code",
   "execution_count": 34,
   "id": "5696ed17",
   "metadata": {},
   "outputs": [],
   "source": [
    "#plt.scatter(cat_prediction2, y_test)\n",
    "#plt.xlabel('CatBoost prediction')\n",
    "#plt.ylabel('Ground Truth')"
   ]
  },
  {
   "cell_type": "code",
   "execution_count": 35,
   "id": "5a171bb3",
   "metadata": {},
   "outputs": [
    {
     "data": {
      "image/png": "[encoded data removed]",
      "text/plain": [
       "<Figure size 1008x432 with 1 Axes>"
      ]
     },
     "metadata": {},
     "output_type": "display_data"
    }
   ],
   "source": [
    "importances = modelCBR.feature_importances_\n",
    "forest_importances = pd.Series(importances, index=X.columns)\n",
    "\n",
    "fig, ax=plt.subplots(1, 1, figsize=(14,6))\n",
    "forest_importances.plot.bar(ax=ax)\n",
    "ax.set_title(\"Gini Importance\")\n",
    "ax.set_ylabel(\"Importance\")\n",
    "fig.tight_layout()"
   ]
  },
  {
   "cell_type": "code",
   "execution_count": 36,
   "id": "7561b92c",
   "metadata": {},
   "outputs": [
    {
     "data": {
      "text/plain": [
       "'\\nimportances = modelCBR2.feature_importances_\\nforest_importances = pd.Series(importances, index=X.columns)\\n\\nfig, ax=plt.subplots(1, 1, figsize=(14,6))\\nforest_importances.plot.bar(ax=ax)\\nax.set_title(\"Gini Importance\")\\nax.set_ylabel(\"Importance\")\\nfig.tight_layout()\\n'"
      ]
     },
     "execution_count": 36,
     "metadata": {},
     "output_type": "execute_result"
    }
   ],
   "source": [
    "\"\"\"\n",
    "importances = modelCBR2.feature_importances_\n",
    "forest_importances = pd.Series(importances, index=X.columns)\n",
    "\n",
    "fig, ax=plt.subplots(1, 1, figsize=(14,6))\n",
    "forest_importances.plot.bar(ax=ax)\n",
    "ax.set_title(\"Gini Importance\")\n",
    "ax.set_ylabel(\"Importance\")\n",
    "fig.tight_layout()\n",
    "\"\"\""
   ]
  },
  {
   "cell_type": "markdown",
   "id": "51f4f533",
   "metadata": {},
   "source": [
    "# Choose the best model for prediction for kaggle"
   ]
  },
  {
   "cell_type": "code",
   "execution_count": 49,
   "id": "3c8d7536",
   "metadata": {},
   "outputs": [],
   "source": [
    "kaggle_predicton = modelCBR.predict(X_Test) # Kaggle 1 score 0.29942 cat_6 hyper cat_5 log10"
   ]
  },
  {
   "cell_type": "markdown",
   "id": "a1f7efb1",
   "metadata": {},
   "source": [
    "# Submission of prediction to kaggle"
   ]
  },
  {
   "cell_type": "code",
   "execution_count": 54,
   "id": "58cd6efe",
   "metadata": {},
   "outputs": [
    {
     "data": {
      "text/html": [
       "<div>\n",
       "<style scoped>\n",
       "    .dataframe tbody tr th:only-of-type {\n",
       "        vertical-align: middle;\n",
       "    }\n",
       "\n",
       "    .dataframe tbody tr th {\n",
       "        vertical-align: top;\n",
       "    }\n",
       "\n",
       "    .dataframe thead th {\n",
       "        text-align: right;\n",
       "    }\n",
       "</style>\n",
       "<table border=\"1\" class=\"dataframe\">\n",
       "  <thead>\n",
       "    <tr style=\"text-align: right;\">\n",
       "      <th></th>\n",
       "      <th>id</th>\n",
       "      <th>price_prediction</th>\n",
       "    </tr>\n",
       "  </thead>\n",
       "  <tbody>\n",
       "    <tr>\n",
       "      <th>0</th>\n",
       "      <td>23285</td>\n",
       "      <td>1.577859e+07</td>\n",
       "    </tr>\n",
       "    <tr>\n",
       "      <th>1</th>\n",
       "      <td>23286</td>\n",
       "      <td>1.490948e+07</td>\n",
       "    </tr>\n",
       "    <tr>\n",
       "      <th>2</th>\n",
       "      <td>23287</td>\n",
       "      <td>6.797664e+06</td>\n",
       "    </tr>\n",
       "    <tr>\n",
       "      <th>3</th>\n",
       "      <td>23288</td>\n",
       "      <td>1.128458e+07</td>\n",
       "    </tr>\n",
       "    <tr>\n",
       "      <th>4</th>\n",
       "      <td>23289</td>\n",
       "      <td>6.427174e+06</td>\n",
       "    </tr>\n",
       "  </tbody>\n",
       "</table>\n",
       "</div>"
      ],
      "text/plain": [
       "      id  price_prediction\n",
       "0  23285      1.577859e+07\n",
       "1  23286      1.490948e+07\n",
       "2  23287      6.797664e+06\n",
       "3  23288      1.128458e+07\n",
       "4  23289      6.427174e+06"
      ]
     },
     "execution_count": 54,
     "metadata": {},
     "output_type": "execute_result"
    }
   ],
   "source": [
    "submission = pd.DataFrame(XTest[\"id\"])\n",
    "\n",
    "# If ln prices - revert:\n",
    "#submission[\"price_prediction\"] =  np.exp(kaggle_predicton)\n",
    "\n",
    "# If log10 prices - revert:\n",
    "#submission[\"price_prediction\"] = np.power(10, kaggle_predicton)\n",
    "\n",
    "# If ln prices also are normalized\n",
    "submission[\"price_prediction\"] = revert_ln(XTrain[\"price\"], kaggle_predicton)\n",
    "\n",
    "submission.to_csv(\"predictions_TUNED_CatBoost.csv\", index=False)\n",
    "\n",
    "# Grab generated file to sanity check values\n",
    "df = pd.read_csv(\"predictions_TUNED_CatBoost.csv\")\n",
    "df.shape\n",
    "df.head()"
   ]
  },
  {
   "cell_type": "code",
   "execution_count": 39,
   "id": "05dad765",
   "metadata": {},
   "outputs": [],
   "source": [
    "pri = XTrain[\"price\"].copy()"
   ]
  },
  {
   "cell_type": "code",
   "execution_count": 40,
   "id": "fad0f2bc",
   "metadata": {},
   "outputs": [
    {
     "data": {
      "text/plain": [
       "0     7139520.0\n",
       "1    10500000.0\n",
       "2     9019650.0\n",
       "3    10500000.0\n",
       "4    13900000.0\n",
       "Name: price, dtype: float64"
      ]
     },
     "execution_count": 40,
     "metadata": {},
     "output_type": "execute_result"
    }
   ],
   "source": [
    "pri.head()"
   ]
  },
  {
   "cell_type": "code",
   "execution_count": 41,
   "id": "bb50a514",
   "metadata": {},
   "outputs": [
    {
     "data": {
      "text/plain": [
       "0    15.781156\n",
       "1    16.166886\n",
       "2    16.014916\n",
       "3    16.166886\n",
       "4    16.447399\n",
       "Name: price, dtype: float64"
      ]
     },
     "execution_count": 41,
     "metadata": {},
     "output_type": "execute_result"
    }
   ],
   "source": [
    "pri_ln = np.log(pri)\n",
    "pri_ln.head()"
   ]
  },
  {
   "cell_type": "code",
   "execution_count": 42,
   "id": "dddbfc3d",
   "metadata": {},
   "outputs": [],
   "source": [
    "pri_ln_mean = pri_ln.mean()\n",
    "pri_ln_std = pri_ln.std()"
   ]
  },
  {
   "cell_type": "code",
   "execution_count": 44,
   "id": "5bf438a9",
   "metadata": {},
   "outputs": [
    {
     "data": {
      "text/plain": [
       "0    15.781156\n",
       "1    16.166886\n",
       "2    16.014916\n",
       "3    16.166886\n",
       "4    16.447399\n",
       "Name: price, dtype: float64"
      ]
     },
     "execution_count": 44,
     "metadata": {},
     "output_type": "execute_result"
    }
   ],
   "source": [
    "rev = pri_ln_mean + pri_ln_std * norm_features(pri_ln)\n",
    "rev.head()"
   ]
  },
  {
   "cell_type": "code",
   "execution_count": 45,
   "id": "86dd359b",
   "metadata": {},
   "outputs": [
    {
     "name": "stdout",
     "output_type": "stream",
     "text": [
      "0         7139520.0\n",
      "1        10500000.0\n",
      "2         9019650.0\n",
      "3        10500000.0\n",
      "4        13900000.0\n",
      "            ...    \n",
      "23280    13300000.0\n",
      "23281    15854300.0\n",
      "23282    19800000.0\n",
      "23283    29999000.0\n",
      "23284    10950000.0\n",
      "Name: price, Length: 23285, dtype: float64\n"
     ]
    }
   ],
   "source": [
    "print(np.exp(rev))"
   ]
  },
  {
   "cell_type": "code",
   "execution_count": null,
   "id": "5649c954",
   "metadata": {},
   "outputs": [],
   "source": []
  }
 ],
 "metadata": {
  "kernelspec": {
   "display_name": "Python 3 (ipykernel)",
   "language": "python",
   "name": "python3"
  },
  "language_info": {
   "codemirror_mode": {
    "name": "ipython",
    "version": 3
   },
   "file_extension": ".py",
   "mimetype": "text/x-python",
   "name": "python",
   "nbconvert_exporter": "python",
   "pygments_lexer": "ipython3",
   "version": "3.8.11"
  }
 },
 "nbformat": 4,
 "nbformat_minor": 5
}
