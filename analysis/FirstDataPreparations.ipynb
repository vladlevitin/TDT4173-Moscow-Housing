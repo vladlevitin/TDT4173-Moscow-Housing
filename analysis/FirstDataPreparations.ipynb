{
 "cells": [
  {
   "cell_type": "code",
   "execution_count": 1,
   "id": "205dc5ad",
   "metadata": {},
   "outputs": [],
   "source": [
    "import pandas as pd\n",
    "import numpy as np\n",
    "\n",
    "from functions.datacleaning import MoscowHousing as mh\n",
    "from functions.distance import get_distance_coordinates, norm_features, PCA_plot\n",
    "from functions.clean import DataClean as dc\n",
    "\n",
    "import matplotlib.pylab as plt\n",
    "import seaborn as sns\n",
    "plt.style.use('ggplot')"
   ]
  },
  {
   "cell_type": "code",
   "execution_count": 2,
   "id": "3d3d0347",
   "metadata": {},
   "outputs": [],
   "source": [
    "#df1 = pd.read_csv(\"../data/apartments_train.csv\")\n",
    "#df2 = pd.read_csv(\"../data/buildings_train.csv\")\n",
    "#df3 = pd.read_csv(\"../data/apartments_test.csv\")\n",
    "#df4 = pd.read_csv(\"../data/buildings_test.csv\")"
   ]
  },
  {
   "cell_type": "code",
   "execution_count": 3,
   "id": "d9be4e26",
   "metadata": {},
   "outputs": [],
   "source": [
    "#train_corr = pd.read_csv(\"../data/apartments_and_building_train.csv\")\n",
    "#test_corr  = pd.read_csv(\"../data/apartments_and_building_test.csv\")"
   ]
  },
  {
   "cell_type": "code",
   "execution_count": 4,
   "id": "c710cbc2",
   "metadata": {},
   "outputs": [],
   "source": [
    "#df4[df4[\"id\"] == 4202]"
   ]
  },
  {
   "cell_type": "code",
   "execution_count": 5,
   "id": "c8f74cbf",
   "metadata": {},
   "outputs": [],
   "source": [
    "#df3.shape"
   ]
  },
  {
   "cell_type": "code",
   "execution_count": 6,
   "id": "d847271e",
   "metadata": {},
   "outputs": [],
   "source": [
    "#test_corr.shape"
   ]
  },
  {
   "cell_type": "code",
   "execution_count": 7,
   "id": "067e3944",
   "metadata": {},
   "outputs": [
    {
     "name": "stderr",
     "output_type": "stream",
     "text": [
      "/Users/vanjafalck/MASTER_APPLIED/AI_Code/KAGGLE/kaggle/TDT4173-Moscow-Housing/analysis/functions/clean.py:368: FutureWarning: Dropping invalid columns in DataFrameGroupBy.transform is deprecated. In a future version, a TypeError will be raised. Before calling .transform, select only columns which should be valid for the transforming function.\n",
      "  self.X_train[\"area_kitchen\"] = self.X_train.groupby(\"building_id\"\n",
      "/Users/vanjafalck/MASTER_APPLIED/AI_Code/KAGGLE/kaggle/TDT4173-Moscow-Housing/analysis/functions/clean.py:372: FutureWarning: Dropping invalid columns in DataFrameGroupBy.transform is deprecated. In a future version, a TypeError will be raised. Before calling .transform, select only columns which should be valid for the transforming function.\n",
      "  self.X_test[\"area_kitchen\"] = self.X_test.groupby(\"building_id\"\n",
      "/Users/vanjafalck/MASTER_APPLIED/AI_Code/KAGGLE/kaggle/TDT4173-Moscow-Housing/analysis/functions/clean.py:372: FutureWarning: Dropping invalid columns in DataFrameGroupBy.transform is deprecated. In a future version, a TypeError will be raised. Before calling .transform, select only columns which should be valid for the transforming function.\n",
      "  self.X_test[\"area_kitchen\"] = self.X_test.groupby(\"building_id\"\n",
      "/Users/vanjafalck/MASTER_APPLIED/AI_Code/KAGGLE/kaggle/TDT4173-Moscow-Housing/analysis/functions/clean.py:378: FutureWarning: Dropping invalid columns in DataFrameGroupBy.transform is deprecated. In a future version, a TypeError will be raised. Before calling .transform, select only columns which should be valid for the transforming function.\n",
      "  self.X_train[\"area_kitchen\"] = self.X_train.groupby(\"district\"\n",
      "/Users/vanjafalck/MASTER_APPLIED/AI_Code/KAGGLE/kaggle/TDT4173-Moscow-Housing/analysis/functions/clean.py:383: FutureWarning: Dropping invalid columns in DataFrameGroupBy.transform is deprecated. In a future version, a TypeError will be raised. Before calling .transform, select only columns which should be valid for the transforming function.\n",
      "  self.X_test[\"area_kitchen\"] = self.X_test.groupby(\"district\"\n",
      "/Users/vanjafalck/MASTER_APPLIED/AI_Code/KAGGLE/kaggle/TDT4173-Moscow-Housing/analysis/functions/clean.py:389: FutureWarning: Dropping invalid columns in DataFrameGroupBy.transform is deprecated. In a future version, a TypeError will be raised. Before calling .transform, select only columns which should be valid for the transforming function.\n",
      "  self.X_train[\"area_living\"] = self.X_train.groupby(\"building_id\"\n",
      "/Users/vanjafalck/MASTER_APPLIED/AI_Code/KAGGLE/kaggle/TDT4173-Moscow-Housing/analysis/functions/clean.py:394: FutureWarning: Dropping invalid columns in DataFrameGroupBy.transform is deprecated. In a future version, a TypeError will be raised. Before calling .transform, select only columns which should be valid for the transforming function.\n",
      "  self.X_test[\"area_living\"] = self.X_test.groupby(\"building_id\"\n",
      "/Users/vanjafalck/MASTER_APPLIED/AI_Code/KAGGLE/kaggle/TDT4173-Moscow-Housing/analysis/functions/clean.py:394: FutureWarning: Dropping invalid columns in DataFrameGroupBy.transform is deprecated. In a future version, a TypeError will be raised. Before calling .transform, select only columns which should be valid for the transforming function.\n",
      "  self.X_test[\"area_living\"] = self.X_test.groupby(\"building_id\"\n",
      "/Users/vanjafalck/MASTER_APPLIED/AI_Code/KAGGLE/kaggle/TDT4173-Moscow-Housing/analysis/functions/clean.py:400: FutureWarning: Dropping invalid columns in DataFrameGroupBy.transform is deprecated. In a future version, a TypeError will be raised. Before calling .transform, select only columns which should be valid for the transforming function.\n",
      "  self.X_train[\"area_living\"] = self.X_train.groupby(\"district\"\n",
      "/Users/vanjafalck/MASTER_APPLIED/AI_Code/KAGGLE/kaggle/TDT4173-Moscow-Housing/analysis/functions/clean.py:405: FutureWarning: Dropping invalid columns in DataFrameGroupBy.transform is deprecated. In a future version, a TypeError will be raised. Before calling .transform, select only columns which should be valid for the transforming function.\n",
      "  self.X_test[\"area_living\"] = self.X_test.groupby(\"district\"\n"
     ]
    }
   ],
   "source": [
    "data = dc()"
   ]
  },
  {
   "cell_type": "code",
   "execution_count": 8,
   "id": "126f800e",
   "metadata": {},
   "outputs": [],
   "source": [
    "X_train, y_train = data.get_data_train()"
   ]
  },
  {
   "cell_type": "code",
   "execution_count": 9,
   "id": "257ceb2a",
   "metadata": {},
   "outputs": [],
   "source": [
    "X_test = data.get_data_test()"
   ]
  },
  {
   "cell_type": "markdown",
   "id": "445de81b",
   "metadata": {},
   "source": [
    "# Output Data Cateory 1"
   ]
  },
  {
   "cell_type": "raw",
   "id": "68de356b",
   "metadata": {},
   "source": [
    "Category 1 data preparation:\n",
    "\n",
    "All complete variable (default) ---> manually added for complete district, lat and long\n",
    "Ceiling ---------------------------> missing = mean value\n",
    "\n",
    "Cluster:\n",
    "  seller\n",
    "  layout\n",
    "  condition\n",
    "  new\n",
    "  material\n",
    "  garbage_chute\n",
    "  gheating ---------------------------> one-hot-encoded - removed original (kept nan)\n",
    "  \n",
    "Cluster:\n",
    "  elevator_ ... \n",
    "          Combined ------------> one-hot-encoded - combined to yes _no (not kept nan)\n",
    "\n",
    "Features with nans not touched in this dataset:\n",
    "area_kitchen\n",
    "area_living\n",
    "bathrooms_shared\n",
    "bathrooms_private\n",
    "windows_court\n",
    "windows_street\n",
    "balconies\n",
    "loggias\n",
    "phones\n",
    "constructed\n",
    "parking"
   ]
  },
  {
   "cell_type": "markdown",
   "id": "0053400a",
   "metadata": {},
   "source": [
    "# Output Data Category 2"
   ]
  },
  {
   "cell_type": "raw",
   "id": "0537b6ed",
   "metadata": {},
   "source": [
    "Category 2 data preparation:\n",
    "\n",
    "All complete variable (default) ---> manually added for complete district, lat and long\n",
    "Ceiling ---------------------------> missing = mean value\n",
    "Cluster:\n",
    "  seller\n",
    "  layout\n",
    "  condition\n",
    "  new\n",
    "  material\n",
    "  garbage_chute\n",
    "  heating\n",
    "  bathrooms_shared\n",
    "  bathrooms_private\n",
    "  windows_court\n",
    "  windows_street\n",
    "  balconies\n",
    "  loggias\n",
    "  phones\n",
    "  parking ---------------------------> one-hot-encoded - removed original (kept nan)\n",
    "Cluster:\n",
    "  elevator_ ... \n",
    "       Combined --------------> one-hot-encoded - combined to yes _no (not kept nan)\n",
    "\n",
    "Features not touched in this dataset:\n",
    "area_kitchen\n",
    "area_living\n",
    "constructed"
   ]
  },
  {
   "cell_type": "markdown",
   "id": "14f084fc",
   "metadata": {},
   "source": [
    "# Output Data Cateory 3"
   ]
  },
  {
   "cell_type": "raw",
   "id": "172ebac7",
   "metadata": {},
   "source": [
    "Category 3 data preparation:\n",
    "\n",
    "All complete variable (default) ---> manually added for complete district, lat and long\n",
    "Ceiling ---------------------------> missing = mean value\n",
    "\n",
    "Cluster:\n",
    "  seller\n",
    "  layout\n",
    "  condition\n",
    "  new\n",
    "  material\n",
    "  garbage_chute\n",
    "  heating\n",
    "  bathrooms_shared\n",
    "  bathrooms_private\n",
    "  windows_court\n",
    "  windows_street\n",
    "  balconies\n",
    "  loggias\n",
    "  phones\n",
    "  parking -----------> one-hot-encoded - removed original (kept nan)\n",
    "  \n",
    "Cluster:\n",
    "  elevator_ ... \n",
    "       Combined -----> one-hot-encoded - combined to yes _no (not kept nan)\n",
    "       \n",
    "Imputed:\n",
    "  area_kitchen\n",
    "  area_living -------> replaced nans with median() first \"building_id\" then \"district\"\n",
    "  \n",
    "Features not touched in this dataset:\n",
    "constructed\n",
    "\n",
    "Added:\n",
    "  distance ----------> distance to center\n",
    "  distance_metro ----> distance to closest metro station"
   ]
  },
  {
   "cell_type": "markdown",
   "id": "afc8b555",
   "metadata": {},
   "source": [
    "# Output Data Category 4"
   ]
  },
  {
   "cell_type": "raw",
   "id": "2ce21d81",
   "metadata": {},
   "source": [
    "Category 4 data preparation:\n",
    "\n",
    "All complete variable (default) ---> manually added for complete district, lat and long\n",
    "Ceiling ---------------------------> missing = mean value\n",
    "\n",
    "Cluster:\n",
    "  seller\n",
    "  layout\n",
    "  condition\n",
    "  new\n",
    "  material\n",
    "  garbage_chute\n",
    "  heating\n",
    "  bathrooms_shared\n",
    "  bathrooms_private\n",
    "  windows_court\n",
    "  windows_street\n",
    "  balconies\n",
    "  loggias\n",
    "  phones\n",
    "  parking -----------> one-hot-encoded - removed original (kept nan)\n",
    "  \n",
    "Imputed:\n",
    "  area_kitchen ------>\n",
    "  area_living -------> replaced nans with median() first \"building_id\" then \"district\"\n",
    "  constructed -------> iterative imputer\n",
    "  elevator ----------> one-hot-encoded - combined to yes _no (not kept nan)\n",
    "  \n",
    "Cluster:\n",
    "  elevator_ ... \n",
    "       Combined -----> one-hot-encoded - combined to yes _no (not kept nan)\n",
    "\n",
    "Added:\n",
    "  distance ----------> distance to center\n",
    "  distance_metro ----> distance to closest metro station\n",
    "  park --------------> distance to closest park\n",
    "  university --------> distance to...\n",
    "  airport -----------> distance to...\n",
    "  golf_court --------> distance to...\n",
    "  prison ------------> distance to..."
   ]
  },
  {
   "cell_type": "code",
   "execution_count": 10,
   "id": "5c5cf262",
   "metadata": {},
   "outputs": [],
   "source": [
    "# Write data to files\n",
    "X_train.to_csv(\"train_prepared_category_4.csv\")\n",
    "X_test.to_csv(\"test_prepared_category_4.csv\")"
   ]
  },
  {
   "cell_type": "code",
   "execution_count": 11,
   "id": "f7d69bc4",
   "metadata": {},
   "outputs": [],
   "source": [
    "#X_train.info()"
   ]
  },
  {
   "cell_type": "code",
   "execution_count": 12,
   "id": "a78c12e1",
   "metadata": {},
   "outputs": [],
   "source": [
    "#X_test.info()"
   ]
  },
  {
   "cell_type": "markdown",
   "id": "e5a47437",
   "metadata": {},
   "source": [
    "# Data Explorations"
   ]
  },
  {
   "cell_type": "code",
   "execution_count": 13,
   "id": "7a3feff3",
   "metadata": {},
   "outputs": [
    {
     "data": {
      "text/html": [
       "<div>\n",
       "<style scoped>\n",
       "    .dataframe tbody tr th:only-of-type {\n",
       "        vertical-align: middle;\n",
       "    }\n",
       "\n",
       "    .dataframe tbody tr th {\n",
       "        vertical-align: top;\n",
       "    }\n",
       "\n",
       "    .dataframe thead th {\n",
       "        text-align: right;\n",
       "    }\n",
       "</style>\n",
       "<table border=\"1\" class=\"dataframe\">\n",
       "  <thead>\n",
       "    <tr style=\"text-align: right;\">\n",
       "      <th></th>\n",
       "      <th>id</th>\n",
       "      <th>area_total</th>\n",
       "      <th>area_kitchen</th>\n",
       "      <th>area_living</th>\n",
       "      <th>floor</th>\n",
       "      <th>rooms</th>\n",
       "      <th>ceiling</th>\n",
       "      <th>building_id</th>\n",
       "      <th>latitude</th>\n",
       "      <th>longitude</th>\n",
       "      <th>...</th>\n",
       "      <th>phones_0.0</th>\n",
       "      <th>phones_1.0</th>\n",
       "      <th>phones_2.0</th>\n",
       "      <th>phones_nan</th>\n",
       "      <th>parking_0.0</th>\n",
       "      <th>parking_1.0</th>\n",
       "      <th>parking_2.0</th>\n",
       "      <th>parking_nan</th>\n",
       "      <th>elevator</th>\n",
       "      <th>elevator_no</th>\n",
       "    </tr>\n",
       "  </thead>\n",
       "  <tbody>\n",
       "    <tr>\n",
       "      <th>0</th>\n",
       "      <td>23285</td>\n",
       "      <td>-0.066435</td>\n",
       "      <td>0.047269</td>\n",
       "      <td>-0.037728</td>\n",
       "      <td>2.0</td>\n",
       "      <td>1.0</td>\n",
       "      <td>0.000000</td>\n",
       "      <td>5148</td>\n",
       "      <td>55.817557</td>\n",
       "      <td>37.732359</td>\n",
       "      <td>...</td>\n",
       "      <td>0</td>\n",
       "      <td>1</td>\n",
       "      <td>0</td>\n",
       "      <td>0</td>\n",
       "      <td>0</td>\n",
       "      <td>0</td>\n",
       "      <td>0</td>\n",
       "      <td>1</td>\n",
       "      <td>1</td>\n",
       "      <td>1</td>\n",
       "    </tr>\n",
       "    <tr>\n",
       "      <th>12</th>\n",
       "      <td>23286</td>\n",
       "      <td>-0.375168</td>\n",
       "      <td>-1.290326</td>\n",
       "      <td>0.316772</td>\n",
       "      <td>4.0</td>\n",
       "      <td>1.0</td>\n",
       "      <td>-0.045610</td>\n",
       "      <td>1290</td>\n",
       "      <td>55.762728</td>\n",
       "      <td>37.743867</td>\n",
       "      <td>...</td>\n",
       "      <td>0</td>\n",
       "      <td>1</td>\n",
       "      <td>0</td>\n",
       "      <td>0</td>\n",
       "      <td>1</td>\n",
       "      <td>0</td>\n",
       "      <td>0</td>\n",
       "      <td>0</td>\n",
       "      <td>1</td>\n",
       "      <td>0</td>\n",
       "    </tr>\n",
       "    <tr>\n",
       "      <th>15</th>\n",
       "      <td>23287</td>\n",
       "      <td>-0.634220</td>\n",
       "      <td>0.977770</td>\n",
       "      <td>-0.853834</td>\n",
       "      <td>10.0</td>\n",
       "      <td>1.0</td>\n",
       "      <td>-0.067601</td>\n",
       "      <td>681</td>\n",
       "      <td>55.869809</td>\n",
       "      <td>37.713845</td>\n",
       "      <td>...</td>\n",
       "      <td>0</td>\n",
       "      <td>1</td>\n",
       "      <td>0</td>\n",
       "      <td>0</td>\n",
       "      <td>0</td>\n",
       "      <td>1</td>\n",
       "      <td>0</td>\n",
       "      <td>0</td>\n",
       "      <td>1</td>\n",
       "      <td>0</td>\n",
       "    </tr>\n",
       "    <tr>\n",
       "      <th>76</th>\n",
       "      <td>23288</td>\n",
       "      <td>-0.252739</td>\n",
       "      <td>-0.563372</td>\n",
       "      <td>-0.648676</td>\n",
       "      <td>5.0</td>\n",
       "      <td>2.0</td>\n",
       "      <td>0.000000</td>\n",
       "      <td>4261</td>\n",
       "      <td>55.825431</td>\n",
       "      <td>37.624175</td>\n",
       "      <td>...</td>\n",
       "      <td>0</td>\n",
       "      <td>1</td>\n",
       "      <td>0</td>\n",
       "      <td>0</td>\n",
       "      <td>0</td>\n",
       "      <td>0</td>\n",
       "      <td>0</td>\n",
       "      <td>1</td>\n",
       "      <td>1</td>\n",
       "      <td>1</td>\n",
       "    </tr>\n",
       "    <tr>\n",
       "      <th>78</th>\n",
       "      <td>23289</td>\n",
       "      <td>-0.730034</td>\n",
       "      <td>-0.563372</td>\n",
       "      <td>-0.678846</td>\n",
       "      <td>14.0</td>\n",
       "      <td>1.0</td>\n",
       "      <td>-0.061318</td>\n",
       "      <td>7530</td>\n",
       "      <td>55.741384</td>\n",
       "      <td>37.592734</td>\n",
       "      <td>...</td>\n",
       "      <td>0</td>\n",
       "      <td>1</td>\n",
       "      <td>0</td>\n",
       "      <td>0</td>\n",
       "      <td>0</td>\n",
       "      <td>0</td>\n",
       "      <td>0</td>\n",
       "      <td>1</td>\n",
       "      <td>1</td>\n",
       "      <td>0</td>\n",
       "    </tr>\n",
       "  </tbody>\n",
       "</table>\n",
       "<p>5 rows × 95 columns</p>\n",
       "</div>"
      ],
      "text/plain": [
       "       id  area_total  area_kitchen  area_living  floor  rooms   ceiling  \\\n",
       "0   23285   -0.066435      0.047269    -0.037728    2.0    1.0  0.000000   \n",
       "12  23286   -0.375168     -1.290326     0.316772    4.0    1.0 -0.045610   \n",
       "15  23287   -0.634220      0.977770    -0.853834   10.0    1.0 -0.067601   \n",
       "76  23288   -0.252739     -0.563372    -0.648676    5.0    2.0  0.000000   \n",
       "78  23289   -0.730034     -0.563372    -0.678846   14.0    1.0 -0.061318   \n",
       "\n",
       "    building_id   latitude  longitude  ...  phones_0.0 phones_1.0 phones_2.0  \\\n",
       "0          5148  55.817557  37.732359  ...           0          1          0   \n",
       "12         1290  55.762728  37.743867  ...           0          1          0   \n",
       "15          681  55.869809  37.713845  ...           0          1          0   \n",
       "76         4261  55.825431  37.624175  ...           0          1          0   \n",
       "78         7530  55.741384  37.592734  ...           0          1          0   \n",
       "\n",
       "    phones_nan  parking_0.0  parking_1.0  parking_2.0  parking_nan  elevator  \\\n",
       "0            0            0            0            0            1         1   \n",
       "12           0            1            0            0            0         1   \n",
       "15           0            0            1            0            0         1   \n",
       "76           0            0            0            0            1         1   \n",
       "78           0            0            0            0            1         1   \n",
       "\n",
       "    elevator_no  \n",
       "0             1  \n",
       "12            0  \n",
       "15            0  \n",
       "76            1  \n",
       "78            0  \n",
       "\n",
       "[5 rows x 95 columns]"
      ]
     },
     "execution_count": 13,
     "metadata": {},
     "output_type": "execute_result"
    }
   ],
   "source": [
    "X_test.head()"
   ]
  },
  {
   "cell_type": "code",
   "execution_count": 14,
   "id": "4ce6884d",
   "metadata": {},
   "outputs": [
    {
     "name": "stdout",
     "output_type": "stream",
     "text": [
      "<class 'pandas.core.frame.DataFrame'>\n",
      "Int64Index: 23285 entries, 0 to 20507\n",
      "Data columns (total 96 columns):\n",
      " #   Column                 Non-Null Count  Dtype  \n",
      "---  ------                 --------------  -----  \n",
      " 0   id                     23285 non-null  int64  \n",
      " 1   price                  23285 non-null  float64\n",
      " 2   area_total             23285 non-null  float64\n",
      " 3   area_kitchen           23285 non-null  float64\n",
      " 4   area_living            23285 non-null  float64\n",
      " 5   floor                  23285 non-null  float64\n",
      " 6   rooms                  23285 non-null  float64\n",
      " 7   ceiling                23285 non-null  float64\n",
      " 8   building_id            23285 non-null  int64  \n",
      " 9   latitude               23285 non-null  float64\n",
      " 10  longitude              23285 non-null  float64\n",
      " 11  district               23285 non-null  int64  \n",
      " 12  street                 23285 non-null  object \n",
      " 13  address                23285 non-null  object \n",
      " 14  constructed            23285 non-null  float64\n",
      " 15  stories                23285 non-null  float64\n",
      " 16  distance               23285 non-null  float64\n",
      " 17  distance_metro         23285 non-null  float64\n",
      " 18  park                   23285 non-null  float64\n",
      " 19  golf                   23285 non-null  float64\n",
      " 20  airport                23285 non-null  float64\n",
      " 21  university             23285 non-null  float64\n",
      " 22  shopping               23285 non-null  float64\n",
      " 23  seller_0.0             23285 non-null  uint8  \n",
      " 24  seller_1.0             23285 non-null  uint8  \n",
      " 25  seller_2.0             23285 non-null  uint8  \n",
      " 26  seller_3.0             23285 non-null  uint8  \n",
      " 27  seller_nan             23285 non-null  uint8  \n",
      " 28  layout_0.0             23285 non-null  uint8  \n",
      " 29  layout_1.0             23285 non-null  uint8  \n",
      " 30  layout_2.0             23285 non-null  uint8  \n",
      " 31  layout_nan             23285 non-null  uint8  \n",
      " 32  condition_0.0          23285 non-null  uint8  \n",
      " 33  condition_1.0          23285 non-null  uint8  \n",
      " 34  condition_2.0          23285 non-null  uint8  \n",
      " 35  condition_3.0          23285 non-null  uint8  \n",
      " 36  condition_nan          23285 non-null  uint8  \n",
      " 37  new_0.0                23285 non-null  uint8  \n",
      " 38  new_1.0                23285 non-null  uint8  \n",
      " 39  new_nan                23285 non-null  uint8  \n",
      " 40  material_0.0           23285 non-null  uint8  \n",
      " 41  material_1.0           23285 non-null  uint8  \n",
      " 42  material_2.0           23285 non-null  uint8  \n",
      " 43  material_3.0           23285 non-null  uint8  \n",
      " 44  material_4.0           23285 non-null  uint8  \n",
      " 45  material_5.0           23285 non-null  uint8  \n",
      " 46  material_6.0           23285 non-null  uint8  \n",
      " 47  material_nan           23285 non-null  uint8  \n",
      " 48  garbage_chute_0.0      23285 non-null  uint8  \n",
      " 49  garbage_chute_1.0      23285 non-null  uint8  \n",
      " 50  garbage_chute_nan      23285 non-null  uint8  \n",
      " 51  heating_0.0            23285 non-null  uint8  \n",
      " 52  heating_1.0            23285 non-null  uint8  \n",
      " 53  heating_2.0            23285 non-null  uint8  \n",
      " 54  heating_3.0            23285 non-null  uint8  \n",
      " 55  heating_nan            23285 non-null  uint8  \n",
      " 56  bathrooms_shared_0.0   23285 non-null  uint8  \n",
      " 57  bathrooms_shared_1.0   23285 non-null  uint8  \n",
      " 58  bathrooms_shared_2.0   23285 non-null  uint8  \n",
      " 59  bathrooms_shared_3.0   23285 non-null  uint8  \n",
      " 60  bathrooms_shared_4.0   23285 non-null  uint8  \n",
      " 61  bathrooms_shared_nan   23285 non-null  uint8  \n",
      " 62  bathrooms_private_0.0  23285 non-null  uint8  \n",
      " 63  bathrooms_private_1.0  23285 non-null  uint8  \n",
      " 64  bathrooms_private_2.0  23285 non-null  uint8  \n",
      " 65  bathrooms_private_3.0  23285 non-null  uint8  \n",
      " 66  bathrooms_private_4.0  23285 non-null  uint8  \n",
      " 67  bathrooms_private_nan  23285 non-null  uint8  \n",
      " 68  windows_court_0.0      23285 non-null  uint8  \n",
      " 69  windows_court_1.0      23285 non-null  uint8  \n",
      " 70  windows_court_nan      23285 non-null  uint8  \n",
      " 71  windows_street_0.0     23285 non-null  uint8  \n",
      " 72  windows_street_1.0     23285 non-null  uint8  \n",
      " 73  windows_street_nan     23285 non-null  uint8  \n",
      " 74  balconies_0.0          23285 non-null  uint8  \n",
      " 75  balconies_1.0          23285 non-null  uint8  \n",
      " 76  balconies_2.0          23285 non-null  uint8  \n",
      " 77  balconies_3.0          23285 non-null  uint8  \n",
      " 78  balconies_4.0          23285 non-null  uint8  \n",
      " 79  balconies_nan          23285 non-null  uint8  \n",
      " 80  loggias_0.0            23285 non-null  uint8  \n",
      " 81  loggias_1.0            23285 non-null  uint8  \n",
      " 82  loggias_2.0            23285 non-null  uint8  \n",
      " 83  loggias_3.0            23285 non-null  uint8  \n",
      " 84  loggias_4.0            23285 non-null  uint8  \n",
      " 85  loggias_nan            23285 non-null  uint8  \n",
      " 86  phones_0.0             23285 non-null  uint8  \n",
      " 87  phones_1.0             23285 non-null  uint8  \n",
      " 88  phones_2.0             23285 non-null  uint8  \n",
      " 89  phones_nan             23285 non-null  uint8  \n",
      " 90  parking_0.0            23285 non-null  uint8  \n",
      " 91  parking_1.0            23285 non-null  uint8  \n",
      " 92  parking_2.0            23285 non-null  uint8  \n",
      " 93  parking_nan            23285 non-null  uint8  \n",
      " 94  elevator               23285 non-null  int8   \n",
      " 95  elevator_no            23285 non-null  int8   \n",
      "dtypes: float64(18), int64(3), int8(2), object(2), uint8(71)\n",
      "memory usage: 5.9+ MB\n"
     ]
    }
   ],
   "source": [
    "X_train.info()"
   ]
  },
  {
   "cell_type": "code",
   "execution_count": 15,
   "id": "171bfff7",
   "metadata": {},
   "outputs": [
    {
     "name": "stderr",
     "output_type": "stream",
     "text": [
      "/Users/vanjafalck/opt/anaconda3/envs/Statistics/lib/python3.8/site-packages/seaborn/_decorators.py:36: FutureWarning: Pass the following variable as a keyword arg: x. From version 0.12, the only valid positional argument will be `data`, and passing other arguments without an explicit keyword will result in an error or misinterpretation.\n",
      "  warnings.warn(\n"
     ]
    },
    {
     "data": {
      "image/png": "[encoded data removed]",
      "text/plain": [
       "<Figure size 864x432 with 2 Axes>"
      ]
     },
     "metadata": {},
     "output_type": "display_data"
    }
   ],
   "source": [
    "f, ax = plt.subplots(1, 2, figsize=(12,6))\n",
    "X_train['elevator'].value_counts().plot.pie(explode=[0,0.1],autopct='%1.1f%%',ax=ax[0],shadow=False)\n",
    "ax[0].set_title('elevator')\n",
    "ax[0].set_ylabel('')\n",
    "sns.countplot('elevator',data=X_train,ax=ax[1])\n",
    "ax[1].set_title('elevator')\n",
    "plt.show()"
   ]
  },
  {
   "cell_type": "code",
   "execution_count": 16,
   "id": "047feffb",
   "metadata": {},
   "outputs": [
    {
     "name": "stderr",
     "output_type": "stream",
     "text": [
      "/Users/vanjafalck/opt/anaconda3/envs/Statistics/lib/python3.8/site-packages/seaborn/_decorators.py:36: FutureWarning: Pass the following variable as a keyword arg: x. From version 0.12, the only valid positional argument will be `data`, and passing other arguments without an explicit keyword will result in an error or misinterpretation.\n",
      "  warnings.warn(\n"
     ]
    },
    {
     "data": {
      "image/png": "[encoded data removed]",
      "text/plain": [
       "<Figure size 864x432 with 2 Axes>"
      ]
     },
     "metadata": {},
     "output_type": "display_data"
    }
   ],
   "source": [
    "f, ax = plt.subplots(1, 2, figsize=(12,6))\n",
    "X_train['elevator_no'].value_counts().plot.pie(explode=[0,0.1],autopct='%1.1f%%',ax=ax[0],shadow=False)\n",
    "ax[0].set_title('elevator_no')\n",
    "ax[0].set_ylabel('')\n",
    "sns.countplot('elevator_no',data=X_train,ax=ax[1])\n",
    "ax[1].set_title('elevator_no')\n",
    "plt.show()"
   ]
  },
  {
   "cell_type": "code",
   "execution_count": 17,
   "id": "77248dbd",
   "metadata": {},
   "outputs": [
    {
     "name": "stderr",
     "output_type": "stream",
     "text": [
      "/Users/vanjafalck/opt/anaconda3/envs/Statistics/lib/python3.8/site-packages/seaborn/_decorators.py:36: FutureWarning: Pass the following variable as a keyword arg: x. From version 0.12, the only valid positional argument will be `data`, and passing other arguments without an explicit keyword will result in an error or misinterpretation.\n",
      "  warnings.warn(\n"
     ]
    },
    {
     "data": {
      "image/png": "[encoded data removed]",
      "text/plain": [
       "<Figure size 864x432 with 2 Axes>"
      ]
     },
     "metadata": {},
     "output_type": "display_data"
    }
   ],
   "source": [
    "f, ax = plt.subplots(1, 2, figsize=(12,6))\n",
    "X_train['new_0.0'].value_counts().plot.pie(explode=[0,0.1],autopct='%1.1f%%',ax=ax[0],shadow=False)\n",
    "ax[0].set_title('new_0.0')\n",
    "ax[0].set_ylabel('')\n",
    "sns.countplot('new_0.0',data=X_train,ax=ax[1])\n",
    "ax[1].set_title('new_0.0')\n",
    "plt.show()"
   ]
  },
  {
   "cell_type": "code",
   "execution_count": 18,
   "id": "744eedd5",
   "metadata": {},
   "outputs": [
    {
     "data": {
      "text/plain": [
       "stories  elevator\n",
       "1.0      0             1\n",
       "2.0      0            16\n",
       "         1             2\n",
       "3.0      0           240\n",
       "         1            23\n",
       "                    ... \n",
       "63.0     1           112\n",
       "73.0     1            80\n",
       "75.0     1             2\n",
       "85.0     1            22\n",
       "95.0     1            40\n",
       "Name: elevator, Length: 96, dtype: int64"
      ]
     },
     "execution_count": 18,
     "metadata": {},
     "output_type": "execute_result"
    }
   ],
   "source": [
    "X_train.groupby(['stories','elevator'])['elevator'].count()"
   ]
  },
  {
   "cell_type": "code",
   "execution_count": 19,
   "id": "d1a20dc7",
   "metadata": {},
   "outputs": [
    {
     "name": "stderr",
     "output_type": "stream",
     "text": [
      "/Users/vanjafalck/opt/anaconda3/envs/Statistics/lib/python3.8/site-packages/seaborn/_decorators.py:36: FutureWarning: Pass the following variable as a keyword arg: x. From version 0.12, the only valid positional argument will be `data`, and passing other arguments without an explicit keyword will result in an error or misinterpretation.\n",
      "  warnings.warn(\n"
     ]
    },
    {
     "data": {
      "image/png": "[encoded data removed]",
      "text/plain": [
       "<Figure size 864x432 with 2 Axes>"
      ]
     },
     "metadata": {},
     "output_type": "display_data"
    }
   ],
   "source": [
    "f,ax=plt.subplots(1, 2, figsize=(12,6))\n",
    "X_train[['district','stories']].groupby(['district']).mean().plot.bar(ax=ax[0])\n",
    "ax[0].set_title('district vs stories')\n",
    "sns.boxplot('district', hue='stories', data=X_train, ax=ax[1])\n",
    "ax[1].set_title('Stories:District')\n",
    "plt.show()"
   ]
  },
  {
   "cell_type": "code",
   "execution_count": 20,
   "id": "786bf259",
   "metadata": {},
   "outputs": [
    {
     "data": {
      "text/html": [
       "<div>\n",
       "<style scoped>\n",
       "    .dataframe tbody tr th:only-of-type {\n",
       "        vertical-align: middle;\n",
       "    }\n",
       "\n",
       "    .dataframe tbody tr th {\n",
       "        vertical-align: top;\n",
       "    }\n",
       "\n",
       "    .dataframe thead th {\n",
       "        text-align: right;\n",
       "    }\n",
       "</style>\n",
       "<table border=\"1\" class=\"dataframe\">\n",
       "  <thead>\n",
       "    <tr style=\"text-align: right;\">\n",
       "      <th>district</th>\n",
       "      <th>0</th>\n",
       "      <th>1</th>\n",
       "      <th>2</th>\n",
       "      <th>3</th>\n",
       "      <th>4</th>\n",
       "      <th>5</th>\n",
       "      <th>6</th>\n",
       "      <th>7</th>\n",
       "      <th>8</th>\n",
       "      <th>9</th>\n",
       "      <th>10</th>\n",
       "      <th>11</th>\n",
       "    </tr>\n",
       "    <tr>\n",
       "      <th>new_1.0</th>\n",
       "      <th></th>\n",
       "      <th></th>\n",
       "      <th></th>\n",
       "      <th></th>\n",
       "      <th></th>\n",
       "      <th></th>\n",
       "      <th></th>\n",
       "      <th></th>\n",
       "      <th></th>\n",
       "      <th></th>\n",
       "      <th></th>\n",
       "      <th></th>\n",
       "    </tr>\n",
       "  </thead>\n",
       "  <tbody>\n",
       "    <tr>\n",
       "      <th>0</th>\n",
       "      <td>1758</td>\n",
       "      <td>1488</td>\n",
       "      <td>1260</td>\n",
       "      <td>1436</td>\n",
       "      <td>1812</td>\n",
       "      <td>1455</td>\n",
       "      <td>1572</td>\n",
       "      <td>1719</td>\n",
       "      <td>1401</td>\n",
       "      <td>125</td>\n",
       "      <td>200</td>\n",
       "      <td>1285</td>\n",
       "    </tr>\n",
       "    <tr>\n",
       "      <th>1</th>\n",
       "      <td>668</td>\n",
       "      <td>917</td>\n",
       "      <td>724</td>\n",
       "      <td>789</td>\n",
       "      <td>680</td>\n",
       "      <td>849</td>\n",
       "      <td>875</td>\n",
       "      <td>670</td>\n",
       "      <td>806</td>\n",
       "      <td>138</td>\n",
       "      <td>124</td>\n",
       "      <td>534</td>\n",
       "    </tr>\n",
       "  </tbody>\n",
       "</table>\n",
       "</div>"
      ],
      "text/plain": [
       "district    0     1     2     3     4     5     6     7     8    9    10    11\n",
       "new_1.0                                                                       \n",
       "0         1758  1488  1260  1436  1812  1455  1572  1719  1401  125  200  1285\n",
       "1          668   917   724   789   680   849   875   670   806  138  124   534"
      ]
     },
     "execution_count": 20,
     "metadata": {},
     "output_type": "execute_result"
    }
   ],
   "source": [
    "pd.crosstab(X_train['district'], X_train['new_1.0']).T"
   ]
  },
  {
   "cell_type": "code",
   "execution_count": 21,
   "id": "8efa839c",
   "metadata": {},
   "outputs": [
    {
     "data": {
      "text/html": [
       "<div>\n",
       "<style scoped>\n",
       "    .dataframe tbody tr th:only-of-type {\n",
       "        vertical-align: middle;\n",
       "    }\n",
       "\n",
       "    .dataframe tbody tr th {\n",
       "        vertical-align: top;\n",
       "    }\n",
       "\n",
       "    .dataframe thead th {\n",
       "        text-align: right;\n",
       "    }\n",
       "</style>\n",
       "<table border=\"1\" class=\"dataframe\">\n",
       "  <thead>\n",
       "    <tr style=\"text-align: right;\">\n",
       "      <th>district</th>\n",
       "      <th>0</th>\n",
       "      <th>1</th>\n",
       "      <th>2</th>\n",
       "      <th>3</th>\n",
       "      <th>4</th>\n",
       "      <th>5</th>\n",
       "      <th>6</th>\n",
       "      <th>7</th>\n",
       "      <th>8</th>\n",
       "      <th>9</th>\n",
       "      <th>10</th>\n",
       "      <th>11</th>\n",
       "    </tr>\n",
       "    <tr>\n",
       "      <th>new_1.0</th>\n",
       "      <th></th>\n",
       "      <th></th>\n",
       "      <th></th>\n",
       "      <th></th>\n",
       "      <th></th>\n",
       "      <th></th>\n",
       "      <th></th>\n",
       "      <th></th>\n",
       "      <th></th>\n",
       "      <th></th>\n",
       "      <th></th>\n",
       "      <th></th>\n",
       "    </tr>\n",
       "  </thead>\n",
       "  <tbody>\n",
       "    <tr>\n",
       "      <th>0</th>\n",
       "      <td>787</td>\n",
       "      <td>566</td>\n",
       "      <td>720</td>\n",
       "      <td>698</td>\n",
       "      <td>755</td>\n",
       "      <td>641</td>\n",
       "      <td>844</td>\n",
       "      <td>693</td>\n",
       "      <td>679</td>\n",
       "      <td>96</td>\n",
       "      <td>70</td>\n",
       "      <td>415</td>\n",
       "    </tr>\n",
       "    <tr>\n",
       "      <th>1</th>\n",
       "      <td>230</td>\n",
       "      <td>259</td>\n",
       "      <td>195</td>\n",
       "      <td>296</td>\n",
       "      <td>313</td>\n",
       "      <td>363</td>\n",
       "      <td>347</td>\n",
       "      <td>421</td>\n",
       "      <td>239</td>\n",
       "      <td>71</td>\n",
       "      <td>45</td>\n",
       "      <td>194</td>\n",
       "    </tr>\n",
       "  </tbody>\n",
       "</table>\n",
       "</div>"
      ],
      "text/plain": [
       "district   0    1    2    3    4    5    6    7    8   9   10   11\n",
       "new_1.0                                                           \n",
       "0         787  566  720  698  755  641  844  693  679  96  70  415\n",
       "1         230  259  195  296  313  363  347  421  239  71  45  194"
      ]
     },
     "execution_count": 21,
     "metadata": {},
     "output_type": "execute_result"
    }
   ],
   "source": [
    "pd.crosstab(X_test['district'], X_test['new_1.0']).T"
   ]
  },
  {
   "cell_type": "code",
   "execution_count": 22,
   "id": "c7c0f014",
   "metadata": {},
   "outputs": [
    {
     "data": {
      "text/html": [
       "<div>\n",
       "<style scoped>\n",
       "    .dataframe tbody tr th:only-of-type {\n",
       "        vertical-align: middle;\n",
       "    }\n",
       "\n",
       "    .dataframe tbody tr th {\n",
       "        vertical-align: top;\n",
       "    }\n",
       "\n",
       "    .dataframe thead th {\n",
       "        text-align: right;\n",
       "    }\n",
       "</style>\n",
       "<table border=\"1\" class=\"dataframe\">\n",
       "  <thead>\n",
       "    <tr style=\"text-align: right;\">\n",
       "      <th></th>\n",
       "      <th>district</th>\n",
       "      <th>median</th>\n",
       "      <th>mean</th>\n",
       "      <th>count</th>\n",
       "    </tr>\n",
       "  </thead>\n",
       "  <tbody>\n",
       "    <tr>\n",
       "      <th>0</th>\n",
       "      <td>0</td>\n",
       "      <td>-0.282115</td>\n",
       "      <td>0.005080</td>\n",
       "      <td>2426</td>\n",
       "    </tr>\n",
       "    <tr>\n",
       "      <th>1</th>\n",
       "      <td>1</td>\n",
       "      <td>-0.084116</td>\n",
       "      <td>0.107962</td>\n",
       "      <td>2405</td>\n",
       "    </tr>\n",
       "    <tr>\n",
       "      <th>2</th>\n",
       "      <td>2</td>\n",
       "      <td>-0.175500</td>\n",
       "      <td>0.016361</td>\n",
       "      <td>1984</td>\n",
       "    </tr>\n",
       "    <tr>\n",
       "      <th>3</th>\n",
       "      <td>3</td>\n",
       "      <td>-0.145039</td>\n",
       "      <td>0.078815</td>\n",
       "      <td>2225</td>\n",
       "    </tr>\n",
       "    <tr>\n",
       "      <th>4</th>\n",
       "      <td>4</td>\n",
       "      <td>-0.266884</td>\n",
       "      <td>-0.018487</td>\n",
       "      <td>2492</td>\n",
       "    </tr>\n",
       "    <tr>\n",
       "      <th>5</th>\n",
       "      <td>5</td>\n",
       "      <td>-0.175500</td>\n",
       "      <td>0.082258</td>\n",
       "      <td>2304</td>\n",
       "    </tr>\n",
       "    <tr>\n",
       "      <th>6</th>\n",
       "      <td>6</td>\n",
       "      <td>-0.205962</td>\n",
       "      <td>0.072495</td>\n",
       "      <td>2447</td>\n",
       "    </tr>\n",
       "    <tr>\n",
       "      <th>7</th>\n",
       "      <td>7</td>\n",
       "      <td>-0.145039</td>\n",
       "      <td>0.055157</td>\n",
       "      <td>2389</td>\n",
       "    </tr>\n",
       "    <tr>\n",
       "      <th>8</th>\n",
       "      <td>8</td>\n",
       "      <td>-0.084116</td>\n",
       "      <td>0.116371</td>\n",
       "      <td>2207</td>\n",
       "    </tr>\n",
       "    <tr>\n",
       "      <th>9</th>\n",
       "      <td>9</td>\n",
       "      <td>-0.023193</td>\n",
       "      <td>0.138930</td>\n",
       "      <td>263</td>\n",
       "    </tr>\n",
       "    <tr>\n",
       "      <th>10</th>\n",
       "      <td>10</td>\n",
       "      <td>-0.099347</td>\n",
       "      <td>0.061868</td>\n",
       "      <td>324</td>\n",
       "    </tr>\n",
       "    <tr>\n",
       "      <th>11</th>\n",
       "      <td>11</td>\n",
       "      <td>-0.297346</td>\n",
       "      <td>-0.057816</td>\n",
       "      <td>1819</td>\n",
       "    </tr>\n",
       "  </tbody>\n",
       "</table>\n",
       "</div>"
      ],
      "text/plain": [
       "    district    median      mean  count\n",
       "0          0 -0.282115  0.005080   2426\n",
       "1          1 -0.084116  0.107962   2405\n",
       "2          2 -0.175500  0.016361   1984\n",
       "3          3 -0.145039  0.078815   2225\n",
       "4          4 -0.266884 -0.018487   2492\n",
       "5          5 -0.175500  0.082258   2304\n",
       "6          6 -0.205962  0.072495   2447\n",
       "7          7 -0.145039  0.055157   2389\n",
       "8          8 -0.084116  0.116371   2207\n",
       "9          9 -0.023193  0.138930    263\n",
       "10        10 -0.099347  0.061868    324\n",
       "11        11 -0.297346 -0.057816   1819"
      ]
     },
     "execution_count": 22,
     "metadata": {},
     "output_type": "execute_result"
    }
   ],
   "source": [
    "X_train.groupby('district')['area_kitchen'].agg(['median', 'mean', 'count']).reset_index()"
   ]
  },
  {
   "cell_type": "code",
   "execution_count": 23,
   "id": "5b68253c",
   "metadata": {},
   "outputs": [
    {
     "data": {
      "text/html": [
       "<div>\n",
       "<style scoped>\n",
       "    .dataframe tbody tr th:only-of-type {\n",
       "        vertical-align: middle;\n",
       "    }\n",
       "\n",
       "    .dataframe tbody tr th {\n",
       "        vertical-align: top;\n",
       "    }\n",
       "\n",
       "    .dataframe thead th {\n",
       "        text-align: right;\n",
       "    }\n",
       "</style>\n",
       "<table border=\"1\" class=\"dataframe\">\n",
       "  <thead>\n",
       "    <tr style=\"text-align: right;\">\n",
       "      <th></th>\n",
       "      <th>rooms</th>\n",
       "      <th>median</th>\n",
       "      <th>mean</th>\n",
       "      <th>count</th>\n",
       "    </tr>\n",
       "  </thead>\n",
       "  <tbody>\n",
       "    <tr>\n",
       "      <th>0</th>\n",
       "      <td>1.0</td>\n",
       "      <td>-0.388730</td>\n",
       "      <td>-0.227684</td>\n",
       "      <td>7269</td>\n",
       "    </tr>\n",
       "    <tr>\n",
       "      <th>1</th>\n",
       "      <td>2.0</td>\n",
       "      <td>-0.205962</td>\n",
       "      <td>-0.025160</td>\n",
       "      <td>7667</td>\n",
       "    </tr>\n",
       "    <tr>\n",
       "      <th>2</th>\n",
       "      <td>3.0</td>\n",
       "      <td>-0.084116</td>\n",
       "      <td>0.163437</td>\n",
       "      <td>5906</td>\n",
       "    </tr>\n",
       "    <tr>\n",
       "      <th>3</th>\n",
       "      <td>4.0</td>\n",
       "      <td>0.426113</td>\n",
       "      <td>0.682859</td>\n",
       "      <td>1768</td>\n",
       "    </tr>\n",
       "    <tr>\n",
       "      <th>4</th>\n",
       "      <td>5.0</td>\n",
       "      <td>1.134340</td>\n",
       "      <td>1.160551</td>\n",
       "      <td>464</td>\n",
       "    </tr>\n",
       "    <tr>\n",
       "      <th>5</th>\n",
       "      <td>6.0</td>\n",
       "      <td>1.134340</td>\n",
       "      <td>1.315412</td>\n",
       "      <td>211</td>\n",
       "    </tr>\n",
       "  </tbody>\n",
       "</table>\n",
       "</div>"
      ],
      "text/plain": [
       "   rooms    median      mean  count\n",
       "0    1.0 -0.388730 -0.227684   7269\n",
       "1    2.0 -0.205962 -0.025160   7667\n",
       "2    3.0 -0.084116  0.163437   5906\n",
       "3    4.0  0.426113  0.682859   1768\n",
       "4    5.0  1.134340  1.160551    464\n",
       "5    6.0  1.134340  1.315412    211"
      ]
     },
     "execution_count": 23,
     "metadata": {},
     "output_type": "execute_result"
    }
   ],
   "source": [
    "X_train.groupby('rooms')['area_kitchen'].agg(['median', 'mean', 'count']).reset_index()"
   ]
  },
  {
   "cell_type": "code",
   "execution_count": 24,
   "id": "cdeb5066",
   "metadata": {},
   "outputs": [
    {
     "name": "stderr",
     "output_type": "stream",
     "text": [
      "/var/folders/49/l2945tw56gg9jn_kjxk7_h440000gp/T/ipykernel_27216/733986485.py:1: FutureWarning: Indexing with multiple keys (implicitly converted to a tuple of keys) will be deprecated, use a list instead.\n",
      "  X_train.groupby('district')['area_kitchen', 'area_total'].agg(['median', 'mean', 'count']).reset_index()\n"
     ]
    },
    {
     "data": {
      "text/html": [
       "<div>\n",
       "<style scoped>\n",
       "    .dataframe tbody tr th:only-of-type {\n",
       "        vertical-align: middle;\n",
       "    }\n",
       "\n",
       "    .dataframe tbody tr th {\n",
       "        vertical-align: top;\n",
       "    }\n",
       "\n",
       "    .dataframe thead tr th {\n",
       "        text-align: left;\n",
       "    }\n",
       "</style>\n",
       "<table border=\"1\" class=\"dataframe\">\n",
       "  <thead>\n",
       "    <tr>\n",
       "      <th></th>\n",
       "      <th>district</th>\n",
       "      <th colspan=\"3\" halign=\"left\">area_kitchen</th>\n",
       "      <th colspan=\"3\" halign=\"left\">area_total</th>\n",
       "    </tr>\n",
       "    <tr>\n",
       "      <th></th>\n",
       "      <th></th>\n",
       "      <th>median</th>\n",
       "      <th>mean</th>\n",
       "      <th>count</th>\n",
       "      <th>median</th>\n",
       "      <th>mean</th>\n",
       "      <th>count</th>\n",
       "    </tr>\n",
       "  </thead>\n",
       "  <tbody>\n",
       "    <tr>\n",
       "      <th>0</th>\n",
       "      <td>0</td>\n",
       "      <td>-0.282115</td>\n",
       "      <td>0.005080</td>\n",
       "      <td>2426</td>\n",
       "      <td>-0.263348</td>\n",
       "      <td>-0.034633</td>\n",
       "      <td>2426</td>\n",
       "    </tr>\n",
       "    <tr>\n",
       "      <th>1</th>\n",
       "      <td>1</td>\n",
       "      <td>-0.084116</td>\n",
       "      <td>0.107962</td>\n",
       "      <td>2405</td>\n",
       "      <td>-0.226703</td>\n",
       "      <td>0.066023</td>\n",
       "      <td>2405</td>\n",
       "    </tr>\n",
       "    <tr>\n",
       "      <th>2</th>\n",
       "      <td>2</td>\n",
       "      <td>-0.175500</td>\n",
       "      <td>0.016361</td>\n",
       "      <td>1984</td>\n",
       "      <td>-0.278773</td>\n",
       "      <td>-0.061964</td>\n",
       "      <td>1984</td>\n",
       "    </tr>\n",
       "    <tr>\n",
       "      <th>3</th>\n",
       "      <td>3</td>\n",
       "      <td>-0.145039</td>\n",
       "      <td>0.078815</td>\n",
       "      <td>2225</td>\n",
       "      <td>-0.246304</td>\n",
       "      <td>0.016548</td>\n",
       "      <td>2225</td>\n",
       "    </tr>\n",
       "    <tr>\n",
       "      <th>4</th>\n",
       "      <td>4</td>\n",
       "      <td>-0.266884</td>\n",
       "      <td>-0.018487</td>\n",
       "      <td>2492</td>\n",
       "      <td>-0.247838</td>\n",
       "      <td>-0.009394</td>\n",
       "      <td>2492</td>\n",
       "    </tr>\n",
       "    <tr>\n",
       "      <th>5</th>\n",
       "      <td>5</td>\n",
       "      <td>-0.175500</td>\n",
       "      <td>0.082258</td>\n",
       "      <td>2304</td>\n",
       "      <td>-0.246304</td>\n",
       "      <td>0.005378</td>\n",
       "      <td>2304</td>\n",
       "    </tr>\n",
       "    <tr>\n",
       "      <th>6</th>\n",
       "      <td>6</td>\n",
       "      <td>-0.205962</td>\n",
       "      <td>0.072495</td>\n",
       "      <td>2447</td>\n",
       "      <td>-0.266757</td>\n",
       "      <td>0.013565</td>\n",
       "      <td>2447</td>\n",
       "    </tr>\n",
       "    <tr>\n",
       "      <th>7</th>\n",
       "      <td>7</td>\n",
       "      <td>-0.145039</td>\n",
       "      <td>0.055157</td>\n",
       "      <td>2389</td>\n",
       "      <td>-0.244088</td>\n",
       "      <td>0.046800</td>\n",
       "      <td>2389</td>\n",
       "    </tr>\n",
       "    <tr>\n",
       "      <th>8</th>\n",
       "      <td>8</td>\n",
       "      <td>-0.084116</td>\n",
       "      <td>0.116371</td>\n",
       "      <td>2207</td>\n",
       "      <td>-0.240339</td>\n",
       "      <td>0.024592</td>\n",
       "      <td>2207</td>\n",
       "    </tr>\n",
       "    <tr>\n",
       "      <th>9</th>\n",
       "      <td>9</td>\n",
       "      <td>-0.023193</td>\n",
       "      <td>0.138930</td>\n",
       "      <td>263</td>\n",
       "      <td>-0.222272</td>\n",
       "      <td>-0.062645</td>\n",
       "      <td>263</td>\n",
       "    </tr>\n",
       "    <tr>\n",
       "      <th>10</th>\n",
       "      <td>10</td>\n",
       "      <td>-0.099347</td>\n",
       "      <td>0.061868</td>\n",
       "      <td>324</td>\n",
       "      <td>-0.253122</td>\n",
       "      <td>-0.090397</td>\n",
       "      <td>324</td>\n",
       "    </tr>\n",
       "    <tr>\n",
       "      <th>11</th>\n",
       "      <td>11</td>\n",
       "      <td>-0.297346</td>\n",
       "      <td>-0.057816</td>\n",
       "      <td>1819</td>\n",
       "      <td>-0.305106</td>\n",
       "      <td>-0.072093</td>\n",
       "      <td>1819</td>\n",
       "    </tr>\n",
       "  </tbody>\n",
       "</table>\n",
       "</div>"
      ],
      "text/plain": [
       "   district area_kitchen                 area_total                \n",
       "                  median      mean count     median      mean count\n",
       "0         0    -0.282115  0.005080  2426  -0.263348 -0.034633  2426\n",
       "1         1    -0.084116  0.107962  2405  -0.226703  0.066023  2405\n",
       "2         2    -0.175500  0.016361  1984  -0.278773 -0.061964  1984\n",
       "3         3    -0.145039  0.078815  2225  -0.246304  0.016548  2225\n",
       "4         4    -0.266884 -0.018487  2492  -0.247838 -0.009394  2492\n",
       "5         5    -0.175500  0.082258  2304  -0.246304  0.005378  2304\n",
       "6         6    -0.205962  0.072495  2447  -0.266757  0.013565  2447\n",
       "7         7    -0.145039  0.055157  2389  -0.244088  0.046800  2389\n",
       "8         8    -0.084116  0.116371  2207  -0.240339  0.024592  2207\n",
       "9         9    -0.023193  0.138930   263  -0.222272 -0.062645   263\n",
       "10       10    -0.099347  0.061868   324  -0.253122 -0.090397   324\n",
       "11       11    -0.297346 -0.057816  1819  -0.305106 -0.072093  1819"
      ]
     },
     "execution_count": 24,
     "metadata": {},
     "output_type": "execute_result"
    }
   ],
   "source": [
    "X_train.groupby('district')['area_kitchen', 'area_total'].agg(['median', 'mean', 'count']).reset_index()"
   ]
  },
  {
   "cell_type": "code",
   "execution_count": 25,
   "id": "2ca1cdd1",
   "metadata": {},
   "outputs": [
    {
     "data": {
      "image/png": "[encoded data removed]",
      "text/plain": [
       "<Figure size 864x432 with 2 Axes>"
      ]
     },
     "metadata": {},
     "output_type": "display_data"
    }
   ],
   "source": [
    "data = X_train.copy()\n",
    "data[\"price\"] = norm_features(data[\"price\"])\n",
    "f,ax=plt.subplots(1,2,figsize=(12,6))\n",
    "data[data['area_total']<=0].price.plot.hist(ax=ax[0], color='red', bins=10, edgecolor='black')\n",
    "ax[0].set_title('Area_low_mean_or_under')\n",
    "ax[0].set_xlim(-10, 15)\n",
    "data[data['area_total']>0].price.plot.hist(ax=ax[1], color='green', bins=10, edgecolor='black')\n",
    "ax[1].set_title('Area_high_over_mean')\n",
    "ax[1].set_xlim(-10, 15)\n",
    "plt.show()"
   ]
  },
  {
   "cell_type": "markdown",
   "id": "2ac41abc",
   "metadata": {},
   "source": [
    "# Replacing nan: imputation for area_kitchen"
   ]
  },
  {
   "cell_type": "raw",
   "id": "8205259f",
   "metadata": {},
   "source": [
    "Training dataset:\n",
    "    23.1 percent is missing\n",
    "    \n",
    "Test dataset:\n",
    "    22.5 percent is missing\n",
    "    \n",
    "\n",
    "Analysing Training dataset:\n",
    "\n",
    "The mean value of area_kitchen is very different when compared with districts and area_total. Even the median value of area_kitchen differs between districts.\n",
    "\n",
    "* District 9 has the most diverging distribution on median values with extremely high values on area_total and close to 0 on area_kitchen\n",
    "* District 0 and 11 have similar shapes for area_kitchen versus area_total\n",
    "* District 4 (similar to 0,11) has the highest median on area_kitchen, with the lower median on area_total (greatest difference between area_kitchen and area_total)\n",
    "* District 6 is close to district 0 and 11, but with lower difference between area_kitchen and area_total\n",
    "* Distict 1, 7 have only slightliy higher median area_kitchen, while district 3, 5, 8, 10, have slightly higher median area_total\n",
    "\n",
    "Conclusion:\n",
    "The mean value differs more between area_kitchen and area_total than the median. Clustering district difference will not persist when switchin from median to mean.\n",
    "\n",
    "Same form ---->  median -----------> mean\n",
    "                      0,4,11          all have the lowest area_kitchen AND area_mean\n",
    "                                      but the internal relationship is changed\n",
    "                      3,5,8,10        10 is quite different in shape using mean values!!!\n",
    "                      1               1 form close to 3,5,8,10 for medians: differs in mean\n"
   ]
  },
  {
   "cell_type": "markdown",
   "id": "cd8119a9",
   "metadata": {},
   "source": [
    "# Data visualisation before imputing area_kitchen"
   ]
  },
  {
   "cell_type": "raw",
   "id": "ad57bb15",
   "metadata": {},
   "source": [
    "Using prepared_data_category_2.csv having the original area_kitchen data, with missing values:"
   ]
  },
  {
   "cell_type": "code",
   "execution_count": 26,
   "id": "93ec2c4c",
   "metadata": {},
   "outputs": [],
   "source": [
    "df_train2 = pd.read_csv(\"train_prepared_category_2.csv\")\n",
    "df_test2 = pd.read_csv(\"test_prepared_category_2.csv\")"
   ]
  },
  {
   "cell_type": "code",
   "execution_count": 27,
   "id": "d483bdcd",
   "metadata": {},
   "outputs": [],
   "source": [
    "df_train = df_train2.copy()\n",
    "df_test = df_test2.copy()"
   ]
  },
  {
   "cell_type": "code",
   "execution_count": 28,
   "id": "eb4c3f73",
   "metadata": {},
   "outputs": [
    {
     "data": {
      "text/plain": [
       "Text(0.5, 1.0, 'Kitchen Area vs Total Area mean')"
      ]
     },
     "execution_count": 28,
     "metadata": {},
     "output_type": "execute_result"
    },
    {
     "data": {
      "image/png": "[encoded data removed]",
      "text/plain": [
       "<Figure size 864x432 with 2 Axes>"
      ]
     },
     "metadata": {},
     "output_type": "display_data"
    }
   ],
   "source": [
    "f,ax=plt.subplots(1, 2, figsize=(12,6))\n",
    "# Make histogram for medians\n",
    "df_train[['area_total','area_kitchen']].groupby(df_train['district']).median().plot.bar(ax=ax[0])\n",
    "ax[0].set_title('Training data Kitchen Area vs Total Area median')\n",
    "# Make histogram for means\n",
    "df_train[['area_total','area_kitchen']].groupby(df_train['district']).mean().plot.bar(ax=ax[1])\n",
    "ax[1].set_title('Kitchen Area vs Total Area mean')"
   ]
  },
  {
   "cell_type": "code",
   "execution_count": 29,
   "id": "f092d3c6",
   "metadata": {},
   "outputs": [
    {
     "data": {
      "text/plain": [
       "Text(0.5, 1.0, 'Kitchen Area vs Total Area mean')"
      ]
     },
     "execution_count": 29,
     "metadata": {},
     "output_type": "execute_result"
    },
    {
     "data": {
      "image/png": "[encoded data removed]",
      "text/plain": [
       "<Figure size 864x432 with 2 Axes>"
      ]
     },
     "metadata": {},
     "output_type": "display_data"
    }
   ],
   "source": [
    "f,ax=plt.subplots(1, 2, figsize=(12,6))\n",
    "# Make histogram for medians\n",
    "df_train[['building_id','area_kitchen']].groupby(df_train['district']).median().plot.bar(ax=ax[0])\n",
    "ax[0].set_title('Training data Kitchen Area vs Total Area median')\n",
    "# Make histogram for means\n",
    "df_train[['area_kitchen']].groupby(df_train['district']).mean().plot.bar(ax=ax[1])\n",
    "ax[1].set_title('Kitchen Area vs Total Area mean')"
   ]
  },
  {
   "cell_type": "code",
   "execution_count": 30,
   "id": "b5e416b9",
   "metadata": {},
   "outputs": [
    {
     "name": "stderr",
     "output_type": "stream",
     "text": [
      "/Users/vanjafalck/opt/anaconda3/envs/Statistics/lib/python3.8/site-packages/seaborn/_decorators.py:36: FutureWarning: Pass the following variable as a keyword arg: x. From version 0.12, the only valid positional argument will be `data`, and passing other arguments without an explicit keyword will result in an error or misinterpretation.\n",
      "  warnings.warn(\n"
     ]
    },
    {
     "data": {
      "image/png": "[encoded data removed]",
      "text/plain": [
       "<Figure size 864x432 with 2 Axes>"
      ]
     },
     "metadata": {},
     "output_type": "display_data"
    }
   ],
   "source": [
    "f, ax = plt.subplots(1, 2, figsize=(12,6))\n",
    "df_train['area_kitchen'].isna().value_counts().plot.pie(explode=[0,0.1],autopct='%1.1f%%',ax=ax[0],shadow=False)\n",
    "ax[0].set_title('area_kitchen')\n",
    "ax[0].set_ylabel('')\n",
    "sns.countplot('area_kitchen',data=df_train,ax=ax[1])\n",
    "ax[1].set_title('area_kitchen')\n",
    "plt.show()"
   ]
  },
  {
   "cell_type": "code",
   "execution_count": 31,
   "id": "f83ebbc1",
   "metadata": {},
   "outputs": [
    {
     "data": {
      "text/plain": [
       "Text(0.5, 1.0, 'Training data: Kitchen Area missing values vs District')"
      ]
     },
     "execution_count": 31,
     "metadata": {},
     "output_type": "execute_result"
    },
    {
     "data": {
      "image/png": "[encoded data removed]",
      "text/plain": [
       "<Figure size 864x432 with 1 Axes>"
      ]
     },
     "metadata": {},
     "output_type": "display_data"
    }
   ],
   "source": [
    "f,ax=plt.subplots(1, 1, figsize=(12,6))\n",
    "# Make histogram for medians\n",
    "df_train[['area_kitchen']].isna().groupby(df_train['district']).count().plot.bar(ax=ax)\n",
    "ax.set_title('Training data: Kitchen Area missing values vs District')"
   ]
  },
  {
   "cell_type": "code",
   "execution_count": null,
   "id": "a4d7b2f6",
   "metadata": {},
   "outputs": [],
   "source": []
  },
  {
   "cell_type": "code",
   "execution_count": 32,
   "id": "50de924b",
   "metadata": {},
   "outputs": [
    {
     "data": {
      "text/plain": [
       "Text(0.5, 1.0, 'Test data: Kitchen Area vs Total Area mean')"
      ]
     },
     "execution_count": 32,
     "metadata": {},
     "output_type": "execute_result"
    },
    {
     "data": {
      "image/png": "[encoded data removed]",
      "text/plain": [
       "<Figure size 864x432 with 2 Axes>"
      ]
     },
     "metadata": {},
     "output_type": "display_data"
    }
   ],
   "source": [
    "# TEST DATASET\n",
    "f,ax=plt.subplots(1, 2, figsize=(12,6))\n",
    "# Make histogram for medians\n",
    "df_test[['area_total','area_kitchen']].groupby(df_test['district']).median().plot.bar(ax=ax[0])\n",
    "ax[0].set_title('Kitchen Area vs Total Area median')\n",
    "# Make histogram for means\n",
    "df_test[['area_total','area_kitchen']].groupby(df_test['district']).mean().plot.bar(ax=ax[1])\n",
    "ax[1].set_title('Test data: Kitchen Area vs Total Area mean')"
   ]
  },
  {
   "cell_type": "code",
   "execution_count": null,
   "id": "e8856d7c",
   "metadata": {},
   "outputs": [],
   "source": []
  },
  {
   "cell_type": "code",
   "execution_count": 33,
   "id": "63668c46",
   "metadata": {},
   "outputs": [
    {
     "name": "stderr",
     "output_type": "stream",
     "text": [
      "/Users/vanjafalck/opt/anaconda3/envs/Statistics/lib/python3.8/site-packages/seaborn/_decorators.py:36: FutureWarning: Pass the following variable as a keyword arg: x. From version 0.12, the only valid positional argument will be `data`, and passing other arguments without an explicit keyword will result in an error or misinterpretation.\n",
      "  warnings.warn(\n"
     ]
    },
    {
     "data": {
      "image/png": "[encoded data removed]",
      "text/plain": [
       "<Figure size 864x432 with 2 Axes>"
      ]
     },
     "metadata": {},
     "output_type": "display_data"
    }
   ],
   "source": [
    "f, ax = plt.subplots(1, 2, figsize=(12,6))\n",
    "df_test['area_kitchen'].isna().value_counts().plot.pie(explode=[0,0.1],autopct='%1.1f%%',ax=ax[0],shadow=False)\n",
    "ax[0].set_title('area_kitchen')\n",
    "ax[0].set_ylabel('')\n",
    "sns.countplot('area_kitchen',data=df_test,ax=ax[1])\n",
    "ax[1].set_title('area_kitchen')\n",
    "plt.show()"
   ]
  },
  {
   "cell_type": "code",
   "execution_count": 34,
   "id": "fb361e83",
   "metadata": {},
   "outputs": [
    {
     "data": {
      "text/plain": [
       "Text(0.5, 1.0, 'Kitchen Area missing values vs District')"
      ]
     },
     "execution_count": 34,
     "metadata": {},
     "output_type": "execute_result"
    },
    {
     "data": {
      "image/png": "[encoded data removed]",
      "text/plain": [
       "<Figure size 864x432 with 1 Axes>"
      ]
     },
     "metadata": {},
     "output_type": "display_data"
    }
   ],
   "source": [
    "f,ax=plt.subplots(1, 1, figsize=(12,6))\n",
    "# Make histogram for medians\n",
    "df_test[['area_kitchen']].isna().groupby(df_test['district']).count().plot.bar(ax=ax)\n",
    "ax.set_title('Kitchen Area missing values vs District')"
   ]
  },
  {
   "cell_type": "code",
   "execution_count": 35,
   "id": "70d6339b",
   "metadata": {},
   "outputs": [],
   "source": [
    "table1 = X_train.groupby('district')['area_kitchen'].agg(['median', 'count']).reset_index()"
   ]
  },
  {
   "cell_type": "code",
   "execution_count": 36,
   "id": "0226fd47",
   "metadata": {},
   "outputs": [
    {
     "data": {
      "text/html": [
       "<div>\n",
       "<style scoped>\n",
       "    .dataframe tbody tr th:only-of-type {\n",
       "        vertical-align: middle;\n",
       "    }\n",
       "\n",
       "    .dataframe tbody tr th {\n",
       "        vertical-align: top;\n",
       "    }\n",
       "\n",
       "    .dataframe thead th {\n",
       "        text-align: right;\n",
       "    }\n",
       "</style>\n",
       "<table border=\"1\" class=\"dataframe\">\n",
       "  <thead>\n",
       "    <tr style=\"text-align: right;\">\n",
       "      <th></th>\n",
       "      <th>district</th>\n",
       "      <th>median</th>\n",
       "      <th>count</th>\n",
       "    </tr>\n",
       "  </thead>\n",
       "  <tbody>\n",
       "    <tr>\n",
       "      <th>0</th>\n",
       "      <td>0</td>\n",
       "      <td>-0.282115</td>\n",
       "      <td>2426</td>\n",
       "    </tr>\n",
       "    <tr>\n",
       "      <th>1</th>\n",
       "      <td>1</td>\n",
       "      <td>-0.084116</td>\n",
       "      <td>2405</td>\n",
       "    </tr>\n",
       "    <tr>\n",
       "      <th>2</th>\n",
       "      <td>2</td>\n",
       "      <td>-0.175500</td>\n",
       "      <td>1984</td>\n",
       "    </tr>\n",
       "    <tr>\n",
       "      <th>3</th>\n",
       "      <td>3</td>\n",
       "      <td>-0.145039</td>\n",
       "      <td>2225</td>\n",
       "    </tr>\n",
       "    <tr>\n",
       "      <th>4</th>\n",
       "      <td>4</td>\n",
       "      <td>-0.266884</td>\n",
       "      <td>2492</td>\n",
       "    </tr>\n",
       "    <tr>\n",
       "      <th>5</th>\n",
       "      <td>5</td>\n",
       "      <td>-0.175500</td>\n",
       "      <td>2304</td>\n",
       "    </tr>\n",
       "    <tr>\n",
       "      <th>6</th>\n",
       "      <td>6</td>\n",
       "      <td>-0.205962</td>\n",
       "      <td>2447</td>\n",
       "    </tr>\n",
       "    <tr>\n",
       "      <th>7</th>\n",
       "      <td>7</td>\n",
       "      <td>-0.145039</td>\n",
       "      <td>2389</td>\n",
       "    </tr>\n",
       "    <tr>\n",
       "      <th>8</th>\n",
       "      <td>8</td>\n",
       "      <td>-0.084116</td>\n",
       "      <td>2207</td>\n",
       "    </tr>\n",
       "    <tr>\n",
       "      <th>9</th>\n",
       "      <td>9</td>\n",
       "      <td>-0.023193</td>\n",
       "      <td>263</td>\n",
       "    </tr>\n",
       "    <tr>\n",
       "      <th>10</th>\n",
       "      <td>10</td>\n",
       "      <td>-0.099347</td>\n",
       "      <td>324</td>\n",
       "    </tr>\n",
       "    <tr>\n",
       "      <th>11</th>\n",
       "      <td>11</td>\n",
       "      <td>-0.297346</td>\n",
       "      <td>1819</td>\n",
       "    </tr>\n",
       "  </tbody>\n",
       "</table>\n",
       "</div>"
      ],
      "text/plain": [
       "    district    median  count\n",
       "0          0 -0.282115   2426\n",
       "1          1 -0.084116   2405\n",
       "2          2 -0.175500   1984\n",
       "3          3 -0.145039   2225\n",
       "4          4 -0.266884   2492\n",
       "5          5 -0.175500   2304\n",
       "6          6 -0.205962   2447\n",
       "7          7 -0.145039   2389\n",
       "8          8 -0.084116   2207\n",
       "9          9 -0.023193    263\n",
       "10        10 -0.099347    324\n",
       "11        11 -0.297346   1819"
      ]
     },
     "execution_count": 36,
     "metadata": {},
     "output_type": "execute_result"
    }
   ],
   "source": [
    "table1.head(12)"
   ]
  },
  {
   "cell_type": "code",
   "execution_count": 37,
   "id": "4a63e845",
   "metadata": {},
   "outputs": [
    {
     "name": "stdout",
     "output_type": "stream",
     "text": [
      "[[2021.]\n",
      " [2019.]\n",
      " [2021.]\n",
      " ...\n",
      " [2006.]\n",
      " [2020.]\n",
      " [2022.]]\n"
     ]
    }
   ],
   "source": [
    "from sklearn.impute import IterativeImputer\n",
    "X = X_train.copy()\n",
    "\n",
    "features_impute = [\"constructed\"]\n",
    "\n",
    "imputer = IterativeImputer(random_state=42)\n",
    "\n",
    "imputed = imputer.fit_transform(X[features_impute])\n",
    "print(imputed)"
   ]
  },
  {
   "cell_type": "code",
   "execution_count": 38,
   "id": "f0fe78b8",
   "metadata": {},
   "outputs": [
    {
     "data": {
      "text/html": [
       "<div>\n",
       "<style scoped>\n",
       "    .dataframe tbody tr th:only-of-type {\n",
       "        vertical-align: middle;\n",
       "    }\n",
       "\n",
       "    .dataframe tbody tr th {\n",
       "        vertical-align: top;\n",
       "    }\n",
       "\n",
       "    .dataframe thead th {\n",
       "        text-align: right;\n",
       "    }\n",
       "</style>\n",
       "<table border=\"1\" class=\"dataframe\">\n",
       "  <thead>\n",
       "    <tr style=\"text-align: right;\">\n",
       "      <th></th>\n",
       "      <th>id</th>\n",
       "      <th>price</th>\n",
       "      <th>area_total</th>\n",
       "      <th>area_kitchen</th>\n",
       "      <th>area_living</th>\n",
       "      <th>floor</th>\n",
       "      <th>rooms</th>\n",
       "      <th>ceiling</th>\n",
       "      <th>building_id</th>\n",
       "      <th>latitude</th>\n",
       "      <th>...</th>\n",
       "      <th>phones_0.0</th>\n",
       "      <th>phones_1.0</th>\n",
       "      <th>phones_2.0</th>\n",
       "      <th>phones_nan</th>\n",
       "      <th>parking_0.0</th>\n",
       "      <th>parking_1.0</th>\n",
       "      <th>parking_2.0</th>\n",
       "      <th>parking_nan</th>\n",
       "      <th>elevator</th>\n",
       "      <th>elevator_no</th>\n",
       "    </tr>\n",
       "  </thead>\n",
       "  <tbody>\n",
       "    <tr>\n",
       "      <th>0</th>\n",
       "      <td>0</td>\n",
       "      <td>7139520.0</td>\n",
       "      <td>-0.259939</td>\n",
       "      <td>-0.007962</td>\n",
       "      <td>-0.246552</td>\n",
       "      <td>2.0</td>\n",
       "      <td>2.0</td>\n",
       "      <td>-0.057242</td>\n",
       "      <td>4076</td>\n",
       "      <td>55.817557</td>\n",
       "      <td>...</td>\n",
       "      <td>0</td>\n",
       "      <td>1</td>\n",
       "      <td>0</td>\n",
       "      <td>0</td>\n",
       "      <td>0</td>\n",
       "      <td>1</td>\n",
       "      <td>0</td>\n",
       "      <td>0</td>\n",
       "      <td>1</td>\n",
       "      <td>0</td>\n",
       "    </tr>\n",
       "    <tr>\n",
       "      <th>36</th>\n",
       "      <td>1</td>\n",
       "      <td>10500000.0</td>\n",
       "      <td>0.230930</td>\n",
       "      <td>0.250960</td>\n",
       "      <td>0.294875</td>\n",
       "      <td>18.0</td>\n",
       "      <td>3.0</td>\n",
       "      <td>0.000000</td>\n",
       "      <td>1893</td>\n",
       "      <td>55.725133</td>\n",
       "      <td>...</td>\n",
       "      <td>0</td>\n",
       "      <td>1</td>\n",
       "      <td>0</td>\n",
       "      <td>0</td>\n",
       "      <td>0</td>\n",
       "      <td>1</td>\n",
       "      <td>0</td>\n",
       "      <td>0</td>\n",
       "      <td>1</td>\n",
       "      <td>0</td>\n",
       "    </tr>\n",
       "    <tr>\n",
       "      <th>38</th>\n",
       "      <td>2</td>\n",
       "      <td>9019650.0</td>\n",
       "      <td>0.069012</td>\n",
       "      <td>1.515108</td>\n",
       "      <td>0.065565</td>\n",
       "      <td>12.0</td>\n",
       "      <td>3.0</td>\n",
       "      <td>-0.057242</td>\n",
       "      <td>5176</td>\n",
       "      <td>55.725133</td>\n",
       "      <td>...</td>\n",
       "      <td>0</td>\n",
       "      <td>1</td>\n",
       "      <td>0</td>\n",
       "      <td>0</td>\n",
       "      <td>0</td>\n",
       "      <td>1</td>\n",
       "      <td>0</td>\n",
       "      <td>0</td>\n",
       "      <td>1</td>\n",
       "      <td>0</td>\n",
       "    </tr>\n",
       "    <tr>\n",
       "      <th>37</th>\n",
       "      <td>3</td>\n",
       "      <td>10500000.0</td>\n",
       "      <td>0.230930</td>\n",
       "      <td>0.220498</td>\n",
       "      <td>0.294875</td>\n",
       "      <td>18.0</td>\n",
       "      <td>3.0</td>\n",
       "      <td>0.000000</td>\n",
       "      <td>1893</td>\n",
       "      <td>55.725133</td>\n",
       "      <td>...</td>\n",
       "      <td>0</td>\n",
       "      <td>1</td>\n",
       "      <td>0</td>\n",
       "      <td>0</td>\n",
       "      <td>0</td>\n",
       "      <td>1</td>\n",
       "      <td>0</td>\n",
       "      <td>0</td>\n",
       "      <td>1</td>\n",
       "      <td>0</td>\n",
       "    </tr>\n",
       "    <tr>\n",
       "      <th>60</th>\n",
       "      <td>4</td>\n",
       "      <td>13900000.0</td>\n",
       "      <td>0.060489</td>\n",
       "      <td>0.677419</td>\n",
       "      <td>-0.119158</td>\n",
       "      <td>7.0</td>\n",
       "      <td>2.0</td>\n",
       "      <td>-0.034100</td>\n",
       "      <td>6604</td>\n",
       "      <td>55.734643</td>\n",
       "      <td>...</td>\n",
       "      <td>0</td>\n",
       "      <td>1</td>\n",
       "      <td>0</td>\n",
       "      <td>0</td>\n",
       "      <td>0</td>\n",
       "      <td>1</td>\n",
       "      <td>0</td>\n",
       "      <td>0</td>\n",
       "      <td>1</td>\n",
       "      <td>0</td>\n",
       "    </tr>\n",
       "  </tbody>\n",
       "</table>\n",
       "<p>5 rows × 96 columns</p>\n",
       "</div>"
      ],
      "text/plain": [
       "    id       price  area_total  area_kitchen  area_living  floor  rooms  \\\n",
       "0    0   7139520.0   -0.259939     -0.007962    -0.246552    2.0    2.0   \n",
       "36   1  10500000.0    0.230930      0.250960     0.294875   18.0    3.0   \n",
       "38   2   9019650.0    0.069012      1.515108     0.065565   12.0    3.0   \n",
       "37   3  10500000.0    0.230930      0.220498     0.294875   18.0    3.0   \n",
       "60   4  13900000.0    0.060489      0.677419    -0.119158    7.0    2.0   \n",
       "\n",
       "     ceiling  building_id   latitude  ...  phones_0.0  phones_1.0 phones_2.0  \\\n",
       "0  -0.057242         4076  55.817557  ...           0           1          0   \n",
       "36  0.000000         1893  55.725133  ...           0           1          0   \n",
       "38 -0.057242         5176  55.725133  ...           0           1          0   \n",
       "37  0.000000         1893  55.725133  ...           0           1          0   \n",
       "60 -0.034100         6604  55.734643  ...           0           1          0   \n",
       "\n",
       "   phones_nan  parking_0.0  parking_1.0  parking_2.0  parking_nan  elevator  \\\n",
       "0           0            0            1            0            0         1   \n",
       "36          0            0            1            0            0         1   \n",
       "38          0            0            1            0            0         1   \n",
       "37          0            0            1            0            0         1   \n",
       "60          0            0            1            0            0         1   \n",
       "\n",
       "    elevator_no  \n",
       "0             0  \n",
       "36            0  \n",
       "38            0  \n",
       "37            0  \n",
       "60            0  \n",
       "\n",
       "[5 rows x 96 columns]"
      ]
     },
     "execution_count": 38,
     "metadata": {},
     "output_type": "execute_result"
    }
   ],
   "source": [
    "X[features_impute] = pd.DataFrame(imputed, columns=features_impute)\n",
    "X.head()"
   ]
  },
  {
   "cell_type": "code",
   "execution_count": 39,
   "id": "490d208a",
   "metadata": {},
   "outputs": [
    {
     "data": {
      "text/plain": [
       "constructed    0\n",
       "dtype: int64"
      ]
     },
     "execution_count": 39,
     "metadata": {},
     "output_type": "execute_result"
    }
   ],
   "source": [
    "X.loc[:,[\"constructed\"]].isna().sum()"
   ]
  },
  {
   "cell_type": "code",
   "execution_count": 40,
   "id": "bb11032e",
   "metadata": {},
   "outputs": [
    {
     "data": {
      "text/plain": [
       "(23285, 96)"
      ]
     },
     "execution_count": 40,
     "metadata": {},
     "output_type": "execute_result"
    }
   ],
   "source": [
    "X.shape"
   ]
  },
  {
   "cell_type": "code",
   "execution_count": 41,
   "id": "930c462e",
   "metadata": {},
   "outputs": [
    {
     "name": "stdout",
     "output_type": "stream",
     "text": [
      "<class 'pandas.core.frame.DataFrame'>\n",
      "Int64Index: 23285 entries, 0 to 20507\n",
      "Data columns (total 96 columns):\n",
      " #   Column                 Non-Null Count  Dtype  \n",
      "---  ------                 --------------  -----  \n",
      " 0   id                     23285 non-null  int64  \n",
      " 1   price                  23285 non-null  float64\n",
      " 2   area_total             23285 non-null  float64\n",
      " 3   area_kitchen           23285 non-null  float64\n",
      " 4   area_living            23285 non-null  float64\n",
      " 5   floor                  23285 non-null  float64\n",
      " 6   rooms                  23285 non-null  float64\n",
      " 7   ceiling                23285 non-null  float64\n",
      " 8   building_id            23285 non-null  int64  \n",
      " 9   latitude               23285 non-null  float64\n",
      " 10  longitude              23285 non-null  float64\n",
      " 11  district               23285 non-null  int64  \n",
      " 12  street                 23285 non-null  object \n",
      " 13  address                23285 non-null  object \n",
      " 14  constructed            23285 non-null  float64\n",
      " 15  stories                23285 non-null  float64\n",
      " 16  distance               23285 non-null  float64\n",
      " 17  distance_metro         23285 non-null  float64\n",
      " 18  park                   23285 non-null  float64\n",
      " 19  golf                   23285 non-null  float64\n",
      " 20  airport                23285 non-null  float64\n",
      " 21  university             23285 non-null  float64\n",
      " 22  shopping               23285 non-null  float64\n",
      " 23  seller_0.0             23285 non-null  uint8  \n",
      " 24  seller_1.0             23285 non-null  uint8  \n",
      " 25  seller_2.0             23285 non-null  uint8  \n",
      " 26  seller_3.0             23285 non-null  uint8  \n",
      " 27  seller_nan             23285 non-null  uint8  \n",
      " 28  layout_0.0             23285 non-null  uint8  \n",
      " 29  layout_1.0             23285 non-null  uint8  \n",
      " 30  layout_2.0             23285 non-null  uint8  \n",
      " 31  layout_nan             23285 non-null  uint8  \n",
      " 32  condition_0.0          23285 non-null  uint8  \n",
      " 33  condition_1.0          23285 non-null  uint8  \n",
      " 34  condition_2.0          23285 non-null  uint8  \n",
      " 35  condition_3.0          23285 non-null  uint8  \n",
      " 36  condition_nan          23285 non-null  uint8  \n",
      " 37  new_0.0                23285 non-null  uint8  \n",
      " 38  new_1.0                23285 non-null  uint8  \n",
      " 39  new_nan                23285 non-null  uint8  \n",
      " 40  material_0.0           23285 non-null  uint8  \n",
      " 41  material_1.0           23285 non-null  uint8  \n",
      " 42  material_2.0           23285 non-null  uint8  \n",
      " 43  material_3.0           23285 non-null  uint8  \n",
      " 44  material_4.0           23285 non-null  uint8  \n",
      " 45  material_5.0           23285 non-null  uint8  \n",
      " 46  material_6.0           23285 non-null  uint8  \n",
      " 47  material_nan           23285 non-null  uint8  \n",
      " 48  garbage_chute_0.0      23285 non-null  uint8  \n",
      " 49  garbage_chute_1.0      23285 non-null  uint8  \n",
      " 50  garbage_chute_nan      23285 non-null  uint8  \n",
      " 51  heating_0.0            23285 non-null  uint8  \n",
      " 52  heating_1.0            23285 non-null  uint8  \n",
      " 53  heating_2.0            23285 non-null  uint8  \n",
      " 54  heating_3.0            23285 non-null  uint8  \n",
      " 55  heating_nan            23285 non-null  uint8  \n",
      " 56  bathrooms_shared_0.0   23285 non-null  uint8  \n",
      " 57  bathrooms_shared_1.0   23285 non-null  uint8  \n",
      " 58  bathrooms_shared_2.0   23285 non-null  uint8  \n",
      " 59  bathrooms_shared_3.0   23285 non-null  uint8  \n",
      " 60  bathrooms_shared_4.0   23285 non-null  uint8  \n",
      " 61  bathrooms_shared_nan   23285 non-null  uint8  \n",
      " 62  bathrooms_private_0.0  23285 non-null  uint8  \n",
      " 63  bathrooms_private_1.0  23285 non-null  uint8  \n",
      " 64  bathrooms_private_2.0  23285 non-null  uint8  \n",
      " 65  bathrooms_private_3.0  23285 non-null  uint8  \n",
      " 66  bathrooms_private_4.0  23285 non-null  uint8  \n",
      " 67  bathrooms_private_nan  23285 non-null  uint8  \n",
      " 68  windows_court_0.0      23285 non-null  uint8  \n",
      " 69  windows_court_1.0      23285 non-null  uint8  \n",
      " 70  windows_court_nan      23285 non-null  uint8  \n",
      " 71  windows_street_0.0     23285 non-null  uint8  \n",
      " 72  windows_street_1.0     23285 non-null  uint8  \n",
      " 73  windows_street_nan     23285 non-null  uint8  \n",
      " 74  balconies_0.0          23285 non-null  uint8  \n",
      " 75  balconies_1.0          23285 non-null  uint8  \n",
      " 76  balconies_2.0          23285 non-null  uint8  \n",
      " 77  balconies_3.0          23285 non-null  uint8  \n",
      " 78  balconies_4.0          23285 non-null  uint8  \n",
      " 79  balconies_nan          23285 non-null  uint8  \n",
      " 80  loggias_0.0            23285 non-null  uint8  \n",
      " 81  loggias_1.0            23285 non-null  uint8  \n",
      " 82  loggias_2.0            23285 non-null  uint8  \n",
      " 83  loggias_3.0            23285 non-null  uint8  \n",
      " 84  loggias_4.0            23285 non-null  uint8  \n",
      " 85  loggias_nan            23285 non-null  uint8  \n",
      " 86  phones_0.0             23285 non-null  uint8  \n",
      " 87  phones_1.0             23285 non-null  uint8  \n",
      " 88  phones_2.0             23285 non-null  uint8  \n",
      " 89  phones_nan             23285 non-null  uint8  \n",
      " 90  parking_0.0            23285 non-null  uint8  \n",
      " 91  parking_1.0            23285 non-null  uint8  \n",
      " 92  parking_2.0            23285 non-null  uint8  \n",
      " 93  parking_nan            23285 non-null  uint8  \n",
      " 94  elevator               23285 non-null  int8   \n",
      " 95  elevator_no            23285 non-null  int8   \n",
      "dtypes: float64(18), int64(3), int8(2), object(2), uint8(71)\n",
      "memory usage: 6.4+ MB\n"
     ]
    }
   ],
   "source": [
    "X.info()"
   ]
  },
  {
   "cell_type": "code",
   "execution_count": null,
   "id": "8705dd9d",
   "metadata": {},
   "outputs": [],
   "source": []
  }
 ],
 "metadata": {
  "kernelspec": {
   "display_name": "Python 3 (ipykernel)",
   "language": "python",
   "name": "python3"
  },
  "language_info": {
   "codemirror_mode": {
    "name": "ipython",
    "version": 3
   },
   "file_extension": ".py",
   "mimetype": "text/x-python",
   "name": "python",
   "nbconvert_exporter": "python",
   "pygments_lexer": "ipython3",
   "version": "3.8.11"
  }
 },
 "nbformat": 4,
 "nbformat_minor": 5
}
