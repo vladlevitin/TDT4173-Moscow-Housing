{
 "cells": [
  {
   "cell_type": "code",
   "execution_count": 1,
   "id": "9e6bbcd2",
   "metadata": {},
   "outputs": [],
   "source": [
    "import pandas as pd\n",
    "import numpy as np\n",
    "from sklearn.model_selection import train_test_split, KFold\n",
    "from sklearn.tree import DecisionTreeRegressor\n",
    "from sklearn.metrics import mean_squared_error\n",
    "from sklearn.ensemble import RandomForestRegressor\n",
    "from sklearn.ensemble import AdaBoostRegressor\n",
    "from sklearn.ensemble import GradientBoostingRegressor\n",
    "import lightgbm as lgb\n",
    "from catboost import CatBoostRegressor\n",
    "\n",
    "from functions.datacleaning import MoscowHousing as mh\n",
    "from functions.distance import norm_features\n",
    "\n",
    "import matplotlib.pylab as plt\n",
    "plt.style.use('ggplot')"
   ]
  },
  {
   "cell_type": "markdown",
   "id": "6a6b29f4",
   "metadata": {},
   "source": [
    "# Gradient Boosting Machine"
   ]
  },
  {
   "cell_type": "code",
   "execution_count": 2,
   "id": "75a23127",
   "metadata": {},
   "outputs": [],
   "source": [
    "# Get data\n",
    "data = mh()\n",
    "\n",
    "XTrain, YTrain = data.get_data_train()\n",
    "XTest = data.get_data_test()"
   ]
  },
  {
   "cell_type": "code",
   "execution_count": 3,
   "id": "5cd1af80",
   "metadata": {},
   "outputs": [
    {
     "data": {
      "text/plain": [
       "(23285, 5)"
      ]
     },
     "execution_count": 3,
     "metadata": {},
     "output_type": "execute_result"
    }
   ],
   "source": [
    "XTrain.shape"
   ]
  },
  {
   "cell_type": "code",
   "execution_count": 4,
   "id": "88407581",
   "metadata": {},
   "outputs": [
    {
     "data": {
      "text/html": [
       "<div>\n",
       "<style scoped>\n",
       "    .dataframe tbody tr th:only-of-type {\n",
       "        vertical-align: middle;\n",
       "    }\n",
       "\n",
       "    .dataframe tbody tr th {\n",
       "        vertical-align: top;\n",
       "    }\n",
       "\n",
       "    .dataframe thead th {\n",
       "        text-align: right;\n",
       "    }\n",
       "</style>\n",
       "<table border=\"1\" class=\"dataframe\">\n",
       "  <thead>\n",
       "    <tr style=\"text-align: right;\">\n",
       "      <th></th>\n",
       "      <th>area_total</th>\n",
       "      <th>distance</th>\n",
       "      <th>rooms</th>\n",
       "      <th>floor</th>\n",
       "      <th>district</th>\n",
       "    </tr>\n",
       "  </thead>\n",
       "  <tbody>\n",
       "    <tr>\n",
       "      <th>0</th>\n",
       "      <td>-0.011096</td>\n",
       "      <td>-0.315749</td>\n",
       "      <td>3</td>\n",
       "      <td>1</td>\n",
       "      <td>3</td>\n",
       "    </tr>\n",
       "    <tr>\n",
       "      <th>1</th>\n",
       "      <td>-0.553098</td>\n",
       "      <td>2.903551</td>\n",
       "      <td>1</td>\n",
       "      <td>5</td>\n",
       "      <td>9</td>\n",
       "    </tr>\n",
       "    <tr>\n",
       "      <th>2</th>\n",
       "      <td>0.009357</td>\n",
       "      <td>-0.051469</td>\n",
       "      <td>3</td>\n",
       "      <td>3</td>\n",
       "      <td>2</td>\n",
       "    </tr>\n",
       "    <tr>\n",
       "      <th>3</th>\n",
       "      <td>-0.263348</td>\n",
       "      <td>0.304723</td>\n",
       "      <td>2</td>\n",
       "      <td>2</td>\n",
       "      <td>3</td>\n",
       "    </tr>\n",
       "    <tr>\n",
       "      <th>4</th>\n",
       "      <td>-0.263348</td>\n",
       "      <td>0.304723</td>\n",
       "      <td>2</td>\n",
       "      <td>2</td>\n",
       "      <td>3</td>\n",
       "    </tr>\n",
       "  </tbody>\n",
       "</table>\n",
       "</div>"
      ],
      "text/plain": [
       "   area_total  distance  rooms  floor  district\n",
       "0   -0.011096 -0.315749      3      1         3\n",
       "1   -0.553098  2.903551      1      5         9\n",
       "2    0.009357 -0.051469      3      3         2\n",
       "3   -0.263348  0.304723      2      2         3\n",
       "4   -0.263348  0.304723      2      2         3"
      ]
     },
     "execution_count": 4,
     "metadata": {},
     "output_type": "execute_result"
    }
   ],
   "source": [
    "# Only features_final data\n",
    "XTrain.head()"
   ]
  },
  {
   "cell_type": "code",
   "execution_count": 5,
   "id": "33d3f5d5",
   "metadata": {},
   "outputs": [
    {
     "data": {
      "text/html": [
       "<div>\n",
       "<style scoped>\n",
       "    .dataframe tbody tr th:only-of-type {\n",
       "        vertical-align: middle;\n",
       "    }\n",
       "\n",
       "    .dataframe tbody tr th {\n",
       "        vertical-align: top;\n",
       "    }\n",
       "\n",
       "    .dataframe thead th {\n",
       "        text-align: right;\n",
       "    }\n",
       "</style>\n",
       "<table border=\"1\" class=\"dataframe\">\n",
       "  <thead>\n",
       "    <tr style=\"text-align: right;\">\n",
       "      <th></th>\n",
       "      <th>building_id</th>\n",
       "      <th>id</th>\n",
       "      <th>seller</th>\n",
       "      <th>area_total</th>\n",
       "      <th>area_kitchen</th>\n",
       "      <th>area_living</th>\n",
       "      <th>floor</th>\n",
       "      <th>rooms</th>\n",
       "      <th>layout</th>\n",
       "      <th>ceiling</th>\n",
       "      <th>...</th>\n",
       "      <th>constructed</th>\n",
       "      <th>material</th>\n",
       "      <th>stories</th>\n",
       "      <th>elevator_without</th>\n",
       "      <th>elevator_passenger</th>\n",
       "      <th>elevator_service</th>\n",
       "      <th>parking</th>\n",
       "      <th>garbage_chute</th>\n",
       "      <th>heating</th>\n",
       "      <th>distance</th>\n",
       "    </tr>\n",
       "  </thead>\n",
       "  <tbody>\n",
       "    <tr>\n",
       "      <th>0</th>\n",
       "      <td>4</td>\n",
       "      <td>26052</td>\n",
       "      <td>NaN</td>\n",
       "      <td>5.675295</td>\n",
       "      <td>NaN</td>\n",
       "      <td>NaN</td>\n",
       "      <td>3</td>\n",
       "      <td>6</td>\n",
       "      <td>NaN</td>\n",
       "      <td>NaN</td>\n",
       "      <td>...</td>\n",
       "      <td>NaN</td>\n",
       "      <td>NaN</td>\n",
       "      <td>4</td>\n",
       "      <td>NaN</td>\n",
       "      <td>NaN</td>\n",
       "      <td>NaN</td>\n",
       "      <td>NaN</td>\n",
       "      <td>NaN</td>\n",
       "      <td>NaN</td>\n",
       "      <td>0.293752</td>\n",
       "    </tr>\n",
       "    <tr>\n",
       "      <th>1</th>\n",
       "      <td>5</td>\n",
       "      <td>29404</td>\n",
       "      <td>1.0</td>\n",
       "      <td>-0.896821</td>\n",
       "      <td>-1.581108</td>\n",
       "      <td>-0.588336</td>\n",
       "      <td>1</td>\n",
       "      <td>1</td>\n",
       "      <td>NaN</td>\n",
       "      <td>-0.077026</td>\n",
       "      <td>...</td>\n",
       "      <td>1982.0</td>\n",
       "      <td>3.0</td>\n",
       "      <td>12</td>\n",
       "      <td>0.0</td>\n",
       "      <td>1.0</td>\n",
       "      <td>0.0</td>\n",
       "      <td>NaN</td>\n",
       "      <td>1.0</td>\n",
       "      <td>NaN</td>\n",
       "      <td>0.116589</td>\n",
       "    </tr>\n",
       "    <tr>\n",
       "      <th>2</th>\n",
       "      <td>6</td>\n",
       "      <td>24089</td>\n",
       "      <td>2.0</td>\n",
       "      <td>0.494253</td>\n",
       "      <td>-0.417982</td>\n",
       "      <td>0.678815</td>\n",
       "      <td>3</td>\n",
       "      <td>4</td>\n",
       "      <td>1.0</td>\n",
       "      <td>-0.068230</td>\n",
       "      <td>...</td>\n",
       "      <td>2002.0</td>\n",
       "      <td>3.0</td>\n",
       "      <td>22</td>\n",
       "      <td>0.0</td>\n",
       "      <td>1.0</td>\n",
       "      <td>1.0</td>\n",
       "      <td>1.0</td>\n",
       "      <td>1.0</td>\n",
       "      <td>0.0</td>\n",
       "      <td>-0.040901</td>\n",
       "    </tr>\n",
       "    <tr>\n",
       "      <th>3</th>\n",
       "      <td>11</td>\n",
       "      <td>24033</td>\n",
       "      <td>0.0</td>\n",
       "      <td>0.087932</td>\n",
       "      <td>0.163582</td>\n",
       "      <td>0.165921</td>\n",
       "      <td>11</td>\n",
       "      <td>3</td>\n",
       "      <td>NaN</td>\n",
       "      <td>NaN</td>\n",
       "      <td>...</td>\n",
       "      <td>2001.0</td>\n",
       "      <td>3.0</td>\n",
       "      <td>17</td>\n",
       "      <td>0.0</td>\n",
       "      <td>1.0</td>\n",
       "      <td>1.0</td>\n",
       "      <td>NaN</td>\n",
       "      <td>1.0</td>\n",
       "      <td>0.0</td>\n",
       "      <td>0.074818</td>\n",
       "    </tr>\n",
       "    <tr>\n",
       "      <th>4</th>\n",
       "      <td>11</td>\n",
       "      <td>32976</td>\n",
       "      <td>1.0</td>\n",
       "      <td>0.096804</td>\n",
       "      <td>-0.316208</td>\n",
       "      <td>0.368062</td>\n",
       "      <td>5</td>\n",
       "      <td>3</td>\n",
       "      <td>1.0</td>\n",
       "      <td>NaN</td>\n",
       "      <td>...</td>\n",
       "      <td>2001.0</td>\n",
       "      <td>3.0</td>\n",
       "      <td>17</td>\n",
       "      <td>0.0</td>\n",
       "      <td>1.0</td>\n",
       "      <td>1.0</td>\n",
       "      <td>NaN</td>\n",
       "      <td>1.0</td>\n",
       "      <td>0.0</td>\n",
       "      <td>0.074818</td>\n",
       "    </tr>\n",
       "  </tbody>\n",
       "</table>\n",
       "<p>5 rows × 34 columns</p>\n",
       "</div>"
      ],
      "text/plain": [
       "   building_id     id  seller  area_total  area_kitchen  area_living  floor  \\\n",
       "0            4  26052     NaN    5.675295           NaN          NaN      3   \n",
       "1            5  29404     1.0   -0.896821     -1.581108    -0.588336      1   \n",
       "2            6  24089     2.0    0.494253     -0.417982     0.678815      3   \n",
       "3           11  24033     0.0    0.087932      0.163582     0.165921     11   \n",
       "4           11  32976     1.0    0.096804     -0.316208     0.368062      5   \n",
       "\n",
       "   rooms  layout   ceiling  ...  constructed  material  stories  \\\n",
       "0      6     NaN       NaN  ...          NaN       NaN        4   \n",
       "1      1     NaN -0.077026  ...       1982.0       3.0       12   \n",
       "2      4     1.0 -0.068230  ...       2002.0       3.0       22   \n",
       "3      3     NaN       NaN  ...       2001.0       3.0       17   \n",
       "4      3     1.0       NaN  ...       2001.0       3.0       17   \n",
       "\n",
       "   elevator_without  elevator_passenger  elevator_service  parking  \\\n",
       "0               NaN                 NaN               NaN      NaN   \n",
       "1               0.0                 1.0               0.0      NaN   \n",
       "2               0.0                 1.0               1.0      1.0   \n",
       "3               0.0                 1.0               1.0      NaN   \n",
       "4               0.0                 1.0               1.0      NaN   \n",
       "\n",
       "   garbage_chute  heating  distance  \n",
       "0            NaN      NaN  0.293752  \n",
       "1            1.0      NaN  0.116589  \n",
       "2            1.0      0.0 -0.040901  \n",
       "3            1.0      0.0  0.074818  \n",
       "4            1.0      0.0  0.074818  \n",
       "\n",
       "[5 rows x 34 columns]"
      ]
     },
     "execution_count": 5,
     "metadata": {},
     "output_type": "execute_result"
    }
   ],
   "source": [
    "# All data\n",
    "XTest.head()"
   ]
  },
  {
   "cell_type": "code",
   "execution_count": 6,
   "id": "97b5293d",
   "metadata": {},
   "outputs": [
    {
     "data": {
      "text/plain": [
       "(9937, 34)"
      ]
     },
     "execution_count": 6,
     "metadata": {},
     "output_type": "execute_result"
    }
   ],
   "source": [
    "XTest.shape"
   ]
  },
  {
   "cell_type": "code",
   "execution_count": 7,
   "id": "da238f42",
   "metadata": {},
   "outputs": [],
   "source": [
    "# Prepare test data for modeling\n",
    "test_features = data.features_final\n",
    "XTest = XTest[test_features]"
   ]
  },
  {
   "cell_type": "code",
   "execution_count": 8,
   "id": "b26561dd",
   "metadata": {},
   "outputs": [
    {
     "data": {
      "text/html": [
       "<div>\n",
       "<style scoped>\n",
       "    .dataframe tbody tr th:only-of-type {\n",
       "        vertical-align: middle;\n",
       "    }\n",
       "\n",
       "    .dataframe tbody tr th {\n",
       "        vertical-align: top;\n",
       "    }\n",
       "\n",
       "    .dataframe thead th {\n",
       "        text-align: right;\n",
       "    }\n",
       "</style>\n",
       "<table border=\"1\" class=\"dataframe\">\n",
       "  <thead>\n",
       "    <tr style=\"text-align: right;\">\n",
       "      <th></th>\n",
       "      <th>area_total</th>\n",
       "      <th>distance</th>\n",
       "      <th>rooms</th>\n",
       "      <th>floor</th>\n",
       "      <th>district</th>\n",
       "    </tr>\n",
       "  </thead>\n",
       "  <tbody>\n",
       "    <tr>\n",
       "      <th>0</th>\n",
       "      <td>5.675295</td>\n",
       "      <td>0.293752</td>\n",
       "      <td>6</td>\n",
       "      <td>3</td>\n",
       "      <td>8</td>\n",
       "    </tr>\n",
       "    <tr>\n",
       "      <th>1</th>\n",
       "      <td>-0.896821</td>\n",
       "      <td>0.116589</td>\n",
       "      <td>1</td>\n",
       "      <td>1</td>\n",
       "      <td>1</td>\n",
       "    </tr>\n",
       "    <tr>\n",
       "      <th>2</th>\n",
       "      <td>0.494253</td>\n",
       "      <td>-0.040901</td>\n",
       "      <td>4</td>\n",
       "      <td>3</td>\n",
       "      <td>2</td>\n",
       "    </tr>\n",
       "    <tr>\n",
       "      <th>3</th>\n",
       "      <td>0.087932</td>\n",
       "      <td>0.074818</td>\n",
       "      <td>3</td>\n",
       "      <td>11</td>\n",
       "      <td>2</td>\n",
       "    </tr>\n",
       "    <tr>\n",
       "      <th>4</th>\n",
       "      <td>0.096804</td>\n",
       "      <td>0.074818</td>\n",
       "      <td>3</td>\n",
       "      <td>5</td>\n",
       "      <td>2</td>\n",
       "    </tr>\n",
       "  </tbody>\n",
       "</table>\n",
       "</div>"
      ],
      "text/plain": [
       "   area_total  distance  rooms  floor  district\n",
       "0    5.675295  0.293752      6      3         8\n",
       "1   -0.896821  0.116589      1      1         1\n",
       "2    0.494253 -0.040901      4      3         2\n",
       "3    0.087932  0.074818      3     11         2\n",
       "4    0.096804  0.074818      3      5         2"
      ]
     },
     "execution_count": 8,
     "metadata": {},
     "output_type": "execute_result"
    }
   ],
   "source": [
    "XTest.head()"
   ]
  },
  {
   "cell_type": "code",
   "execution_count": 9,
   "id": "0be46fe4",
   "metadata": {},
   "outputs": [
    {
     "data": {
      "text/plain": [
       "(23285,)"
      ]
     },
     "execution_count": 9,
     "metadata": {},
     "output_type": "execute_result"
    }
   ],
   "source": [
    "YTrain.shape"
   ]
  },
  {
   "cell_type": "code",
   "execution_count": 10,
   "id": "24d172b6",
   "metadata": {},
   "outputs": [
    {
     "data": {
      "text/plain": [
       "0   -0.232813\n",
       "1   -0.312594\n",
       "2   -0.189123\n",
       "3   -0.255607\n",
       "4   -0.255607\n",
       "Name: price, dtype: float64"
      ]
     },
     "execution_count": 10,
     "metadata": {},
     "output_type": "execute_result"
    }
   ],
   "source": [
    "YTrain.head()"
   ]
  },
  {
   "cell_type": "code",
   "execution_count": 11,
   "id": "ea7b2d4f",
   "metadata": {},
   "outputs": [],
   "source": [
    "X = XTrain.copy()\n",
    "y = YTrain.copy()"
   ]
  },
  {
   "cell_type": "code",
   "execution_count": 12,
   "id": "5dfd11e1",
   "metadata": {},
   "outputs": [],
   "source": [
    "X_train, X_test, y_train, y_test = train_test_split(X, y, test_size=0.2, random_state=42)"
   ]
  },
  {
   "cell_type": "code",
   "execution_count": 13,
   "id": "f8ff607b",
   "metadata": {},
   "outputs": [
    {
     "data": {
      "text/plain": [
       "'\\ntest_size = 0.2\\nrandom_state = 42\\nfeatures_final = [\"area_total\", \"distance\", \"rooms\", \\n                  \"floor\", \"district\"]\\n\\nTweaking hyper parameters:\\n\\n1. default from \"Ensamble\" lr = 0.01 ---> mse 0.22\\n2. change lr = 0.04 --------------------> mse 0.22\\n3. change n_estimators = 2500 ----------> mse 0.22\\n4. change n_estimators = 1000 ----------> mse 0.22\\n5. change n_estimators =  500 ----------> mse 0.22\\n6. change n_estimators =  100 ----------> mse 0.22\\n7. change n_estimators =   50 ----------> mse 0.22\\n8. change lr = 0.08 --------------------> mse 0.21\\n9. change lr = 0.09 --------------------> mse 0.21\\n10. change lr = 0.1 --------------------> mse 0.23\\n11. lr = 0.08 n_estimators = 1000 ------> mse 0.21\\n12. lr = 0.08 n_estimators = 5000 ------> mse 0.21 # Long running time\\n13. lr = 0.08 n_estimators =  500 ------> mse 0.21 \\n14. lr = 0.08 n_estimators =  100 ------> mse 0.21 # Keep this\\n\\n15. alpha default 0.9 change to 0.5 ----> mse 0.21\\n16. alpha = 0.1 ------------------------> mse 0.21\\n17. alpha = 0.08 -----------------------> mse 0.21\\n17. alpha = 0.008 ----------------------> mse 0.21 # Keep alpha 0.9\\n\\n'"
      ]
     },
     "execution_count": 13,
     "metadata": {},
     "output_type": "execute_result"
    }
   ],
   "source": [
    "modelGradientBoosting = GradientBoostingRegressor(\n",
    "    learning_rate=0.08,\n",
    "    n_estimators=100,\n",
    "    subsample=1.0, \n",
    "    criterion='mse', \n",
    "    min_samples_split=4, \n",
    "    min_samples_leaf=2, \n",
    "    min_weight_fraction_leaf=0.0, \n",
    "    max_depth=9, \n",
    "    min_impurity_decrease=0.0, \n",
    "    init=None, \n",
    "    random_state=0, \n",
    "    max_features=None,\n",
    "    alpha=0.9,\n",
    "    verbose=0,\n",
    "    max_leaf_nodes=None,\n",
    "    warm_start=False,\n",
    "    validation_fraction=0.1,\n",
    "    n_iter_no_change=None,\n",
    "    tol=0.0001,\n",
    "    ccp_alpha=0.0\n",
    ")\n",
    "\"\"\"\n",
    "test_size = 0.2\n",
    "random_state = 42\n",
    "features_final = [\"area_total\", \"distance\", \"rooms\", \n",
    "                  \"floor\", \"district\"]\n",
    "\n",
    "Tweaking hyper parameters:\n",
    "\n",
    "1. default from \"Ensamble\" lr = 0.01 ---> mse 0.22\n",
    "2. change lr = 0.04 --------------------> mse 0.22\n",
    "3. change n_estimators = 2500 ----------> mse 0.22\n",
    "4. change n_estimators = 1000 ----------> mse 0.22\n",
    "5. change n_estimators =  500 ----------> mse 0.22\n",
    "6. change n_estimators =  100 ----------> mse 0.22\n",
    "7. change n_estimators =   50 ----------> mse 0.22\n",
    "8. change lr = 0.08 --------------------> mse 0.21\n",
    "9. change lr = 0.09 --------------------> mse 0.21\n",
    "10. change lr = 0.1 --------------------> mse 0.23\n",
    "11. lr = 0.08 n_estimators = 1000 ------> mse 0.21\n",
    "12. lr = 0.08 n_estimators = 5000 ------> mse 0.21 # Long running time\n",
    "13. lr = 0.08 n_estimators =  500 ------> mse 0.21 \n",
    "14. lr = 0.08 n_estimators =  100 ------> mse 0.21 # Keep this\n",
    "\n",
    "15. alpha default 0.9 change to 0.5 ----> mse 0.21\n",
    "16. alpha = 0.1 ------------------------> mse 0.21\n",
    "17. alpha = 0.08 -----------------------> mse 0.21\n",
    "17. alpha = 0.008 ----------------------> mse 0.21 # Keep alpha 0.9\n",
    "\n",
    "\"\"\""
   ]
  },
  {
   "cell_type": "code",
   "execution_count": 14,
   "id": "74e9d002",
   "metadata": {},
   "outputs": [
    {
     "data": {
      "text/plain": [
       "GradientBoostingRegressor(criterion='mse', learning_rate=0.08, max_depth=9,\n",
       "                          min_samples_leaf=2, min_samples_split=4,\n",
       "                          random_state=0)"
      ]
     },
     "execution_count": 14,
     "metadata": {},
     "output_type": "execute_result"
    }
   ],
   "source": [
    "modelGradientBoosting.fit(X_train, y_train)"
   ]
  },
  {
   "cell_type": "code",
   "execution_count": 15,
   "id": "b6016dcb",
   "metadata": {},
   "outputs": [],
   "source": [
    "gb_prediction = modelGradientBoosting.predict(X_test)"
   ]
  },
  {
   "cell_type": "code",
   "execution_count": 16,
   "id": "cfe88ae1",
   "metadata": {},
   "outputs": [
    {
     "name": "stdout",
     "output_type": "stream",
     "text": [
      "Test MSE: 0.21\n"
     ]
    }
   ],
   "source": [
    "gb_mse = round(mean_squared_error(gb_prediction, y_test), 2)\n",
    "print('Test MSE:', gb_mse)"
   ]
  },
  {
   "cell_type": "code",
   "execution_count": 17,
   "id": "abff5cb8",
   "metadata": {},
   "outputs": [
    {
     "data": {
      "text/plain": [
       "Text(0, 0.5, 'Ground Truth')"
      ]
     },
     "execution_count": 17,
     "metadata": {},
     "output_type": "execute_result"
    },
    {
     "data": {
      "image/png": "[encoded data removed]",
      "text/plain": [
       "<Figure size 432x288 with 1 Axes>"
      ]
     },
     "metadata": {},
     "output_type": "display_data"
    }
   ],
   "source": [
    "plt.scatter(gb_prediction, y_test)\n",
    "plt.xlabel('Gradient Boosting prediction')\n",
    "plt.ylabel('Ground Truth')"
   ]
  },
  {
   "cell_type": "code",
   "execution_count": 18,
   "id": "242bc752",
   "metadata": {},
   "outputs": [
    {
     "data": {
      "image/png": "[encoded data removed]",
      "text/plain": [
       "<Figure size 432x288 with 1 Axes>"
      ]
     },
     "metadata": {},
     "output_type": "display_data"
    }
   ],
   "source": [
    "importances = modelGradientBoosting.feature_importances_\n",
    "forest_importances = pd.Series(importances, index=X.columns)\n",
    "\n",
    "fig, ax = plt.subplots()\n",
    "forest_importances.plot.bar(ax=ax)\n",
    "ax.set_title(\"MDI or Gini Importance\")\n",
    "ax.set_ylabel(\"Mean decrease in impurity\")\n",
    "fig.tight_layout()"
   ]
  },
  {
   "cell_type": "code",
   "execution_count": 19,
   "id": "4e65b6cb",
   "metadata": {},
   "outputs": [
    {
     "name": "stdout",
     "output_type": "stream",
     "text": [
      "[-0.19326224 -0.23585099 -0.19700884 ... -0.26345875 -0.10153249\n",
      " -0.03668979]\n"
     ]
    }
   ],
   "source": [
    "print(gb_prediction)"
   ]
  },
  {
   "cell_type": "code",
   "execution_count": 20,
   "id": "3779a46c",
   "metadata": {},
   "outputs": [],
   "source": [
    "gb_prediction_REAL = modelGradientBoosting.predict(XTest)\n",
    "data.write_results(\"gb_prediction.csv\", gb_prediction_REAL)"
   ]
  },
  {
   "cell_type": "markdown",
   "id": "d2160899",
   "metadata": {},
   "source": [
    "# LGBM regression"
   ]
  },
  {
   "cell_type": "code",
   "execution_count": 21,
   "id": "26253ff8",
   "metadata": {},
   "outputs": [],
   "source": [
    "X = XTrain.copy()\n",
    "y = YTrain.copy()"
   ]
  },
  {
   "cell_type": "code",
   "execution_count": 22,
   "id": "f4c4aae0",
   "metadata": {},
   "outputs": [],
   "source": [
    "X_train, X_test, y_train, y_test = train_test_split(X, y, test_size=0.2, random_state=42)"
   ]
  },
  {
   "cell_type": "code",
   "execution_count": 23,
   "id": "0a81252c",
   "metadata": {},
   "outputs": [
    {
     "data": {
      "text/plain": [
       "'\\ntest_size = 0.2\\nrandom_state = 42\\nfeatures_final = [\"area_total\", \"distance\", \"rooms\", \\n                  \"floor\", \"district\"]\\n\\n1. num_leaves (8 or 9) ------------------> mse 0.391182 # Keep 9\\n2. change num_leaves = 100 (default 10)--> mse 0.41\\n3. change num_leaves =  50 --------------> mse 0.41\\n4. change num_leaves =   5 --------------> mse 0.392748\\n5. change max_depth = 10 (default 5)-----> mse 0.388720\\n6. change max_depth =  9 ----------------> mse 0.37919  # Keep 9\\n7. change lr = 0.09 (default 0.05) ------> mse 0.401366 # Keep 0.05\\n8. change lr = 0.02 ---------------------> mse 0.398036\\n9. change n_estimators (default 2000) ---> mse 0.401958 # Worse 1000\\n10. change n_estimators 3000 ------------> mse 0.384764 # Worse 3000\\n11. change n_estimators 2500 -------------------------> # Keep 2000\\n\\n'"
      ]
     },
     "execution_count": 23,
     "metadata": {},
     "output_type": "execute_result"
    }
   ],
   "source": [
    "modelLGBM = lgb.LGBMRegressor(\n",
    "    num_leaves=9,\n",
    "    max_depth=9, \n",
    "    random_state=42, \n",
    "    silent=True, \n",
    "    metric='mse',\n",
    "    n_jobs=4, \n",
    "    n_estimators=2000,\n",
    "    colsample_bytree=0.95,\n",
    "    subsample=0.9,\n",
    "    learning_rate=0.05\n",
    ")\n",
    "\n",
    "\"\"\"\n",
    "test_size = 0.2\n",
    "random_state = 42\n",
    "features_final = [\"area_total\", \"distance\", \"rooms\", \n",
    "                  \"floor\", \"district\"]\n",
    "\n",
    "1. num_leaves (8 or 9) ------------------> mse 0.391182 # Keep 9\n",
    "2. change num_leaves = 100 (default 10)--> mse 0.41\n",
    "3. change num_leaves =  50 --------------> mse 0.41\n",
    "4. change num_leaves =   5 --------------> mse 0.392748\n",
    "5. change max_depth = 10 (default 5)-----> mse 0.388720\n",
    "6. change max_depth =  9 ----------------> mse 0.37919  # Keep 9\n",
    "7. change lr = 0.09 (default 0.05) ------> mse 0.401366 # Keep 0.05\n",
    "8. change lr = 0.02 ---------------------> mse 0.398036\n",
    "9. change n_estimators (default 2000) ---> mse 0.401958 # Worse 1000\n",
    "10. change n_estimators 3000 ------------> mse 0.384764 # Worse 3000\n",
    "11. change n_estimators 2500 -------------------------> # Keep 2000\n",
    "\n",
    "\"\"\""
   ]
  },
  {
   "cell_type": "code",
   "execution_count": 24,
   "id": "a244f0c8",
   "metadata": {},
   "outputs": [
    {
     "data": {
      "text/plain": [
       "LGBMRegressor(colsample_bytree=0.95, learning_rate=0.05, max_depth=9,\n",
       "              metric='mse', n_estimators=2000, n_jobs=4, num_leaves=9,\n",
       "              random_state=42, subsample=0.9)"
      ]
     },
     "execution_count": 24,
     "metadata": {},
     "output_type": "execute_result"
    }
   ],
   "source": [
    "modelLGBM.fit(X_train, y_train)"
   ]
  },
  {
   "cell_type": "code",
   "execution_count": 25,
   "id": "f4c61b47",
   "metadata": {},
   "outputs": [],
   "source": [
    "lgbm_prediction = modelLGBM.predict(X_test)"
   ]
  },
  {
   "cell_type": "code",
   "execution_count": 26,
   "id": "b25641fa",
   "metadata": {},
   "outputs": [
    {
     "name": "stdout",
     "output_type": "stream",
     "text": [
      "Test MSE: 0.37919\n"
     ]
    }
   ],
   "source": [
    "lgb_mse = round(mean_squared_error(lgbm_prediction, y_test), 6)\n",
    "print('Test MSE:', lgb_mse)"
   ]
  },
  {
   "cell_type": "code",
   "execution_count": 27,
   "id": "765526fb",
   "metadata": {},
   "outputs": [
    {
     "data": {
      "text/plain": [
       "Text(0, 0.5, 'Ground Truth')"
      ]
     },
     "execution_count": 27,
     "metadata": {},
     "output_type": "execute_result"
    },
    {
     "data": {
      "image/png": "[encoded data removed]",
      "text/plain": [
       "<Figure size 432x288 with 1 Axes>"
      ]
     },
     "metadata": {},
     "output_type": "display_data"
    }
   ],
   "source": [
    "plt.scatter(lgbm_prediction, y_test)\n",
    "plt.xlabel('LightGBM prediction')\n",
    "plt.ylabel('Ground Truth')"
   ]
  },
  {
   "cell_type": "code",
   "execution_count": 28,
   "id": "7069483e",
   "metadata": {},
   "outputs": [
    {
     "data": {
      "image/png": "[encoded data removed]",
      "text/plain": [
       "<Figure size 432x288 with 1 Axes>"
      ]
     },
     "metadata": {},
     "output_type": "display_data"
    }
   ],
   "source": [
    "importances = modelLGBM.feature_importances_\n",
    "forest_importances = pd.Series(importances, index=X.columns)\n",
    "\n",
    "fig, ax = plt.subplots()\n",
    "forest_importances.plot.bar(ax=ax)\n",
    "ax.set_title(\"Gini Importance\")\n",
    "ax.set_ylabel(\"Importance\")\n",
    "fig.tight_layout()"
   ]
  },
  {
   "cell_type": "code",
   "execution_count": 29,
   "id": "a7521743",
   "metadata": {},
   "outputs": [
    {
     "name": "stdout",
     "output_type": "stream",
     "text": [
      "[-0.15087694 -0.25395514 -0.21401283 ... -0.26335452 -0.10094462\n",
      " -0.00741395]\n"
     ]
    }
   ],
   "source": [
    "print(lgbm_prediction)"
   ]
  },
  {
   "cell_type": "code",
   "execution_count": 30,
   "id": "2e5ce2a1",
   "metadata": {},
   "outputs": [
    {
     "name": "stdout",
     "output_type": "stream",
     "text": [
      "4657\n"
     ]
    }
   ],
   "source": [
    "print(len(lgbm_prediction))"
   ]
  },
  {
   "cell_type": "code",
   "execution_count": 31,
   "id": "c26a52ce",
   "metadata": {},
   "outputs": [],
   "source": [
    "lgbm_prediction_REAL = modelLGBM.predict(XTest)"
   ]
  },
  {
   "cell_type": "code",
   "execution_count": 32,
   "id": "7ddf06c8",
   "metadata": {},
   "outputs": [],
   "source": [
    "data.write_results(\"lgbm_prediction.csv\", lgbm_prediction_REAL)"
   ]
  },
  {
   "cell_type": "code",
   "execution_count": 34,
   "id": "bf263b7f",
   "metadata": {},
   "outputs": [],
   "source": [
    "from functools import reduce\n",
    "mod1 = pd.read_csv(\"gb_prediction.csv\")\n",
    "mod2 = pd.read_csv(\"lgbm_prediction.csv\")\n",
    "mod3 = pd.read_csv(\"price_pred_1.csv\")\n",
    "\n",
    "r = reduce(lambda a, b: a.add(b, fill_value=0), [mod1[\"price_prediction\"], mod2[\"price_prediction\"], mod3[\"price_prediction\"]])\n",
    "r_mean = (r * 1.0/3).to_numpy()\n",
    "\n",
    "data.write_results(\"three_model_prediction.csv\", r_mean, revert=False)\n"
   ]
  },
  {
   "cell_type": "code",
   "execution_count": 35,
   "id": "8c3642d8",
   "metadata": {},
   "outputs": [
    {
     "data": {
      "text/html": [
       "<div>\n",
       "<style scoped>\n",
       "    .dataframe tbody tr th:only-of-type {\n",
       "        vertical-align: middle;\n",
       "    }\n",
       "\n",
       "    .dataframe tbody tr th {\n",
       "        vertical-align: top;\n",
       "    }\n",
       "\n",
       "    .dataframe thead th {\n",
       "        text-align: right;\n",
       "    }\n",
       "</style>\n",
       "<table border=\"1\" class=\"dataframe\">\n",
       "  <thead>\n",
       "    <tr style=\"text-align: right;\">\n",
       "      <th></th>\n",
       "      <th>area_total</th>\n",
       "      <th>distance</th>\n",
       "      <th>rooms</th>\n",
       "      <th>floor</th>\n",
       "      <th>district</th>\n",
       "    </tr>\n",
       "  </thead>\n",
       "  <tbody>\n",
       "    <tr>\n",
       "      <th>0</th>\n",
       "      <td>5.675295</td>\n",
       "      <td>0.293752</td>\n",
       "      <td>6</td>\n",
       "      <td>3</td>\n",
       "      <td>8</td>\n",
       "    </tr>\n",
       "    <tr>\n",
       "      <th>1</th>\n",
       "      <td>-0.896821</td>\n",
       "      <td>0.116589</td>\n",
       "      <td>1</td>\n",
       "      <td>1</td>\n",
       "      <td>1</td>\n",
       "    </tr>\n",
       "    <tr>\n",
       "      <th>2</th>\n",
       "      <td>0.494253</td>\n",
       "      <td>-0.040901</td>\n",
       "      <td>4</td>\n",
       "      <td>3</td>\n",
       "      <td>2</td>\n",
       "    </tr>\n",
       "    <tr>\n",
       "      <th>3</th>\n",
       "      <td>0.087932</td>\n",
       "      <td>0.074818</td>\n",
       "      <td>3</td>\n",
       "      <td>11</td>\n",
       "      <td>2</td>\n",
       "    </tr>\n",
       "    <tr>\n",
       "      <th>4</th>\n",
       "      <td>0.096804</td>\n",
       "      <td>0.074818</td>\n",
       "      <td>3</td>\n",
       "      <td>5</td>\n",
       "      <td>2</td>\n",
       "    </tr>\n",
       "  </tbody>\n",
       "</table>\n",
       "</div>"
      ],
      "text/plain": [
       "   area_total  distance  rooms  floor  district\n",
       "0    5.675295  0.293752      6      3         8\n",
       "1   -0.896821  0.116589      1      1         1\n",
       "2    0.494253 -0.040901      4      3         2\n",
       "3    0.087932  0.074818      3     11         2\n",
       "4    0.096804  0.074818      3      5         2"
      ]
     },
     "execution_count": 35,
     "metadata": {},
     "output_type": "execute_result"
    }
   ],
   "source": [
    "XTest.head()"
   ]
  },
  {
   "cell_type": "code",
   "execution_count": 36,
   "id": "40aeb426",
   "metadata": {},
   "outputs": [
    {
     "data": {
      "text/html": [
       "<div>\n",
       "<style scoped>\n",
       "    .dataframe tbody tr th:only-of-type {\n",
       "        vertical-align: middle;\n",
       "    }\n",
       "\n",
       "    .dataframe tbody tr th {\n",
       "        vertical-align: top;\n",
       "    }\n",
       "\n",
       "    .dataframe thead th {\n",
       "        text-align: right;\n",
       "    }\n",
       "</style>\n",
       "<table border=\"1\" class=\"dataframe\">\n",
       "  <thead>\n",
       "    <tr style=\"text-align: right;\">\n",
       "      <th></th>\n",
       "      <th>id</th>\n",
       "      <th>price_prediction</th>\n",
       "    </tr>\n",
       "  </thead>\n",
       "  <tbody>\n",
       "    <tr>\n",
       "      <th>0</th>\n",
       "      <td>26052</td>\n",
       "      <td>1.857861e+08</td>\n",
       "    </tr>\n",
       "    <tr>\n",
       "      <th>1</th>\n",
       "      <td>29404</td>\n",
       "      <td>4.492224e+06</td>\n",
       "    </tr>\n",
       "    <tr>\n",
       "      <th>2</th>\n",
       "      <td>24089</td>\n",
       "      <td>1.658347e+07</td>\n",
       "    </tr>\n",
       "    <tr>\n",
       "      <th>3</th>\n",
       "      <td>24033</td>\n",
       "      <td>1.370570e+07</td>\n",
       "    </tr>\n",
       "    <tr>\n",
       "      <th>4</th>\n",
       "      <td>32976</td>\n",
       "      <td>1.373504e+07</td>\n",
       "    </tr>\n",
       "  </tbody>\n",
       "</table>\n",
       "</div>"
      ],
      "text/plain": [
       "      id  price_prediction\n",
       "0  26052      1.857861e+08\n",
       "1  29404      4.492224e+06\n",
       "2  24089      1.658347e+07\n",
       "3  24033      1.370570e+07\n",
       "4  32976      1.373504e+07"
      ]
     },
     "execution_count": 36,
     "metadata": {},
     "output_type": "execute_result"
    }
   ],
   "source": [
    "mod1.head()"
   ]
  },
  {
   "cell_type": "code",
   "execution_count": 37,
   "id": "8c0bc770",
   "metadata": {},
   "outputs": [
    {
     "data": {
      "text/plain": [
       "(9937, 2)"
      ]
     },
     "execution_count": 37,
     "metadata": {},
     "output_type": "execute_result"
    }
   ],
   "source": [
    "mod1.shape"
   ]
  },
  {
   "cell_type": "code",
   "execution_count": 38,
   "id": "c7479728",
   "metadata": {},
   "outputs": [
    {
     "data": {
      "text/html": [
       "<div>\n",
       "<style scoped>\n",
       "    .dataframe tbody tr th:only-of-type {\n",
       "        vertical-align: middle;\n",
       "    }\n",
       "\n",
       "    .dataframe tbody tr th {\n",
       "        vertical-align: top;\n",
       "    }\n",
       "\n",
       "    .dataframe thead th {\n",
       "        text-align: right;\n",
       "    }\n",
       "</style>\n",
       "<table border=\"1\" class=\"dataframe\">\n",
       "  <thead>\n",
       "    <tr style=\"text-align: right;\">\n",
       "      <th></th>\n",
       "      <th>id</th>\n",
       "      <th>price_prediction</th>\n",
       "    </tr>\n",
       "  </thead>\n",
       "  <tbody>\n",
       "    <tr>\n",
       "      <th>0</th>\n",
       "      <td>26052</td>\n",
       "      <td>1.477332e+08</td>\n",
       "    </tr>\n",
       "    <tr>\n",
       "      <th>1</th>\n",
       "      <td>29404</td>\n",
       "      <td>4.153668e+06</td>\n",
       "    </tr>\n",
       "    <tr>\n",
       "      <th>2</th>\n",
       "      <td>24089</td>\n",
       "      <td>1.808668e+07</td>\n",
       "    </tr>\n",
       "    <tr>\n",
       "      <th>3</th>\n",
       "      <td>24033</td>\n",
       "      <td>1.347672e+07</td>\n",
       "    </tr>\n",
       "    <tr>\n",
       "      <th>4</th>\n",
       "      <td>32976</td>\n",
       "      <td>1.409905e+07</td>\n",
       "    </tr>\n",
       "  </tbody>\n",
       "</table>\n",
       "</div>"
      ],
      "text/plain": [
       "      id  price_prediction\n",
       "0  26052      1.477332e+08\n",
       "1  29404      4.153668e+06\n",
       "2  24089      1.808668e+07\n",
       "3  24033      1.347672e+07\n",
       "4  32976      1.409905e+07"
      ]
     },
     "execution_count": 38,
     "metadata": {},
     "output_type": "execute_result"
    }
   ],
   "source": [
    "mod2.head()"
   ]
  },
  {
   "cell_type": "code",
   "execution_count": 39,
   "id": "f2d2fb58",
   "metadata": {},
   "outputs": [
    {
     "data": {
      "text/plain": [
       "(9937, 2)"
      ]
     },
     "execution_count": 39,
     "metadata": {},
     "output_type": "execute_result"
    }
   ],
   "source": [
    "mod2.shape"
   ]
  },
  {
   "cell_type": "code",
   "execution_count": 40,
   "id": "bede01bf",
   "metadata": {},
   "outputs": [
    {
     "data": {
      "text/html": [
       "<div>\n",
       "<style scoped>\n",
       "    .dataframe tbody tr th:only-of-type {\n",
       "        vertical-align: middle;\n",
       "    }\n",
       "\n",
       "    .dataframe tbody tr th {\n",
       "        vertical-align: top;\n",
       "    }\n",
       "\n",
       "    .dataframe thead th {\n",
       "        text-align: right;\n",
       "    }\n",
       "</style>\n",
       "<table border=\"1\" class=\"dataframe\">\n",
       "  <thead>\n",
       "    <tr style=\"text-align: right;\">\n",
       "      <th></th>\n",
       "      <th>id</th>\n",
       "      <th>price_prediction</th>\n",
       "    </tr>\n",
       "  </thead>\n",
       "  <tbody>\n",
       "    <tr>\n",
       "      <th>0</th>\n",
       "      <td>26052</td>\n",
       "      <td>1.811071e+08</td>\n",
       "    </tr>\n",
       "    <tr>\n",
       "      <th>1</th>\n",
       "      <td>29404</td>\n",
       "      <td>4.304328e+06</td>\n",
       "    </tr>\n",
       "    <tr>\n",
       "      <th>2</th>\n",
       "      <td>24089</td>\n",
       "      <td>1.758720e+07</td>\n",
       "    </tr>\n",
       "    <tr>\n",
       "      <th>3</th>\n",
       "      <td>24033</td>\n",
       "      <td>1.520463e+07</td>\n",
       "    </tr>\n",
       "    <tr>\n",
       "      <th>4</th>\n",
       "      <td>32976</td>\n",
       "      <td>1.535471e+07</td>\n",
       "    </tr>\n",
       "  </tbody>\n",
       "</table>\n",
       "</div>"
      ],
      "text/plain": [
       "      id  price_prediction\n",
       "0  26052      1.811071e+08\n",
       "1  29404      4.304328e+06\n",
       "2  24089      1.758720e+07\n",
       "3  24033      1.520463e+07\n",
       "4  32976      1.535471e+07"
      ]
     },
     "execution_count": 40,
     "metadata": {},
     "output_type": "execute_result"
    }
   ],
   "source": [
    "mod3.head()"
   ]
  },
  {
   "cell_type": "code",
   "execution_count": 41,
   "id": "801bfe8e",
   "metadata": {},
   "outputs": [
    {
     "data": {
      "text/html": [
       "<div>\n",
       "<style scoped>\n",
       "    .dataframe tbody tr th:only-of-type {\n",
       "        vertical-align: middle;\n",
       "    }\n",
       "\n",
       "    .dataframe tbody tr th {\n",
       "        vertical-align: top;\n",
       "    }\n",
       "\n",
       "    .dataframe thead th {\n",
       "        text-align: right;\n",
       "    }\n",
       "</style>\n",
       "<table border=\"1\" class=\"dataframe\">\n",
       "  <thead>\n",
       "    <tr style=\"text-align: right;\">\n",
       "      <th></th>\n",
       "      <th>id</th>\n",
       "      <th>price_prediction</th>\n",
       "    </tr>\n",
       "  </thead>\n",
       "  <tbody>\n",
       "    <tr>\n",
       "      <th>0</th>\n",
       "      <td>26052</td>\n",
       "      <td>1.715421e+08</td>\n",
       "    </tr>\n",
       "    <tr>\n",
       "      <th>1</th>\n",
       "      <td>29404</td>\n",
       "      <td>4.316740e+06</td>\n",
       "    </tr>\n",
       "    <tr>\n",
       "      <th>2</th>\n",
       "      <td>24089</td>\n",
       "      <td>1.741911e+07</td>\n",
       "    </tr>\n",
       "    <tr>\n",
       "      <th>3</th>\n",
       "      <td>24033</td>\n",
       "      <td>1.412901e+07</td>\n",
       "    </tr>\n",
       "    <tr>\n",
       "      <th>4</th>\n",
       "      <td>32976</td>\n",
       "      <td>1.439627e+07</td>\n",
       "    </tr>\n",
       "  </tbody>\n",
       "</table>\n",
       "</div>"
      ],
      "text/plain": [
       "      id  price_prediction\n",
       "0  26052      1.715421e+08\n",
       "1  29404      4.316740e+06\n",
       "2  24089      1.741911e+07\n",
       "3  24033      1.412901e+07\n",
       "4  32976      1.439627e+07"
      ]
     },
     "execution_count": 41,
     "metadata": {},
     "output_type": "execute_result"
    }
   ],
   "source": [
    "# Scoring for this model on Leaderboard is 0.31293 (only RF 0.34110)\n",
    "# Using mean of score for RF + GB + LGBM as prediction\n",
    "\n",
    "# No restrictions on outer ranges \n",
    "\n",
    "# Only run for features that have no NaN \n",
    "# [\"area_total\", \"distance\", \"rooms\", \"floor\", \"district\"]\n",
    "\n",
    "# LGBM has better impact on distance and floor than the other models\n",
    "# All models have high impact from area_total\n",
    "\n",
    "final = pd.read_csv(\"three_model_prediction.csv\")\n",
    "final.head()"
   ]
  },
  {
   "cell_type": "code",
   "execution_count": null,
   "id": "a36c0c53",
   "metadata": {},
   "outputs": [],
   "source": []
  }
 ],
 "metadata": {
  "kernelspec": {
   "display_name": "Python 3 (ipykernel)",
   "language": "python",
   "name": "python3"
  },
  "language_info": {
   "codemirror_mode": {
    "name": "ipython",
    "version": 3
   },
   "file_extension": ".py",
   "mimetype": "text/x-python",
   "name": "python",
   "nbconvert_exporter": "python",
   "pygments_lexer": "ipython3",
   "version": "3.8.11"
  }
 },
 "nbformat": 4,
 "nbformat_minor": 5
}
