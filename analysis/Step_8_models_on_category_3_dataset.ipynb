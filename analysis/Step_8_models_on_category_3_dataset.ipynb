{
 "cells": [
  {
   "cell_type": "code",
   "execution_count": 1,
   "id": "ae8b36bd",
   "metadata": {},
   "outputs": [],
   "source": [
    "import pandas as pd\n",
    "import numpy as np\n",
    "import h2o\n",
    "import lime\n",
    "from lime import lime_tabular\n",
    "\n",
    "from sklearn.model_selection import train_test_split, KFold\n",
    "from sklearn.tree import DecisionTreeRegressor\n",
    "from sklearn.metrics import mean_squared_error, mean_squared_log_error\n",
    "from sklearn.ensemble import RandomForestRegressor\n",
    "from sklearn.ensemble import AdaBoostRegressor\n",
    "from sklearn.ensemble import GradientBoostingRegressor\n",
    "import lightgbm as lgb\n",
    "from catboost import CatBoostRegressor\n",
    "from sklearn.decomposition import PCA  # Principal component\n",
    "from sklearn.linear_model import LinearRegression\n",
    "from h2o.automl import H2OAutoML as ml\n",
    "from h2o.estimators import H2OXGBoostEstimator\n",
    "\n",
    "from functions.datacleaning import MoscowHousing as mh\n",
    "from functions.clean import revert, write_predictions\n",
    "from functions.distance import get_distance_coordinates, norm_features, PCA_plot\n",
    "\n",
    "import matplotlib.pylab as plt\n",
    "import seaborn as sns\n",
    "plt.style.use('ggplot')"
   ]
  },
  {
   "cell_type": "code",
   "execution_count": 2,
   "id": "b7df752b",
   "metadata": {},
   "outputs": [],
   "source": [
    "XTrain = pd.read_csv(\"../prepared_data/train_prepared_category_3.csv\")\n",
    "XTest = pd.read_csv(\"../prepared_data/test_prepared_category_3.csv\")"
   ]
  },
  {
   "cell_type": "code",
   "execution_count": 3,
   "id": "644dc05f",
   "metadata": {},
   "outputs": [],
   "source": [
    "X_Train = XTrain.copy()\n",
    "y_Train = XTrain[\"price\"].copy()\n",
    "y_Train = norm_features(y_Train)  # use z-scores to train\n",
    "X_Test = XTest.copy()\n",
    "drop_features = [\"Unnamed: 0\", \n",
    "                 \"id\", \n",
    "                 \"street\", \n",
    "                 \"address\"]\n",
    "X_Train = X_Train.drop(drop_features, axis=1)\n",
    "X_Train = X_Train.drop(\"price\", axis=1)\n",
    "X_Test = X_Test.drop(drop_features, axis=1)"
   ]
  },
  {
   "cell_type": "code",
   "execution_count": null,
   "id": "620203c9",
   "metadata": {},
   "outputs": [],
   "source": []
  },
  {
   "cell_type": "code",
   "execution_count": null,
   "id": "f9e89c5c",
   "metadata": {},
   "outputs": [],
   "source": []
  },
  {
   "cell_type": "code",
   "execution_count": 4,
   "id": "8b0e1e64",
   "metadata": {},
   "outputs": [
    {
     "name": "stdout",
     "output_type": "stream",
     "text": [
      "<class 'pandas.core.frame.DataFrame'>\n",
      "RangeIndex: 23285 entries, 0 to 23284\n",
      "Data columns (total 87 columns):\n",
      " #   Column                 Non-Null Count  Dtype  \n",
      "---  ------                 --------------  -----  \n",
      " 0   area_total             23285 non-null  float64\n",
      " 1   area_kitchen           23285 non-null  float64\n",
      " 2   area_living            23285 non-null  float64\n",
      " 3   floor                  23285 non-null  float64\n",
      " 4   rooms                  23285 non-null  float64\n",
      " 5   ceiling                23285 non-null  float64\n",
      " 6   building_id            23285 non-null  int64  \n",
      " 7   latitude               23285 non-null  float64\n",
      " 8   longitude              23285 non-null  float64\n",
      " 9   district               23285 non-null  int64  \n",
      " 10  constructed            22491 non-null  float64\n",
      " 11  stories                23285 non-null  float64\n",
      " 12  distance               23285 non-null  float64\n",
      " 13  distance_metro         23285 non-null  float64\n",
      " 14  seller_0.0             23285 non-null  int64  \n",
      " 15  seller_1.0             23285 non-null  int64  \n",
      " 16  seller_2.0             23285 non-null  int64  \n",
      " 17  seller_3.0             23285 non-null  int64  \n",
      " 18  seller_nan             23285 non-null  int64  \n",
      " 19  layout_0.0             23285 non-null  int64  \n",
      " 20  layout_1.0             23285 non-null  int64  \n",
      " 21  layout_2.0             23285 non-null  int64  \n",
      " 22  layout_nan             23285 non-null  int64  \n",
      " 23  condition_0.0          23285 non-null  int64  \n",
      " 24  condition_1.0          23285 non-null  int64  \n",
      " 25  condition_2.0          23285 non-null  int64  \n",
      " 26  condition_3.0          23285 non-null  int64  \n",
      " 27  condition_nan          23285 non-null  int64  \n",
      " 28  new_0.0                23285 non-null  int64  \n",
      " 29  new_1.0                23285 non-null  int64  \n",
      " 30  new_nan                23285 non-null  int64  \n",
      " 31  material_0.0           23285 non-null  int64  \n",
      " 32  material_1.0           23285 non-null  int64  \n",
      " 33  material_2.0           23285 non-null  int64  \n",
      " 34  material_3.0           23285 non-null  int64  \n",
      " 35  material_4.0           23285 non-null  int64  \n",
      " 36  material_5.0           23285 non-null  int64  \n",
      " 37  material_6.0           23285 non-null  int64  \n",
      " 38  material_nan           23285 non-null  int64  \n",
      " 39  garbage_chute_0.0      23285 non-null  int64  \n",
      " 40  garbage_chute_1.0      23285 non-null  int64  \n",
      " 41  garbage_chute_nan      23285 non-null  int64  \n",
      " 42  heating_0.0            23285 non-null  int64  \n",
      " 43  heating_1.0            23285 non-null  int64  \n",
      " 44  heating_2.0            23285 non-null  int64  \n",
      " 45  heating_3.0            23285 non-null  int64  \n",
      " 46  heating_nan            23285 non-null  int64  \n",
      " 47  bathrooms_shared_0.0   23285 non-null  int64  \n",
      " 48  bathrooms_shared_1.0   23285 non-null  int64  \n",
      " 49  bathrooms_shared_2.0   23285 non-null  int64  \n",
      " 50  bathrooms_shared_3.0   23285 non-null  int64  \n",
      " 51  bathrooms_shared_4.0   23285 non-null  int64  \n",
      " 52  bathrooms_shared_nan   23285 non-null  int64  \n",
      " 53  bathrooms_private_0.0  23285 non-null  int64  \n",
      " 54  bathrooms_private_1.0  23285 non-null  int64  \n",
      " 55  bathrooms_private_2.0  23285 non-null  int64  \n",
      " 56  bathrooms_private_3.0  23285 non-null  int64  \n",
      " 57  bathrooms_private_4.0  23285 non-null  int64  \n",
      " 58  bathrooms_private_nan  23285 non-null  int64  \n",
      " 59  windows_court_0.0      23285 non-null  int64  \n",
      " 60  windows_court_1.0      23285 non-null  int64  \n",
      " 61  windows_court_nan      23285 non-null  int64  \n",
      " 62  windows_street_0.0     23285 non-null  int64  \n",
      " 63  windows_street_1.0     23285 non-null  int64  \n",
      " 64  windows_street_nan     23285 non-null  int64  \n",
      " 65  balconies_0.0          23285 non-null  int64  \n",
      " 66  balconies_1.0          23285 non-null  int64  \n",
      " 67  balconies_2.0          23285 non-null  int64  \n",
      " 68  balconies_3.0          23285 non-null  int64  \n",
      " 69  balconies_4.0          23285 non-null  int64  \n",
      " 70  balconies_nan          23285 non-null  int64  \n",
      " 71  loggias_0.0            23285 non-null  int64  \n",
      " 72  loggias_1.0            23285 non-null  int64  \n",
      " 73  loggias_2.0            23285 non-null  int64  \n",
      " 74  loggias_3.0            23285 non-null  int64  \n",
      " 75  loggias_4.0            23285 non-null  int64  \n",
      " 76  loggias_nan            23285 non-null  int64  \n",
      " 77  phones_0.0             23285 non-null  int64  \n",
      " 78  phones_1.0             23285 non-null  int64  \n",
      " 79  phones_2.0             23285 non-null  int64  \n",
      " 80  phones_nan             23285 non-null  int64  \n",
      " 81  parking_0.0            23285 non-null  int64  \n",
      " 82  parking_1.0            23285 non-null  int64  \n",
      " 83  parking_2.0            23285 non-null  int64  \n",
      " 84  parking_nan            23285 non-null  int64  \n",
      " 85  elevator               23285 non-null  int64  \n",
      " 86  elevator_no            23285 non-null  int64  \n",
      "dtypes: float64(12), int64(75)\n",
      "memory usage: 15.5 MB\n"
     ]
    }
   ],
   "source": [
    "X_Train.info()"
   ]
  },
  {
   "cell_type": "code",
   "execution_count": 5,
   "id": "b9033fa6",
   "metadata": {},
   "outputs": [],
   "source": [
    "X_train, X_test, y_train, y_test = train_test_split(X_Train, y_Train, test_size=0.2, random_state=42)"
   ]
  },
  {
   "cell_type": "code",
   "execution_count": 6,
   "id": "b1d18afc",
   "metadata": {},
   "outputs": [],
   "source": [
    "modelCBR = CatBoostRegressor(\n",
    "    n_estimators=1000,\n",
    "    learning_rate=0.008,\n",
    "    thread_count=-1,\n",
    "    depth=7,\n",
    "    silent=True,\n",
    "    random_seed=42,\n",
    "    bagging_temperature=0.2\n",
    "#     od_type=\"Iter\"\n",
    ")"
   ]
  },
  {
   "cell_type": "code",
   "execution_count": 7,
   "id": "c7217613",
   "metadata": {},
   "outputs": [
    {
     "data": {
      "text/plain": [
       "<catboost.core.CatBoostRegressor at 0x7feaa4e90fd0>"
      ]
     },
     "execution_count": 7,
     "metadata": {},
     "output_type": "execute_result"
    }
   ],
   "source": [
    "modelCBR.fit(X_train, y_train)"
   ]
  },
  {
   "cell_type": "code",
   "execution_count": 8,
   "id": "a6ffe173",
   "metadata": {},
   "outputs": [],
   "source": [
    "# Model prediction on split test set\n",
    "cat_prediction = modelCBR.predict(X_test)"
   ]
  },
  {
   "cell_type": "code",
   "execution_count": 9,
   "id": "31eb98b4",
   "metadata": {},
   "outputs": [
    {
     "name": "stdout",
     "output_type": "stream",
     "text": [
      "Test MSE: 0.20202\n"
     ]
    }
   ],
   "source": [
    "# Kaggle result running all data in category_3: 0.35557 (worse than first run)\n",
    "\n",
    "cat_mse = round(mean_squared_error(cat_prediction, y_test), 5)\n",
    "print('Test MSE:', cat_mse)"
   ]
  },
  {
   "cell_type": "code",
   "execution_count": 10,
   "id": "f710e45b",
   "metadata": {},
   "outputs": [],
   "source": [
    "# Prediction on the actual test set\n",
    "cat_prediction_REAL = modelCBR.predict(X_Test)"
   ]
  },
  {
   "cell_type": "code",
   "execution_count": 11,
   "id": "fc580f5a",
   "metadata": {},
   "outputs": [],
   "source": [
    "pred = pd.DataFrame(cat_prediction_REAL)"
   ]
  },
  {
   "cell_type": "code",
   "execution_count": 12,
   "id": "97a91f50",
   "metadata": {},
   "outputs": [
    {
     "data": {
      "text/html": [
       "<div>\n",
       "<style scoped>\n",
       "    .dataframe tbody tr th:only-of-type {\n",
       "        vertical-align: middle;\n",
       "    }\n",
       "\n",
       "    .dataframe tbody tr th {\n",
       "        vertical-align: top;\n",
       "    }\n",
       "\n",
       "    .dataframe thead th {\n",
       "        text-align: right;\n",
       "    }\n",
       "</style>\n",
       "<table border=\"1\" class=\"dataframe\">\n",
       "  <thead>\n",
       "    <tr style=\"text-align: right;\">\n",
       "      <th></th>\n",
       "      <th>0</th>\n",
       "    </tr>\n",
       "  </thead>\n",
       "  <tbody>\n",
       "    <tr>\n",
       "      <th>0</th>\n",
       "      <td>-0.162352</td>\n",
       "    </tr>\n",
       "    <tr>\n",
       "      <th>1</th>\n",
       "      <td>-0.079324</td>\n",
       "    </tr>\n",
       "    <tr>\n",
       "      <th>2</th>\n",
       "      <td>-0.308742</td>\n",
       "    </tr>\n",
       "    <tr>\n",
       "      <th>3</th>\n",
       "      <td>-0.222903</td>\n",
       "    </tr>\n",
       "    <tr>\n",
       "      <th>4</th>\n",
       "      <td>-0.284702</td>\n",
       "    </tr>\n",
       "  </tbody>\n",
       "</table>\n",
       "</div>"
      ],
      "text/plain": [
       "          0\n",
       "0 -0.162352\n",
       "1 -0.079324\n",
       "2 -0.308742\n",
       "3 -0.222903\n",
       "4 -0.284702"
      ]
     },
     "execution_count": 12,
     "metadata": {},
     "output_type": "execute_result"
    }
   ],
   "source": [
    "pred.head()"
   ]
  },
  {
   "cell_type": "code",
   "execution_count": 13,
   "id": "f466687f",
   "metadata": {},
   "outputs": [],
   "source": [
    "# Kaggle score on this prediction in Step_3 is: 0.29393 (best single performance until now)\n",
    "pred_R = revert(XTrain, pred)"
   ]
  },
  {
   "cell_type": "code",
   "execution_count": 14,
   "id": "859b5756",
   "metadata": {},
   "outputs": [
    {
     "data": {
      "text/html": [
       "<div>\n",
       "<style scoped>\n",
       "    .dataframe tbody tr th:only-of-type {\n",
       "        vertical-align: middle;\n",
       "    }\n",
       "\n",
       "    .dataframe tbody tr th {\n",
       "        vertical-align: top;\n",
       "    }\n",
       "\n",
       "    .dataframe thead th {\n",
       "        text-align: right;\n",
       "    }\n",
       "</style>\n",
       "<table border=\"1\" class=\"dataframe\">\n",
       "  <thead>\n",
       "    <tr style=\"text-align: right;\">\n",
       "      <th></th>\n",
       "      <th>0</th>\n",
       "    </tr>\n",
       "  </thead>\n",
       "  <tbody>\n",
       "    <tr>\n",
       "      <th>0</th>\n",
       "      <td>1.500931e+07</td>\n",
       "    </tr>\n",
       "    <tr>\n",
       "      <th>1</th>\n",
       "      <td>1.938025e+07</td>\n",
       "    </tr>\n",
       "    <tr>\n",
       "      <th>2</th>\n",
       "      <td>7.302800e+06</td>\n",
       "    </tr>\n",
       "    <tr>\n",
       "      <th>3</th>\n",
       "      <td>1.182166e+07</td>\n",
       "    </tr>\n",
       "    <tr>\n",
       "      <th>4</th>\n",
       "      <td>8.568355e+06</td>\n",
       "    </tr>\n",
       "  </tbody>\n",
       "</table>\n",
       "</div>"
      ],
      "text/plain": [
       "              0\n",
       "0  1.500931e+07\n",
       "1  1.938025e+07\n",
       "2  7.302800e+06\n",
       "3  1.182166e+07\n",
       "4  8.568355e+06"
      ]
     },
     "execution_count": 14,
     "metadata": {},
     "output_type": "execute_result"
    }
   ],
   "source": [
    "pred_R.head()"
   ]
  },
  {
   "cell_type": "code",
   "execution_count": 15,
   "id": "9ff79d72",
   "metadata": {},
   "outputs": [
    {
     "data": {
      "text/plain": [
       "Text(0, 0.5, 'Ground Truth')"
      ]
     },
     "execution_count": 15,
     "metadata": {},
     "output_type": "execute_result"
    },
    {
     "data": {
      "image/png": "[encoded data removed]",
      "text/plain": [
       "<Figure size 432x288 with 1 Axes>"
      ]
     },
     "metadata": {},
     "output_type": "display_data"
    }
   ],
   "source": [
    "# Plot model performance (done on splitting test data)\n",
    "plt.scatter(cat_prediction, y_test)\n",
    "plt.xlabel('CatBoost prediction')\n",
    "plt.ylabel('Ground Truth')"
   ]
  },
  {
   "cell_type": "code",
   "execution_count": 16,
   "id": "733f33e4",
   "metadata": {},
   "outputs": [
    {
     "data": {
      "image/png": "[encoded data removed]",
      "text/plain": [
       "<Figure size 1008x432 with 1 Axes>"
      ]
     },
     "metadata": {},
     "output_type": "display_data"
    }
   ],
   "source": [
    "importances = modelCBR.feature_importances_\n",
    "forest_importances = pd.Series(importances, index=X_train.columns)\n",
    "\n",
    "fig, ax=plt.subplots(1, 1, figsize=(14,6))\n",
    "#fig, ax = plt.subplots()\n",
    "forest_importances.plot.bar(ax=ax)\n",
    "ax.set_title(\"Gini Importance\")\n",
    "ax.set_ylabel(\"Importance\")\n",
    "fig.tight_layout()"
   ]
  },
  {
   "cell_type": "code",
   "execution_count": 17,
   "id": "efd32e32",
   "metadata": {},
   "outputs": [],
   "source": [
    "write_predictions(\"cat_boost_category_3.csv\", XTrain, XTest, cat_prediction_REAL)"
   ]
  },
  {
   "cell_type": "code",
   "execution_count": 18,
   "id": "72b9e7d9",
   "metadata": {},
   "outputs": [
    {
     "data": {
      "text/html": [
       "<div>\n",
       "<style scoped>\n",
       "    .dataframe tbody tr th:only-of-type {\n",
       "        vertical-align: middle;\n",
       "    }\n",
       "\n",
       "    .dataframe tbody tr th {\n",
       "        vertical-align: top;\n",
       "    }\n",
       "\n",
       "    .dataframe thead th {\n",
       "        text-align: right;\n",
       "    }\n",
       "</style>\n",
       "<table border=\"1\" class=\"dataframe\">\n",
       "  <thead>\n",
       "    <tr style=\"text-align: right;\">\n",
       "      <th></th>\n",
       "      <th>id</th>\n",
       "      <th>price_prediction</th>\n",
       "    </tr>\n",
       "  </thead>\n",
       "  <tbody>\n",
       "    <tr>\n",
       "      <th>0</th>\n",
       "      <td>23285</td>\n",
       "      <td>1.500931e+07</td>\n",
       "    </tr>\n",
       "    <tr>\n",
       "      <th>1</th>\n",
       "      <td>23286</td>\n",
       "      <td>1.938025e+07</td>\n",
       "    </tr>\n",
       "    <tr>\n",
       "      <th>2</th>\n",
       "      <td>23287</td>\n",
       "      <td>7.302800e+06</td>\n",
       "    </tr>\n",
       "    <tr>\n",
       "      <th>3</th>\n",
       "      <td>23288</td>\n",
       "      <td>1.182166e+07</td>\n",
       "    </tr>\n",
       "    <tr>\n",
       "      <th>4</th>\n",
       "      <td>23289</td>\n",
       "      <td>8.568355e+06</td>\n",
       "    </tr>\n",
       "  </tbody>\n",
       "</table>\n",
       "</div>"
      ],
      "text/plain": [
       "      id  price_prediction\n",
       "0  23285      1.500931e+07\n",
       "1  23286      1.938025e+07\n",
       "2  23287      7.302800e+06\n",
       "3  23288      1.182166e+07\n",
       "4  23289      8.568355e+06"
      ]
     },
     "execution_count": 18,
     "metadata": {},
     "output_type": "execute_result"
    }
   ],
   "source": [
    "result = pd.read_csv(\"cat_boost_category_3.csv\")\n",
    "result.head()"
   ]
  },
  {
   "cell_type": "markdown",
   "id": "f5f10b06",
   "metadata": {},
   "source": [
    "# SECOND RUN"
   ]
  },
  {
   "cell_type": "markdown",
   "id": "6cd36a3a",
   "metadata": {},
   "source": [
    "# Removing values that did not give Gini importance"
   ]
  },
  {
   "cell_type": "raw",
   "id": "a6faeb99",
   "metadata": {},
   "source": [
    "SECOND RUN:\n",
    "\n",
    "Best ranking (not accurate):\n",
    "area_total\n",
    "floor\n",
    "stories\n",
    "area_living\n",
    "area_kitchen\n",
    "seller_nan\n",
    "longitude\n",
    "latitude\n",
    "parking_0.0\n",
    "parking_nan\n",
    "phones_nan\n",
    "condition_3.0\n",
    "ceiling\n",
    "district\n",
    "constructed\n",
    "building_id\n",
    "distance\n",
    "distance_metro\n",
    "bathrooms_shared_nan\n",
    "bathrooms_private_nan\n",
    "heating_1.0\n",
    "heating_nan\n",
    "windows_court_nan\n",
    "windows_street_nan\n",
    "loggias\n",
    "\n",
    "Remove:\n",
    "rooms\n",
    "material\n",
    "balconies\n",
    "\n",
    "Change:\n",
    "make new parking_yes = [parking1] + [parking2] > 1"
   ]
  },
  {
   "cell_type": "code",
   "execution_count": 19,
   "id": "a1407a31",
   "metadata": {},
   "outputs": [],
   "source": [
    "# CLEAN AND MAKE NEW BATCH\n",
    "X_Train = XTrain.copy()\n",
    "y_Train = XTrain[\"price\"].copy()\n",
    "y_Train = norm_features(y_Train)  # use z-scores to train\n",
    "X_Test = XTest.copy()\n",
    "drop_features = [\"Unnamed: 0\", \n",
    "                 \"id\", \n",
    "                 \"street\", \n",
    "                 \"address\"]\n",
    "X_Train = X_Train.drop(drop_features, axis=1)\n",
    "X_Train = X_Train.drop(\"price\", axis=1)\n",
    "X_Test = X_Test.drop(drop_features, axis=1)\n",
    "\n",
    "\n",
    "X_train = X_Train.copy()\n",
    "y_train = y_Train.copy()\n",
    "X_test = X_Test.copy()"
   ]
  },
  {
   "cell_type": "code",
   "execution_count": 20,
   "id": "f1e117f7",
   "metadata": {},
   "outputs": [],
   "source": [
    "# Create new feature of parking\n",
    "X_train[\"parking_yes\"] = X_train.loc[:,[\"parking_1.0\", \n",
    "                                     \"parking_2.0\"]\n",
    "                                     ].apply(lambda x: x[\"parking_1.0\"] +\n",
    "                                             x[\"parking_2.0\"] > 1, \n",
    "                                             axis=1)\n",
    "X_test[\"parking_yes\"] = X_test.loc[:,[\"parking_1.0\", \n",
    "                                      \"parking_2.0\"]\n",
    "                                   ].apply(lambda x: x[\"parking_1.0\"] +\n",
    "                                           x[\"parking_2.0\"] > 1,\n",
    "                                           axis=1)\n",
    "\n",
    "X_train = X_train.astype({\"parking_yes\":np.int8})\n",
    "X_test = X_test.astype({\"parking_yes\":np.int8})\n",
    "\n",
    "# Removes are added in tested sequence!!!\n",
    "drop_second = [\"rooms\", \n",
    "               \"material_0.0\", \"material_1.0\", \"material_2.0\", \n",
    "               \"material_3.0\", \"material_4.0\", \"material_5.0\",\n",
    "               \"material_6.0\", \"material_nan\", \n",
    "               \"balconies_0.0\", \"balconies_1.0\", \"balconies_2.0\",\n",
    "               \"balconies_3.0\", \"balconies_4.0\", \"balconies_nan\",\n",
    "               \"loggias_0.0\", \"loggias_1.0\", \"loggias_2.0\",\n",
    "               \"loggias_3.0\",\"loggias_4.0\",\"loggias_nan\",\n",
    "               \"parking_1.0\", \"parking_2.0\",\n",
    "               \"new_0.0\", \"new_1.0\", \"new_nan\",\n",
    "               \"garbage_chute_0.0\", \"garbage_chute_1.0\", \n",
    "               \"garbage_chute_nan\",\n",
    "               \"elevator\", \"elevator_no\"]\n",
    "\n",
    "\"\"\"\n",
    "Result mse getting worse when removed \n",
    "current best -----------> mse 0.19964 (kaggle: 0.35827) \n",
    "    --> best in first --> mse 0.29202 (kaggle: 0.29393)\n",
    "Conclusion: even if the training model get better scores,\n",
    "the kaggle get worse!!!\n",
    "\n",
    "After adjusting area_kitchen to median in building:\n",
    "mse -------> 0.19924 (only slightly better)\n",
    "\n",
    "After adjusting area_living to median in building before district:\n",
    "mse -------> 0.20061 (sligthly worse, but better that first)\n",
    "\n",
    "Tried skipping:\n",
    "\"parking_nan\", \"parking_yes\"\n",
    "\"layout_0.0\", \"layout_1.0\", \n",
    "\"layout_2.0\", \"layout_nan\"\n",
    "\n",
    "Results got worse (so included them again)\n",
    "\n",
    "\"\"\"\n",
    "\n",
    "X_train = X_train.drop(drop_second, axis=1)\n",
    "X_test = X_test.drop(drop_second, axis=1)"
   ]
  },
  {
   "cell_type": "code",
   "execution_count": 21,
   "id": "18b62bca",
   "metadata": {},
   "outputs": [],
   "source": [
    "#X_train.info()"
   ]
  },
  {
   "cell_type": "code",
   "execution_count": 22,
   "id": "c2fa85ef",
   "metadata": {},
   "outputs": [],
   "source": [
    "X_tr, X_te, y_tr, y_te = train_test_split(X_train, y_train, test_size=0.2, random_state=42)"
   ]
  },
  {
   "cell_type": "code",
   "execution_count": 23,
   "id": "b1dd6c17",
   "metadata": {},
   "outputs": [
    {
     "data": {
      "text/plain": [
       "18332   -0.147333\n",
       "18707   -0.356428\n",
       "21356   -0.329046\n",
       "19907   -0.200520\n",
       "15697   -0.260687\n",
       "Name: price, dtype: float64"
      ]
     },
     "execution_count": 23,
     "metadata": {},
     "output_type": "execute_result"
    }
   ],
   "source": [
    "y_tr.head()"
   ]
  },
  {
   "cell_type": "code",
   "execution_count": 24,
   "id": "6f7d5576",
   "metadata": {},
   "outputs": [
    {
     "data": {
      "text/plain": [
       "1603    -0.056990\n",
       "22389   -0.296616\n",
       "4143    -0.259406\n",
       "19962    2.079368\n",
       "7786     0.169893\n",
       "Name: price, dtype: float64"
      ]
     },
     "execution_count": 24,
     "metadata": {},
     "output_type": "execute_result"
    }
   ],
   "source": [
    "y_te.head()"
   ]
  },
  {
   "cell_type": "code",
   "execution_count": 25,
   "id": "77da40b2",
   "metadata": {},
   "outputs": [],
   "source": [
    "modelCBR2 = CatBoostRegressor(n_estimators=1000,\n",
    "                              learning_rate=0.008,\n",
    "                              thread_count=-1,\n",
    "                              depth=7,\n",
    "                              silent=True,\n",
    "                              random_seed=42,\n",
    "                              bagging_temperature=0.2,\n",
    "                              od_type=\"Iter\")"
   ]
  },
  {
   "cell_type": "code",
   "execution_count": 26,
   "id": "ddcc24cc",
   "metadata": {},
   "outputs": [
    {
     "data": {
      "text/plain": [
       "<catboost.core.CatBoostRegressor at 0x7feaa52697c0>"
      ]
     },
     "execution_count": 26,
     "metadata": {},
     "output_type": "execute_result"
    }
   ],
   "source": [
    "modelCBR2.fit(X_tr, y_tr)"
   ]
  },
  {
   "cell_type": "code",
   "execution_count": 27,
   "id": "2ed543ff",
   "metadata": {},
   "outputs": [],
   "source": [
    "# Model prediction on split test set\n",
    "cat_prediction2 = modelCBR2.predict(X_te)"
   ]
  },
  {
   "cell_type": "code",
   "execution_count": 28,
   "id": "88fd312a",
   "metadata": {},
   "outputs": [
    {
     "name": "stdout",
     "output_type": "stream",
     "text": [
      "Test MSE: 0.20061\n"
     ]
    }
   ],
   "source": [
    "# Kaggle result running all data in category_3: 0.35557 (worse than first cat boost run)\n",
    "# Second kaggle: 0.35466 (with better adjusted area_kitchen, _living) --> only sligtly better\n",
    "\n",
    "cat_mse2 = round(mean_squared_error(cat_prediction2, y_te), 5)\n",
    "print('Test MSE:', cat_mse2)"
   ]
  },
  {
   "cell_type": "code",
   "execution_count": 29,
   "id": "13859fc5",
   "metadata": {},
   "outputs": [],
   "source": [
    "# Prediction on the actual test set\n",
    "cat_prediction_REAL2 = modelCBR2.predict(X_test)"
   ]
  },
  {
   "cell_type": "code",
   "execution_count": 30,
   "id": "fda4ab40",
   "metadata": {},
   "outputs": [
    {
     "data": {
      "text/plain": [
       "Text(0, 0.5, 'Ground Truth')"
      ]
     },
     "execution_count": 30,
     "metadata": {},
     "output_type": "execute_result"
    },
    {
     "data": {
      "image/png": "[encoded data removed]",
      "text/plain": [
       "<Figure size 432x288 with 1 Axes>"
      ]
     },
     "metadata": {},
     "output_type": "display_data"
    }
   ],
   "source": [
    "# Plot model performance (done on splitting test data)\n",
    "plt.scatter(cat_prediction2, y_te)\n",
    "plt.xlabel('CatBoost prediction')\n",
    "plt.ylabel('Ground Truth')"
   ]
  },
  {
   "cell_type": "code",
   "execution_count": 31,
   "id": "b8067ada",
   "metadata": {},
   "outputs": [
    {
     "data": {
      "image/png": "[encoded data removed]",
      "text/plain": [
       "<Figure size 1008x432 with 1 Axes>"
      ]
     },
     "metadata": {},
     "output_type": "display_data"
    }
   ],
   "source": [
    "importances = modelCBR2.feature_importances_\n",
    "forest_importances = pd.Series(importances, index=X_tr.columns)\n",
    "\n",
    "fig, ax=plt.subplots(1, 1, figsize=(14,6))\n",
    "#fig, ax = plt.subplots()\n",
    "forest_importances.plot.bar(ax=ax)\n",
    "ax.set_title(\"Gini Importance\")\n",
    "ax.set_ylabel(\"Importance\")\n",
    "fig.tight_layout()"
   ]
  },
  {
   "cell_type": "code",
   "execution_count": 32,
   "id": "eb9e7ce6",
   "metadata": {},
   "outputs": [],
   "source": [
    "write_predictions(\"cat_boost_2_category_3.csv\", XTrain, XTest, cat_prediction_REAL2)"
   ]
  },
  {
   "cell_type": "code",
   "execution_count": 33,
   "id": "9f5c921e",
   "metadata": {},
   "outputs": [
    {
     "data": {
      "text/html": [
       "<div>\n",
       "<style scoped>\n",
       "    .dataframe tbody tr th:only-of-type {\n",
       "        vertical-align: middle;\n",
       "    }\n",
       "\n",
       "    .dataframe tbody tr th {\n",
       "        vertical-align: top;\n",
       "    }\n",
       "\n",
       "    .dataframe thead th {\n",
       "        text-align: right;\n",
       "    }\n",
       "</style>\n",
       "<table border=\"1\" class=\"dataframe\">\n",
       "  <thead>\n",
       "    <tr style=\"text-align: right;\">\n",
       "      <th></th>\n",
       "      <th>id</th>\n",
       "      <th>price_prediction</th>\n",
       "    </tr>\n",
       "  </thead>\n",
       "  <tbody>\n",
       "    <tr>\n",
       "      <th>0</th>\n",
       "      <td>23285</td>\n",
       "      <td>1.518861e+07</td>\n",
       "    </tr>\n",
       "    <tr>\n",
       "      <th>1</th>\n",
       "      <td>23286</td>\n",
       "      <td>1.942591e+07</td>\n",
       "    </tr>\n",
       "    <tr>\n",
       "      <th>2</th>\n",
       "      <td>23287</td>\n",
       "      <td>7.206888e+06</td>\n",
       "    </tr>\n",
       "    <tr>\n",
       "      <th>3</th>\n",
       "      <td>23288</td>\n",
       "      <td>1.116712e+07</td>\n",
       "    </tr>\n",
       "    <tr>\n",
       "      <th>4</th>\n",
       "      <td>23289</td>\n",
       "      <td>8.212827e+06</td>\n",
       "    </tr>\n",
       "  </tbody>\n",
       "</table>\n",
       "</div>"
      ],
      "text/plain": [
       "      id  price_prediction\n",
       "0  23285      1.518861e+07\n",
       "1  23286      1.942591e+07\n",
       "2  23287      7.206888e+06\n",
       "3  23288      1.116712e+07\n",
       "4  23289      8.212827e+06"
      ]
     },
     "execution_count": 33,
     "metadata": {},
     "output_type": "execute_result"
    }
   ],
   "source": [
    "result = pd.read_csv(\"cat_boost_2_category_3.csv\")\n",
    "result.head()"
   ]
  },
  {
   "cell_type": "code",
   "execution_count": null,
   "id": "3dbfb4c8",
   "metadata": {},
   "outputs": [],
   "source": []
  },
  {
   "cell_type": "code",
   "execution_count": 34,
   "id": "3d68409f",
   "metadata": {},
   "outputs": [],
   "source": [
    "XTRAIN = X_train.copy()\n",
    "y = y_train.copy()\n",
    "XTEST = X_test.copy()"
   ]
  },
  {
   "cell_type": "code",
   "execution_count": 35,
   "id": "0892beca",
   "metadata": {},
   "outputs": [],
   "source": [
    "X_tr, X_te, y_tr, y_te = train_test_split(XTRAIN, y, test_size=0.2, random_state=42)"
   ]
  },
  {
   "cell_type": "code",
   "execution_count": 36,
   "id": "663ee274",
   "metadata": {},
   "outputs": [],
   "source": [
    "modelLGBM = lgb.LGBMRegressor(num_leaves=100,\n",
    "                              max_depth=15, \n",
    "                              random_state=42,\n",
    "                              metric='msle',\n",
    "                              n_jobs=4, \n",
    "                              n_estimators=3000,\n",
    "                              colsample_bytree=0.95,\n",
    "                              subsample=0.9,\n",
    "                              learning_rate=0.05)"
   ]
  },
  {
   "cell_type": "code",
   "execution_count": 37,
   "id": "a4eb8aaa",
   "metadata": {},
   "outputs": [],
   "source": [
    "modelLGBM.fit(XTRAIN, y)\n",
    "lgbm_prediction = modelLGBM.predict(X_te)"
   ]
  },
  {
   "cell_type": "code",
   "execution_count": 38,
   "id": "a179b52c",
   "metadata": {},
   "outputs": [
    {
     "name": "stdout",
     "output_type": "stream",
     "text": [
      "Test MSE: 0.20202\n"
     ]
    }
   ],
   "source": [
    "# Kaggle score on this is: 0.39163\n",
    "lgbm_mse = round(mean_squared_error(cat_prediction, y_te), 5)\n",
    "print('Test MSE:', lgbm_mse)"
   ]
  },
  {
   "cell_type": "code",
   "execution_count": 39,
   "id": "f50faa88",
   "metadata": {},
   "outputs": [
    {
     "data": {
      "text/plain": [
       "Text(0, 0.5, 'Ground Truth')"
      ]
     },
     "execution_count": 39,
     "metadata": {},
     "output_type": "execute_result"
    },
    {
     "data": {
      "image/png": "[encoded data removed]",
      "text/plain": [
       "<Figure size 432x288 with 1 Axes>"
      ]
     },
     "metadata": {},
     "output_type": "display_data"
    }
   ],
   "source": [
    "# Plot model performance (done on splitting test data)\n",
    "plt.scatter(lgbm_prediction, y_te)\n",
    "plt.xlabel('LGBM prediction')\n",
    "plt.ylabel('Ground Truth')"
   ]
  },
  {
   "cell_type": "code",
   "execution_count": 40,
   "id": "8b214422",
   "metadata": {},
   "outputs": [
    {
     "data": {
      "image/png": "[encoded data removed]",
      "text/plain": [
       "<Figure size 1008x432 with 1 Axes>"
      ]
     },
     "metadata": {},
     "output_type": "display_data"
    }
   ],
   "source": [
    "importances = modelLGBM.feature_importances_\n",
    "forest_importances = pd.Series(importances, index=X_tr.columns)\n",
    "\n",
    "fig, ax=plt.subplots(1, 1, figsize=(14,6))\n",
    "#fig, ax = plt.subplots()\n",
    "forest_importances.plot.bar(ax=ax)\n",
    "ax.set_title(\"Gini Importance\")\n",
    "ax.set_ylabel(\"Importance\")\n",
    "fig.tight_layout()"
   ]
  },
  {
   "cell_type": "code",
   "execution_count": 41,
   "id": "7035172c",
   "metadata": {},
   "outputs": [],
   "source": [
    "# Kaggle score: 0.39163 (worse than cat boost)\n",
    "\n",
    "lgbm_prediction_final = modelLGBM.predict(XTEST)"
   ]
  },
  {
   "cell_type": "code",
   "execution_count": 42,
   "id": "930c66f8",
   "metadata": {},
   "outputs": [],
   "source": [
    "write_predictions(\"lgbm_boost_category_3.csv\", XTrain, XTest, lgbm_prediction_final)"
   ]
  },
  {
   "cell_type": "code",
   "execution_count": 43,
   "id": "97a19fe2",
   "metadata": {},
   "outputs": [
    {
     "data": {
      "text/html": [
       "<div>\n",
       "<style scoped>\n",
       "    .dataframe tbody tr th:only-of-type {\n",
       "        vertical-align: middle;\n",
       "    }\n",
       "\n",
       "    .dataframe tbody tr th {\n",
       "        vertical-align: top;\n",
       "    }\n",
       "\n",
       "    .dataframe thead th {\n",
       "        text-align: right;\n",
       "    }\n",
       "</style>\n",
       "<table border=\"1\" class=\"dataframe\">\n",
       "  <thead>\n",
       "    <tr style=\"text-align: right;\">\n",
       "      <th></th>\n",
       "      <th>id</th>\n",
       "      <th>price_prediction</th>\n",
       "    </tr>\n",
       "  </thead>\n",
       "  <tbody>\n",
       "    <tr>\n",
       "      <th>0</th>\n",
       "      <td>23285</td>\n",
       "      <td>1.769937e+07</td>\n",
       "    </tr>\n",
       "    <tr>\n",
       "      <th>1</th>\n",
       "      <td>23286</td>\n",
       "      <td>1.607479e+07</td>\n",
       "    </tr>\n",
       "    <tr>\n",
       "      <th>2</th>\n",
       "      <td>23287</td>\n",
       "      <td>6.966781e+06</td>\n",
       "    </tr>\n",
       "    <tr>\n",
       "      <th>3</th>\n",
       "      <td>23288</td>\n",
       "      <td>7.970352e+06</td>\n",
       "    </tr>\n",
       "    <tr>\n",
       "      <th>4</th>\n",
       "      <td>23289</td>\n",
       "      <td>6.934222e+06</td>\n",
       "    </tr>\n",
       "  </tbody>\n",
       "</table>\n",
       "</div>"
      ],
      "text/plain": [
       "      id  price_prediction\n",
       "0  23285      1.769937e+07\n",
       "1  23286      1.607479e+07\n",
       "2  23287      6.966781e+06\n",
       "3  23288      7.970352e+06\n",
       "4  23289      6.934222e+06"
      ]
     },
     "execution_count": 43,
     "metadata": {},
     "output_type": "execute_result"
    }
   ],
   "source": [
    "result = pd.read_csv(\"lgbm_boost_category_3.csv\")\n",
    "result.head()"
   ]
  },
  {
   "cell_type": "code",
   "execution_count": null,
   "id": "9129fcff",
   "metadata": {},
   "outputs": [],
   "source": []
  }
 ],
 "metadata": {
  "kernelspec": {
   "display_name": "Python 3 (ipykernel)",
   "language": "python",
   "name": "python3"
  },
  "language_info": {
   "codemirror_mode": {
    "name": "ipython",
    "version": 3
   },
   "file_extension": ".py",
   "mimetype": "text/x-python",
   "name": "python",
   "nbconvert_exporter": "python",
   "pygments_lexer": "ipython3",
   "version": "3.8.11"
  }
 },
 "nbformat": 4,
 "nbformat_minor": 5
}
