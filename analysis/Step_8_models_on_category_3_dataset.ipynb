{
 "cells": [
  {
   "cell_type": "code",
   "execution_count": 1,
   "id": "ae8b36bd",
   "metadata": {},
   "outputs": [],
   "source": [
    "import pandas as pd\n",
    "import numpy as np\n",
    "import h2o\n",
    "import lime\n",
    "from lime import lime_tabular\n",
    "\n",
    "from sklearn.model_selection import train_test_split, KFold\n",
    "from sklearn.tree import DecisionTreeRegressor\n",
    "from sklearn.metrics import mean_squared_error, mean_squared_log_error\n",
    "from sklearn.ensemble import RandomForestRegressor\n",
    "from sklearn.ensemble import AdaBoostRegressor\n",
    "from sklearn.ensemble import GradientBoostingRegressor\n",
    "import lightgbm as lgb\n",
    "from catboost import CatBoostRegressor\n",
    "from sklearn.decomposition import PCA  # Principal component\n",
    "from sklearn.linear_model import LinearRegression\n",
    "from h2o.automl import H2OAutoML as ml\n",
    "from h2o.estimators import H2OXGBoostEstimator\n",
    "\n",
    "from functions.datacleaning import MoscowHousing as mh\n",
    "from functions.clean import revert, write_predictions\n",
    "from functions.distance import get_distance_coordinates, norm_features, PCA_plot\n",
    "\n",
    "import matplotlib.pylab as plt\n",
    "import seaborn as sns\n",
    "plt.style.use('ggplot')"
   ]
  },
  {
   "cell_type": "code",
   "execution_count": 2,
   "id": "b7df752b",
   "metadata": {},
   "outputs": [],
   "source": [
    "XTrain = pd.read_csv(\"../prepared_data/train_prepared_category_3.csv\")\n",
    "XTest = pd.read_csv(\"../prepared_data/test_prepared_category_3.csv\")"
   ]
  },
  {
   "cell_type": "code",
   "execution_count": 3,
   "id": "644dc05f",
   "metadata": {},
   "outputs": [
    {
     "data": {
      "text/plain": [
       "'\"\\nX_Train = XTrain.copy()\\ny_Train = XTrain[\"price\"].copy()\\ny_Train = norm_features(y_Train)  # use z-scores to train\\n\\nX_Test = XTest.copy()\\ndrop_features = [\"Unnamed: 0\", \\n                 \"id\", \\n                 \"street\", \\n                 \"address\"]\\nX_Train = X_Train.drop(drop_features, axis=1)\\nX_Train = X_Train.drop(\"price\", axis=1)\\nX_Test = X_Test.drop(drop_features, axis=1)\\n'"
      ]
     },
     "execution_count": 3,
     "metadata": {},
     "output_type": "execute_result"
    }
   ],
   "source": [
    "\"\"\"\"\n",
    "X_Train = XTrain.copy()\n",
    "y_Train = XTrain[\"price\"].copy()\n",
    "y_Train = norm_features(y_Train)  # use z-scores to train\n",
    "\n",
    "X_Test = XTest.copy()\n",
    "drop_features = [\"Unnamed: 0\", \n",
    "                 \"id\", \n",
    "                 \"street\", \n",
    "                 \"address\"]\n",
    "X_Train = X_Train.drop(drop_features, axis=1)\n",
    "X_Train = X_Train.drop(\"price\", axis=1)\n",
    "X_Test = X_Test.drop(drop_features, axis=1)\n",
    "\"\"\""
   ]
  },
  {
   "cell_type": "code",
   "execution_count": 4,
   "id": "620203c9",
   "metadata": {},
   "outputs": [],
   "source": [
    "X_Train = XTrain.copy()\n",
    "y_Train = XTrain[\"price\"].copy()\n",
    "y_Train = np.log(y_Train)  # use ln-scores to train\n",
    "\n",
    "X_Test = XTest.copy()\n",
    "drop_features = [\"Unnamed: 0\", \n",
    "                 \"id\", \n",
    "                 \"street\", \n",
    "                 \"address\"]\n",
    "X_Train = X_Train.drop(drop_features, axis=1)\n",
    "X_Train = X_Train.drop(\"price\", axis=1)\n",
    "X_Test = X_Test.drop(drop_features, axis=1)"
   ]
  },
  {
   "cell_type": "code",
   "execution_count": null,
   "id": "f9e89c5c",
   "metadata": {},
   "outputs": [],
   "source": []
  },
  {
   "cell_type": "code",
   "execution_count": 5,
   "id": "8b0e1e64",
   "metadata": {},
   "outputs": [
    {
     "name": "stdout",
     "output_type": "stream",
     "text": [
      "<class 'pandas.core.frame.DataFrame'>\n",
      "RangeIndex: 23285 entries, 0 to 23284\n",
      "Data columns (total 87 columns):\n",
      " #   Column                 Non-Null Count  Dtype  \n",
      "---  ------                 --------------  -----  \n",
      " 0   area_total             23285 non-null  float64\n",
      " 1   area_kitchen           23285 non-null  float64\n",
      " 2   area_living            23285 non-null  float64\n",
      " 3   floor                  23285 non-null  float64\n",
      " 4   rooms                  23285 non-null  float64\n",
      " 5   ceiling                23285 non-null  float64\n",
      " 6   building_id            23285 non-null  int64  \n",
      " 7   latitude               23285 non-null  float64\n",
      " 8   longitude              23285 non-null  float64\n",
      " 9   district               23285 non-null  int64  \n",
      " 10  constructed            22491 non-null  float64\n",
      " 11  stories                23285 non-null  float64\n",
      " 12  distance               23285 non-null  float64\n",
      " 13  distance_metro         23285 non-null  float64\n",
      " 14  seller_0.0             23285 non-null  int64  \n",
      " 15  seller_1.0             23285 non-null  int64  \n",
      " 16  seller_2.0             23285 non-null  int64  \n",
      " 17  seller_3.0             23285 non-null  int64  \n",
      " 18  seller_nan             23285 non-null  int64  \n",
      " 19  layout_0.0             23285 non-null  int64  \n",
      " 20  layout_1.0             23285 non-null  int64  \n",
      " 21  layout_2.0             23285 non-null  int64  \n",
      " 22  layout_nan             23285 non-null  int64  \n",
      " 23  condition_0.0          23285 non-null  int64  \n",
      " 24  condition_1.0          23285 non-null  int64  \n",
      " 25  condition_2.0          23285 non-null  int64  \n",
      " 26  condition_3.0          23285 non-null  int64  \n",
      " 27  condition_nan          23285 non-null  int64  \n",
      " 28  new_0.0                23285 non-null  int64  \n",
      " 29  new_1.0                23285 non-null  int64  \n",
      " 30  new_nan                23285 non-null  int64  \n",
      " 31  material_0.0           23285 non-null  int64  \n",
      " 32  material_1.0           23285 non-null  int64  \n",
      " 33  material_2.0           23285 non-null  int64  \n",
      " 34  material_3.0           23285 non-null  int64  \n",
      " 35  material_4.0           23285 non-null  int64  \n",
      " 36  material_5.0           23285 non-null  int64  \n",
      " 37  material_6.0           23285 non-null  int64  \n",
      " 38  material_nan           23285 non-null  int64  \n",
      " 39  garbage_chute_0.0      23285 non-null  int64  \n",
      " 40  garbage_chute_1.0      23285 non-null  int64  \n",
      " 41  garbage_chute_nan      23285 non-null  int64  \n",
      " 42  heating_0.0            23285 non-null  int64  \n",
      " 43  heating_1.0            23285 non-null  int64  \n",
      " 44  heating_2.0            23285 non-null  int64  \n",
      " 45  heating_3.0            23285 non-null  int64  \n",
      " 46  heating_nan            23285 non-null  int64  \n",
      " 47  bathrooms_shared_0.0   23285 non-null  int64  \n",
      " 48  bathrooms_shared_1.0   23285 non-null  int64  \n",
      " 49  bathrooms_shared_2.0   23285 non-null  int64  \n",
      " 50  bathrooms_shared_3.0   23285 non-null  int64  \n",
      " 51  bathrooms_shared_4.0   23285 non-null  int64  \n",
      " 52  bathrooms_shared_nan   23285 non-null  int64  \n",
      " 53  bathrooms_private_0.0  23285 non-null  int64  \n",
      " 54  bathrooms_private_1.0  23285 non-null  int64  \n",
      " 55  bathrooms_private_2.0  23285 non-null  int64  \n",
      " 56  bathrooms_private_3.0  23285 non-null  int64  \n",
      " 57  bathrooms_private_4.0  23285 non-null  int64  \n",
      " 58  bathrooms_private_nan  23285 non-null  int64  \n",
      " 59  windows_court_0.0      23285 non-null  int64  \n",
      " 60  windows_court_1.0      23285 non-null  int64  \n",
      " 61  windows_court_nan      23285 non-null  int64  \n",
      " 62  windows_street_0.0     23285 non-null  int64  \n",
      " 63  windows_street_1.0     23285 non-null  int64  \n",
      " 64  windows_street_nan     23285 non-null  int64  \n",
      " 65  balconies_0.0          23285 non-null  int64  \n",
      " 66  balconies_1.0          23285 non-null  int64  \n",
      " 67  balconies_2.0          23285 non-null  int64  \n",
      " 68  balconies_3.0          23285 non-null  int64  \n",
      " 69  balconies_4.0          23285 non-null  int64  \n",
      " 70  balconies_nan          23285 non-null  int64  \n",
      " 71  loggias_0.0            23285 non-null  int64  \n",
      " 72  loggias_1.0            23285 non-null  int64  \n",
      " 73  loggias_2.0            23285 non-null  int64  \n",
      " 74  loggias_3.0            23285 non-null  int64  \n",
      " 75  loggias_4.0            23285 non-null  int64  \n",
      " 76  loggias_nan            23285 non-null  int64  \n",
      " 77  phones_0.0             23285 non-null  int64  \n",
      " 78  phones_1.0             23285 non-null  int64  \n",
      " 79  phones_2.0             23285 non-null  int64  \n",
      " 80  phones_nan             23285 non-null  int64  \n",
      " 81  parking_0.0            23285 non-null  int64  \n",
      " 82  parking_1.0            23285 non-null  int64  \n",
      " 83  parking_2.0            23285 non-null  int64  \n",
      " 84  parking_nan            23285 non-null  int64  \n",
      " 85  elevator               23285 non-null  int64  \n",
      " 86  elevator_no            23285 non-null  int64  \n",
      "dtypes: float64(12), int64(75)\n",
      "memory usage: 15.5 MB\n"
     ]
    }
   ],
   "source": [
    "X_Train.info()"
   ]
  },
  {
   "cell_type": "code",
   "execution_count": 6,
   "id": "b9033fa6",
   "metadata": {},
   "outputs": [],
   "source": [
    "X_train, X_test, y_train, y_test = train_test_split(X_Train, y_Train, test_size=0.2, random_state=42)"
   ]
  },
  {
   "cell_type": "code",
   "execution_count": 7,
   "id": "b1d18afc",
   "metadata": {},
   "outputs": [],
   "source": [
    "modelCBR = CatBoostRegressor(\n",
    "    n_estimators=1000,\n",
    "    learning_rate=0.008,\n",
    "    thread_count=-1,\n",
    "    depth=7,\n",
    "    silent=True,\n",
    "    random_seed=42,\n",
    "    bagging_temperature=0.2\n",
    "#     od_type=\"Iter\"\n",
    ")"
   ]
  },
  {
   "cell_type": "code",
   "execution_count": 8,
   "id": "c7217613",
   "metadata": {},
   "outputs": [
    {
     "data": {
      "text/plain": [
       "<catboost.core.CatBoostRegressor at 0x7fee1012f1f0>"
      ]
     },
     "execution_count": 8,
     "metadata": {},
     "output_type": "execute_result"
    }
   ],
   "source": [
    "modelCBR.fit(X_train, y_train)"
   ]
  },
  {
   "cell_type": "code",
   "execution_count": 9,
   "id": "a6ffe173",
   "metadata": {},
   "outputs": [],
   "source": [
    "# Model prediction on split test set\n",
    "cat_prediction = modelCBR.predict(X_test)"
   ]
  },
  {
   "cell_type": "code",
   "execution_count": 10,
   "id": "31eb98b4",
   "metadata": {},
   "outputs": [
    {
     "name": "stdout",
     "output_type": "stream",
     "text": [
      "Test MSE: 0.0773\n"
     ]
    }
   ],
   "source": [
    "# Kaggle result running all data in category_3: 0.35557 (worse than first run)\n",
    "\n",
    "cat_mse = round(mean_squared_error(cat_prediction, y_test), 5)\n",
    "print('Test MSE:', cat_mse)"
   ]
  },
  {
   "cell_type": "code",
   "execution_count": 11,
   "id": "f710e45b",
   "metadata": {},
   "outputs": [],
   "source": [
    "# Prediction on the actual test set\n",
    "cat_prediction_REAL = modelCBR.predict(X_Test)"
   ]
  },
  {
   "cell_type": "code",
   "execution_count": 12,
   "id": "fc580f5a",
   "metadata": {},
   "outputs": [],
   "source": [
    "pred = pd.DataFrame(cat_prediction_REAL)"
   ]
  },
  {
   "cell_type": "code",
   "execution_count": 13,
   "id": "97a91f50",
   "metadata": {},
   "outputs": [
    {
     "data": {
      "text/html": [
       "<div>\n",
       "<style scoped>\n",
       "    .dataframe tbody tr th:only-of-type {\n",
       "        vertical-align: middle;\n",
       "    }\n",
       "\n",
       "    .dataframe tbody tr th {\n",
       "        vertical-align: top;\n",
       "    }\n",
       "\n",
       "    .dataframe thead th {\n",
       "        text-align: right;\n",
       "    }\n",
       "</style>\n",
       "<table border=\"1\" class=\"dataframe\">\n",
       "  <thead>\n",
       "    <tr style=\"text-align: right;\">\n",
       "      <th></th>\n",
       "      <th>0</th>\n",
       "    </tr>\n",
       "  </thead>\n",
       "  <tbody>\n",
       "    <tr>\n",
       "      <th>0</th>\n",
       "      <td>16.535612</td>\n",
       "    </tr>\n",
       "    <tr>\n",
       "      <th>1</th>\n",
       "      <td>16.534925</td>\n",
       "    </tr>\n",
       "    <tr>\n",
       "      <th>2</th>\n",
       "      <td>15.601231</td>\n",
       "    </tr>\n",
       "    <tr>\n",
       "      <th>3</th>\n",
       "      <td>16.269292</td>\n",
       "    </tr>\n",
       "    <tr>\n",
       "      <th>4</th>\n",
       "      <td>15.687144</td>\n",
       "    </tr>\n",
       "  </tbody>\n",
       "</table>\n",
       "</div>"
      ],
      "text/plain": [
       "           0\n",
       "0  16.535612\n",
       "1  16.534925\n",
       "2  15.601231\n",
       "3  16.269292\n",
       "4  15.687144"
      ]
     },
     "execution_count": 13,
     "metadata": {},
     "output_type": "execute_result"
    }
   ],
   "source": [
    "pred.head()"
   ]
  },
  {
   "cell_type": "code",
   "execution_count": 14,
   "id": "f466687f",
   "metadata": {},
   "outputs": [],
   "source": [
    "# Kaggle score on this prediction in Step_3 is: 0.29393 (best single performance until now)\n",
    "pred_R = revert(XTrain, pred)"
   ]
  },
  {
   "cell_type": "code",
   "execution_count": 15,
   "id": "859b5756",
   "metadata": {},
   "outputs": [
    {
     "data": {
      "text/html": [
       "<div>\n",
       "<style scoped>\n",
       "    .dataframe tbody tr th:only-of-type {\n",
       "        vertical-align: middle;\n",
       "    }\n",
       "\n",
       "    .dataframe tbody tr th {\n",
       "        vertical-align: top;\n",
       "    }\n",
       "\n",
       "    .dataframe thead th {\n",
       "        text-align: right;\n",
       "    }\n",
       "</style>\n",
       "<table border=\"1\" class=\"dataframe\">\n",
       "  <thead>\n",
       "    <tr style=\"text-align: right;\">\n",
       "      <th></th>\n",
       "      <th>0</th>\n",
       "    </tr>\n",
       "  </thead>\n",
       "  <tbody>\n",
       "    <tr>\n",
       "      <th>0</th>\n",
       "      <td>8.940557e+08</td>\n",
       "    </tr>\n",
       "    <tr>\n",
       "      <th>1</th>\n",
       "      <td>8.940196e+08</td>\n",
       "    </tr>\n",
       "    <tr>\n",
       "      <th>2</th>\n",
       "      <td>8.448662e+08</td>\n",
       "    </tr>\n",
       "    <tr>\n",
       "      <th>3</th>\n",
       "      <td>8.800356e+08</td>\n",
       "    </tr>\n",
       "    <tr>\n",
       "      <th>4</th>\n",
       "      <td>8.493890e+08</td>\n",
       "    </tr>\n",
       "  </tbody>\n",
       "</table>\n",
       "</div>"
      ],
      "text/plain": [
       "              0\n",
       "0  8.940557e+08\n",
       "1  8.940196e+08\n",
       "2  8.448662e+08\n",
       "3  8.800356e+08\n",
       "4  8.493890e+08"
      ]
     },
     "execution_count": 15,
     "metadata": {},
     "output_type": "execute_result"
    }
   ],
   "source": [
    "pred_R.head()"
   ]
  },
  {
   "cell_type": "code",
   "execution_count": 16,
   "id": "9ff79d72",
   "metadata": {},
   "outputs": [
    {
     "data": {
      "text/plain": [
       "Text(0, 0.5, 'Ground Truth')"
      ]
     },
     "execution_count": 16,
     "metadata": {},
     "output_type": "execute_result"
    },
    {
     "data": {
      "image/png": "[encoded data removed]",
      "text/plain": [
       "<Figure size 432x288 with 1 Axes>"
      ]
     },
     "metadata": {},
     "output_type": "display_data"
    }
   ],
   "source": [
    "# Plot model performance (done on splitting test data)\n",
    "plt.scatter(cat_prediction, y_test)\n",
    "plt.xlabel('CatBoost prediction')\n",
    "plt.ylabel('Ground Truth')"
   ]
  },
  {
   "cell_type": "code",
   "execution_count": 17,
   "id": "733f33e4",
   "metadata": {},
   "outputs": [
    {
     "data": {
      "image/png": "[encoded data removed]",
      "text/plain": [
       "<Figure size 1008x432 with 1 Axes>"
      ]
     },
     "metadata": {},
     "output_type": "display_data"
    }
   ],
   "source": [
    "importances = modelCBR.feature_importances_\n",
    "forest_importances = pd.Series(importances, index=X_train.columns)\n",
    "\n",
    "fig, ax=plt.subplots(1, 1, figsize=(14,6))\n",
    "#fig, ax = plt.subplots()\n",
    "forest_importances.plot.bar(ax=ax)\n",
    "ax.set_title(\"Gini Importance\")\n",
    "ax.set_ylabel(\"Importance\")\n",
    "fig.tight_layout()"
   ]
  },
  {
   "cell_type": "code",
   "execution_count": 18,
   "id": "efd32e32",
   "metadata": {},
   "outputs": [],
   "source": [
    "#write_predictions(\"cat_boost_category_3.csv\", XTrain, XTest, cat_prediction_REAL)"
   ]
  },
  {
   "cell_type": "code",
   "execution_count": 19,
   "id": "72b9e7d9",
   "metadata": {},
   "outputs": [],
   "source": [
    "#result = pd.read_csv(\"cat_boost_category_3.csv\")\n",
    "#result.head()"
   ]
  },
  {
   "cell_type": "markdown",
   "id": "f5f10b06",
   "metadata": {},
   "source": [
    "# SECOND RUN"
   ]
  },
  {
   "cell_type": "markdown",
   "id": "6cd36a3a",
   "metadata": {},
   "source": [
    "# Removing values that did not give Gini importance"
   ]
  },
  {
   "cell_type": "raw",
   "id": "a6faeb99",
   "metadata": {},
   "source": [
    "SECOND RUN:\n",
    "\n",
    "Best ranking (not accurate):\n",
    "area_total\n",
    "floor\n",
    "stories\n",
    "area_living\n",
    "area_kitchen\n",
    "seller_nan\n",
    "longitude\n",
    "latitude\n",
    "parking_0.0\n",
    "parking_nan\n",
    "phones_nan\n",
    "condition_3.0\n",
    "ceiling\n",
    "district\n",
    "constructed\n",
    "building_id\n",
    "distance\n",
    "distance_metro\n",
    "bathrooms_shared_nan\n",
    "bathrooms_private_nan\n",
    "heating_1.0\n",
    "heating_nan\n",
    "windows_court_nan\n",
    "windows_street_nan\n",
    "loggias\n",
    "\n",
    "Remove:\n",
    "rooms\n",
    "material\n",
    "balconies\n",
    "\n",
    "Change:\n",
    "make new parking_yes = [parking1] + [parking2] > 1"
   ]
  },
  {
   "cell_type": "code",
   "execution_count": 20,
   "id": "a1407a31",
   "metadata": {},
   "outputs": [],
   "source": [
    "# CLEAN AND MAKE NEW BATCH\n",
    "X_Train = XTrain.copy()\n",
    "y_Train = XTrain[\"price\"].copy()\n",
    "#y_Train = norm_features(y_Train)  # use z-scores to train\n",
    "y_Train = np.log(y_Train)           # or use log\n",
    "X_Test = XTest.copy()\n",
    "drop_features = [\"Unnamed: 0\", \n",
    "                 \"id\", \n",
    "                 \"street\", \n",
    "                 \"address\"]\n",
    "X_Train = X_Train.drop(drop_features, axis=1)\n",
    "X_Train = X_Train.drop(\"price\", axis=1)\n",
    "X_Test = X_Test.drop(drop_features, axis=1)\n",
    "\n",
    "\n",
    "X_train = X_Train.copy()\n",
    "y_train = y_Train.copy()\n",
    "X_test = X_Test.copy()"
   ]
  },
  {
   "cell_type": "code",
   "execution_count": 21,
   "id": "f1e117f7",
   "metadata": {},
   "outputs": [],
   "source": [
    "# Create new feature of parking\n",
    "X_train[\"parking_yes\"] = X_train.loc[:,[\"parking_1.0\", \n",
    "                                     \"parking_2.0\"]\n",
    "                                     ].apply(lambda x: x[\"parking_1.0\"] +\n",
    "                                             x[\"parking_2.0\"] > 1, \n",
    "                                             axis=1)\n",
    "X_test[\"parking_yes\"] = X_test.loc[:,[\"parking_1.0\", \n",
    "                                      \"parking_2.0\"]\n",
    "                                   ].apply(lambda x: x[\"parking_1.0\"] +\n",
    "                                           x[\"parking_2.0\"] > 1,\n",
    "                                           axis=1)\n",
    "\n",
    "X_train = X_train.astype({\"parking_yes\":np.int8})\n",
    "X_test = X_test.astype({\"parking_yes\":np.int8})\n",
    "\n",
    "# Removes are added in tested sequence!!!\n",
    "drop_second = [\"rooms\", \n",
    "               \"material_0.0\", \"material_1.0\", \"material_2.0\", \n",
    "               \"material_3.0\", \"material_4.0\", \"material_5.0\",\n",
    "               \"material_6.0\", \"material_nan\", \n",
    "               \"balconies_0.0\", \"balconies_1.0\", \"balconies_2.0\",\n",
    "               \"balconies_3.0\", \"balconies_4.0\", \"balconies_nan\",\n",
    "               \"loggias_0.0\", \"loggias_1.0\", \"loggias_2.0\",\n",
    "               \"loggias_3.0\",\"loggias_4.0\",\"loggias_nan\",\n",
    "               \"parking_1.0\", \"parking_2.0\",\n",
    "               \"new_0.0\", \"new_1.0\", \"new_nan\",\n",
    "               \"garbage_chute_0.0\", \"garbage_chute_1.0\", \n",
    "               \"garbage_chute_nan\",\n",
    "               \"elevator\", \"elevator_no\"]\n",
    "\n",
    "\"\"\"\n",
    "Result mse getting worse when removed \n",
    "current best -----------> mse 0.19964 (kaggle: 0.35827) \n",
    "    --> best in first --> mse 0.29202 (kaggle: 0.29393)\n",
    "Conclusion: even if the training model get better scores,\n",
    "the kaggle get worse!!!\n",
    "\n",
    "After adjusting area_kitchen to median in building:\n",
    "mse -------> 0.19924 (only slightly better)\n",
    "\n",
    "After adjusting area_living to median in building before district:\n",
    "mse -------> 0.20061 (sligthly worse, but better that first)\n",
    "\n",
    "Tried skipping:\n",
    "\"parking_nan\", \"parking_yes\"\n",
    "\"layout_0.0\", \"layout_1.0\", \n",
    "\"layout_2.0\", \"layout_nan\"\n",
    "\n",
    "Results got worse (so included them again)\n",
    "\n",
    "\"\"\"\n",
    "\n",
    "X_train = X_train.drop(drop_second, axis=1)\n",
    "X_test = X_test.drop(drop_second, axis=1)"
   ]
  },
  {
   "cell_type": "code",
   "execution_count": 22,
   "id": "18b62bca",
   "metadata": {},
   "outputs": [],
   "source": [
    "#X_train.info()"
   ]
  },
  {
   "cell_type": "code",
   "execution_count": 23,
   "id": "c2fa85ef",
   "metadata": {},
   "outputs": [],
   "source": [
    "X_tr, X_te, y_tr, y_te = train_test_split(X_train, y_train, test_size=0.2, random_state=42)"
   ]
  },
  {
   "cell_type": "code",
   "execution_count": 24,
   "id": "b1dd6c17",
   "metadata": {},
   "outputs": [
    {
     "data": {
      "text/plain": [
       "18332    16.575520\n",
       "18707    15.382548\n",
       "21356    15.645516\n",
       "19907    16.380460\n",
       "15697    16.101214\n",
       "Name: price, dtype: float64"
      ]
     },
     "execution_count": 24,
     "metadata": {},
     "output_type": "execute_result"
    }
   ],
   "source": [
    "y_tr.head()"
   ]
  },
  {
   "cell_type": "code",
   "execution_count": 25,
   "id": "6f7d5576",
   "metadata": {},
   "outputs": [
    {
     "data": {
      "text/plain": [
       "1603     16.838662\n",
       "22389    15.887567\n",
       "4143     16.108045\n",
       "19962    18.706027\n",
       "7786     17.296751\n",
       "Name: price, dtype: float64"
      ]
     },
     "execution_count": 25,
     "metadata": {},
     "output_type": "execute_result"
    }
   ],
   "source": [
    "y_te.head()"
   ]
  },
  {
   "cell_type": "code",
   "execution_count": 26,
   "id": "77da40b2",
   "metadata": {},
   "outputs": [
    {
     "data": {
      "text/plain": [
       "'\\nUsing metric = default\\nRunning default (catboost first) on cat_3 data z-score price -> mse x      Kaggle: 0.39163\\nRunning default lgbm on cat_3 data using log on prices -------> mse 0.0773 Kaggle: 0.2992\\n\\n'"
      ]
     },
     "execution_count": 26,
     "metadata": {},
     "output_type": "execute_result"
    }
   ],
   "source": [
    "modelCBR2 = CatBoostRegressor(n_estimators=1000,\n",
    "                              learning_rate=0.008,\n",
    "                              thread_count=-1,\n",
    "                              depth=7,\n",
    "                              silent=True,\n",
    "                              random_seed=42,\n",
    "                              bagging_temperature=0.2,\n",
    "                              od_type=\"Iter\")\n",
    "\n",
    "\"\"\"\n",
    "Using metric = default\n",
    "Running default (catboost first) on cat_3 data z-score price -> mse x      Kaggle: 0.39163\n",
    "Running default lgbm on cat_3 data using log on prices -------> mse 0.0773 Kaggle: 0.2992\n",
    "\n",
    "\"\"\""
   ]
  },
  {
   "cell_type": "code",
   "execution_count": 27,
   "id": "ddcc24cc",
   "metadata": {},
   "outputs": [
    {
     "data": {
      "text/plain": [
       "<catboost.core.CatBoostRegressor at 0x7fee10150f10>"
      ]
     },
     "execution_count": 27,
     "metadata": {},
     "output_type": "execute_result"
    }
   ],
   "source": [
    "modelCBR2.fit(X_tr, y_tr)"
   ]
  },
  {
   "cell_type": "code",
   "execution_count": 28,
   "id": "2ed543ff",
   "metadata": {},
   "outputs": [],
   "source": [
    "# Model prediction on split test set\n",
    "cat_prediction2 = modelCBR2.predict(X_te)"
   ]
  },
  {
   "cell_type": "code",
   "execution_count": 29,
   "id": "88fd312a",
   "metadata": {},
   "outputs": [
    {
     "name": "stdout",
     "output_type": "stream",
     "text": [
      "Test MSE: 0.08104\n"
     ]
    }
   ],
   "source": [
    "# Kaggle result running all data in category_3: 0.35557 (worse than first cat boost run)\n",
    "# Second kaggle: 0.35466 (with better adjusted area_kitchen, _living) --> only sligtly better\n",
    "\n",
    "cat_mse2 = round(mean_squared_error(cat_prediction2, y_te), 5)\n",
    "print('Test MSE:', cat_mse2)"
   ]
  },
  {
   "cell_type": "code",
   "execution_count": 30,
   "id": "13859fc5",
   "metadata": {},
   "outputs": [],
   "source": [
    "# Prediction on the actual test set\n",
    "cat_prediction_REAL2 = modelCBR2.predict(X_test)"
   ]
  },
  {
   "cell_type": "code",
   "execution_count": 31,
   "id": "fda4ab40",
   "metadata": {},
   "outputs": [
    {
     "data": {
      "text/plain": [
       "Text(0, 0.5, 'Ground Truth')"
      ]
     },
     "execution_count": 31,
     "metadata": {},
     "output_type": "execute_result"
    },
    {
     "data": {
      "image/png": "[encoded data removed]",
      "text/plain": [
       "<Figure size 432x288 with 1 Axes>"
      ]
     },
     "metadata": {},
     "output_type": "display_data"
    }
   ],
   "source": [
    "# Plot model performance (done on splitting test data)\n",
    "plt.scatter(cat_prediction2, y_te)\n",
    "plt.xlabel('CatBoost prediction')\n",
    "plt.ylabel('Ground Truth')"
   ]
  },
  {
   "cell_type": "code",
   "execution_count": 32,
   "id": "b8067ada",
   "metadata": {},
   "outputs": [
    {
     "data": {
      "image/png": "[encoded data removed]",
      "text/plain": [
       "<Figure size 1008x432 with 1 Axes>"
      ]
     },
     "metadata": {},
     "output_type": "display_data"
    }
   ],
   "source": [
    "importances = modelCBR2.feature_importances_\n",
    "forest_importances = pd.Series(importances, index=X_tr.columns)\n",
    "\n",
    "fig, ax=plt.subplots(1, 1, figsize=(14,6))\n",
    "#fig, ax = plt.subplots()\n",
    "forest_importances.plot.bar(ax=ax)\n",
    "ax.set_title(\"Gini Importance\")\n",
    "ax.set_ylabel(\"Importance\")\n",
    "fig.tight_layout()"
   ]
  },
  {
   "cell_type": "code",
   "execution_count": 33,
   "id": "d5b5788f",
   "metadata": {},
   "outputs": [
    {
     "name": "stdout",
     "output_type": "stream",
     "text": [
      "[16.46221415 16.45977552 15.620495   ... 16.15074058 16.00414391\n",
      " 16.01369554]\n",
      "[1.46178152e+12 1.45961756e+12 8.64864202e+11 ... 1.20760364e+12\n",
      " 1.10236263e+12 1.10895947e+12]\n"
     ]
    }
   ],
   "source": [
    "print(cat_prediction_REAL2)\n",
    "print(np.power(cat_prediction_REAL2, 10))"
   ]
  },
  {
   "cell_type": "code",
   "execution_count": 34,
   "id": "eb9e7ce6",
   "metadata": {},
   "outputs": [],
   "source": [
    "# Kaggle score with log prices: 0.2992\n",
    "write_predictions(\"cat_boost_2_log_category_3.csv\", XTrain, XTest, cat_prediction_REAL2, log=True)"
   ]
  },
  {
   "cell_type": "code",
   "execution_count": 35,
   "id": "9f5c921e",
   "metadata": {},
   "outputs": [
    {
     "data": {
      "text/html": [
       "<div>\n",
       "<style scoped>\n",
       "    .dataframe tbody tr th:only-of-type {\n",
       "        vertical-align: middle;\n",
       "    }\n",
       "\n",
       "    .dataframe tbody tr th {\n",
       "        vertical-align: top;\n",
       "    }\n",
       "\n",
       "    .dataframe thead th {\n",
       "        text-align: right;\n",
       "    }\n",
       "</style>\n",
       "<table border=\"1\" class=\"dataframe\">\n",
       "  <thead>\n",
       "    <tr style=\"text-align: right;\">\n",
       "      <th></th>\n",
       "      <th>id</th>\n",
       "      <th>price_prediction</th>\n",
       "    </tr>\n",
       "  </thead>\n",
       "  <tbody>\n",
       "    <tr>\n",
       "      <th>0</th>\n",
       "      <td>23285</td>\n",
       "      <td>1.410746e+07</td>\n",
       "    </tr>\n",
       "    <tr>\n",
       "      <th>1</th>\n",
       "      <td>23286</td>\n",
       "      <td>1.407310e+07</td>\n",
       "    </tr>\n",
       "    <tr>\n",
       "      <th>2</th>\n",
       "      <td>23287</td>\n",
       "      <td>6.079877e+06</td>\n",
       "    </tr>\n",
       "    <tr>\n",
       "      <th>3</th>\n",
       "      <td>23288</td>\n",
       "      <td>1.076812e+07</td>\n",
       "    </tr>\n",
       "    <tr>\n",
       "      <th>4</th>\n",
       "      <td>23289</td>\n",
       "      <td>6.210570e+06</td>\n",
       "    </tr>\n",
       "  </tbody>\n",
       "</table>\n",
       "</div>"
      ],
      "text/plain": [
       "      id  price_prediction\n",
       "0  23285      1.410746e+07\n",
       "1  23286      1.407310e+07\n",
       "2  23287      6.079877e+06\n",
       "3  23288      1.076812e+07\n",
       "4  23289      6.210570e+06"
      ]
     },
     "execution_count": 35,
     "metadata": {},
     "output_type": "execute_result"
    }
   ],
   "source": [
    "result = pd.read_csv(\"cat_boost_2_log_category_3.csv\")\n",
    "result.head()"
   ]
  },
  {
   "cell_type": "code",
   "execution_count": null,
   "id": "3dbfb4c8",
   "metadata": {},
   "outputs": [],
   "source": []
  },
  {
   "cell_type": "code",
   "execution_count": 36,
   "id": "3d68409f",
   "metadata": {},
   "outputs": [],
   "source": [
    "XTRAIN = X_train.copy()\n",
    "y = y_train.copy()   # Already prepared\n",
    "XTEST = X_test.copy()"
   ]
  },
  {
   "cell_type": "code",
   "execution_count": 37,
   "id": "c3d8e1e0",
   "metadata": {},
   "outputs": [],
   "source": [
    "X_tr, X_te, y_tr, y_te = train_test_split(XTRAIN, y, test_size=0.2, random_state=42)"
   ]
  },
  {
   "cell_type": "code",
   "execution_count": 38,
   "id": "663ee274",
   "metadata": {},
   "outputs": [
    {
     "data": {
      "text/plain": [
       "'\\nUsing metric = \"msle\"\\nRunning default (from first run of lgbm) on category_3 data --> mse x      Kaggle: 0.39163\\nRunning default lgbm on cat_3 data using log on prices -------> mse 0.0773 Kaggle: 0.29291\\n\\n'"
      ]
     },
     "execution_count": 38,
     "metadata": {},
     "output_type": "execute_result"
    }
   ],
   "source": [
    "modelLGBM = lgb.LGBMRegressor(num_leaves=100,\n",
    "                              max_depth=15, \n",
    "                              random_state=42,\n",
    "                              metric='mse',\n",
    "                              n_jobs=4, \n",
    "                              n_estimators=3000,\n",
    "                              colsample_bytree=0.95,\n",
    "                              subsample=0.9,\n",
    "                              learning_rate=0.05)\n",
    "\n",
    "\"\"\"\n",
    "Using metric = \"msle\"\n",
    "Running default (from first run of lgbm) on category_3 data --> mse x      Kaggle: 0.39163\n",
    "Running default lgbm on cat_3 data using log on prices -------> mse 0.0773 Kaggle: 0.29291\n",
    "\n",
    "\"\"\""
   ]
  },
  {
   "cell_type": "code",
   "execution_count": 39,
   "id": "a4eb8aaa",
   "metadata": {},
   "outputs": [],
   "source": [
    "modelLGBM.fit(XTRAIN, y)\n",
    "lgbm_prediction = modelLGBM.predict(X_te)"
   ]
  },
  {
   "cell_type": "code",
   "execution_count": 40,
   "id": "1a4dfd82",
   "metadata": {},
   "outputs": [
    {
     "name": "stdout",
     "output_type": "stream",
     "text": [
      "Test MSE: 0.0773\n"
     ]
    }
   ],
   "source": [
    "# Kaggle score on this is: 0.39163\n",
    "lgbm_mse = round(mean_squared_error(cat_prediction, y_te), 5)\n",
    "print('Test MSE:', lgbm_mse)"
   ]
  },
  {
   "cell_type": "code",
   "execution_count": 41,
   "id": "a82d8818",
   "metadata": {},
   "outputs": [
    {
     "data": {
      "text/plain": [
       "Text(0, 0.5, 'Ground Truth')"
      ]
     },
     "execution_count": 41,
     "metadata": {},
     "output_type": "execute_result"
    },
    {
     "data": {
      "image/png": "[encoded data removed]",
      "text/plain": [
       "<Figure size 432x288 with 1 Axes>"
      ]
     },
     "metadata": {},
     "output_type": "display_data"
    }
   ],
   "source": [
    "# Plot model performance (done on splitting test data)\n",
    "plt.scatter(lgbm_prediction, y_te)\n",
    "plt.xlabel('LGBM prediction')\n",
    "plt.ylabel('Ground Truth')"
   ]
  },
  {
   "cell_type": "code",
   "execution_count": 42,
   "id": "4e231caf",
   "metadata": {},
   "outputs": [
    {
     "data": {
      "image/png": "[encoded data removed]",
      "text/plain": [
       "<Figure size 1008x432 with 1 Axes>"
      ]
     },
     "metadata": {},
     "output_type": "display_data"
    }
   ],
   "source": [
    "importances = modelLGBM.feature_importances_\n",
    "forest_importances = pd.Series(importances, index=X_tr.columns)\n",
    "\n",
    "fig, ax=plt.subplots(1, 1, figsize=(14,6))\n",
    "#fig, ax = plt.subplots()\n",
    "forest_importances.plot.bar(ax=ax)\n",
    "ax.set_title(\"Gini Importance\")\n",
    "ax.set_ylabel(\"Importance\")\n",
    "fig.tight_layout()"
   ]
  },
  {
   "cell_type": "code",
   "execution_count": 43,
   "id": "030a3362",
   "metadata": {},
   "outputs": [],
   "source": [
    "# Kaggle score: 0.39163 (worse than cat boost) using z-score prices\n",
    "# Kaggle score with log: 0.29291 \n",
    "# Kaggle score with catboost and log prices: 0.2992 (sligthly worse that lgbm)\n",
    "\n",
    "lgbm_prediction_final = modelLGBM.predict(XTEST)"
   ]
  },
  {
   "cell_type": "code",
   "execution_count": 44,
   "id": "228c9b96",
   "metadata": {},
   "outputs": [],
   "source": [
    "write_predictions(\"lgbm_boost_log_category_3.csv\", XTrain, XTest, lgbm_prediction_final, log=True)"
   ]
  },
  {
   "cell_type": "code",
   "execution_count": 45,
   "id": "13b7a13b",
   "metadata": {},
   "outputs": [
    {
     "data": {
      "text/html": [
       "<div>\n",
       "<style scoped>\n",
       "    .dataframe tbody tr th:only-of-type {\n",
       "        vertical-align: middle;\n",
       "    }\n",
       "\n",
       "    .dataframe tbody tr th {\n",
       "        vertical-align: top;\n",
       "    }\n",
       "\n",
       "    .dataframe thead th {\n",
       "        text-align: right;\n",
       "    }\n",
       "</style>\n",
       "<table border=\"1\" class=\"dataframe\">\n",
       "  <thead>\n",
       "    <tr style=\"text-align: right;\">\n",
       "      <th></th>\n",
       "      <th>id</th>\n",
       "      <th>price_prediction</th>\n",
       "    </tr>\n",
       "  </thead>\n",
       "  <tbody>\n",
       "    <tr>\n",
       "      <th>0</th>\n",
       "      <td>23285</td>\n",
       "      <td>1.553361e+07</td>\n",
       "    </tr>\n",
       "    <tr>\n",
       "      <th>1</th>\n",
       "      <td>23286</td>\n",
       "      <td>1.301201e+07</td>\n",
       "    </tr>\n",
       "    <tr>\n",
       "      <th>2</th>\n",
       "      <td>23287</td>\n",
       "      <td>6.964845e+06</td>\n",
       "    </tr>\n",
       "    <tr>\n",
       "      <th>3</th>\n",
       "      <td>23288</td>\n",
       "      <td>7.468174e+06</td>\n",
       "    </tr>\n",
       "    <tr>\n",
       "      <th>4</th>\n",
       "      <td>23289</td>\n",
       "      <td>7.287342e+06</td>\n",
       "    </tr>\n",
       "  </tbody>\n",
       "</table>\n",
       "</div>"
      ],
      "text/plain": [
       "      id  price_prediction\n",
       "0  23285      1.553361e+07\n",
       "1  23286      1.301201e+07\n",
       "2  23287      6.964845e+06\n",
       "3  23288      7.468174e+06\n",
       "4  23289      7.287342e+06"
      ]
     },
     "execution_count": 45,
     "metadata": {},
     "output_type": "execute_result"
    }
   ],
   "source": [
    "result = pd.read_csv(\"lgbm_boost_log_category_3.csv\")\n",
    "result.head()"
   ]
  },
  {
   "cell_type": "code",
   "execution_count": 46,
   "id": "c4d8d199",
   "metadata": {},
   "outputs": [
    {
     "name": "stdout",
     "output_type": "stream",
     "text": [
      "[15533613.3861025  13012005.07800746  6964844.9274651  ...\n",
      "  8874669.02034623  8018297.29695338  7412685.84065156]\n"
     ]
    }
   ],
   "source": [
    "l_price = np.exp(lgbm_prediction_final)\n",
    "print(l_price)"
   ]
  },
  {
   "cell_type": "code",
   "execution_count": 47,
   "id": "64f93a9a",
   "metadata": {},
   "outputs": [
    {
     "data": {
      "text/plain": [
       "0     7139520.0\n",
       "1    10500000.0\n",
       "2     9019650.0\n",
       "3    10500000.0\n",
       "4    13900000.0\n",
       "Name: price, dtype: float64"
      ]
     },
     "execution_count": 47,
     "metadata": {},
     "output_type": "execute_result"
    }
   ],
   "source": [
    "XTrain[\"price\"].head()"
   ]
  },
  {
   "cell_type": "code",
   "execution_count": 48,
   "id": "fd54c913",
   "metadata": {},
   "outputs": [
    {
     "data": {
      "text/plain": [
       "0    15.781156\n",
       "1    16.166886\n",
       "2    16.014916\n",
       "3    16.166886\n",
       "4    16.447399\n",
       "Name: price, dtype: float64"
      ]
     },
     "execution_count": 48,
     "metadata": {},
     "output_type": "execute_result"
    }
   ],
   "source": [
    "log_price = np.log(XTrain[\"price\"])\n",
    "log_price.head()"
   ]
  },
  {
   "cell_type": "code",
   "execution_count": 49,
   "id": "b4f57267",
   "metadata": {},
   "outputs": [
    {
     "data": {
      "text/plain": [
       "0     7139520.0\n",
       "1    10500000.0\n",
       "2     9019650.0\n",
       "3    10500000.0\n",
       "4    13900000.0\n",
       "Name: price, dtype: float64"
      ]
     },
     "execution_count": 49,
     "metadata": {},
     "output_type": "execute_result"
    }
   ],
   "source": [
    "log_price_revert = np.exp(log_price)\n",
    "log_price_revert.head()"
   ]
  },
  {
   "cell_type": "code",
   "execution_count": 50,
   "id": "d972c67a",
   "metadata": {},
   "outputs": [
    {
     "data": {
      "text/plain": [
       "0   -0.311843\n",
       "1   -0.248009\n",
       "2   -0.276129\n",
       "3   -0.248009\n",
       "4   -0.183424\n",
       "Name: price, dtype: float64"
      ]
     },
     "execution_count": 50,
     "metadata": {},
     "output_type": "execute_result"
    }
   ],
   "source": [
    "z_price = norm_features(XTrain[\"price\"])\n",
    "z_price.head()"
   ]
  },
  {
   "cell_type": "code",
   "execution_count": 51,
   "id": "bc44d94d",
   "metadata": {},
   "outputs": [
    {
     "data": {
      "text/plain": [
       "0     7139520.0\n",
       "1    10500000.0\n",
       "2     9019650.0\n",
       "3    10500000.0\n",
       "4    13900000.0\n",
       "Name: price, dtype: float64"
      ]
     },
     "execution_count": 51,
     "metadata": {},
     "output_type": "execute_result"
    }
   ],
   "source": [
    "z_price_reverted = revert(XTrain, z_price)\n",
    "z_price_reverted.head()"
   ]
  },
  {
   "cell_type": "code",
   "execution_count": 52,
   "id": "430eb740",
   "metadata": {},
   "outputs": [
    {
     "data": {
      "text/plain": [
       "21.678777281973847"
      ]
     },
     "execution_count": 52,
     "metadata": {},
     "output_type": "execute_result"
    }
   ],
   "source": [
    "log_price.max()"
   ]
  },
  {
   "cell_type": "code",
   "execution_count": 53,
   "id": "ab122b24",
   "metadata": {},
   "outputs": [
    {
     "data": {
      "text/plain": [
       "48.94094976711498"
      ]
     },
     "execution_count": 53,
     "metadata": {},
     "output_type": "execute_result"
    }
   ],
   "source": [
    "z_price.max()"
   ]
  },
  {
   "cell_type": "code",
   "execution_count": 54,
   "id": "95bad278",
   "metadata": {},
   "outputs": [
    {
     "data": {
      "text/plain": [
       "13.710150042306449"
      ]
     },
     "execution_count": 54,
     "metadata": {},
     "output_type": "execute_result"
    }
   ],
   "source": [
    "log_price.min()"
   ]
  },
  {
   "cell_type": "code",
   "execution_count": 55,
   "id": "787e457a",
   "metadata": {},
   "outputs": [
    {
     "data": {
      "text/plain": [
       "-0.4303663197876889"
      ]
     },
     "execution_count": 55,
     "metadata": {},
     "output_type": "execute_result"
    }
   ],
   "source": [
    "z_price.min()"
   ]
  },
  {
   "cell_type": "code",
   "execution_count": 56,
   "id": "914ad38d",
   "metadata": {},
   "outputs": [
    {
     "data": {
      "text/plain": [
       "1.7490005817073718e-16"
      ]
     },
     "execution_count": 56,
     "metadata": {},
     "output_type": "execute_result"
    }
   ],
   "source": [
    "z_price.mean()"
   ]
  },
  {
   "cell_type": "code",
   "execution_count": 57,
   "id": "2d7c9877",
   "metadata": {},
   "outputs": [
    {
     "data": {
      "text/plain": [
       "-0.24525473322380809"
      ]
     },
     "execution_count": 57,
     "metadata": {},
     "output_type": "execute_result"
    }
   ],
   "source": [
    "z_price.median()"
   ]
  },
  {
   "cell_type": "code",
   "execution_count": 58,
   "id": "fd79ecc9",
   "metadata": {},
   "outputs": [
    {
     "data": {
      "text/plain": [
       "<AxesSubplot:>"
      ]
     },
     "execution_count": 58,
     "metadata": {},
     "output_type": "execute_result"
    },
    {
     "data": {
      "image/png": "[encoded data removed]",
      "text/plain": [
       "<Figure size 432x288 with 1 Axes>"
      ]
     },
     "metadata": {},
     "output_type": "display_data"
    }
   ],
   "source": [
    "z_price.plot()"
   ]
  },
  {
   "cell_type": "code",
   "execution_count": 59,
   "id": "668b91c4",
   "metadata": {},
   "outputs": [
    {
     "data": {
      "text/plain": [
       "<AxesSubplot:>"
      ]
     },
     "execution_count": 59,
     "metadata": {},
     "output_type": "execute_result"
    },
    {
     "data": {
      "image/png": "[encoded data removed]",
      "text/plain": [
       "<Figure size 432x288 with 1 Axes>"
      ]
     },
     "metadata": {},
     "output_type": "display_data"
    }
   ],
   "source": [
    "log_price.plot()"
   ]
  },
  {
   "cell_type": "code",
   "execution_count": 60,
   "id": "36bd2f1d",
   "metadata": {},
   "outputs": [
    {
     "name": "stdout",
     "output_type": "stream",
     "text": [
      "MAE: -60.004 (2.887)\n"
     ]
    }
   ],
   "source": [
    "from sklearn.model_selection import cross_val_score\n",
    "from sklearn.model_selection import RepeatedKFold\n",
    "from sklearn.datasets import make_regression\n",
    "from lightgbm import LGBMRegressor\n",
    "# define dataset\n",
    "X, y = make_regression(n_samples=1000, n_features=20, n_informative=15, noise=0.1, random_state=7)\n",
    "# define the model\n",
    "model = LGBMRegressor()\n",
    "# evaluate the model\n",
    "cv = RepeatedKFold(n_splits=10, n_repeats=3, random_state=1)\n",
    "n_scores = cross_val_score(model, X, y, scoring='neg_mean_absolute_error', cv=cv, n_jobs=-1, error_score='raise')\n",
    "# report performance\n",
    "print('MAE: %.3f (%.3f)' % (np.mean(n_scores), np.std(n_scores)))"
   ]
  },
  {
   "cell_type": "code",
   "execution_count": 61,
   "id": "90e6960f",
   "metadata": {},
   "outputs": [
    {
     "name": "stdout",
     "output_type": "stream",
     "text": [
      "Prediction: 52\n"
     ]
    }
   ],
   "source": [
    "model.fit(X, y)\n",
    "# make a single prediction\n",
    "row = [0.20543991,-0.97049844,-0.81403429,-0.23842689,-0.60704084,-0.48541492,0.53113006,2.01834338,-0.90745243,-1.85859731,-1.02334791,-0.6877744,0.60984819,-0.70630121,-1.29161497,1.32385441,1.42150747,1.26567231,2.56569098,-0.11154792]\n",
    "yhat = model.predict([row])\n",
    "print('Prediction: %d' % yhat[0])"
   ]
  },
  {
   "cell_type": "code",
   "execution_count": 62,
   "id": "57e4d413",
   "metadata": {},
   "outputs": [
    {
     "name": "stdout",
     "output_type": "stream",
     "text": [
      "MAE: -15.048 (1.316)\n",
      "Prediction: -93.434\n"
     ]
    }
   ],
   "source": [
    "\n",
    "# xgboost for regression\n",
    "from sklearn.datasets import make_regression\n",
    "from xgboost import XGBRegressor\n",
    "from sklearn.model_selection import cross_val_score\n",
    "from sklearn.model_selection import RepeatedKFold\n",
    "from matplotlib import pyplot\n",
    "# define dataset\n",
    "X, y = make_regression(n_samples=1000, n_features=10, n_informative=5, random_state=1)\n",
    "# evaluate the model\n",
    "model = XGBRegressor(objective='reg:squarederror')\n",
    "cv = RepeatedKFold(n_splits=10, n_repeats=3, random_state=1)\n",
    "n_scores = cross_val_score(model, X, y, scoring='neg_mean_absolute_error', cv=cv, n_jobs=-1, error_score='raise')\n",
    "print('MAE: %.3f (%.3f)' % (np.mean(n_scores), np.std(n_scores)))\n",
    "# fit the model on the whole dataset\n",
    "model = XGBRegressor(objective='reg:squarederror')\n",
    "model.fit(X, y)\n",
    "# make a single prediction\n",
    "row = [2.02220122, 0.31563495, 0.82797464, -0.30620401, 0.16003707, -1.44411381, 0.87616892, -0.50446586, 0.23009474, 0.76201118]\n",
    "row = np.asarray(row).reshape((1, len(row)))\n",
    "yhat = model.predict(row)\n",
    "print('Prediction: %.3f' % yhat[0])"
   ]
  }
 ],
 "metadata": {
  "kernelspec": {
   "display_name": "Python 3 (ipykernel)",
   "language": "python",
   "name": "python3"
  },
  "language_info": {
   "codemirror_mode": {
    "name": "ipython",
    "version": 3
   },
   "file_extension": ".py",
   "mimetype": "text/x-python",
   "name": "python",
   "nbconvert_exporter": "python",
   "pygments_lexer": "ipython3",
   "version": "3.8.11"
  }
 },
 "nbformat": 4,
 "nbformat_minor": 5
}
