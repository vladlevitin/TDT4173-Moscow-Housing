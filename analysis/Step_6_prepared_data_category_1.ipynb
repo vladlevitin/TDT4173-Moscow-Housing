{
 "cells": [
  {
   "cell_type": "code",
   "execution_count": 1,
   "id": "f8145c85",
   "metadata": {},
   "outputs": [],
   "source": [
    "import pandas as pd\n",
    "import numpy as np\n",
    "import h2o\n",
    "import lime\n",
    "from lime import lime_tabular\n",
    "\n",
    "from sklearn.model_selection import train_test_split, KFold\n",
    "from sklearn.tree import DecisionTreeRegressor\n",
    "from sklearn.metrics import mean_squared_error\n",
    "from sklearn.ensemble import RandomForestRegressor\n",
    "from sklearn.ensemble import AdaBoostRegressor\n",
    "from sklearn.ensemble import GradientBoostingRegressor\n",
    "import lightgbm as lgb\n",
    "from catboost import CatBoostRegressor\n",
    "from sklearn.decomposition import PCA  # Principal component\n",
    "from sklearn.linear_model import LinearRegression\n",
    "from h2o.automl import H2OAutoML as ml\n",
    "from h2o.estimators import H2OXGBoostEstimator\n",
    "\n",
    "from functions.datacleaning import MoscowHousing as mh\n",
    "from functions.distance import get_distance_coordinates, norm_features, PCA_plot\n",
    "\n",
    "import matplotlib.pylab as plt\n",
    "import seaborn as sns\n",
    "plt.style.use('ggplot')"
   ]
  },
  {
   "cell_type": "markdown",
   "id": "0f726cf3",
   "metadata": {},
   "source": [
    "# Using Prepared Data from Category_1"
   ]
  },
  {
   "cell_type": "code",
   "execution_count": 2,
   "id": "19bd00c7",
   "metadata": {},
   "outputs": [],
   "source": [
    "# Importing prepared_category_1 datasets\n",
    "XTrain = pd.read_csv(\"../data/train_prepared_category_1.csv\")\n",
    "XTest = pd.read_csv(\"../data/test_prepared_category_1.csv\")\n",
    "\n",
    "# Make copies to avoid new imports\n",
    "X_train = XTrain.copy()\n",
    "X_test = XTest.copy()\n",
    "y_train_real = XTrain[\"price\"].copy()          # Prices actual values\n",
    "y_train_zscore = XTrain[\"price\"].copy() \n",
    "y_train_zscore = norm_features(y_train_zscore) # Prices as z-scores (normalized)"
   ]
  },
  {
   "cell_type": "code",
   "execution_count": 3,
   "id": "a8f109ff",
   "metadata": {},
   "outputs": [],
   "source": [
    "# Features with nan (not hot encoded) in this dataset (drop or prepare)\n",
    "features_nan = [\"area_kitchen\",\n",
    "                \"area_living\",\n",
    "                \"bathrooms_shared\",\n",
    "                \"bathrooms_private\",\n",
    "                \"windows_court\",\n",
    "                \"windows_street\",\n",
    "                \"balconies\",\n",
    "                \"loggias\",\n",
    "                \"phones\",\n",
    "                \"constructed\",\n",
    "                \"parking\"]\n",
    "\n",
    "features_drop = [\"street\", \"address\",\n",
    "                 \"latitude\", \"longitude\"]\n",
    "\n",
    "# Hot-encoded-nans (drop or leave in)\n",
    "features_nan_hot = [\"seller_nan\", \n",
    "                    \"layout_nan\",\n",
    "                    \"condition_nan\", \n",
    "                    \"new_nan\", \n",
    "                    \"material_nan\", \n",
    "                    \"garbage_chute_nan\", \n",
    "                    \"heating_nan\"]\n",
    "\n",
    "# Features WITH hot-encoded-nans in dataset Category-1\n",
    "features = [\"area_total\",\n",
    "            \"rooms\",\n",
    "            \"floor\",\n",
    "            \"distance\",\n",
    "            \"distance_metro\",\n",
    "            \"ceiling\", \n",
    "            \"district\", \n",
    "            \"stories\", \n",
    "            \"material_0.0\", \"material_1.0\", \"material_2.0\", \n",
    "            \"material_3.0\", \"material_4.0\", \"material_5.0\",\n",
    "            \"material_6.0\", \"material_nan\", \n",
    "            \"heating_0.0\", \"heating_1.0\", \"heating_2.0\", \n",
    "            \"heating_3.0\", \"heating_nan\",\n",
    "            \"elevator\", \"elevator_no\"]\n",
    "\n",
    "output = \"price\""
   ]
  },
  {
   "cell_type": "code",
   "execution_count": 4,
   "id": "446cabea",
   "metadata": {},
   "outputs": [],
   "source": [
    "X_train = X_train.drop(features_nan, axis=1)\n",
    "X_test = X_test.drop(features_nan, axis=1)\n",
    "X_train = X_train.drop(features_drop, axis=1)\n",
    "X_test = X_test.drop(features_drop, axis=1)"
   ]
  },
  {
   "cell_type": "code",
   "execution_count": 5,
   "id": "473b7b14",
   "metadata": {},
   "outputs": [
    {
     "name": "stdout",
     "output_type": "stream",
     "text": [
      "Checking whether there is an H2O instance running at http://localhost:54321 . connected.\n"
     ]
    },
    {
     "data": {
      "text/html": [
       "<div style=\"overflow:auto\"><table style=\"width:50%\"><tr><td>H2O_cluster_uptime:</td>\n",
       "<td>1 day 0 hours 38 mins</td></tr>\n",
       "<tr><td>H2O_cluster_timezone:</td>\n",
       "<td>Europe/Oslo</td></tr>\n",
       "<tr><td>H2O_data_parsing_timezone:</td>\n",
       "<td>UTC</td></tr>\n",
       "<tr><td>H2O_cluster_version:</td>\n",
       "<td>3.35.0.2</td></tr>\n",
       "<tr><td>H2O_cluster_version_age:</td>\n",
       "<td>1 month and 6 days </td></tr>\n",
       "<tr><td>H2O_cluster_name:</td>\n",
       "<td>H2O_from_python_vanjafalck_wrgfdg</td></tr>\n",
       "<tr><td>H2O_cluster_total_nodes:</td>\n",
       "<td>1</td></tr>\n",
       "<tr><td>H2O_cluster_free_memory:</td>\n",
       "<td>3.147 Gb</td></tr>\n",
       "<tr><td>H2O_cluster_total_cores:</td>\n",
       "<td>8</td></tr>\n",
       "<tr><td>H2O_cluster_allowed_cores:</td>\n",
       "<td>8</td></tr>\n",
       "<tr><td>H2O_cluster_status:</td>\n",
       "<td>locked, healthy</td></tr>\n",
       "<tr><td>H2O_connection_url:</td>\n",
       "<td>http://localhost:54321</td></tr>\n",
       "<tr><td>H2O_connection_proxy:</td>\n",
       "<td>{\"http\": null, \"https\": null}</td></tr>\n",
       "<tr><td>H2O_internal_security:</td>\n",
       "<td>False</td></tr>\n",
       "<tr><td>H2O_API_Extensions:</td>\n",
       "<td>Amazon S3, Algos, AutoML, Core V3, TargetEncoder, Core V4</td></tr>\n",
       "<tr><td>Python_version:</td>\n",
       "<td>3.8.11 final</td></tr></table></div>"
      ],
      "text/plain": [
       "--------------------------  ---------------------------------------------------------\n",
       "H2O_cluster_uptime:         1 day 0 hours 38 mins\n",
       "H2O_cluster_timezone:       Europe/Oslo\n",
       "H2O_data_parsing_timezone:  UTC\n",
       "H2O_cluster_version:        3.35.0.2\n",
       "H2O_cluster_version_age:    1 month and 6 days\n",
       "H2O_cluster_name:           H2O_from_python_vanjafalck_wrgfdg\n",
       "H2O_cluster_total_nodes:    1\n",
       "H2O_cluster_free_memory:    3.147 Gb\n",
       "H2O_cluster_total_cores:    8\n",
       "H2O_cluster_allowed_cores:  8\n",
       "H2O_cluster_status:         locked, healthy\n",
       "H2O_connection_url:         http://localhost:54321\n",
       "H2O_connection_proxy:       {\"http\": null, \"https\": null}\n",
       "H2O_internal_security:      False\n",
       "H2O_API_Extensions:         Amazon S3, Algos, AutoML, Core V3, TargetEncoder, Core V4\n",
       "Python_version:             3.8.11 final\n",
       "--------------------------  ---------------------------------------------------------"
      ]
     },
     "metadata": {},
     "output_type": "display_data"
    }
   ],
   "source": [
    "h2o.init()"
   ]
  },
  {
   "cell_type": "code",
   "execution_count": 6,
   "id": "6d73eb2e",
   "metadata": {},
   "outputs": [
    {
     "name": "stdout",
     "output_type": "stream",
     "text": [
      "Parse progress: |████████████████████████████████████████████████████████████████| (done) 100%\n",
      "Parse progress: |████████████████████████████████████████████████████████████████| (done) 100%\n"
     ]
    }
   ],
   "source": [
    "X_train[\"price\"] = norm_features(X_train[\"price\"])\n",
    "ids = [\"id\", \"building_id\"]\n",
    "X_train = X_train.drop(ids, axis=1)\n",
    "X_test = X_test.drop(ids, axis=1)\n",
    "\n",
    "data_train = h2o.H2OFrame(X_train)\n",
    "data_test = h2o.H2OFrame(X_test)"
   ]
  },
  {
   "cell_type": "markdown",
   "id": "c1c79651",
   "metadata": {},
   "source": [
    "# Data Analysis"
   ]
  },
  {
   "cell_type": "code",
   "execution_count": null,
   "id": "8ad791bb",
   "metadata": {},
   "outputs": [],
   "source": []
  },
  {
   "cell_type": "code",
   "execution_count": 7,
   "id": "24374a3e",
   "metadata": {},
   "outputs": [],
   "source": [
    "#data_train = h2o.import_file(\"../data/train_prepared_category_1.csv\")"
   ]
  },
  {
   "cell_type": "code",
   "execution_count": 8,
   "id": "f41bd187",
   "metadata": {},
   "outputs": [],
   "source": [
    "#data_test = h2o.import_file(\"../data/test_prepared_category_1.csv\")"
   ]
  },
  {
   "cell_type": "code",
   "execution_count": 9,
   "id": "da067657",
   "metadata": {},
   "outputs": [
    {
     "name": "stdout",
     "output_type": "stream",
     "text": [
      "Cannot build an XGBoost model - no backend found.\n"
     ]
    }
   ],
   "source": [
    "is_xgboost_available = H2OXGBoostEstimator.available()"
   ]
  },
  {
   "cell_type": "code",
   "execution_count": 10,
   "id": "145a7cd8",
   "metadata": {},
   "outputs": [],
   "source": [
    "# Settings for \"LightGBM\" emuation mode options\n",
    "tree_method=\"hist\"\n",
    "grow_policy=\"lossguide\""
   ]
  },
  {
   "cell_type": "code",
   "execution_count": null,
   "id": "b51d2149",
   "metadata": {},
   "outputs": [],
   "source": []
  },
  {
   "cell_type": "code",
   "execution_count": 11,
   "id": "c498f8de",
   "metadata": {},
   "outputs": [
    {
     "name": "stdout",
     "output_type": "stream",
     "text": [
      "AutoML progress: |\n",
      "10:58:08.780: AutoML: XGBoost is not available; skipping it.\n",
      "10:58:08.781: Step 'best_of_family_xgboost' not defined in provider 'StackedEnsemble': skipping it.\n",
      "10:58:08.781: Step 'all_xgboost' not defined in provider 'StackedEnsemble': skipping it.\n",
      "\n",
      "███████████████████████████████████████████████████████████████| (done) 100%\n",
      "Model Details\n",
      "=============\n",
      "H2OGradientBoostingEstimator :  Gradient Boosting Machine\n",
      "Model Key:  GBM_grid_1_AutoML_8_20211113_105808_model_1\n",
      "\n",
      "\n",
      "Model Summary: \n"
     ]
    },
    {
     "data": {
      "text/html": [
       "<div>\n",
       "<style scoped>\n",
       "    .dataframe tbody tr th:only-of-type {\n",
       "        vertical-align: middle;\n",
       "    }\n",
       "\n",
       "    .dataframe tbody tr th {\n",
       "        vertical-align: top;\n",
       "    }\n",
       "\n",
       "    .dataframe thead th {\n",
       "        text-align: right;\n",
       "    }\n",
       "</style>\n",
       "<table border=\"1\" class=\"dataframe\">\n",
       "  <thead>\n",
       "    <tr style=\"text-align: right;\">\n",
       "      <th></th>\n",
       "      <th></th>\n",
       "      <th>number_of_trees</th>\n",
       "      <th>number_of_internal_trees</th>\n",
       "      <th>model_size_in_bytes</th>\n",
       "      <th>min_depth</th>\n",
       "      <th>max_depth</th>\n",
       "      <th>mean_depth</th>\n",
       "      <th>min_leaves</th>\n",
       "      <th>max_leaves</th>\n",
       "      <th>mean_leaves</th>\n",
       "    </tr>\n",
       "  </thead>\n",
       "  <tbody>\n",
       "    <tr>\n",
       "      <th>0</th>\n",
       "      <td></td>\n",
       "      <td>101.0</td>\n",
       "      <td>101.0</td>\n",
       "      <td>423514.0</td>\n",
       "      <td>0.0</td>\n",
       "      <td>16.0</td>\n",
       "      <td>14.118812</td>\n",
       "      <td>1.0</td>\n",
       "      <td>754.0</td>\n",
       "      <td>328.38614</td>\n",
       "    </tr>\n",
       "  </tbody>\n",
       "</table>\n",
       "</div>"
      ],
      "text/plain": [
       "     number_of_trees  number_of_internal_trees  model_size_in_bytes  \\\n",
       "0              101.0                     101.0             423514.0   \n",
       "\n",
       "   min_depth  max_depth  mean_depth  min_leaves  max_leaves  mean_leaves  \n",
       "0        0.0       16.0   14.118812         1.0       754.0    328.38614  "
      ]
     },
     "metadata": {},
     "output_type": "display_data"
    },
    {
     "name": "stdout",
     "output_type": "stream",
     "text": [
      "\n",
      "\n",
      "ModelMetricsRegression: gbm\n",
      "** Reported on train data. **\n",
      "\n",
      "MSE: 0.11047594737719557\n",
      "RMSE: 0.3323792222404938\n",
      "MAE: 0.08890771617834269\n",
      "RMSLE: 0.10748088725837665\n",
      "Mean Residual Deviance: 0.11047594737719557\n",
      "\n",
      "ModelMetricsRegression: gbm\n",
      "** Reported on cross-validation data. **\n",
      "\n",
      "MSE: 0.27412124452843567\n",
      "RMSE: 0.5235658932058463\n",
      "MAE: 0.14086714019137958\n",
      "RMSLE: 0.16204247417686993\n",
      "Mean Residual Deviance: 0.27412124452843567\n",
      "\n",
      "Cross-Validation Metrics Summary: \n"
     ]
    },
    {
     "data": {
      "text/html": [
       "<div>\n",
       "<style scoped>\n",
       "    .dataframe tbody tr th:only-of-type {\n",
       "        vertical-align: middle;\n",
       "    }\n",
       "\n",
       "    .dataframe tbody tr th {\n",
       "        vertical-align: top;\n",
       "    }\n",
       "\n",
       "    .dataframe thead th {\n",
       "        text-align: right;\n",
       "    }\n",
       "</style>\n",
       "<table border=\"1\" class=\"dataframe\">\n",
       "  <thead>\n",
       "    <tr style=\"text-align: right;\">\n",
       "      <th></th>\n",
       "      <th></th>\n",
       "      <th>mean</th>\n",
       "      <th>sd</th>\n",
       "      <th>cv_1_valid</th>\n",
       "      <th>cv_2_valid</th>\n",
       "      <th>cv_3_valid</th>\n",
       "      <th>cv_4_valid</th>\n",
       "      <th>cv_5_valid</th>\n",
       "    </tr>\n",
       "  </thead>\n",
       "  <tbody>\n",
       "    <tr>\n",
       "      <th>0</th>\n",
       "      <td>mae</td>\n",
       "      <td>0.140935</td>\n",
       "      <td>0.008716</td>\n",
       "      <td>0.146979</td>\n",
       "      <td>0.145158</td>\n",
       "      <td>0.131093</td>\n",
       "      <td>0.149457</td>\n",
       "      <td>0.131989</td>\n",
       "    </tr>\n",
       "    <tr>\n",
       "      <th>1</th>\n",
       "      <td>mean_residual_deviance</td>\n",
       "      <td>0.274653</td>\n",
       "      <td>0.207147</td>\n",
       "      <td>0.568928</td>\n",
       "      <td>0.172760</td>\n",
       "      <td>0.111525</td>\n",
       "      <td>0.414332</td>\n",
       "      <td>0.105718</td>\n",
       "    </tr>\n",
       "    <tr>\n",
       "      <th>2</th>\n",
       "      <td>mse</td>\n",
       "      <td>0.274653</td>\n",
       "      <td>0.207147</td>\n",
       "      <td>0.568928</td>\n",
       "      <td>0.172760</td>\n",
       "      <td>0.111525</td>\n",
       "      <td>0.414332</td>\n",
       "      <td>0.105718</td>\n",
       "    </tr>\n",
       "    <tr>\n",
       "      <th>3</th>\n",
       "      <td>r2</td>\n",
       "      <td>0.726037</td>\n",
       "      <td>0.119821</td>\n",
       "      <td>0.559137</td>\n",
       "      <td>0.786348</td>\n",
       "      <td>0.809082</td>\n",
       "      <td>0.640955</td>\n",
       "      <td>0.834662</td>\n",
       "    </tr>\n",
       "    <tr>\n",
       "      <th>4</th>\n",
       "      <td>residual_deviance</td>\n",
       "      <td>0.274653</td>\n",
       "      <td>0.207147</td>\n",
       "      <td>0.568928</td>\n",
       "      <td>0.172760</td>\n",
       "      <td>0.111525</td>\n",
       "      <td>0.414332</td>\n",
       "      <td>0.105718</td>\n",
       "    </tr>\n",
       "    <tr>\n",
       "      <th>5</th>\n",
       "      <td>rmse</td>\n",
       "      <td>0.494540</td>\n",
       "      <td>0.193916</td>\n",
       "      <td>0.754273</td>\n",
       "      <td>0.415644</td>\n",
       "      <td>0.333953</td>\n",
       "      <td>0.643687</td>\n",
       "      <td>0.325144</td>\n",
       "    </tr>\n",
       "    <tr>\n",
       "      <th>6</th>\n",
       "      <td>rmsle</td>\n",
       "      <td>0.162123</td>\n",
       "      <td>0.002257</td>\n",
       "      <td>0.163824</td>\n",
       "      <td>0.164838</td>\n",
       "      <td>0.159764</td>\n",
       "      <td>0.159994</td>\n",
       "      <td>0.162194</td>\n",
       "    </tr>\n",
       "  </tbody>\n",
       "</table>\n",
       "</div>"
      ],
      "text/plain": [
       "                               mean        sd  cv_1_valid  cv_2_valid  \\\n",
       "0                     mae  0.140935  0.008716    0.146979    0.145158   \n",
       "1  mean_residual_deviance  0.274653  0.207147    0.568928    0.172760   \n",
       "2                     mse  0.274653  0.207147    0.568928    0.172760   \n",
       "3                      r2  0.726037  0.119821    0.559137    0.786348   \n",
       "4       residual_deviance  0.274653  0.207147    0.568928    0.172760   \n",
       "5                    rmse  0.494540  0.193916    0.754273    0.415644   \n",
       "6                   rmsle  0.162123  0.002257    0.163824    0.164838   \n",
       "\n",
       "   cv_3_valid  cv_4_valid  cv_5_valid  \n",
       "0    0.131093    0.149457    0.131989  \n",
       "1    0.111525    0.414332    0.105718  \n",
       "2    0.111525    0.414332    0.105718  \n",
       "3    0.809082    0.640955    0.834662  \n",
       "4    0.111525    0.414332    0.105718  \n",
       "5    0.333953    0.643687    0.325144  \n",
       "6    0.159764    0.159994    0.162194  "
      ]
     },
     "metadata": {},
     "output_type": "display_data"
    },
    {
     "name": "stdout",
     "output_type": "stream",
     "text": [
      "\n",
      "Scoring History: \n"
     ]
    },
    {
     "data": {
      "text/html": [
       "<div>\n",
       "<style scoped>\n",
       "    .dataframe tbody tr th:only-of-type {\n",
       "        vertical-align: middle;\n",
       "    }\n",
       "\n",
       "    .dataframe tbody tr th {\n",
       "        vertical-align: top;\n",
       "    }\n",
       "\n",
       "    .dataframe thead th {\n",
       "        text-align: right;\n",
       "    }\n",
       "</style>\n",
       "<table border=\"1\" class=\"dataframe\">\n",
       "  <thead>\n",
       "    <tr style=\"text-align: right;\">\n",
       "      <th></th>\n",
       "      <th></th>\n",
       "      <th>timestamp</th>\n",
       "      <th>duration</th>\n",
       "      <th>number_of_trees</th>\n",
       "      <th>training_rmse</th>\n",
       "      <th>training_mae</th>\n",
       "      <th>training_deviance</th>\n",
       "    </tr>\n",
       "  </thead>\n",
       "  <tbody>\n",
       "    <tr>\n",
       "      <th>0</th>\n",
       "      <td></td>\n",
       "      <td>2021-11-13 10:59:16</td>\n",
       "      <td>4.798 sec</td>\n",
       "      <td>0.0</td>\n",
       "      <td>0.946249</td>\n",
       "      <td>0.390523</td>\n",
       "      <td>0.895388</td>\n",
       "    </tr>\n",
       "    <tr>\n",
       "      <th>1</th>\n",
       "      <td></td>\n",
       "      <td>2021-11-13 10:59:16</td>\n",
       "      <td>4.862 sec</td>\n",
       "      <td>5.0</td>\n",
       "      <td>0.811537</td>\n",
       "      <td>0.304742</td>\n",
       "      <td>0.658592</td>\n",
       "    </tr>\n",
       "    <tr>\n",
       "      <th>2</th>\n",
       "      <td></td>\n",
       "      <td>2021-11-13 10:59:16</td>\n",
       "      <td>4.937 sec</td>\n",
       "      <td>10.0</td>\n",
       "      <td>0.681264</td>\n",
       "      <td>0.227715</td>\n",
       "      <td>0.464120</td>\n",
       "    </tr>\n",
       "    <tr>\n",
       "      <th>3</th>\n",
       "      <td></td>\n",
       "      <td>2021-11-13 10:59:16</td>\n",
       "      <td>5.018 sec</td>\n",
       "      <td>15.0</td>\n",
       "      <td>0.589104</td>\n",
       "      <td>0.173382</td>\n",
       "      <td>0.347043</td>\n",
       "    </tr>\n",
       "    <tr>\n",
       "      <th>4</th>\n",
       "      <td></td>\n",
       "      <td>2021-11-13 10:59:17</td>\n",
       "      <td>5.079 sec</td>\n",
       "      <td>20.0</td>\n",
       "      <td>0.558139</td>\n",
       "      <td>0.154088</td>\n",
       "      <td>0.311519</td>\n",
       "    </tr>\n",
       "    <tr>\n",
       "      <th>5</th>\n",
       "      <td></td>\n",
       "      <td>2021-11-13 10:59:17</td>\n",
       "      <td>5.139 sec</td>\n",
       "      <td>25.0</td>\n",
       "      <td>0.518050</td>\n",
       "      <td>0.136163</td>\n",
       "      <td>0.268376</td>\n",
       "    </tr>\n",
       "    <tr>\n",
       "      <th>6</th>\n",
       "      <td></td>\n",
       "      <td>2021-11-13 10:59:17</td>\n",
       "      <td>5.210 sec</td>\n",
       "      <td>30.0</td>\n",
       "      <td>0.472047</td>\n",
       "      <td>0.121340</td>\n",
       "      <td>0.222829</td>\n",
       "    </tr>\n",
       "    <tr>\n",
       "      <th>7</th>\n",
       "      <td></td>\n",
       "      <td>2021-11-13 10:59:17</td>\n",
       "      <td>5.272 sec</td>\n",
       "      <td>35.0</td>\n",
       "      <td>0.436293</td>\n",
       "      <td>0.113280</td>\n",
       "      <td>0.190351</td>\n",
       "    </tr>\n",
       "    <tr>\n",
       "      <th>8</th>\n",
       "      <td></td>\n",
       "      <td>2021-11-13 10:59:17</td>\n",
       "      <td>5.333 sec</td>\n",
       "      <td>40.0</td>\n",
       "      <td>0.419265</td>\n",
       "      <td>0.109315</td>\n",
       "      <td>0.175783</td>\n",
       "    </tr>\n",
       "    <tr>\n",
       "      <th>9</th>\n",
       "      <td></td>\n",
       "      <td>2021-11-13 10:59:17</td>\n",
       "      <td>5.391 sec</td>\n",
       "      <td>45.0</td>\n",
       "      <td>0.404455</td>\n",
       "      <td>0.105749</td>\n",
       "      <td>0.163584</td>\n",
       "    </tr>\n",
       "    <tr>\n",
       "      <th>10</th>\n",
       "      <td></td>\n",
       "      <td>2021-11-13 10:59:17</td>\n",
       "      <td>5.468 sec</td>\n",
       "      <td>50.0</td>\n",
       "      <td>0.394481</td>\n",
       "      <td>0.103347</td>\n",
       "      <td>0.155615</td>\n",
       "    </tr>\n",
       "    <tr>\n",
       "      <th>11</th>\n",
       "      <td></td>\n",
       "      <td>2021-11-13 10:59:17</td>\n",
       "      <td>5.564 sec</td>\n",
       "      <td>55.0</td>\n",
       "      <td>0.388444</td>\n",
       "      <td>0.101055</td>\n",
       "      <td>0.150889</td>\n",
       "    </tr>\n",
       "    <tr>\n",
       "      <th>12</th>\n",
       "      <td></td>\n",
       "      <td>2021-11-13 10:59:17</td>\n",
       "      <td>5.634 sec</td>\n",
       "      <td>60.0</td>\n",
       "      <td>0.383237</td>\n",
       "      <td>0.099294</td>\n",
       "      <td>0.146870</td>\n",
       "    </tr>\n",
       "    <tr>\n",
       "      <th>13</th>\n",
       "      <td></td>\n",
       "      <td>2021-11-13 10:59:17</td>\n",
       "      <td>5.689 sec</td>\n",
       "      <td>65.0</td>\n",
       "      <td>0.372262</td>\n",
       "      <td>0.098140</td>\n",
       "      <td>0.138579</td>\n",
       "    </tr>\n",
       "    <tr>\n",
       "      <th>14</th>\n",
       "      <td></td>\n",
       "      <td>2021-11-13 10:59:17</td>\n",
       "      <td>5.736 sec</td>\n",
       "      <td>70.0</td>\n",
       "      <td>0.367344</td>\n",
       "      <td>0.096193</td>\n",
       "      <td>0.134941</td>\n",
       "    </tr>\n",
       "    <tr>\n",
       "      <th>15</th>\n",
       "      <td></td>\n",
       "      <td>2021-11-13 10:59:17</td>\n",
       "      <td>5.774 sec</td>\n",
       "      <td>75.0</td>\n",
       "      <td>0.364986</td>\n",
       "      <td>0.095313</td>\n",
       "      <td>0.133215</td>\n",
       "    </tr>\n",
       "    <tr>\n",
       "      <th>16</th>\n",
       "      <td></td>\n",
       "      <td>2021-11-13 10:59:17</td>\n",
       "      <td>5.815 sec</td>\n",
       "      <td>80.0</td>\n",
       "      <td>0.361890</td>\n",
       "      <td>0.094108</td>\n",
       "      <td>0.130964</td>\n",
       "    </tr>\n",
       "    <tr>\n",
       "      <th>17</th>\n",
       "      <td></td>\n",
       "      <td>2021-11-13 10:59:17</td>\n",
       "      <td>5.855 sec</td>\n",
       "      <td>85.0</td>\n",
       "      <td>0.357132</td>\n",
       "      <td>0.092735</td>\n",
       "      <td>0.127543</td>\n",
       "    </tr>\n",
       "    <tr>\n",
       "      <th>18</th>\n",
       "      <td></td>\n",
       "      <td>2021-11-13 10:59:17</td>\n",
       "      <td>5.881 sec</td>\n",
       "      <td>90.0</td>\n",
       "      <td>0.349826</td>\n",
       "      <td>0.092086</td>\n",
       "      <td>0.122378</td>\n",
       "    </tr>\n",
       "    <tr>\n",
       "      <th>19</th>\n",
       "      <td></td>\n",
       "      <td>2021-11-13 10:59:17</td>\n",
       "      <td>5.932 sec</td>\n",
       "      <td>95.0</td>\n",
       "      <td>0.339798</td>\n",
       "      <td>0.091052</td>\n",
       "      <td>0.115463</td>\n",
       "    </tr>\n",
       "  </tbody>\n",
       "</table>\n",
       "</div>"
      ],
      "text/plain": [
       "                timestamp    duration  number_of_trees  training_rmse  \\\n",
       "0     2021-11-13 10:59:16   4.798 sec              0.0       0.946249   \n",
       "1     2021-11-13 10:59:16   4.862 sec              5.0       0.811537   \n",
       "2     2021-11-13 10:59:16   4.937 sec             10.0       0.681264   \n",
       "3     2021-11-13 10:59:16   5.018 sec             15.0       0.589104   \n",
       "4     2021-11-13 10:59:17   5.079 sec             20.0       0.558139   \n",
       "5     2021-11-13 10:59:17   5.139 sec             25.0       0.518050   \n",
       "6     2021-11-13 10:59:17   5.210 sec             30.0       0.472047   \n",
       "7     2021-11-13 10:59:17   5.272 sec             35.0       0.436293   \n",
       "8     2021-11-13 10:59:17   5.333 sec             40.0       0.419265   \n",
       "9     2021-11-13 10:59:17   5.391 sec             45.0       0.404455   \n",
       "10    2021-11-13 10:59:17   5.468 sec             50.0       0.394481   \n",
       "11    2021-11-13 10:59:17   5.564 sec             55.0       0.388444   \n",
       "12    2021-11-13 10:59:17   5.634 sec             60.0       0.383237   \n",
       "13    2021-11-13 10:59:17   5.689 sec             65.0       0.372262   \n",
       "14    2021-11-13 10:59:17   5.736 sec             70.0       0.367344   \n",
       "15    2021-11-13 10:59:17   5.774 sec             75.0       0.364986   \n",
       "16    2021-11-13 10:59:17   5.815 sec             80.0       0.361890   \n",
       "17    2021-11-13 10:59:17   5.855 sec             85.0       0.357132   \n",
       "18    2021-11-13 10:59:17   5.881 sec             90.0       0.349826   \n",
       "19    2021-11-13 10:59:17   5.932 sec             95.0       0.339798   \n",
       "\n",
       "    training_mae  training_deviance  \n",
       "0       0.390523           0.895388  \n",
       "1       0.304742           0.658592  \n",
       "2       0.227715           0.464120  \n",
       "3       0.173382           0.347043  \n",
       "4       0.154088           0.311519  \n",
       "5       0.136163           0.268376  \n",
       "6       0.121340           0.222829  \n",
       "7       0.113280           0.190351  \n",
       "8       0.109315           0.175783  \n",
       "9       0.105749           0.163584  \n",
       "10      0.103347           0.155615  \n",
       "11      0.101055           0.150889  \n",
       "12      0.099294           0.146870  \n",
       "13      0.098140           0.138579  \n",
       "14      0.096193           0.134941  \n",
       "15      0.095313           0.133215  \n",
       "16      0.094108           0.130964  \n",
       "17      0.092735           0.127543  \n",
       "18      0.092086           0.122378  \n",
       "19      0.091052           0.115463  "
      ]
     },
     "metadata": {},
     "output_type": "display_data"
    },
    {
     "name": "stdout",
     "output_type": "stream",
     "text": [
      "\n",
      "See the whole table with table.as_data_frame()\n",
      "\n",
      "Variable Importances: \n"
     ]
    },
    {
     "data": {
      "text/html": [
       "<div>\n",
       "<style scoped>\n",
       "    .dataframe tbody tr th:only-of-type {\n",
       "        vertical-align: middle;\n",
       "    }\n",
       "\n",
       "    .dataframe tbody tr th {\n",
       "        vertical-align: top;\n",
       "    }\n",
       "\n",
       "    .dataframe thead th {\n",
       "        text-align: right;\n",
       "    }\n",
       "</style>\n",
       "<table border=\"1\" class=\"dataframe\">\n",
       "  <thead>\n",
       "    <tr style=\"text-align: right;\">\n",
       "      <th></th>\n",
       "      <th>variable</th>\n",
       "      <th>relative_importance</th>\n",
       "      <th>scaled_importance</th>\n",
       "      <th>percentage</th>\n",
       "    </tr>\n",
       "  </thead>\n",
       "  <tbody>\n",
       "    <tr>\n",
       "      <th>0</th>\n",
       "      <td>area_total</td>\n",
       "      <td>34187.187500</td>\n",
       "      <td>1.000000</td>\n",
       "      <td>0.509810</td>\n",
       "    </tr>\n",
       "    <tr>\n",
       "      <th>1</th>\n",
       "      <td>rooms</td>\n",
       "      <td>7838.583984</td>\n",
       "      <td>0.229284</td>\n",
       "      <td>0.116891</td>\n",
       "    </tr>\n",
       "    <tr>\n",
       "      <th>2</th>\n",
       "      <td>distance</td>\n",
       "      <td>5226.694824</td>\n",
       "      <td>0.152885</td>\n",
       "      <td>0.077942</td>\n",
       "    </tr>\n",
       "    <tr>\n",
       "      <th>3</th>\n",
       "      <td>distance_metro</td>\n",
       "      <td>4249.724609</td>\n",
       "      <td>0.124308</td>\n",
       "      <td>0.063373</td>\n",
       "    </tr>\n",
       "    <tr>\n",
       "      <th>4</th>\n",
       "      <td>stories</td>\n",
       "      <td>3242.270996</td>\n",
       "      <td>0.094839</td>\n",
       "      <td>0.048350</td>\n",
       "    </tr>\n",
       "    <tr>\n",
       "      <th>5</th>\n",
       "      <td>district</td>\n",
       "      <td>2766.906494</td>\n",
       "      <td>0.080934</td>\n",
       "      <td>0.041261</td>\n",
       "    </tr>\n",
       "    <tr>\n",
       "      <th>6</th>\n",
       "      <td>floor</td>\n",
       "      <td>2447.642334</td>\n",
       "      <td>0.071595</td>\n",
       "      <td>0.036500</td>\n",
       "    </tr>\n",
       "    <tr>\n",
       "      <th>7</th>\n",
       "      <td>ceiling</td>\n",
       "      <td>1753.568359</td>\n",
       "      <td>0.051293</td>\n",
       "      <td>0.026150</td>\n",
       "    </tr>\n",
       "    <tr>\n",
       "      <th>8</th>\n",
       "      <td>heating_0.0</td>\n",
       "      <td>1211.556030</td>\n",
       "      <td>0.035439</td>\n",
       "      <td>0.018067</td>\n",
       "    </tr>\n",
       "    <tr>\n",
       "      <th>9</th>\n",
       "      <td>material_2.0</td>\n",
       "      <td>1048.327759</td>\n",
       "      <td>0.030664</td>\n",
       "      <td>0.015633</td>\n",
       "    </tr>\n",
       "    <tr>\n",
       "      <th>10</th>\n",
       "      <td>material_0.0</td>\n",
       "      <td>625.030640</td>\n",
       "      <td>0.018283</td>\n",
       "      <td>0.009321</td>\n",
       "    </tr>\n",
       "    <tr>\n",
       "      <th>11</th>\n",
       "      <td>elevator_no</td>\n",
       "      <td>574.862061</td>\n",
       "      <td>0.016815</td>\n",
       "      <td>0.008573</td>\n",
       "    </tr>\n",
       "    <tr>\n",
       "      <th>12</th>\n",
       "      <td>heating_nan</td>\n",
       "      <td>470.608246</td>\n",
       "      <td>0.013766</td>\n",
       "      <td>0.007018</td>\n",
       "    </tr>\n",
       "    <tr>\n",
       "      <th>13</th>\n",
       "      <td>material_3.0</td>\n",
       "      <td>338.269806</td>\n",
       "      <td>0.009895</td>\n",
       "      <td>0.005044</td>\n",
       "    </tr>\n",
       "    <tr>\n",
       "      <th>14</th>\n",
       "      <td>material_5.0</td>\n",
       "      <td>317.333954</td>\n",
       "      <td>0.009282</td>\n",
       "      <td>0.004732</td>\n",
       "    </tr>\n",
       "    <tr>\n",
       "      <th>15</th>\n",
       "      <td>material_nan</td>\n",
       "      <td>242.321869</td>\n",
       "      <td>0.007088</td>\n",
       "      <td>0.003614</td>\n",
       "    </tr>\n",
       "    <tr>\n",
       "      <th>16</th>\n",
       "      <td>heating_1.0</td>\n",
       "      <td>226.751099</td>\n",
       "      <td>0.006633</td>\n",
       "      <td>0.003381</td>\n",
       "    </tr>\n",
       "    <tr>\n",
       "      <th>17</th>\n",
       "      <td>elevator</td>\n",
       "      <td>196.030060</td>\n",
       "      <td>0.005734</td>\n",
       "      <td>0.002923</td>\n",
       "    </tr>\n",
       "    <tr>\n",
       "      <th>18</th>\n",
       "      <td>heating_3.0</td>\n",
       "      <td>65.835228</td>\n",
       "      <td>0.001926</td>\n",
       "      <td>0.000982</td>\n",
       "    </tr>\n",
       "    <tr>\n",
       "      <th>19</th>\n",
       "      <td>material_4.0</td>\n",
       "      <td>24.471003</td>\n",
       "      <td>0.000716</td>\n",
       "      <td>0.000365</td>\n",
       "    </tr>\n",
       "  </tbody>\n",
       "</table>\n",
       "</div>"
      ],
      "text/plain": [
       "          variable  relative_importance  scaled_importance  percentage\n",
       "0       area_total         34187.187500           1.000000    0.509810\n",
       "1            rooms          7838.583984           0.229284    0.116891\n",
       "2         distance          5226.694824           0.152885    0.077942\n",
       "3   distance_metro          4249.724609           0.124308    0.063373\n",
       "4          stories          3242.270996           0.094839    0.048350\n",
       "5         district          2766.906494           0.080934    0.041261\n",
       "6            floor          2447.642334           0.071595    0.036500\n",
       "7          ceiling          1753.568359           0.051293    0.026150\n",
       "8      heating_0.0          1211.556030           0.035439    0.018067\n",
       "9     material_2.0          1048.327759           0.030664    0.015633\n",
       "10    material_0.0           625.030640           0.018283    0.009321\n",
       "11     elevator_no           574.862061           0.016815    0.008573\n",
       "12     heating_nan           470.608246           0.013766    0.007018\n",
       "13    material_3.0           338.269806           0.009895    0.005044\n",
       "14    material_5.0           317.333954           0.009282    0.004732\n",
       "15    material_nan           242.321869           0.007088    0.003614\n",
       "16     heating_1.0           226.751099           0.006633    0.003381\n",
       "17        elevator           196.030060           0.005734    0.002923\n",
       "18     heating_3.0            65.835228           0.001926    0.000982\n",
       "19    material_4.0            24.471003           0.000716    0.000365"
      ]
     },
     "metadata": {},
     "output_type": "display_data"
    },
    {
     "name": "stdout",
     "output_type": "stream",
     "text": [
      "\n",
      "See the whole table with table.as_data_frame()\n"
     ]
    },
    {
     "data": {
      "text/plain": []
     },
     "execution_count": 11,
     "metadata": {},
     "output_type": "execute_result"
    }
   ],
   "source": [
    "train, test = data_train.split_frame(ratios=[0.8])\n",
    "aml = ml(max_models=30, max_runtime_secs=300, seed=1)\n",
    "aml.train(x=features, y=output, training_frame=train)"
   ]
  },
  {
   "cell_type": "code",
   "execution_count": 12,
   "id": "dbf8b463",
   "metadata": {},
   "outputs": [
    {
     "data": {
      "text/html": [
       "<table>\n",
       "<thead>\n",
       "<tr><th>model_id                                               </th><th style=\"text-align: right;\">  mean_residual_deviance</th><th style=\"text-align: right;\">    rmse</th><th style=\"text-align: right;\">     mse</th><th style=\"text-align: right;\">     mae</th><th style=\"text-align: right;\">     rmsle</th></tr>\n",
       "</thead>\n",
       "<tbody>\n",
       "<tr><td>GBM_grid_1_AutoML_8_20211113_105808_model_1            </td><td style=\"text-align: right;\">                0.274121</td><td style=\"text-align: right;\">0.523566</td><td style=\"text-align: right;\">0.274121</td><td style=\"text-align: right;\">0.140867</td><td style=\"text-align: right;\">  0.162042</td></tr>\n",
       "<tr><td>StackedEnsemble_AllModels_4_AutoML_8_20211113_105808   </td><td style=\"text-align: right;\">                0.279008</td><td style=\"text-align: right;\">0.528213</td><td style=\"text-align: right;\">0.279008</td><td style=\"text-align: right;\">0.153558</td><td style=\"text-align: right;\">nan       </td></tr>\n",
       "<tr><td>GBM_4_AutoML_8_20211113_105808                         </td><td style=\"text-align: right;\">                0.281849</td><td style=\"text-align: right;\">0.530894</td><td style=\"text-align: right;\">0.281849</td><td style=\"text-align: right;\">0.130321</td><td style=\"text-align: right;\">  0.148075</td></tr>\n",
       "<tr><td>StackedEnsemble_AllModels_3_AutoML_8_20211113_105808   </td><td style=\"text-align: right;\">                0.284682</td><td style=\"text-align: right;\">0.533556</td><td style=\"text-align: right;\">0.284682</td><td style=\"text-align: right;\">0.155239</td><td style=\"text-align: right;\">nan       </td></tr>\n",
       "<tr><td>GBM_3_AutoML_8_20211113_105808                         </td><td style=\"text-align: right;\">                0.284867</td><td style=\"text-align: right;\">0.533729</td><td style=\"text-align: right;\">0.284867</td><td style=\"text-align: right;\">0.13507 </td><td style=\"text-align: right;\">  0.151531</td></tr>\n",
       "<tr><td>GLM_1_AutoML_8_20211113_105808                         </td><td style=\"text-align: right;\">                0.287093</td><td style=\"text-align: right;\">0.535811</td><td style=\"text-align: right;\">0.287093</td><td style=\"text-align: right;\">0.213121</td><td style=\"text-align: right;\">nan       </td></tr>\n",
       "<tr><td>StackedEnsemble_BestOfFamily_4_AutoML_8_20211113_105808</td><td style=\"text-align: right;\">                0.289597</td><td style=\"text-align: right;\">0.538142</td><td style=\"text-align: right;\">0.289597</td><td style=\"text-align: right;\">0.159896</td><td style=\"text-align: right;\">  0.178888</td></tr>\n",
       "<tr><td>StackedEnsemble_AllModels_1_AutoML_8_20211113_105808   </td><td style=\"text-align: right;\">                0.292136</td><td style=\"text-align: right;\">0.540496</td><td style=\"text-align: right;\">0.292136</td><td style=\"text-align: right;\">0.160295</td><td style=\"text-align: right;\">  0.184263</td></tr>\n",
       "<tr><td>GBM_2_AutoML_8_20211113_105808                         </td><td style=\"text-align: right;\">                0.293216</td><td style=\"text-align: right;\">0.541494</td><td style=\"text-align: right;\">0.293216</td><td style=\"text-align: right;\">0.13956 </td><td style=\"text-align: right;\">  0.156072</td></tr>\n",
       "<tr><td>XRT_1_AutoML_8_20211113_105808                         </td><td style=\"text-align: right;\">                0.293218</td><td style=\"text-align: right;\">0.541496</td><td style=\"text-align: right;\">0.293218</td><td style=\"text-align: right;\">0.130999</td><td style=\"text-align: right;\">  0.14635 </td></tr>\n",
       "<tr><td>DRF_1_AutoML_8_20211113_105808                         </td><td style=\"text-align: right;\">                0.293684</td><td style=\"text-align: right;\">0.541926</td><td style=\"text-align: right;\">0.293684</td><td style=\"text-align: right;\">0.11757 </td><td style=\"text-align: right;\">  0.137596</td></tr>\n",
       "<tr><td>GBM_grid_1_AutoML_8_20211113_105808_model_8            </td><td style=\"text-align: right;\">                0.294072</td><td style=\"text-align: right;\">0.542284</td><td style=\"text-align: right;\">0.294072</td><td style=\"text-align: right;\">0.116059</td><td style=\"text-align: right;\">  0.142249</td></tr>\n",
       "<tr><td>GBM_grid_1_AutoML_8_20211113_105808_model_2            </td><td style=\"text-align: right;\">                0.294772</td><td style=\"text-align: right;\">0.542929</td><td style=\"text-align: right;\">0.294772</td><td style=\"text-align: right;\">0.150985</td><td style=\"text-align: right;\">  0.166647</td></tr>\n",
       "<tr><td>GBM_5_AutoML_8_20211113_105808                         </td><td style=\"text-align: right;\">                0.295243</td><td style=\"text-align: right;\">0.543363</td><td style=\"text-align: right;\">0.295243</td><td style=\"text-align: right;\">0.136456</td><td style=\"text-align: right;\">  0.155786</td></tr>\n",
       "<tr><td>GBM_grid_1_AutoML_8_20211113_105808_model_3            </td><td style=\"text-align: right;\">                0.295818</td><td style=\"text-align: right;\">0.543892</td><td style=\"text-align: right;\">0.295818</td><td style=\"text-align: right;\">0.149893</td><td style=\"text-align: right;\">  0.166075</td></tr>\n",
       "<tr><td>StackedEnsemble_AllModels_2_AutoML_8_20211113_105808   </td><td style=\"text-align: right;\">                0.297707</td><td style=\"text-align: right;\">0.545625</td><td style=\"text-align: right;\">0.297707</td><td style=\"text-align: right;\">0.160284</td><td style=\"text-align: right;\">  0.181051</td></tr>\n",
       "<tr><td>GBM_grid_1_AutoML_8_20211113_105808_model_7            </td><td style=\"text-align: right;\">                0.29954 </td><td style=\"text-align: right;\">0.547302</td><td style=\"text-align: right;\">0.29954 </td><td style=\"text-align: right;\">0.171687</td><td style=\"text-align: right;\">nan       </td></tr>\n",
       "<tr><td>StackedEnsemble_BestOfFamily_3_AutoML_8_20211113_105808</td><td style=\"text-align: right;\">                0.300079</td><td style=\"text-align: right;\">0.547795</td><td style=\"text-align: right;\">0.300079</td><td style=\"text-align: right;\">0.161147</td><td style=\"text-align: right;\">nan       </td></tr>\n",
       "<tr><td>StackedEnsemble_BestOfFamily_2_AutoML_8_20211113_105808</td><td style=\"text-align: right;\">                0.303447</td><td style=\"text-align: right;\">0.55086 </td><td style=\"text-align: right;\">0.303447</td><td style=\"text-align: right;\">0.161687</td><td style=\"text-align: right;\">  0.180963</td></tr>\n",
       "<tr><td>GBM_grid_1_AutoML_8_20211113_105808_model_9            </td><td style=\"text-align: right;\">                0.305582</td><td style=\"text-align: right;\">0.552795</td><td style=\"text-align: right;\">0.305582</td><td style=\"text-align: right;\">0.152622</td><td style=\"text-align: right;\">nan       </td></tr>\n",
       "<tr><td>GBM_grid_1_AutoML_8_20211113_105808_model_5            </td><td style=\"text-align: right;\">                0.305891</td><td style=\"text-align: right;\">0.553074</td><td style=\"text-align: right;\">0.305891</td><td style=\"text-align: right;\">0.123137</td><td style=\"text-align: right;\">  0.141207</td></tr>\n",
       "<tr><td>StackedEnsemble_BestOfFamily_1_AutoML_8_20211113_105808</td><td style=\"text-align: right;\">                0.306698</td><td style=\"text-align: right;\">0.553803</td><td style=\"text-align: right;\">0.306698</td><td style=\"text-align: right;\">0.195224</td><td style=\"text-align: right;\">nan       </td></tr>\n",
       "<tr><td>GBM_grid_1_AutoML_8_20211113_105808_model_4            </td><td style=\"text-align: right;\">                0.307504</td><td style=\"text-align: right;\">0.55453 </td><td style=\"text-align: right;\">0.307504</td><td style=\"text-align: right;\">0.143255</td><td style=\"text-align: right;\">  0.16027 </td></tr>\n",
       "<tr><td>DeepLearning_1_AutoML_8_20211113_105808                </td><td style=\"text-align: right;\">                0.330794</td><td style=\"text-align: right;\">0.575147</td><td style=\"text-align: right;\">0.330794</td><td style=\"text-align: right;\">0.166087</td><td style=\"text-align: right;\">  0.183888</td></tr>\n",
       "<tr><td>GBM_1_AutoML_8_20211113_105808                         </td><td style=\"text-align: right;\">                0.366753</td><td style=\"text-align: right;\">0.605602</td><td style=\"text-align: right;\">0.366753</td><td style=\"text-align: right;\">0.143852</td><td style=\"text-align: right;\">  0.158581</td></tr>\n",
       "<tr><td>GBM_grid_1_AutoML_8_20211113_105808_model_6            </td><td style=\"text-align: right;\">                0.378064</td><td style=\"text-align: right;\">0.614869</td><td style=\"text-align: right;\">0.378064</td><td style=\"text-align: right;\">0.159435</td><td style=\"text-align: right;\">  0.174519</td></tr>\n",
       "<tr><td>DeepLearning_grid_3_AutoML_8_20211113_105808_model_1   </td><td style=\"text-align: right;\">                0.576256</td><td style=\"text-align: right;\">0.759115</td><td style=\"text-align: right;\">0.576256</td><td style=\"text-align: right;\">0.189756</td><td style=\"text-align: right;\">  0.218434</td></tr>\n",
       "<tr><td>DeepLearning_grid_1_AutoML_8_20211113_105808_model_3   </td><td style=\"text-align: right;\">                0.59136 </td><td style=\"text-align: right;\">0.768999</td><td style=\"text-align: right;\">0.59136 </td><td style=\"text-align: right;\">0.17583 </td><td style=\"text-align: right;\">nan       </td></tr>\n",
       "<tr><td>DeepLearning_grid_2_AutoML_8_20211113_105808_model_1   </td><td style=\"text-align: right;\">                0.658673</td><td style=\"text-align: right;\">0.811587</td><td style=\"text-align: right;\">0.658673</td><td style=\"text-align: right;\">0.189843</td><td style=\"text-align: right;\">  0.220918</td></tr>\n",
       "<tr><td>DeepLearning_grid_1_AutoML_8_20211113_105808_model_2   </td><td style=\"text-align: right;\">                0.677651</td><td style=\"text-align: right;\">0.823195</td><td style=\"text-align: right;\">0.677651</td><td style=\"text-align: right;\">0.183037</td><td style=\"text-align: right;\">nan       </td></tr>\n",
       "</tbody>\n",
       "</table>"
      ]
     },
     "metadata": {},
     "output_type": "display_data"
    },
    {
     "data": {
      "text/plain": []
     },
     "execution_count": 12,
     "metadata": {},
     "output_type": "execute_result"
    }
   ],
   "source": [
    "lb = aml.leaderboard\n",
    "lb.head(30)"
   ]
  },
  {
   "cell_type": "code",
   "execution_count": 13,
   "id": "34513060",
   "metadata": {},
   "outputs": [
    {
     "name": "stdout",
     "output_type": "stream",
     "text": [
      "gbm prediction progress: |███████████████████████████████████████████████████████| (done) 100%\n"
     ]
    }
   ],
   "source": [
    "predictions = aml.predict(test)"
   ]
  },
  {
   "cell_type": "code",
   "execution_count": 14,
   "id": "9aa72938",
   "metadata": {},
   "outputs": [
    {
     "data": {
      "text/html": [
       "<table>\n",
       "<thead>\n",
       "<tr><th style=\"text-align: right;\">   predict</th></tr>\n",
       "</thead>\n",
       "<tbody>\n",
       "<tr><td style=\"text-align: right;\">-0.239485 </td></tr>\n",
       "<tr><td style=\"text-align: right;\">-0.239485 </td></tr>\n",
       "<tr><td style=\"text-align: right;\">-0.410277 </td></tr>\n",
       "<tr><td style=\"text-align: right;\">-0.177293 </td></tr>\n",
       "<tr><td style=\"text-align: right;\">-0.180116 </td></tr>\n",
       "<tr><td style=\"text-align: right;\">-0.29303  </td></tr>\n",
       "<tr><td style=\"text-align: right;\">-0.183583 </td></tr>\n",
       "<tr><td style=\"text-align: right;\"> 0.0785243</td></tr>\n",
       "<tr><td style=\"text-align: right;\">-0.391436 </td></tr>\n",
       "<tr><td style=\"text-align: right;\">-0.18544  </td></tr>\n",
       "</tbody>\n",
       "</table>"
      ]
     },
     "metadata": {},
     "output_type": "display_data"
    },
    {
     "name": "stdout",
     "output_type": "stream",
     "text": [
      "\n"
     ]
    }
   ],
   "source": [
    "print(predictions)"
   ]
  },
  {
   "cell_type": "code",
   "execution_count": 15,
   "id": "bac48f38",
   "metadata": {},
   "outputs": [
    {
     "name": "stdout",
     "output_type": "stream",
     "text": [
      "Rows:4580\n",
      "Cols:45\n",
      "\n",
      "\n"
     ]
    },
    {
     "data": {
      "text/html": [
       "<table>\n",
       "<thead>\n",
       "<tr><th>       </th><th>Unnamed: 0        </th><th>price               </th><th>area_total          </th><th>floor            </th><th>rooms             </th><th>ceiling             </th><th>district         </th><th>stories           </th><th>distance             </th><th>distance_metro      </th><th>seller_0.0        </th><th>seller_1.0         </th><th>seller_2.0         </th><th>seller_3.0         </th><th>seller_nan         </th><th>layout_0.0          </th><th>layout_1.0         </th><th>layout_2.0         </th><th>layout_nan         </th><th>condition_0.0      </th><th>condition_1.0      </th><th>condition_2.0      </th><th>condition_3.0      </th><th>condition_nan      </th><th>new_0.0           </th><th>new_1.0            </th><th>new_nan             </th><th>material_0.0      </th><th>material_1.0  </th><th>material_2.0      </th><th>material_3.0       </th><th>material_4.0        </th><th>material_5.0        </th><th>material_6.0  </th><th>material_nan       </th><th>garbage_chute_0.0  </th><th>garbage_chute_1.0  </th><th>garbage_chute_nan  </th><th>heating_0.0       </th><th>heating_1.0         </th><th>heating_2.0          </th><th>heating_3.0        </th><th>heating_nan        </th><th>elevator  </th><th>elevator_no  </th></tr>\n",
       "</thead>\n",
       "<tbody>\n",
       "<tr><td>type   </td><td>int               </td><td>real                </td><td>real                </td><td>int              </td><td>int               </td><td>real                </td><td>int              </td><td>int               </td><td>real                 </td><td>real                </td><td>int               </td><td>int                </td><td>int                </td><td>int                </td><td>int                </td><td>int                 </td><td>int                </td><td>int                </td><td>int                </td><td>int                </td><td>int                </td><td>int                </td><td>int                </td><td>int                </td><td>int               </td><td>int                </td><td>int                 </td><td>int               </td><td>int           </td><td>int               </td><td>int                </td><td>int                 </td><td>int                 </td><td>int           </td><td>int                </td><td>int                </td><td>int                </td><td>int                </td><td>int               </td><td>int                 </td><td>int                  </td><td>int                </td><td>int                </td><td>enum      </td><td>enum         </td></tr>\n",
       "<tr><td>mins   </td><td>5.0               </td><td>-0.4303663197876889 </td><td>-1.0985084579715496 </td><td>1.0              </td><td>1.0               </td><td>-0.3025507650198925 </td><td>0.0              </td><td>2.0               </td><td>-1.529550528708958   </td><td>-0.4543685764945318 </td><td>0.0               </td><td>0.0                </td><td>0.0                </td><td>0.0                </td><td>0.0                </td><td>0.0                 </td><td>0.0                </td><td>0.0                </td><td>0.0                </td><td>0.0                </td><td>0.0                </td><td>0.0                </td><td>0.0                </td><td>0.0                </td><td>0.0               </td><td>0.0                </td><td>0.0                 </td><td>0.0               </td><td>0.0           </td><td>0.0               </td><td>0.0                </td><td>0.0                 </td><td>0.0                 </td><td>0.0           </td><td>0.0                </td><td>0.0                </td><td>0.0                </td><td>0.0                </td><td>0.0               </td><td>0.0                 </td><td>0.0                  </td><td>0.0                </td><td>0.0                </td><td>          </td><td>             </td></tr>\n",
       "<tr><td>mean   </td><td>11633.373144104808</td><td>0.010325320963273767</td><td>0.018441564554375497</td><td>8.896506550218348</td><td>2.192358078602628 </td><td>0.009689291441841033</td><td>4.634497816593897</td><td>17.513537117903958</td><td>-0.020835000332402504</td><td>-0.01694946732204868</td><td>0.0700873362445415</td><td>0.21244541484716156</td><td>0.07903930131004366</td><td>0.262882096069869  </td><td>0.37554585152838427</td><td>0.012008733624454149</td><td>0.21419213973799126</td><td>0.01943231441048035</td><td>0.7543668122270742 </td><td>0.16026200873362445</td><td>0.1980349344978166 </td><td>0.14192139737991266</td><td>0.08777292576419214</td><td>0.41200873362445417</td><td>0.6563318777292576</td><td>0.33056768558951966</td><td>0.013100436681222707</td><td>0.0927947598253275</td><td>0.0           </td><td>0.4427947598253275</td><td>0.24126637554585154</td><td>0.051746724890829696</td><td>0.008296943231441048</td><td>0.0           </td><td>0.1631004366812227 </td><td>0.11572052401746726</td><td>0.5028384279475983 </td><td>0.3814410480349345 </td><td>0.5812227074235807</td><td>0.053056768558951965</td><td>0.0015283842794759825</td><td>0.02096069868995633</td><td>0.34323144104803494</td><td>          </td><td>             </td></tr>\n",
       "<tr><td>maxs   </td><td>23277.0           </td><td>48.94094976711498   </td><td>35.90420501572241   </td><td>95.0             </td><td>6.0               </td><td>29.31959740948717   </td><td>11.0             </td><td>95.0              </td><td>7.005125865324459    </td><td>12.32729110856141   </td><td>1.0               </td><td>1.0                </td><td>1.0                </td><td>1.0                </td><td>1.0                </td><td>1.0                 </td><td>1.0                </td><td>1.0                </td><td>1.0                </td><td>1.0                </td><td>1.0                </td><td>1.0                </td><td>1.0                </td><td>1.0                </td><td>1.0               </td><td>1.0                </td><td>1.0                 </td><td>1.0               </td><td>0.0           </td><td>1.0               </td><td>1.0                </td><td>1.0                 </td><td>1.0                 </td><td>0.0           </td><td>1.0                </td><td>1.0                </td><td>1.0                </td><td>1.0                </td><td>1.0               </td><td>1.0                 </td><td>1.0                  </td><td>1.0                </td><td>1.0                </td><td>          </td><td>             </td></tr>\n",
       "<tr><td>sigma  </td><td>6708.217668933902 </td><td>1.1946559279511015  </td><td>1.1819475499861776  </td><td>8.063800844434567</td><td>1.0784405252642506</td><td>0.9074909734629426  </td><td>3.160210328052831</td><td>10.899430679894042</td><td>0.9798277119265999   </td><td>0.9515225882269536  </td><td>0.2553220222032336</td><td>0.4090829984472969 </td><td>0.26982955193766006</td><td>0.44024699641142967</td><td>0.4843164042457456 </td><td>0.1089362887854102  </td><td>0.41030552615190385</td><td>0.1380538333059648 </td><td>0.43050899136700943</td><td>0.3668889308379543 </td><td>0.39856214447897514</td><td>0.34900760680786386</td><td>0.2829952744556468 </td><td>0.4922503867463638 </td><td>0.4749837931387273</td><td>0.47046893475214663</td><td>0.11371736341426797 </td><td>0.2901762863346311</td><td>0.0           </td><td>0.496771016573706 </td><td>0.4278982227861139 </td><td>0.22153942639949092 </td><td>0.0907188011717865  </td><td>0.0           </td><td>0.36949762374128137</td><td>0.3199244158492168 </td><td>0.5000465364752565 </td><td>0.48579347697094394</td><td>0.493412634755946 </td><td>0.22417118476436246 </td><td>0.03906893384852219  </td><td>0.14326838249428883</td><td>0.47483981383596696</td><td>          </td><td>             </td></tr>\n",
       "<tr><td>zeros  </td><td>0                 </td><td>0                   </td><td>0                   </td><td>0                </td><td>0                 </td><td>2187                </td><td>493              </td><td>0                 </td><td>0                    </td><td>0                   </td><td>4259              </td><td>3607               </td><td>4218               </td><td>3376               </td><td>2860               </td><td>4525                </td><td>3599               </td><td>4491               </td><td>1125               </td><td>3846               </td><td>3673               </td><td>3930               </td><td>4178               </td><td>2693               </td><td>1574              </td><td>3066               </td><td>4520                </td><td>4155              </td><td>4580          </td><td>2552              </td><td>3475               </td><td>4343                </td><td>4542                </td><td>4580          </td><td>3833               </td><td>4050               </td><td>2277               </td><td>2833               </td><td>1918              </td><td>4337                </td><td>4573                 </td><td>4484               </td><td>3008               </td><td>          </td><td>             </td></tr>\n",
       "<tr><td>missing</td><td>0                 </td><td>0                   </td><td>0                   </td><td>0                </td><td>0                 </td><td>0                   </td><td>0                </td><td>0                 </td><td>0                    </td><td>0                   </td><td>0                 </td><td>0                  </td><td>0                  </td><td>0                  </td><td>0                  </td><td>0                   </td><td>0                  </td><td>0                  </td><td>0                  </td><td>0                  </td><td>0                  </td><td>0                  </td><td>0                  </td><td>0                  </td><td>0                 </td><td>0                  </td><td>0                   </td><td>0                 </td><td>0             </td><td>0                 </td><td>0                  </td><td>0                   </td><td>0                   </td><td>0             </td><td>0                  </td><td>0                  </td><td>0                  </td><td>0                  </td><td>0                 </td><td>0                   </td><td>0                    </td><td>0                  </td><td>0                  </td><td>0         </td><td>0            </td></tr>\n",
       "<tr><td>0      </td><td>36.0              </td><td>-0.24800910596972667</td><td>0.2309303494665568  </td><td>18.0             </td><td>3.0               </td><td>0.0                 </td><td>4.0              </td><td>25.0              </td><td>-0.3175427808619569  </td><td>-0.2329279531740411 </td><td>0.0               </td><td>0.0                </td><td>0.0                </td><td>0.0                </td><td>1.0                </td><td>0.0                 </td><td>1.0                </td><td>0.0                </td><td>0.0                </td><td>0.0                </td><td>0.0                </td><td>0.0                </td><td>1.0                </td><td>0.0                </td><td>1.0               </td><td>0.0                </td><td>0.0                 </td><td>0.0               </td><td>0.0           </td><td>0.0               </td><td>1.0                </td><td>0.0                 </td><td>0.0                 </td><td>0.0           </td><td>0.0                </td><td>0.0                </td><td>0.0                </td><td>1.0                </td><td>1.0               </td><td>0.0                 </td><td>0.0                  </td><td>0.0                </td><td>0.0                </td><td>True      </td><td>False        </td></tr>\n",
       "<tr><td>1      </td><td>37.0              </td><td>-0.24800910596972667</td><td>0.2309303494665568  </td><td>18.0             </td><td>3.0               </td><td>0.0                 </td><td>4.0              </td><td>25.0              </td><td>-0.3175427808619569  </td><td>-0.2329279531740411 </td><td>0.0               </td><td>0.0                </td><td>0.0                </td><td>0.0                </td><td>1.0                </td><td>0.0                 </td><td>0.0                </td><td>0.0                </td><td>1.0                </td><td>0.0                </td><td>0.0                </td><td>1.0                </td><td>0.0                </td><td>0.0                </td><td>1.0               </td><td>0.0                </td><td>0.0                 </td><td>0.0               </td><td>0.0           </td><td>0.0               </td><td>1.0                </td><td>0.0                 </td><td>0.0                 </td><td>0.0           </td><td>0.0                </td><td>0.0                </td><td>0.0                </td><td>1.0                </td><td>1.0               </td><td>0.0                 </td><td>0.0                  </td><td>0.0                </td><td>0.0                </td><td>True      </td><td>False        </td></tr>\n",
       "<tr><td>2      </td><td>197.0             </td><td>-0.31259395253025496</td><td>-0.6127519706383954 </td><td>17.0             </td><td>1.0               </td><td>0.0                 </td><td>11.0             </td><td>17.0              </td><td>2.2602062148591178   </td><td>1.495375742149924   </td><td>0.0               </td><td>0.0                </td><td>0.0                </td><td>0.0                </td><td>1.0                </td><td>0.0                 </td><td>0.0                </td><td>0.0                </td><td>1.0                </td><td>0.0                </td><td>0.0                </td><td>1.0                </td><td>0.0                </td><td>0.0                </td><td>1.0               </td><td>0.0                </td><td>0.0                 </td><td>0.0               </td><td>0.0           </td><td>0.0               </td><td>1.0                </td><td>0.0                 </td><td>0.0                 </td><td>0.0           </td><td>0.0                </td><td>0.0                </td><td>1.0                </td><td>0.0                </td><td>0.0               </td><td>1.0                 </td><td>0.0                  </td><td>0.0                </td><td>0.0                </td><td>True      </td><td>False        </td></tr>\n",
       "<tr><td>3      </td><td>210.0             </td><td>-0.1881731451857078 </td><td>-0.0588191342058509 </td><td>1.0              </td><td>2.0               </td><td>0.0                 </td><td>0.0              </td><td>15.0              </td><td>-1.2263756690855916  </td><td>-0.3700031880243968 </td><td>0.0               </td><td>0.0                </td><td>0.0                </td><td>0.0                </td><td>1.0                </td><td>0.0                 </td><td>1.0                </td><td>0.0                </td><td>0.0                </td><td>0.0                </td><td>0.0                </td><td>1.0                </td><td>0.0                </td><td>0.0                </td><td>1.0               </td><td>0.0                </td><td>0.0                 </td><td>0.0               </td><td>0.0           </td><td>1.0               </td><td>0.0                </td><td>0.0                 </td><td>0.0                 </td><td>0.0           </td><td>0.0                </td><td>0.0                </td><td>1.0                </td><td>0.0                </td><td>1.0               </td><td>0.0                 </td><td>0.0                  </td><td>0.0                </td><td>0.0                </td><td>True      </td><td>False        </td></tr>\n",
       "<tr><td>4      </td><td>245.0             </td><td>-0.34355668779309645</td><td>-0.8769353233985319 </td><td>7.0              </td><td>1.0               </td><td>0.0                 </td><td>8.0              </td><td>15.0              </td><td>-0.5785209427664069  </td><td>-0.2900829388215024 </td><td>0.0               </td><td>0.0                </td><td>0.0                </td><td>0.0                </td><td>1.0                </td><td>0.0                 </td><td>0.0                </td><td>0.0                </td><td>1.0                </td><td>0.0                </td><td>1.0                </td><td>0.0                </td><td>0.0                </td><td>0.0                </td><td>1.0               </td><td>0.0                </td><td>0.0                 </td><td>0.0               </td><td>0.0           </td><td>1.0               </td><td>0.0                </td><td>0.0                 </td><td>0.0                 </td><td>0.0           </td><td>0.0                </td><td>0.0                </td><td>0.0                </td><td>1.0                </td><td>0.0               </td><td>1.0                 </td><td>0.0                  </td><td>0.0                </td><td>0.0                </td><td>True      </td><td>False        </td></tr>\n",
       "<tr><td>5      </td><td>253.0             </td><td>-0.33443882710219835</td><td>-0.6383181015506666 </td><td>7.0              </td><td>2.0               </td><td>0.0                 </td><td>2.0              </td><td>9.0               </td><td>0.3611773949368412   </td><td>-0.2572923485916514 </td><td>0.0               </td><td>0.0                </td><td>0.0                </td><td>0.0                </td><td>1.0                </td><td>0.0                 </td><td>0.0                </td><td>0.0                </td><td>1.0                </td><td>0.0                </td><td>1.0                </td><td>0.0                </td><td>0.0                </td><td>0.0                </td><td>1.0               </td><td>0.0                </td><td>0.0                 </td><td>1.0               </td><td>0.0           </td><td>0.0               </td><td>0.0                </td><td>0.0                 </td><td>0.0                 </td><td>0.0           </td><td>0.0                </td><td>0.0                </td><td>1.0                </td><td>0.0                </td><td>1.0               </td><td>0.0                 </td><td>0.0                  </td><td>0.0                </td><td>0.0                </td><td>True      </td><td>False        </td></tr>\n",
       "<tr><td>6      </td><td>308.0             </td><td>-0.19102247665161343</td><td>-0.1951718324046311 </td><td>2.0              </td><td>2.0               </td><td>0.0                 </td><td>10.0             </td><td>8.0               </td><td>3.1600495058135376   </td><td>4.058174657873678   </td><td>0.0               </td><td>0.0                </td><td>0.0                </td><td>0.0                </td><td>1.0                </td><td>0.0                 </td><td>0.0                </td><td>0.0                </td><td>1.0                </td><td>0.0                </td><td>0.0                </td><td>0.0                </td><td>1.0                </td><td>0.0                </td><td>1.0               </td><td>0.0                </td><td>0.0                 </td><td>0.0               </td><td>0.0           </td><td>1.0               </td><td>0.0                </td><td>0.0                 </td><td>0.0                 </td><td>0.0           </td><td>0.0                </td><td>1.0                </td><td>0.0                </td><td>0.0                </td><td>0.0               </td><td>0.0                 </td><td>0.0                  </td><td>1.0                </td><td>0.0                </td><td>True      </td><td>False        </td></tr>\n",
       "<tr><td>7      </td><td>371.0             </td><td>0.2173627045850918  </td><td>-0.0247309596561559 </td><td>20.0             </td><td>2.0               </td><td>0.0                 </td><td>8.0              </td><td>85.0              </td><td>0.9605842612692516   </td><td>-0.2410102787222122 </td><td>0.0               </td><td>0.0                </td><td>0.0                </td><td>0.0                </td><td>1.0                </td><td>0.0                 </td><td>0.0                </td><td>0.0                </td><td>1.0                </td><td>0.0                </td><td>0.0                </td><td>1.0                </td><td>0.0                </td><td>0.0                </td><td>1.0               </td><td>0.0                </td><td>0.0                 </td><td>0.0               </td><td>0.0           </td><td>0.0               </td><td>0.0                </td><td>0.0                 </td><td>0.0                 </td><td>0.0           </td><td>1.0                </td><td>0.0                </td><td>1.0                </td><td>0.0                </td><td>0.0               </td><td>0.0                 </td><td>0.0                  </td><td>0.0                </td><td>1.0                </td><td>True      </td><td>False        </td></tr>\n",
       "<tr><td>8      </td><td>247.0             </td><td>-0.3477357072764248 </td><td>-0.8735265059435623 </td><td>9.0              </td><td>1.0               </td><td>-0.0526138897974891 </td><td>5.0              </td><td>15.0              </td><td>-0.939257127273228   </td><td>-0.2611056630322275 </td><td>0.0               </td><td>0.0                </td><td>0.0                </td><td>0.0                </td><td>1.0                </td><td>0.0                 </td><td>0.0                </td><td>0.0                </td><td>1.0                </td><td>0.0                </td><td>0.0                </td><td>0.0                </td><td>1.0                </td><td>0.0                </td><td>1.0               </td><td>0.0                </td><td>0.0                 </td><td>0.0               </td><td>0.0           </td><td>1.0               </td><td>0.0                </td><td>0.0                 </td><td>0.0                 </td><td>0.0           </td><td>0.0                </td><td>0.0                </td><td>0.0                </td><td>1.0                </td><td>0.0               </td><td>1.0                 </td><td>0.0                  </td><td>0.0                </td><td>0.0                </td><td>True      </td><td>False        </td></tr>\n",
       "<tr><td>9      </td><td>70.0              </td><td>-0.33281280861232154</td><td>-0.5957078833635479 </td><td>15.0             </td><td>1.0               </td><td>-0.0572423504497559 </td><td>3.0              </td><td>9.0               </td><td>-0.98642074644584    </td><td>-0.1274355726016822 </td><td>0.0               </td><td>0.0                </td><td>0.0                </td><td>1.0                </td><td>0.0                </td><td>0.0                 </td><td>0.0                </td><td>0.0                </td><td>1.0                </td><td>0.0                </td><td>0.0                </td><td>0.0                </td><td>0.0                </td><td>1.0                </td><td>0.0               </td><td>1.0                </td><td>0.0                 </td><td>0.0               </td><td>0.0           </td><td>0.0               </td><td>1.0                </td><td>0.0                 </td><td>0.0                 </td><td>0.0           </td><td>0.0                </td><td>0.0                </td><td>0.0                </td><td>1.0                </td><td>0.0               </td><td>1.0                 </td><td>0.0                  </td><td>0.0                </td><td>0.0                </td><td>True      </td><td>False        </td></tr>\n",
       "</tbody>\n",
       "</table>"
      ]
     },
     "metadata": {},
     "output_type": "display_data"
    }
   ],
   "source": [
    "test.describe()"
   ]
  },
  {
   "cell_type": "markdown",
   "id": "1d6c7b54",
   "metadata": {},
   "source": [
    "# Runing PCA on h2o"
   ]
  },
  {
   "cell_type": "raw",
   "id": "afb42dc5",
   "metadata": {},
   "source": [
    "After the PCA model has been built using h2o.prcomp, use h2o.predict on the original data frame and the PCA model to produce the dimensionality-reduced representation. Use cbind to add the predictor column from the original data frame to the data frame produced by the output of h2o.predict. At this point, you can build supervised learning models on the new data frame."
   ]
  },
  {
   "cell_type": "code",
   "execution_count": 16,
   "id": "54670e69",
   "metadata": {},
   "outputs": [],
   "source": [
    "from h2o.estimators import H2OPrincipalComponentAnalysisEstimator"
   ]
  },
  {
   "cell_type": "code",
   "execution_count": 17,
   "id": "64e52efe",
   "metadata": {},
   "outputs": [
    {
     "name": "stdout",
     "output_type": "stream",
     "text": [
      "Parse progress: |████████████████████████████████████████████████████████████████| (done) 100%\n",
      "pca Model Build progress: |██████████████████████████████████████████████████████| (done) 100%\n",
      "Model Details\n",
      "=============\n",
      "H2OPrincipalComponentAnalysisEstimator :  Principal Components Analysis\n",
      "Model Key:  PCA_model_python_1636708750492_7\n",
      "\n",
      "\n",
      "Importance of components: \n"
     ]
    },
    {
     "name": "stderr",
     "output_type": "stream",
     "text": [
      "/Users/vanjafalck/opt/anaconda3/envs/Statistics/lib/python3.8/site-packages/h2o/job.py:83: UserWarning: _train: Dataset used may contain fewer number of rows due to removal of rows with NA/missing values.  If this is not desirable, set impute_missing argument in pca call to TRUE/True/true/... depending on the client language.\n",
      "  warnings.warn(w)\n"
     ]
    },
    {
     "data": {
      "text/html": [
       "<div>\n",
       "<style scoped>\n",
       "    .dataframe tbody tr th:only-of-type {\n",
       "        vertical-align: middle;\n",
       "    }\n",
       "\n",
       "    .dataframe tbody tr th {\n",
       "        vertical-align: top;\n",
       "    }\n",
       "\n",
       "    .dataframe thead th {\n",
       "        text-align: right;\n",
       "    }\n",
       "</style>\n",
       "<table border=\"1\" class=\"dataframe\">\n",
       "  <thead>\n",
       "    <tr style=\"text-align: right;\">\n",
       "      <th></th>\n",
       "      <th></th>\n",
       "      <th>pc1</th>\n",
       "      <th>pc2</th>\n",
       "      <th>pc3</th>\n",
       "      <th>pc4</th>\n",
       "      <th>pc5</th>\n",
       "    </tr>\n",
       "  </thead>\n",
       "  <tbody>\n",
       "    <tr>\n",
       "      <th>0</th>\n",
       "      <td>Standard deviation</td>\n",
       "      <td>24.103245</td>\n",
       "      <td>5.476256</td>\n",
       "      <td>4.069140</td>\n",
       "      <td>1.529021</td>\n",
       "      <td>1.168189</td>\n",
       "    </tr>\n",
       "    <tr>\n",
       "      <th>1</th>\n",
       "      <td>Proportion of Variance</td>\n",
       "      <td>0.920392</td>\n",
       "      <td>0.047510</td>\n",
       "      <td>0.026232</td>\n",
       "      <td>0.003704</td>\n",
       "      <td>0.002162</td>\n",
       "    </tr>\n",
       "    <tr>\n",
       "      <th>2</th>\n",
       "      <td>Cumulative Proportion</td>\n",
       "      <td>0.920392</td>\n",
       "      <td>0.967902</td>\n",
       "      <td>0.994134</td>\n",
       "      <td>0.997838</td>\n",
       "      <td>1.000000</td>\n",
       "    </tr>\n",
       "  </tbody>\n",
       "</table>\n",
       "</div>"
      ],
      "text/plain": [
       "                                 pc1       pc2       pc3       pc4       pc5\n",
       "0      Standard deviation  24.103245  5.476256  4.069140  1.529021  1.168189\n",
       "1  Proportion of Variance   0.920392  0.047510  0.026232  0.003704  0.002162\n",
       "2   Cumulative Proportion   0.920392  0.967902  0.994134  0.997838  1.000000"
      ]
     },
     "metadata": {},
     "output_type": "display_data"
    },
    {
     "name": "stdout",
     "output_type": "stream",
     "text": [
      "\n",
      "\n",
      "ModelMetricsPCA: pca\n",
      "** Reported on train data. **\n",
      "\n",
      "MSE: NaN\n",
      "RMSE: NaN\n",
      "\n",
      "Scoring history from GLRM: \n"
     ]
    },
    {
     "data": {
      "text/html": [
       "<div>\n",
       "<style scoped>\n",
       "    .dataframe tbody tr th:only-of-type {\n",
       "        vertical-align: middle;\n",
       "    }\n",
       "\n",
       "    .dataframe tbody tr th {\n",
       "        vertical-align: top;\n",
       "    }\n",
       "\n",
       "    .dataframe thead th {\n",
       "        text-align: right;\n",
       "    }\n",
       "</style>\n",
       "<table border=\"1\" class=\"dataframe\">\n",
       "  <thead>\n",
       "    <tr style=\"text-align: right;\">\n",
       "      <th></th>\n",
       "      <th></th>\n",
       "      <th>timestamp</th>\n",
       "      <th>duration</th>\n",
       "      <th>iterations</th>\n",
       "      <th>step_size</th>\n",
       "      <th>objective</th>\n",
       "    </tr>\n",
       "  </thead>\n",
       "  <tbody>\n",
       "    <tr>\n",
       "      <th>0</th>\n",
       "      <td></td>\n",
       "      <td>2021-11-13 11:03:14</td>\n",
       "      <td>0.303 sec</td>\n",
       "      <td>0.0</td>\n",
       "      <td>0.666667</td>\n",
       "      <td>6.830808e+06</td>\n",
       "    </tr>\n",
       "    <tr>\n",
       "      <th>1</th>\n",
       "      <td></td>\n",
       "      <td>2021-11-13 11:03:14</td>\n",
       "      <td>0.353 sec</td>\n",
       "      <td>1.0</td>\n",
       "      <td>0.444444</td>\n",
       "      <td>6.830808e+06</td>\n",
       "    </tr>\n",
       "    <tr>\n",
       "      <th>2</th>\n",
       "      <td></td>\n",
       "      <td>2021-11-13 11:03:14</td>\n",
       "      <td>0.401 sec</td>\n",
       "      <td>2.0</td>\n",
       "      <td>0.222222</td>\n",
       "      <td>6.830808e+06</td>\n",
       "    </tr>\n",
       "    <tr>\n",
       "      <th>3</th>\n",
       "      <td></td>\n",
       "      <td>2021-11-13 11:03:14</td>\n",
       "      <td>0.452 sec</td>\n",
       "      <td>3.0</td>\n",
       "      <td>0.074074</td>\n",
       "      <td>6.830808e+06</td>\n",
       "    </tr>\n",
       "    <tr>\n",
       "      <th>4</th>\n",
       "      <td></td>\n",
       "      <td>2021-11-13 11:03:14</td>\n",
       "      <td>0.503 sec</td>\n",
       "      <td>4.0</td>\n",
       "      <td>0.018519</td>\n",
       "      <td>6.830808e+06</td>\n",
       "    </tr>\n",
       "    <tr>\n",
       "      <th>5</th>\n",
       "      <td></td>\n",
       "      <td>2021-11-13 11:03:14</td>\n",
       "      <td>0.549 sec</td>\n",
       "      <td>5.0</td>\n",
       "      <td>0.003704</td>\n",
       "      <td>6.830808e+06</td>\n",
       "    </tr>\n",
       "    <tr>\n",
       "      <th>6</th>\n",
       "      <td></td>\n",
       "      <td>2021-11-13 11:03:14</td>\n",
       "      <td>0.598 sec</td>\n",
       "      <td>6.0</td>\n",
       "      <td>0.003889</td>\n",
       "      <td>3.347219e+06</td>\n",
       "    </tr>\n",
       "    <tr>\n",
       "      <th>7</th>\n",
       "      <td></td>\n",
       "      <td>2021-11-13 11:03:14</td>\n",
       "      <td>0.642 sec</td>\n",
       "      <td>7.0</td>\n",
       "      <td>0.004083</td>\n",
       "      <td>1.482439e+06</td>\n",
       "    </tr>\n",
       "    <tr>\n",
       "      <th>8</th>\n",
       "      <td></td>\n",
       "      <td>2021-11-13 11:03:14</td>\n",
       "      <td>0.686 sec</td>\n",
       "      <td>8.0</td>\n",
       "      <td>0.004288</td>\n",
       "      <td>1.233693e+06</td>\n",
       "    </tr>\n",
       "    <tr>\n",
       "      <th>9</th>\n",
       "      <td></td>\n",
       "      <td>2021-11-13 11:03:14</td>\n",
       "      <td>0.727 sec</td>\n",
       "      <td>9.0</td>\n",
       "      <td>0.004502</td>\n",
       "      <td>1.096042e+06</td>\n",
       "    </tr>\n",
       "    <tr>\n",
       "      <th>10</th>\n",
       "      <td></td>\n",
       "      <td>2021-11-13 11:03:14</td>\n",
       "      <td>0.768 sec</td>\n",
       "      <td>10.0</td>\n",
       "      <td>0.004727</td>\n",
       "      <td>1.003570e+06</td>\n",
       "    </tr>\n",
       "    <tr>\n",
       "      <th>11</th>\n",
       "      <td></td>\n",
       "      <td>2021-11-13 11:03:14</td>\n",
       "      <td>0.809 sec</td>\n",
       "      <td>11.0</td>\n",
       "      <td>0.004963</td>\n",
       "      <td>9.176122e+05</td>\n",
       "    </tr>\n",
       "    <tr>\n",
       "      <th>12</th>\n",
       "      <td></td>\n",
       "      <td>2021-11-13 11:03:14</td>\n",
       "      <td>0.861 sec</td>\n",
       "      <td>12.0</td>\n",
       "      <td>0.005211</td>\n",
       "      <td>8.311673e+05</td>\n",
       "    </tr>\n",
       "    <tr>\n",
       "      <th>13</th>\n",
       "      <td></td>\n",
       "      <td>2021-11-13 11:03:14</td>\n",
       "      <td>0.903 sec</td>\n",
       "      <td>13.0</td>\n",
       "      <td>0.005472</td>\n",
       "      <td>7.395276e+05</td>\n",
       "    </tr>\n",
       "    <tr>\n",
       "      <th>14</th>\n",
       "      <td></td>\n",
       "      <td>2021-11-13 11:03:14</td>\n",
       "      <td>0.946 sec</td>\n",
       "      <td>14.0</td>\n",
       "      <td>0.005746</td>\n",
       "      <td>6.371196e+05</td>\n",
       "    </tr>\n",
       "    <tr>\n",
       "      <th>15</th>\n",
       "      <td></td>\n",
       "      <td>2021-11-13 11:03:14</td>\n",
       "      <td>0.991 sec</td>\n",
       "      <td>15.0</td>\n",
       "      <td>0.006033</td>\n",
       "      <td>5.175271e+05</td>\n",
       "    </tr>\n",
       "    <tr>\n",
       "      <th>16</th>\n",
       "      <td></td>\n",
       "      <td>2021-11-13 11:03:14</td>\n",
       "      <td>1.036 sec</td>\n",
       "      <td>16.0</td>\n",
       "      <td>0.006335</td>\n",
       "      <td>3.861209e+05</td>\n",
       "    </tr>\n",
       "    <tr>\n",
       "      <th>17</th>\n",
       "      <td></td>\n",
       "      <td>2021-11-13 11:03:14</td>\n",
       "      <td>1.085 sec</td>\n",
       "      <td>17.0</td>\n",
       "      <td>0.006651</td>\n",
       "      <td>2.793183e+05</td>\n",
       "    </tr>\n",
       "    <tr>\n",
       "      <th>18</th>\n",
       "      <td></td>\n",
       "      <td>2021-11-13 11:03:14</td>\n",
       "      <td>1.139 sec</td>\n",
       "      <td>18.0</td>\n",
       "      <td>0.006984</td>\n",
       "      <td>2.499468e+05</td>\n",
       "    </tr>\n",
       "    <tr>\n",
       "      <th>19</th>\n",
       "      <td></td>\n",
       "      <td>2021-11-13 11:03:14</td>\n",
       "      <td>1.183 sec</td>\n",
       "      <td>19.0</td>\n",
       "      <td>0.004656</td>\n",
       "      <td>2.499468e+05</td>\n",
       "    </tr>\n",
       "  </tbody>\n",
       "</table>\n",
       "</div>"
      ],
      "text/plain": [
       "                timestamp    duration  iterations  step_size     objective\n",
       "0     2021-11-13 11:03:14   0.303 sec         0.0   0.666667  6.830808e+06\n",
       "1     2021-11-13 11:03:14   0.353 sec         1.0   0.444444  6.830808e+06\n",
       "2     2021-11-13 11:03:14   0.401 sec         2.0   0.222222  6.830808e+06\n",
       "3     2021-11-13 11:03:14   0.452 sec         3.0   0.074074  6.830808e+06\n",
       "4     2021-11-13 11:03:14   0.503 sec         4.0   0.018519  6.830808e+06\n",
       "5     2021-11-13 11:03:14   0.549 sec         5.0   0.003704  6.830808e+06\n",
       "6     2021-11-13 11:03:14   0.598 sec         6.0   0.003889  3.347219e+06\n",
       "7     2021-11-13 11:03:14   0.642 sec         7.0   0.004083  1.482439e+06\n",
       "8     2021-11-13 11:03:14   0.686 sec         8.0   0.004288  1.233693e+06\n",
       "9     2021-11-13 11:03:14   0.727 sec         9.0   0.004502  1.096042e+06\n",
       "10    2021-11-13 11:03:14   0.768 sec        10.0   0.004727  1.003570e+06\n",
       "11    2021-11-13 11:03:14   0.809 sec        11.0   0.004963  9.176122e+05\n",
       "12    2021-11-13 11:03:14   0.861 sec        12.0   0.005211  8.311673e+05\n",
       "13    2021-11-13 11:03:14   0.903 sec        13.0   0.005472  7.395276e+05\n",
       "14    2021-11-13 11:03:14   0.946 sec        14.0   0.005746  6.371196e+05\n",
       "15    2021-11-13 11:03:14   0.991 sec        15.0   0.006033  5.175271e+05\n",
       "16    2021-11-13 11:03:14   1.036 sec        16.0   0.006335  3.861209e+05\n",
       "17    2021-11-13 11:03:14   1.085 sec        17.0   0.006651  2.793183e+05\n",
       "18    2021-11-13 11:03:14   1.139 sec        18.0   0.006984  2.499468e+05\n",
       "19    2021-11-13 11:03:14   1.183 sec        19.0   0.004656  2.499468e+05"
      ]
     },
     "metadata": {},
     "output_type": "display_data"
    },
    {
     "name": "stdout",
     "output_type": "stream",
     "text": [
      "\n",
      "See the whole table with table.as_data_frame()\n"
     ]
    },
    {
     "data": {
      "text/plain": []
     },
     "execution_count": 17,
     "metadata": {},
     "output_type": "execute_result"
    }
   ],
   "source": [
    "# Complete training dataset\n",
    "data_complete = h2o.H2OFrame(X_train)\n",
    "\n",
    "pca_model = H2OPrincipalComponentAnalysisEstimator(k = 5,\n",
    "                                                   use_all_factor_levels = True,\n",
    "                                                   pca_method = \"glrm\",\n",
    "                                                   transform = None,\n",
    "                                                   impute_missing = False)\n",
    "\n",
    "pca_model.train(training_frame=data_complete, x=features)"
   ]
  },
  {
   "cell_type": "code",
   "execution_count": 18,
   "id": "02925147",
   "metadata": {},
   "outputs": [
    {
     "name": "stdout",
     "output_type": "stream",
     "text": [
      "\n",
      "Importance of components: \n"
     ]
    },
    {
     "data": {
      "text/html": [
       "<div>\n",
       "<style scoped>\n",
       "    .dataframe tbody tr th:only-of-type {\n",
       "        vertical-align: middle;\n",
       "    }\n",
       "\n",
       "    .dataframe tbody tr th {\n",
       "        vertical-align: top;\n",
       "    }\n",
       "\n",
       "    .dataframe thead th {\n",
       "        text-align: right;\n",
       "    }\n",
       "</style>\n",
       "<table border=\"1\" class=\"dataframe\">\n",
       "  <thead>\n",
       "    <tr style=\"text-align: right;\">\n",
       "      <th></th>\n",
       "      <th></th>\n",
       "      <th>pc1</th>\n",
       "      <th>pc2</th>\n",
       "      <th>pc3</th>\n",
       "      <th>pc4</th>\n",
       "      <th>pc5</th>\n",
       "    </tr>\n",
       "  </thead>\n",
       "  <tbody>\n",
       "    <tr>\n",
       "      <th>0</th>\n",
       "      <td>Standard deviation</td>\n",
       "      <td>24.103245</td>\n",
       "      <td>5.476256</td>\n",
       "      <td>4.069140</td>\n",
       "      <td>1.529021</td>\n",
       "      <td>1.168189</td>\n",
       "    </tr>\n",
       "    <tr>\n",
       "      <th>1</th>\n",
       "      <td>Proportion of Variance</td>\n",
       "      <td>0.920392</td>\n",
       "      <td>0.047510</td>\n",
       "      <td>0.026232</td>\n",
       "      <td>0.003704</td>\n",
       "      <td>0.002162</td>\n",
       "    </tr>\n",
       "    <tr>\n",
       "      <th>2</th>\n",
       "      <td>Cumulative Proportion</td>\n",
       "      <td>0.920392</td>\n",
       "      <td>0.967902</td>\n",
       "      <td>0.994134</td>\n",
       "      <td>0.997838</td>\n",
       "      <td>1.000000</td>\n",
       "    </tr>\n",
       "  </tbody>\n",
       "</table>\n",
       "</div>"
      ],
      "text/plain": [
       "                                 pc1       pc2       pc3       pc4       pc5\n",
       "0      Standard deviation  24.103245  5.476256  4.069140  1.529021  1.168189\n",
       "1  Proportion of Variance   0.920392  0.047510  0.026232  0.003704  0.002162\n",
       "2   Cumulative Proportion   0.920392  0.967902  0.994134  0.997838  1.000000"
      ]
     },
     "metadata": {},
     "output_type": "display_data"
    },
    {
     "data": {
      "text/plain": []
     },
     "execution_count": 18,
     "metadata": {},
     "output_type": "execute_result"
    }
   ],
   "source": [
    "pca_model.summary()"
   ]
  },
  {
   "cell_type": "code",
   "execution_count": 19,
   "id": "d2e480a5",
   "metadata": {},
   "outputs": [
    {
     "data": {
      "text/plain": [
       "[('Standard deviation',\n",
       "  24.103245305721835,\n",
       "  5.476256025298006,\n",
       "  4.0691401063018136,\n",
       "  1.529020540417895,\n",
       "  1.1681894201660319),\n",
       " ('Proportion of Variance',\n",
       "  0.920392022957473,\n",
       "  0.047510466263842886,\n",
       "  0.02623173954093144,\n",
       "  0.00370380781577723,\n",
       "  0.0021619634219754652),\n",
       " ('Cumulative Proportion',\n",
       "  0.920392022957473,\n",
       "  0.9679024892213159,\n",
       "  0.9941342287622473,\n",
       "  0.9978380365780246,\n",
       "  1.0)]"
      ]
     },
     "execution_count": 19,
     "metadata": {},
     "output_type": "execute_result"
    }
   ],
   "source": [
    "pca_model.varimp()"
   ]
  },
  {
   "cell_type": "code",
   "execution_count": 29,
   "id": "c92b9add",
   "metadata": {},
   "outputs": [
    {
     "name": "stdout",
     "output_type": "stream",
     "text": [
      "pca prediction progress: |███████████████████████████████████████████████████████| (done) 100%\n"
     ]
    }
   ],
   "source": [
    "pca_ = pca_model.predict(data_complete)"
   ]
  },
  {
   "cell_type": "code",
   "execution_count": 30,
   "id": "c08e7ad8",
   "metadata": {},
   "outputs": [],
   "source": [
    "combined_ = pca_.cbind(data_complete[output])"
   ]
  },
  {
   "cell_type": "code",
   "execution_count": 31,
   "id": "1a58fb12",
   "metadata": {},
   "outputs": [
    {
     "data": {
      "text/html": [
       "<table>\n",
       "<thead>\n",
       "<tr><th style=\"text-align: right;\">     PC1</th><th style=\"text-align: right;\">     PC2</th><th style=\"text-align: right;\">      PC3</th><th style=\"text-align: right;\">      PC4</th><th style=\"text-align: right;\">        PC5</th><th style=\"text-align: right;\">    price</th></tr>\n",
       "</thead>\n",
       "<tbody>\n",
       "<tr><td style=\"text-align: right;\"> 9.42643</td><td style=\"text-align: right;\">-2.80388</td><td style=\"text-align: right;\"> 1.02684 </td><td style=\"text-align: right;\"> 0.819133</td><td style=\"text-align: right;\">-0.51064   </td><td style=\"text-align: right;\">-0.311843</td></tr>\n",
       "<tr><td style=\"text-align: right;\">30.705  </td><td style=\"text-align: right;\"> 4.35121</td><td style=\"text-align: right;\">-0.196563</td><td style=\"text-align: right;\"> 0.247376</td><td style=\"text-align: right;\">-0.00852853</td><td style=\"text-align: right;\">-0.248009</td></tr>\n",
       "<tr><td style=\"text-align: right;\">19.402  </td><td style=\"text-align: right;\"> 3.24011</td><td style=\"text-align: right;\"> 1.69425 </td><td style=\"text-align: right;\"> 1.00489 </td><td style=\"text-align: right;\">-0.159527  </td><td style=\"text-align: right;\">-0.276129</td></tr>\n",
       "<tr><td style=\"text-align: right;\">30.705  </td><td style=\"text-align: right;\"> 4.35121</td><td style=\"text-align: right;\">-0.196563</td><td style=\"text-align: right;\"> 0.247376</td><td style=\"text-align: right;\">-0.00852853</td><td style=\"text-align: right;\">-0.248009</td></tr>\n",
       "<tr><td style=\"text-align: right;\">17.0344 </td><td style=\"text-align: right;\">-1.10883</td><td style=\"text-align: right;\"> 0.912159</td><td style=\"text-align: right;\"> 0.511622</td><td style=\"text-align: right;\">-0.547518  </td><td style=\"text-align: right;\">-0.183424</td></tr>\n",
       "<tr><td style=\"text-align: right;\"> 8.95302</td><td style=\"text-align: right;\">-3.67202</td><td style=\"text-align: right;\"> 0.837698</td><td style=\"text-align: right;\"> 0.797245</td><td style=\"text-align: right;\">-0.865759  </td><td style=\"text-align: right;\">-0.343655</td></tr>\n",
       "<tr><td style=\"text-align: right;\">24.3984 </td><td style=\"text-align: right;\"> 5.42719</td><td style=\"text-align: right;\"> 8.36584 </td><td style=\"text-align: right;\">-3.03254 </td><td style=\"text-align: right;\"> 0.759123  </td><td style=\"text-align: right;\">-0.312594</td></tr>\n",
       "<tr><td style=\"text-align: right;\">22.8006 </td><td style=\"text-align: right;\"> 6.02333</td><td style=\"text-align: right;\"> 1.30775 </td><td style=\"text-align: right;\">-0.954746</td><td style=\"text-align: right;\">-1.02733   </td><td style=\"text-align: right;\">-0.334439</td></tr>\n",
       "<tr><td style=\"text-align: right;\">28.3444 </td><td style=\"text-align: right;\"> 9.08375</td><td style=\"text-align: right;\">-0.768326</td><td style=\"text-align: right;\"> 0.847478</td><td style=\"text-align: right;\"> 0.435624  </td><td style=\"text-align: right;\">-0.282201</td></tr>\n",
       "<tr><td style=\"text-align: right;\">21.1311 </td><td style=\"text-align: right;\">-2.99037</td><td style=\"text-align: right;\">-1.29395 </td><td style=\"text-align: right;\"> 0.102361</td><td style=\"text-align: right;\">-0.417961  </td><td style=\"text-align: right;\">-0.238701</td></tr>\n",
       "</tbody>\n",
       "</table>"
      ]
     },
     "metadata": {},
     "output_type": "display_data"
    },
    {
     "data": {
      "text/plain": []
     },
     "execution_count": 31,
     "metadata": {},
     "output_type": "execute_result"
    }
   ],
   "source": [
    "combined_.head()"
   ]
  },
  {
   "cell_type": "code",
   "execution_count": 32,
   "id": "d393f9cf",
   "metadata": {},
   "outputs": [],
   "source": [
    "# Keep only the three PCs that explain about 99%\n",
    "pca_training_df = combined_.drop([\"PC4\", \"PC5\"])"
   ]
  },
  {
   "cell_type": "markdown",
   "id": "aeff6c43",
   "metadata": {},
   "source": [
    "# Run model fitting on the PCA dataset"
   ]
  },
  {
   "cell_type": "code",
   "execution_count": 34,
   "id": "70aad2e9",
   "metadata": {},
   "outputs": [
    {
     "name": "stdout",
     "output_type": "stream",
     "text": [
      "AutoML progress: |\n",
      "11:43:56.556: AutoML: XGBoost is not available; skipping it.\n",
      "11:43:56.557: Step 'best_of_family_xgboost' not defined in provider 'StackedEnsemble': skipping it.\n",
      "11:43:56.557: Step 'all_xgboost' not defined in provider 'StackedEnsemble': skipping it.\n",
      "\n",
      "███████████████████████████████████████████████████████████████| (done) 100%\n",
      "Model Details\n",
      "=============\n",
      "H2OStackedEnsembleEstimator :  Stacked Ensemble\n",
      "Model Key:  StackedEnsemble_BestOfFamily_4_AutoML_9_20211113_114356\n",
      "\n",
      "No model summary for this model\n",
      "\n",
      "ModelMetricsRegressionGLM: stackedensemble\n",
      "** Reported on train data. **\n",
      "\n",
      "MSE: 0.07014616972856716\n",
      "RMSE: 0.26485122187478605\n",
      "MAE: 0.13474425150884298\n",
      "RMSLE: 0.1647537138984076\n",
      "R^2: 0.9459433243383639\n",
      "Mean Residual Deviance: 0.07014616972856716\n",
      "Null degrees of freedom: 10047\n",
      "Residual degrees of freedom: 10043\n",
      "Null deviance: 13040.722789617392\n",
      "Residual deviance: 704.8287134326429\n",
      "AIC: 1827.703656824978\n",
      "\n",
      "ModelMetricsRegressionGLM: stackedensemble\n",
      "** Reported on cross-validation data. **\n",
      "\n",
      "MSE: 0.5652147810158176\n",
      "RMSE: 0.7518076755499491\n",
      "MAE: 0.290681312446699\n",
      "RMSLE: 0.3465484358028294\n",
      "R^2: 0.4231142425776132\n",
      "Mean Residual Deviance: 0.5652147810158176\n",
      "Null degrees of freedom: 18711\n",
      "Residual degrees of freedom: 18708\n",
      "Null deviance: 18336.763658077907\n",
      "Residual deviance: 10576.298982367978\n",
      "AIC: 42436.233858995656\n"
     ]
    },
    {
     "data": {
      "text/plain": []
     },
     "execution_count": 34,
     "metadata": {},
     "output_type": "execute_result"
    }
   ],
   "source": [
    "data_train = pca_training_df\n",
    "\n",
    "train2, test2 = data_train.split_frame(ratios=[0.8])\n",
    "aml2 = ml(max_models=30, max_runtime_secs=300, seed=1)\n",
    "aml2.train(y=output, training_frame=train2)"
   ]
  },
  {
   "cell_type": "code",
   "execution_count": 35,
   "id": "61338f93",
   "metadata": {},
   "outputs": [
    {
     "data": {
      "text/html": [
       "<table>\n",
       "<thead>\n",
       "<tr><th>model_id                                               </th><th style=\"text-align: right;\">  mean_residual_deviance</th><th style=\"text-align: right;\">    rmse</th><th style=\"text-align: right;\">     mse</th><th style=\"text-align: right;\">     mae</th><th style=\"text-align: right;\">     rmsle</th></tr>\n",
       "</thead>\n",
       "<tbody>\n",
       "<tr><td>GBM_grid_1_AutoML_8_20211113_105808_model_1            </td><td style=\"text-align: right;\">                0.274121</td><td style=\"text-align: right;\">0.523566</td><td style=\"text-align: right;\">0.274121</td><td style=\"text-align: right;\">0.140867</td><td style=\"text-align: right;\">  0.162042</td></tr>\n",
       "<tr><td>StackedEnsemble_AllModels_4_AutoML_8_20211113_105808   </td><td style=\"text-align: right;\">                0.279008</td><td style=\"text-align: right;\">0.528213</td><td style=\"text-align: right;\">0.279008</td><td style=\"text-align: right;\">0.153558</td><td style=\"text-align: right;\">nan       </td></tr>\n",
       "<tr><td>GBM_4_AutoML_8_20211113_105808                         </td><td style=\"text-align: right;\">                0.281849</td><td style=\"text-align: right;\">0.530894</td><td style=\"text-align: right;\">0.281849</td><td style=\"text-align: right;\">0.130321</td><td style=\"text-align: right;\">  0.148075</td></tr>\n",
       "<tr><td>StackedEnsemble_AllModels_3_AutoML_8_20211113_105808   </td><td style=\"text-align: right;\">                0.284682</td><td style=\"text-align: right;\">0.533556</td><td style=\"text-align: right;\">0.284682</td><td style=\"text-align: right;\">0.155239</td><td style=\"text-align: right;\">nan       </td></tr>\n",
       "<tr><td>GBM_3_AutoML_8_20211113_105808                         </td><td style=\"text-align: right;\">                0.284867</td><td style=\"text-align: right;\">0.533729</td><td style=\"text-align: right;\">0.284867</td><td style=\"text-align: right;\">0.13507 </td><td style=\"text-align: right;\">  0.151531</td></tr>\n",
       "<tr><td>GLM_1_AutoML_8_20211113_105808                         </td><td style=\"text-align: right;\">                0.287093</td><td style=\"text-align: right;\">0.535811</td><td style=\"text-align: right;\">0.287093</td><td style=\"text-align: right;\">0.213121</td><td style=\"text-align: right;\">nan       </td></tr>\n",
       "<tr><td>StackedEnsemble_BestOfFamily_4_AutoML_8_20211113_105808</td><td style=\"text-align: right;\">                0.289597</td><td style=\"text-align: right;\">0.538142</td><td style=\"text-align: right;\">0.289597</td><td style=\"text-align: right;\">0.159896</td><td style=\"text-align: right;\">  0.178888</td></tr>\n",
       "<tr><td>StackedEnsemble_AllModels_1_AutoML_8_20211113_105808   </td><td style=\"text-align: right;\">                0.292136</td><td style=\"text-align: right;\">0.540496</td><td style=\"text-align: right;\">0.292136</td><td style=\"text-align: right;\">0.160295</td><td style=\"text-align: right;\">  0.184263</td></tr>\n",
       "<tr><td>GBM_2_AutoML_8_20211113_105808                         </td><td style=\"text-align: right;\">                0.293216</td><td style=\"text-align: right;\">0.541494</td><td style=\"text-align: right;\">0.293216</td><td style=\"text-align: right;\">0.13956 </td><td style=\"text-align: right;\">  0.156072</td></tr>\n",
       "<tr><td>XRT_1_AutoML_8_20211113_105808                         </td><td style=\"text-align: right;\">                0.293218</td><td style=\"text-align: right;\">0.541496</td><td style=\"text-align: right;\">0.293218</td><td style=\"text-align: right;\">0.130999</td><td style=\"text-align: right;\">  0.14635 </td></tr>\n",
       "<tr><td>DRF_1_AutoML_8_20211113_105808                         </td><td style=\"text-align: right;\">                0.293684</td><td style=\"text-align: right;\">0.541926</td><td style=\"text-align: right;\">0.293684</td><td style=\"text-align: right;\">0.11757 </td><td style=\"text-align: right;\">  0.137596</td></tr>\n",
       "<tr><td>GBM_grid_1_AutoML_8_20211113_105808_model_8            </td><td style=\"text-align: right;\">                0.294072</td><td style=\"text-align: right;\">0.542284</td><td style=\"text-align: right;\">0.294072</td><td style=\"text-align: right;\">0.116059</td><td style=\"text-align: right;\">  0.142249</td></tr>\n",
       "<tr><td>GBM_grid_1_AutoML_8_20211113_105808_model_2            </td><td style=\"text-align: right;\">                0.294772</td><td style=\"text-align: right;\">0.542929</td><td style=\"text-align: right;\">0.294772</td><td style=\"text-align: right;\">0.150985</td><td style=\"text-align: right;\">  0.166647</td></tr>\n",
       "<tr><td>GBM_5_AutoML_8_20211113_105808                         </td><td style=\"text-align: right;\">                0.295243</td><td style=\"text-align: right;\">0.543363</td><td style=\"text-align: right;\">0.295243</td><td style=\"text-align: right;\">0.136456</td><td style=\"text-align: right;\">  0.155786</td></tr>\n",
       "<tr><td>GBM_grid_1_AutoML_8_20211113_105808_model_3            </td><td style=\"text-align: right;\">                0.295818</td><td style=\"text-align: right;\">0.543892</td><td style=\"text-align: right;\">0.295818</td><td style=\"text-align: right;\">0.149893</td><td style=\"text-align: right;\">  0.166075</td></tr>\n",
       "<tr><td>StackedEnsemble_AllModels_2_AutoML_8_20211113_105808   </td><td style=\"text-align: right;\">                0.297707</td><td style=\"text-align: right;\">0.545625</td><td style=\"text-align: right;\">0.297707</td><td style=\"text-align: right;\">0.160284</td><td style=\"text-align: right;\">  0.181051</td></tr>\n",
       "<tr><td>GBM_grid_1_AutoML_8_20211113_105808_model_7            </td><td style=\"text-align: right;\">                0.29954 </td><td style=\"text-align: right;\">0.547302</td><td style=\"text-align: right;\">0.29954 </td><td style=\"text-align: right;\">0.171687</td><td style=\"text-align: right;\">nan       </td></tr>\n",
       "<tr><td>StackedEnsemble_BestOfFamily_3_AutoML_8_20211113_105808</td><td style=\"text-align: right;\">                0.300079</td><td style=\"text-align: right;\">0.547795</td><td style=\"text-align: right;\">0.300079</td><td style=\"text-align: right;\">0.161147</td><td style=\"text-align: right;\">nan       </td></tr>\n",
       "<tr><td>StackedEnsemble_BestOfFamily_2_AutoML_8_20211113_105808</td><td style=\"text-align: right;\">                0.303447</td><td style=\"text-align: right;\">0.55086 </td><td style=\"text-align: right;\">0.303447</td><td style=\"text-align: right;\">0.161687</td><td style=\"text-align: right;\">  0.180963</td></tr>\n",
       "<tr><td>GBM_grid_1_AutoML_8_20211113_105808_model_9            </td><td style=\"text-align: right;\">                0.305582</td><td style=\"text-align: right;\">0.552795</td><td style=\"text-align: right;\">0.305582</td><td style=\"text-align: right;\">0.152622</td><td style=\"text-align: right;\">nan       </td></tr>\n",
       "<tr><td>GBM_grid_1_AutoML_8_20211113_105808_model_5            </td><td style=\"text-align: right;\">                0.305891</td><td style=\"text-align: right;\">0.553074</td><td style=\"text-align: right;\">0.305891</td><td style=\"text-align: right;\">0.123137</td><td style=\"text-align: right;\">  0.141207</td></tr>\n",
       "<tr><td>StackedEnsemble_BestOfFamily_1_AutoML_8_20211113_105808</td><td style=\"text-align: right;\">                0.306698</td><td style=\"text-align: right;\">0.553803</td><td style=\"text-align: right;\">0.306698</td><td style=\"text-align: right;\">0.195224</td><td style=\"text-align: right;\">nan       </td></tr>\n",
       "<tr><td>GBM_grid_1_AutoML_8_20211113_105808_model_4            </td><td style=\"text-align: right;\">                0.307504</td><td style=\"text-align: right;\">0.55453 </td><td style=\"text-align: right;\">0.307504</td><td style=\"text-align: right;\">0.143255</td><td style=\"text-align: right;\">  0.16027 </td></tr>\n",
       "<tr><td>DeepLearning_1_AutoML_8_20211113_105808                </td><td style=\"text-align: right;\">                0.330794</td><td style=\"text-align: right;\">0.575147</td><td style=\"text-align: right;\">0.330794</td><td style=\"text-align: right;\">0.166087</td><td style=\"text-align: right;\">  0.183888</td></tr>\n",
       "<tr><td>GBM_1_AutoML_8_20211113_105808                         </td><td style=\"text-align: right;\">                0.366753</td><td style=\"text-align: right;\">0.605602</td><td style=\"text-align: right;\">0.366753</td><td style=\"text-align: right;\">0.143852</td><td style=\"text-align: right;\">  0.158581</td></tr>\n",
       "<tr><td>GBM_grid_1_AutoML_8_20211113_105808_model_6            </td><td style=\"text-align: right;\">                0.378064</td><td style=\"text-align: right;\">0.614869</td><td style=\"text-align: right;\">0.378064</td><td style=\"text-align: right;\">0.159435</td><td style=\"text-align: right;\">  0.174519</td></tr>\n",
       "<tr><td>DeepLearning_grid_3_AutoML_8_20211113_105808_model_1   </td><td style=\"text-align: right;\">                0.576256</td><td style=\"text-align: right;\">0.759115</td><td style=\"text-align: right;\">0.576256</td><td style=\"text-align: right;\">0.189756</td><td style=\"text-align: right;\">  0.218434</td></tr>\n",
       "<tr><td>DeepLearning_grid_1_AutoML_8_20211113_105808_model_3   </td><td style=\"text-align: right;\">                0.59136 </td><td style=\"text-align: right;\">0.768999</td><td style=\"text-align: right;\">0.59136 </td><td style=\"text-align: right;\">0.17583 </td><td style=\"text-align: right;\">nan       </td></tr>\n",
       "<tr><td>DeepLearning_grid_2_AutoML_8_20211113_105808_model_1   </td><td style=\"text-align: right;\">                0.658673</td><td style=\"text-align: right;\">0.811587</td><td style=\"text-align: right;\">0.658673</td><td style=\"text-align: right;\">0.189843</td><td style=\"text-align: right;\">  0.220918</td></tr>\n",
       "<tr><td>DeepLearning_grid_1_AutoML_8_20211113_105808_model_2   </td><td style=\"text-align: right;\">                0.677651</td><td style=\"text-align: right;\">0.823195</td><td style=\"text-align: right;\">0.677651</td><td style=\"text-align: right;\">0.183037</td><td style=\"text-align: right;\">nan       </td></tr>\n",
       "</tbody>\n",
       "</table>"
      ]
     },
     "metadata": {},
     "output_type": "display_data"
    },
    {
     "data": {
      "text/plain": []
     },
     "execution_count": 35,
     "metadata": {},
     "output_type": "execute_result"
    }
   ],
   "source": [
    "lb2 = aml.leaderboard\n",
    "lb2.head(30)"
   ]
  },
  {
   "cell_type": "code",
   "execution_count": 37,
   "id": "65236983",
   "metadata": {},
   "outputs": [
    {
     "name": "stdout",
     "output_type": "stream",
     "text": [
      "stackedensemble prediction progress: |███████████████████████████████████████████| (done) 100%\n"
     ]
    }
   ],
   "source": [
    "predictions2 = aml2.predict(test2)"
   ]
  },
  {
   "cell_type": "markdown",
   "id": "4ffb9301",
   "metadata": {},
   "source": [
    "# Prepare the test dataset for predictions"
   ]
  },
  {
   "cell_type": "code",
   "execution_count": 102,
   "id": "6d2042b9",
   "metadata": {},
   "outputs": [
    {
     "name": "stdout",
     "output_type": "stream",
     "text": [
      "Parse progress: |████████████████████████████████████████████████████████████████| (done) 100%\n"
     ]
    }
   ],
   "source": [
    "validate = h2o.H2OFrame(X_test)"
   ]
  },
  {
   "cell_type": "code",
   "execution_count": 103,
   "id": "1cb13875",
   "metadata": {},
   "outputs": [
    {
     "data": {
      "text/html": [
       "<table>\n",
       "<thead>\n",
       "<tr><th style=\"text-align: right;\">  Unnamed: 0</th><th style=\"text-align: right;\">  area_total</th><th style=\"text-align: right;\">  floor</th><th style=\"text-align: right;\">  rooms</th><th style=\"text-align: right;\">   ceiling</th><th style=\"text-align: right;\">  district</th><th style=\"text-align: right;\">  stories</th><th style=\"text-align: right;\">  distance</th><th style=\"text-align: right;\">  distance_metro</th><th style=\"text-align: right;\">  seller_0.0</th><th style=\"text-align: right;\">  seller_1.0</th><th style=\"text-align: right;\">  seller_2.0</th><th style=\"text-align: right;\">  seller_3.0</th><th style=\"text-align: right;\">  seller_nan</th><th style=\"text-align: right;\">  layout_0.0</th><th style=\"text-align: right;\">  layout_1.0</th><th style=\"text-align: right;\">  layout_2.0</th><th style=\"text-align: right;\">  layout_nan</th><th style=\"text-align: right;\">  condition_0.0</th><th style=\"text-align: right;\">  condition_1.0</th><th style=\"text-align: right;\">  condition_2.0</th><th style=\"text-align: right;\">  condition_3.0</th><th style=\"text-align: right;\">  condition_nan</th><th style=\"text-align: right;\">  new_0.0</th><th style=\"text-align: right;\">  new_1.0</th><th style=\"text-align: right;\">  new_nan</th><th style=\"text-align: right;\">  material_0.0</th><th style=\"text-align: right;\">  material_1.0</th><th style=\"text-align: right;\">  material_2.0</th><th style=\"text-align: right;\">  material_3.0</th><th style=\"text-align: right;\">  material_4.0</th><th style=\"text-align: right;\">  material_5.0</th><th style=\"text-align: right;\">  material_6.0</th><th style=\"text-align: right;\">  material_nan</th><th style=\"text-align: right;\">  garbage_chute_0.0</th><th style=\"text-align: right;\">  garbage_chute_1.0</th><th style=\"text-align: right;\">  garbage_chute_nan</th><th style=\"text-align: right;\">  heating_0.0</th><th style=\"text-align: right;\">  heating_1.0</th><th style=\"text-align: right;\">  heating_2.0</th><th style=\"text-align: right;\">  heating_3.0</th><th style=\"text-align: right;\">  heating_nan</th><th>elevator  </th><th>elevator_no  </th></tr>\n",
       "</thead>\n",
       "<tbody>\n",
       "<tr><td style=\"text-align: right;\">           0</td><td style=\"text-align: right;\">  -0.0664348</td><td style=\"text-align: right;\">      2</td><td style=\"text-align: right;\">      1</td><td style=\"text-align: right;\"> 0        </td><td style=\"text-align: right;\">         3</td><td style=\"text-align: right;\">       20</td><td style=\"text-align: right;\"> -0.304959</td><td style=\"text-align: right;\">       -0.397837</td><td style=\"text-align: right;\">           0</td><td style=\"text-align: right;\">           0</td><td style=\"text-align: right;\">           0</td><td style=\"text-align: right;\">           0</td><td style=\"text-align: right;\">           1</td><td style=\"text-align: right;\">           0</td><td style=\"text-align: right;\">           0</td><td style=\"text-align: right;\">           0</td><td style=\"text-align: right;\">           1</td><td style=\"text-align: right;\">              1</td><td style=\"text-align: right;\">              0</td><td style=\"text-align: right;\">              0</td><td style=\"text-align: right;\">              0</td><td style=\"text-align: right;\">              0</td><td style=\"text-align: right;\">        1</td><td style=\"text-align: right;\">        0</td><td style=\"text-align: right;\">        0</td><td style=\"text-align: right;\">             0</td><td style=\"text-align: right;\">             0</td><td style=\"text-align: right;\">             1</td><td style=\"text-align: right;\">             0</td><td style=\"text-align: right;\">             0</td><td style=\"text-align: right;\">             0</td><td style=\"text-align: right;\">             0</td><td style=\"text-align: right;\">             0</td><td style=\"text-align: right;\">                  0</td><td style=\"text-align: right;\">                  1</td><td style=\"text-align: right;\">                  0</td><td style=\"text-align: right;\">            1</td><td style=\"text-align: right;\">            0</td><td style=\"text-align: right;\">            0</td><td style=\"text-align: right;\">            0</td><td style=\"text-align: right;\">            0</td><td>True      </td><td>False        </td></tr>\n",
       "<tr><td style=\"text-align: right;\">          12</td><td style=\"text-align: right;\">  -0.375168 </td><td style=\"text-align: right;\">      4</td><td style=\"text-align: right;\">      1</td><td style=\"text-align: right;\">-0.0456097</td><td style=\"text-align: right;\">         3</td><td style=\"text-align: right;\">       15</td><td style=\"text-align: right;\"> -0.59529 </td><td style=\"text-align: right;\">       -0.354351</td><td style=\"text-align: right;\">           0</td><td style=\"text-align: right;\">           0</td><td style=\"text-align: right;\">           0</td><td style=\"text-align: right;\">           0</td><td style=\"text-align: right;\">           1</td><td style=\"text-align: right;\">           0</td><td style=\"text-align: right;\">           0</td><td style=\"text-align: right;\">           0</td><td style=\"text-align: right;\">           1</td><td style=\"text-align: right;\">              0</td><td style=\"text-align: right;\">              0</td><td style=\"text-align: right;\">              0</td><td style=\"text-align: right;\">              1</td><td style=\"text-align: right;\">              0</td><td style=\"text-align: right;\">        1</td><td style=\"text-align: right;\">        0</td><td style=\"text-align: right;\">        0</td><td style=\"text-align: right;\">             0</td><td style=\"text-align: right;\">             0</td><td style=\"text-align: right;\">             1</td><td style=\"text-align: right;\">             0</td><td style=\"text-align: right;\">             0</td><td style=\"text-align: right;\">             0</td><td style=\"text-align: right;\">             0</td><td style=\"text-align: right;\">             0</td><td style=\"text-align: right;\">                  1</td><td style=\"text-align: right;\">                  0</td><td style=\"text-align: right;\">                  0</td><td style=\"text-align: right;\">            1</td><td style=\"text-align: right;\">            0</td><td style=\"text-align: right;\">            0</td><td style=\"text-align: right;\">            0</td><td style=\"text-align: right;\">            0</td><td>True      </td><td>False        </td></tr>\n",
       "<tr><td style=\"text-align: right;\">          15</td><td style=\"text-align: right;\">  -0.63422  </td><td style=\"text-align: right;\">     10</td><td style=\"text-align: right;\">      1</td><td style=\"text-align: right;\">-0.0676013</td><td style=\"text-align: right;\">         2</td><td style=\"text-align: right;\">        9</td><td style=\"text-align: right;\">  0.227137</td><td style=\"text-align: right;\">        0.386589</td><td style=\"text-align: right;\">           0</td><td style=\"text-align: right;\">           0</td><td style=\"text-align: right;\">           0</td><td style=\"text-align: right;\">           1</td><td style=\"text-align: right;\">           0</td><td style=\"text-align: right;\">           0</td><td style=\"text-align: right;\">           0</td><td style=\"text-align: right;\">           0</td><td style=\"text-align: right;\">           1</td><td style=\"text-align: right;\">              0</td><td style=\"text-align: right;\">              0</td><td style=\"text-align: right;\">              0</td><td style=\"text-align: right;\">              0</td><td style=\"text-align: right;\">              1</td><td style=\"text-align: right;\">        0</td><td style=\"text-align: right;\">        1</td><td style=\"text-align: right;\">        0</td><td style=\"text-align: right;\">             0</td><td style=\"text-align: right;\">             0</td><td style=\"text-align: right;\">             0</td><td style=\"text-align: right;\">             1</td><td style=\"text-align: right;\">             0</td><td style=\"text-align: right;\">             0</td><td style=\"text-align: right;\">             0</td><td style=\"text-align: right;\">             0</td><td style=\"text-align: right;\">                  0</td><td style=\"text-align: right;\">                  0</td><td style=\"text-align: right;\">                  1</td><td style=\"text-align: right;\">            0</td><td style=\"text-align: right;\">            0</td><td style=\"text-align: right;\">            0</td><td style=\"text-align: right;\">            0</td><td style=\"text-align: right;\">            1</td><td>True      </td><td>False        </td></tr>\n",
       "<tr><td style=\"text-align: right;\">          76</td><td style=\"text-align: right;\">  -0.252739 </td><td style=\"text-align: right;\">      5</td><td style=\"text-align: right;\">      2</td><td style=\"text-align: right;\"> 0        </td><td style=\"text-align: right;\">         2</td><td style=\"text-align: right;\">       17</td><td style=\"text-align: right;\"> -0.55682 </td><td style=\"text-align: right;\">       -0.355316</td><td style=\"text-align: right;\">           0</td><td style=\"text-align: right;\">           0</td><td style=\"text-align: right;\">           0</td><td style=\"text-align: right;\">           0</td><td style=\"text-align: right;\">           1</td><td style=\"text-align: right;\">           0</td><td style=\"text-align: right;\">           1</td><td style=\"text-align: right;\">           0</td><td style=\"text-align: right;\">           0</td><td style=\"text-align: right;\">              1</td><td style=\"text-align: right;\">              0</td><td style=\"text-align: right;\">              0</td><td style=\"text-align: right;\">              0</td><td style=\"text-align: right;\">              0</td><td style=\"text-align: right;\">        1</td><td style=\"text-align: right;\">        0</td><td style=\"text-align: right;\">        0</td><td style=\"text-align: right;\">             0</td><td style=\"text-align: right;\">             0</td><td style=\"text-align: right;\">             1</td><td style=\"text-align: right;\">             0</td><td style=\"text-align: right;\">             0</td><td style=\"text-align: right;\">             0</td><td style=\"text-align: right;\">             0</td><td style=\"text-align: right;\">             0</td><td style=\"text-align: right;\">                  0</td><td style=\"text-align: right;\">                  1</td><td style=\"text-align: right;\">                  0</td><td style=\"text-align: right;\">            0</td><td style=\"text-align: right;\">            0</td><td style=\"text-align: right;\">            0</td><td style=\"text-align: right;\">            1</td><td style=\"text-align: right;\">            0</td><td>False     </td><td>True         </td></tr>\n",
       "<tr><td style=\"text-align: right;\">          78</td><td style=\"text-align: right;\">  -0.730034 </td><td style=\"text-align: right;\">     14</td><td style=\"text-align: right;\">      1</td><td style=\"text-align: right;\">-0.061318 </td><td style=\"text-align: right;\">         0</td><td style=\"text-align: right;\">       17</td><td style=\"text-align: right;\"> -1.35323 </td><td style=\"text-align: right;\">       -0.299657</td><td style=\"text-align: right;\">           0</td><td style=\"text-align: right;\">           0</td><td style=\"text-align: right;\">           0</td><td style=\"text-align: right;\">           0</td><td style=\"text-align: right;\">           1</td><td style=\"text-align: right;\">           0</td><td style=\"text-align: right;\">           0</td><td style=\"text-align: right;\">           0</td><td style=\"text-align: right;\">           1</td><td style=\"text-align: right;\">              0</td><td style=\"text-align: right;\">              1</td><td style=\"text-align: right;\">              0</td><td style=\"text-align: right;\">              0</td><td style=\"text-align: right;\">              0</td><td style=\"text-align: right;\">        1</td><td style=\"text-align: right;\">        0</td><td style=\"text-align: right;\">        0</td><td style=\"text-align: right;\">             0</td><td style=\"text-align: right;\">             0</td><td style=\"text-align: right;\">             1</td><td style=\"text-align: right;\">             0</td><td style=\"text-align: right;\">             0</td><td style=\"text-align: right;\">             0</td><td style=\"text-align: right;\">             0</td><td style=\"text-align: right;\">             0</td><td style=\"text-align: right;\">                  0</td><td style=\"text-align: right;\">                  1</td><td style=\"text-align: right;\">                  0</td><td style=\"text-align: right;\">            1</td><td style=\"text-align: right;\">            0</td><td style=\"text-align: right;\">            0</td><td style=\"text-align: right;\">            0</td><td style=\"text-align: right;\">            0</td><td>True      </td><td>False        </td></tr>\n",
       "<tr><td style=\"text-align: right;\">          79</td><td style=\"text-align: right;\">  -0.623574 </td><td style=\"text-align: right;\">     15</td><td style=\"text-align: right;\">      1</td><td style=\"text-align: right;\"> 0        </td><td style=\"text-align: right;\">         5</td><td style=\"text-align: right;\">       17</td><td style=\"text-align: right;\"> -0.979164</td><td style=\"text-align: right;\">       -0.276416</td><td style=\"text-align: right;\">           0</td><td style=\"text-align: right;\">           0</td><td style=\"text-align: right;\">           0</td><td style=\"text-align: right;\">           0</td><td style=\"text-align: right;\">           1</td><td style=\"text-align: right;\">           0</td><td style=\"text-align: right;\">           0</td><td style=\"text-align: right;\">           0</td><td style=\"text-align: right;\">           1</td><td style=\"text-align: right;\">              1</td><td style=\"text-align: right;\">              0</td><td style=\"text-align: right;\">              0</td><td style=\"text-align: right;\">              0</td><td style=\"text-align: right;\">              0</td><td style=\"text-align: right;\">        1</td><td style=\"text-align: right;\">        0</td><td style=\"text-align: right;\">        0</td><td style=\"text-align: right;\">             0</td><td style=\"text-align: right;\">             0</td><td style=\"text-align: right;\">             0</td><td style=\"text-align: right;\">             1</td><td style=\"text-align: right;\">             0</td><td style=\"text-align: right;\">             0</td><td style=\"text-align: right;\">             0</td><td style=\"text-align: right;\">             0</td><td style=\"text-align: right;\">                  0</td><td style=\"text-align: right;\">                  1</td><td style=\"text-align: right;\">                  0</td><td style=\"text-align: right;\">            1</td><td style=\"text-align: right;\">            0</td><td style=\"text-align: right;\">            0</td><td style=\"text-align: right;\">            0</td><td style=\"text-align: right;\">            0</td><td>True      </td><td>False        </td></tr>\n",
       "<tr><td style=\"text-align: right;\">          80</td><td style=\"text-align: right;\">  -0.250965 </td><td style=\"text-align: right;\">      3</td><td style=\"text-align: right;\">      3</td><td style=\"text-align: right;\">-0.0676013</td><td style=\"text-align: right;\">         5</td><td style=\"text-align: right;\">        9</td><td style=\"text-align: right;\"> -0.979164</td><td style=\"text-align: right;\">       -0.276416</td><td style=\"text-align: right;\">           0</td><td style=\"text-align: right;\">           0</td><td style=\"text-align: right;\">           0</td><td style=\"text-align: right;\">           1</td><td style=\"text-align: right;\">           0</td><td style=\"text-align: right;\">           0</td><td style=\"text-align: right;\">           0</td><td style=\"text-align: right;\">           0</td><td style=\"text-align: right;\">           1</td><td style=\"text-align: right;\">              0</td><td style=\"text-align: right;\">              0</td><td style=\"text-align: right;\">              0</td><td style=\"text-align: right;\">              0</td><td style=\"text-align: right;\">              1</td><td style=\"text-align: right;\">        0</td><td style=\"text-align: right;\">        1</td><td style=\"text-align: right;\">        0</td><td style=\"text-align: right;\">             0</td><td style=\"text-align: right;\">             0</td><td style=\"text-align: right;\">             0</td><td style=\"text-align: right;\">             1</td><td style=\"text-align: right;\">             0</td><td style=\"text-align: right;\">             0</td><td style=\"text-align: right;\">             0</td><td style=\"text-align: right;\">             0</td><td style=\"text-align: right;\">                  0</td><td style=\"text-align: right;\">                  0</td><td style=\"text-align: right;\">                  1</td><td style=\"text-align: right;\">            1</td><td style=\"text-align: right;\">            0</td><td style=\"text-align: right;\">            0</td><td style=\"text-align: right;\">            0</td><td style=\"text-align: right;\">            0</td><td>True      </td><td>False        </td></tr>\n",
       "<tr><td style=\"text-align: right;\">         128</td><td style=\"text-align: right;\">  -0.268708 </td><td style=\"text-align: right;\">     21</td><td style=\"text-align: right;\">      2</td><td style=\"text-align: right;\">-0.0581763</td><td style=\"text-align: right;\">         5</td><td style=\"text-align: right;\">       25</td><td style=\"text-align: right;\"> -0.979164</td><td style=\"text-align: right;\">       -0.276416</td><td style=\"text-align: right;\">           0</td><td style=\"text-align: right;\">           0</td><td style=\"text-align: right;\">           0</td><td style=\"text-align: right;\">           0</td><td style=\"text-align: right;\">           1</td><td style=\"text-align: right;\">           0</td><td style=\"text-align: right;\">           1</td><td style=\"text-align: right;\">           0</td><td style=\"text-align: right;\">           0</td><td style=\"text-align: right;\">              0</td><td style=\"text-align: right;\">              0</td><td style=\"text-align: right;\">              1</td><td style=\"text-align: right;\">              0</td><td style=\"text-align: right;\">              0</td><td style=\"text-align: right;\">        1</td><td style=\"text-align: right;\">        0</td><td style=\"text-align: right;\">        0</td><td style=\"text-align: right;\">             0</td><td style=\"text-align: right;\">             0</td><td style=\"text-align: right;\">             0</td><td style=\"text-align: right;\">             0</td><td style=\"text-align: right;\">             0</td><td style=\"text-align: right;\">             0</td><td style=\"text-align: right;\">             0</td><td style=\"text-align: right;\">             1</td><td style=\"text-align: right;\">                  0</td><td style=\"text-align: right;\">                  0</td><td style=\"text-align: right;\">                  1</td><td style=\"text-align: right;\">            0</td><td style=\"text-align: right;\">            0</td><td style=\"text-align: right;\">            0</td><td style=\"text-align: right;\">            0</td><td style=\"text-align: right;\">            1</td><td>True      </td><td>False        </td></tr>\n",
       "<tr><td style=\"text-align: right;\">         129</td><td style=\"text-align: right;\">  -0.659061 </td><td style=\"text-align: right;\">     17</td><td style=\"text-align: right;\">      1</td><td style=\"text-align: right;\"> 0        </td><td style=\"text-align: right;\">         5</td><td style=\"text-align: right;\">       17</td><td style=\"text-align: right;\"> -0.979164</td><td style=\"text-align: right;\">       -0.276416</td><td style=\"text-align: right;\">           0</td><td style=\"text-align: right;\">           0</td><td style=\"text-align: right;\">           0</td><td style=\"text-align: right;\">           0</td><td style=\"text-align: right;\">           1</td><td style=\"text-align: right;\">           0</td><td style=\"text-align: right;\">           0</td><td style=\"text-align: right;\">           0</td><td style=\"text-align: right;\">           1</td><td style=\"text-align: right;\">              0</td><td style=\"text-align: right;\">              0</td><td style=\"text-align: right;\">              1</td><td style=\"text-align: right;\">              0</td><td style=\"text-align: right;\">              0</td><td style=\"text-align: right;\">        1</td><td style=\"text-align: right;\">        0</td><td style=\"text-align: right;\">        0</td><td style=\"text-align: right;\">             0</td><td style=\"text-align: right;\">             0</td><td style=\"text-align: right;\">             0</td><td style=\"text-align: right;\">             1</td><td style=\"text-align: right;\">             0</td><td style=\"text-align: right;\">             0</td><td style=\"text-align: right;\">             0</td><td style=\"text-align: right;\">             0</td><td style=\"text-align: right;\">                  0</td><td style=\"text-align: right;\">                  0</td><td style=\"text-align: right;\">                  1</td><td style=\"text-align: right;\">            1</td><td style=\"text-align: right;\">            0</td><td style=\"text-align: right;\">            0</td><td style=\"text-align: right;\">            0</td><td style=\"text-align: right;\">            0</td><td>True      </td><td>False        </td></tr>\n",
       "<tr><td style=\"text-align: right;\">         131</td><td style=\"text-align: right;\">  -0.920065 </td><td style=\"text-align: right;\">     11</td><td style=\"text-align: right;\">      1</td><td style=\"text-align: right;\"> 0        </td><td style=\"text-align: right;\">         5</td><td style=\"text-align: right;\">       15</td><td style=\"text-align: right;\"> -0.979164</td><td style=\"text-align: right;\">       -0.276416</td><td style=\"text-align: right;\">           0</td><td style=\"text-align: right;\">           0</td><td style=\"text-align: right;\">           0</td><td style=\"text-align: right;\">           0</td><td style=\"text-align: right;\">           1</td><td style=\"text-align: right;\">           0</td><td style=\"text-align: right;\">           0</td><td style=\"text-align: right;\">           0</td><td style=\"text-align: right;\">           1</td><td style=\"text-align: right;\">              1</td><td style=\"text-align: right;\">              0</td><td style=\"text-align: right;\">              0</td><td style=\"text-align: right;\">              0</td><td style=\"text-align: right;\">              0</td><td style=\"text-align: right;\">        1</td><td style=\"text-align: right;\">        0</td><td style=\"text-align: right;\">        0</td><td style=\"text-align: right;\">             0</td><td style=\"text-align: right;\">             0</td><td style=\"text-align: right;\">             0</td><td style=\"text-align: right;\">             1</td><td style=\"text-align: right;\">             0</td><td style=\"text-align: right;\">             0</td><td style=\"text-align: right;\">             0</td><td style=\"text-align: right;\">             0</td><td style=\"text-align: right;\">                  1</td><td style=\"text-align: right;\">                  0</td><td style=\"text-align: right;\">                  0</td><td style=\"text-align: right;\">            0</td><td style=\"text-align: right;\">            0</td><td style=\"text-align: right;\">            0</td><td style=\"text-align: right;\">            0</td><td style=\"text-align: right;\">            1</td><td>True      </td><td>False        </td></tr>\n",
       "</tbody>\n",
       "</table>"
      ]
     },
     "metadata": {},
     "output_type": "display_data"
    },
    {
     "data": {
      "text/plain": []
     },
     "execution_count": 103,
     "metadata": {},
     "output_type": "execute_result"
    }
   ],
   "source": [
    "validate.head()"
   ]
  },
  {
   "cell_type": "code",
   "execution_count": 104,
   "id": "7920d482",
   "metadata": {},
   "outputs": [
    {
     "name": "stdout",
     "output_type": "stream",
     "text": [
      "pca prediction progress: |███████████████████████████████████████████████████████| (done) 100%\n"
     ]
    }
   ],
   "source": [
    "validate_pca = pca_model.predict(validate)"
   ]
  },
  {
   "cell_type": "code",
   "execution_count": 105,
   "id": "16b28193",
   "metadata": {},
   "outputs": [
    {
     "data": {
      "text/html": [
       "<table>\n",
       "<thead>\n",
       "<tr><th style=\"text-align: right;\">    PC1</th><th style=\"text-align: right;\">     PC2</th><th style=\"text-align: right;\">      PC3</th></tr>\n",
       "</thead>\n",
       "<tbody>\n",
       "<tr><td style=\"text-align: right;\">18.7451</td><td style=\"text-align: right;\">-7.33955</td><td style=\"text-align: right;\">-1.96603 </td></tr>\n",
       "<tr><td style=\"text-align: right;\">15.4043</td><td style=\"text-align: right;\">-3.49746</td><td style=\"text-align: right;\">-0.4865  </td></tr>\n",
       "<tr><td style=\"text-align: right;\">12.8738</td><td style=\"text-align: right;\"> 4.47813</td><td style=\"text-align: right;\"> 0.941619</td></tr>\n",
       "<tr><td style=\"text-align: right;\">17.1447</td><td style=\"text-align: right;\">-3.13131</td><td style=\"text-align: right;\">-1.6956  </td></tr>\n",
       "<tr><td style=\"text-align: right;\">21.2289</td><td style=\"text-align: right;\"> 5.09225</td><td style=\"text-align: right;\">-2.77524 </td></tr>\n",
       "<tr><td style=\"text-align: right;\">22.5039</td><td style=\"text-align: right;\"> 4.94466</td><td style=\"text-align: right;\"> 2.07239 </td></tr>\n",
       "<tr><td style=\"text-align: right;\">10.3042</td><td style=\"text-align: right;\">-2.38735</td><td style=\"text-align: right;\"> 3.11124 </td></tr>\n",
       "<tr><td style=\"text-align: right;\">32.165 </td><td style=\"text-align: right;\"> 6.85093</td><td style=\"text-align: right;\"> 0.810653</td></tr>\n",
       "<tr><td style=\"text-align: right;\">23.4269</td><td style=\"text-align: right;\"> 6.70417</td><td style=\"text-align: right;\"> 2.29465 </td></tr>\n",
       "<tr><td style=\"text-align: right;\">18.9437</td><td style=\"text-align: right;\"> 2.25944</td><td style=\"text-align: right;\"> 2.13228 </td></tr>\n",
       "</tbody>\n",
       "</table>"
      ]
     },
     "metadata": {},
     "output_type": "display_data"
    },
    {
     "data": {
      "text/plain": []
     },
     "execution_count": 105,
     "metadata": {},
     "output_type": "execute_result"
    }
   ],
   "source": [
    "# Use this as input in the model that scores high\n",
    "# with the training datas pca_model\n",
    "validate_pca = validate_pca.drop([\"PC4\", \"PC5\"])\n",
    "validate_pca.head()"
   ]
  },
  {
   "cell_type": "code",
   "execution_count": 106,
   "id": "a033a7b7",
   "metadata": {},
   "outputs": [
    {
     "data": {
      "text/html": [
       "<table>\n",
       "<thead>\n",
       "<tr><th style=\"text-align: right;\">    PC1</th><th style=\"text-align: right;\">     PC2</th><th style=\"text-align: right;\">      PC3</th></tr>\n",
       "</thead>\n",
       "<tbody>\n",
       "<tr><td style=\"text-align: right;\">18.7451</td><td style=\"text-align: right;\">-7.33955</td><td style=\"text-align: right;\">-1.96603 </td></tr>\n",
       "<tr><td style=\"text-align: right;\">15.4043</td><td style=\"text-align: right;\">-3.49746</td><td style=\"text-align: right;\">-0.4865  </td></tr>\n",
       "<tr><td style=\"text-align: right;\">12.8738</td><td style=\"text-align: right;\"> 4.47813</td><td style=\"text-align: right;\"> 0.941619</td></tr>\n",
       "<tr><td style=\"text-align: right;\">17.1447</td><td style=\"text-align: right;\">-3.13131</td><td style=\"text-align: right;\">-1.6956  </td></tr>\n",
       "<tr><td style=\"text-align: right;\">21.2289</td><td style=\"text-align: right;\"> 5.09225</td><td style=\"text-align: right;\">-2.77524 </td></tr>\n",
       "<tr><td style=\"text-align: right;\">22.5039</td><td style=\"text-align: right;\"> 4.94466</td><td style=\"text-align: right;\"> 2.07239 </td></tr>\n",
       "<tr><td style=\"text-align: right;\">10.3042</td><td style=\"text-align: right;\">-2.38735</td><td style=\"text-align: right;\"> 3.11124 </td></tr>\n",
       "<tr><td style=\"text-align: right;\">32.165 </td><td style=\"text-align: right;\"> 6.85093</td><td style=\"text-align: right;\"> 0.810653</td></tr>\n",
       "<tr><td style=\"text-align: right;\">23.4269</td><td style=\"text-align: right;\"> 6.70417</td><td style=\"text-align: right;\"> 2.29465 </td></tr>\n",
       "<tr><td style=\"text-align: right;\">18.9437</td><td style=\"text-align: right;\"> 2.25944</td><td style=\"text-align: right;\"> 2.13228 </td></tr>\n",
       "</tbody>\n",
       "</table>"
      ]
     },
     "metadata": {},
     "output_type": "display_data"
    },
    {
     "data": {
      "text/plain": []
     },
     "execution_count": 106,
     "metadata": {},
     "output_type": "execute_result"
    }
   ],
   "source": [
    "validate_pca.head()"
   ]
  },
  {
   "cell_type": "code",
   "execution_count": 107,
   "id": "48975c06",
   "metadata": {},
   "outputs": [
    {
     "name": "stdout",
     "output_type": "stream",
     "text": [
      "stackedensemble prediction progress: |███████████████████████████████████████████| (done) 100%\n"
     ]
    }
   ],
   "source": [
    "prediction_final = aml2.predict(validate_pca)"
   ]
  },
  {
   "cell_type": "code",
   "execution_count": 108,
   "id": "c5dfc9f7",
   "metadata": {},
   "outputs": [
    {
     "data": {
      "text/plain": [
       "0     7139520.0\n",
       "1    10500000.0\n",
       "2     9019650.0\n",
       "3    10500000.0\n",
       "4    13900000.0\n",
       "Name: price, dtype: float64"
      ]
     },
     "execution_count": 108,
     "metadata": {},
     "output_type": "execute_result"
    }
   ],
   "source": [
    "# Revert from z-scores to actual price\n",
    "mean_test = XTrain[\"price\"].mean()\n",
    "sd_test = XTrain[\"price\"].std()\n",
    "# Just be sure actual prices are here\n",
    "XTrain[\"price\"].head()"
   ]
  },
  {
   "cell_type": "code",
   "execution_count": 109,
   "id": "c6af1215",
   "metadata": {},
   "outputs": [
    {
     "data": {
      "text/html": [
       "<div>\n",
       "<style scoped>\n",
       "    .dataframe tbody tr th:only-of-type {\n",
       "        vertical-align: middle;\n",
       "    }\n",
       "\n",
       "    .dataframe tbody tr th {\n",
       "        vertical-align: top;\n",
       "    }\n",
       "\n",
       "    .dataframe thead th {\n",
       "        text-align: right;\n",
       "    }\n",
       "</style>\n",
       "<table border=\"1\" class=\"dataframe\">\n",
       "  <thead>\n",
       "    <tr style=\"text-align: right;\">\n",
       "      <th></th>\n",
       "      <th>predict</th>\n",
       "    </tr>\n",
       "  </thead>\n",
       "  <tbody>\n",
       "    <tr>\n",
       "      <th>0</th>\n",
       "      <td>1.667568e+07</td>\n",
       "    </tr>\n",
       "    <tr>\n",
       "      <th>1</th>\n",
       "      <td>1.082308e+07</td>\n",
       "    </tr>\n",
       "    <tr>\n",
       "      <th>2</th>\n",
       "      <td>2.092909e+07</td>\n",
       "    </tr>\n",
       "    <tr>\n",
       "      <th>3</th>\n",
       "      <td>1.306442e+07</td>\n",
       "    </tr>\n",
       "    <tr>\n",
       "      <th>4</th>\n",
       "      <td>1.013425e+07</td>\n",
       "    </tr>\n",
       "  </tbody>\n",
       "</table>\n",
       "</div>"
      ],
      "text/plain": [
       "        predict\n",
       "0  1.667568e+07\n",
       "1  1.082308e+07\n",
       "2  2.092909e+07\n",
       "3  1.306442e+07\n",
       "4  1.013425e+07"
      ]
     },
     "execution_count": 109,
     "metadata": {},
     "output_type": "execute_result"
    }
   ],
   "source": [
    "df = mean_test + sd_test * prediction_final.as_data_frame()\n",
    "df.head()"
   ]
  },
  {
   "cell_type": "code",
   "execution_count": 110,
   "id": "511449a4",
   "metadata": {},
   "outputs": [],
   "source": [
    "# Write to file\n",
    "\n",
    "df[\"id\"] = XTest[\"id\"]\n",
    "df[\"price_prediction\"] = df.iloc[:,0]\n",
    "# Skip first column\n",
    "df = df.iloc[:,1:]\n",
    "\n",
    "pd.DataFrame(df).to_csv(\"pca_prediction.csv\", index=False)"
   ]
  },
  {
   "cell_type": "code",
   "execution_count": 111,
   "id": "b37561d2",
   "metadata": {},
   "outputs": [
    {
     "data": {
      "text/html": [
       "<div>\n",
       "<style scoped>\n",
       "    .dataframe tbody tr th:only-of-type {\n",
       "        vertical-align: middle;\n",
       "    }\n",
       "\n",
       "    .dataframe tbody tr th {\n",
       "        vertical-align: top;\n",
       "    }\n",
       "\n",
       "    .dataframe thead th {\n",
       "        text-align: right;\n",
       "    }\n",
       "</style>\n",
       "<table border=\"1\" class=\"dataframe\">\n",
       "  <thead>\n",
       "    <tr style=\"text-align: right;\">\n",
       "      <th></th>\n",
       "      <th>id</th>\n",
       "      <th>price_prediction</th>\n",
       "    </tr>\n",
       "  </thead>\n",
       "  <tbody>\n",
       "    <tr>\n",
       "      <th>0</th>\n",
       "      <td>23285</td>\n",
       "      <td>1.667568e+07</td>\n",
       "    </tr>\n",
       "    <tr>\n",
       "      <th>1</th>\n",
       "      <td>23286</td>\n",
       "      <td>1.082308e+07</td>\n",
       "    </tr>\n",
       "    <tr>\n",
       "      <th>2</th>\n",
       "      <td>23287</td>\n",
       "      <td>2.092909e+07</td>\n",
       "    </tr>\n",
       "    <tr>\n",
       "      <th>3</th>\n",
       "      <td>23288</td>\n",
       "      <td>1.306442e+07</td>\n",
       "    </tr>\n",
       "    <tr>\n",
       "      <th>4</th>\n",
       "      <td>23289</td>\n",
       "      <td>1.013425e+07</td>\n",
       "    </tr>\n",
       "  </tbody>\n",
       "</table>\n",
       "</div>"
      ],
      "text/plain": [
       "      id  price_prediction\n",
       "0  23285      1.667568e+07\n",
       "1  23286      1.082308e+07\n",
       "2  23287      2.092909e+07\n",
       "3  23288      1.306442e+07\n",
       "4  23289      1.013425e+07"
      ]
     },
     "execution_count": 111,
     "metadata": {},
     "output_type": "execute_result"
    }
   ],
   "source": [
    "df.head()\n",
    "\n",
    "\"\"\"\n",
    "Kaggle score: 0.87591 (Step 6, category_1)\n",
    "\n",
    "0 \t23285 \t1.667568e+07\n",
    "1 \t23286 \t1.082308e+07\n",
    "2 \t23287 \t2.092909e+07\n",
    "3 \t23288 \t1.306442e+07\n",
    "4 \t23289 \t1.013425e+07\n",
    "\"\"\""
   ]
  },
  {
   "cell_type": "markdown",
   "id": "af70d2a6",
   "metadata": {},
   "source": [
    "# Analysis of dataset category_2"
   ]
  },
  {
   "cell_type": "code",
   "execution_count": null,
   "id": "03a8cabf",
   "metadata": {},
   "outputs": [],
   "source": [
    "# Importing prepared_category_2 datasets\n",
    "# New one-hot-encoding of balconies, loggias, \n",
    "\n",
    "bathrooms_shared, bathrooms_private\n",
    "XTrain2 = pd.read_csv(\"../data/train_prepared_category_2.csv\")\n",
    "XTest2 = pd.read_csv(\"../data/test_prepared_category_2.csv\")\n",
    "\n",
    "# Make copies to avoid new imports\n",
    "X_train = XTrain2.copy()\n",
    "X_test = XTest2.copy()\n",
    "y_train_real = XTrain2[\"price\"].copy()          # Prices actual values\n",
    "y_train_zscore = XTrain2[\"price\"].copy() \n",
    "y_train_zscore = norm_features(y_train_zscore) # Prices as z-scores (normalized)"
   ]
  },
  {
   "cell_type": "code",
   "execution_count": null,
   "id": "eee1a969",
   "metadata": {},
   "outputs": [],
   "source": []
  }
 ],
 "metadata": {
  "kernelspec": {
   "display_name": "Python 3 (ipykernel)",
   "language": "python",
   "name": "python3"
  },
  "language_info": {
   "codemirror_mode": {
    "name": "ipython",
    "version": 3
   },
   "file_extension": ".py",
   "mimetype": "text/x-python",
   "name": "python",
   "nbconvert_exporter": "python",
   "pygments_lexer": "ipython3",
   "version": "3.8.11"
  }
 },
 "nbformat": 4,
 "nbformat_minor": 5
}
