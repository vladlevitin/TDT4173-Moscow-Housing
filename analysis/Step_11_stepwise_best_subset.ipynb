{
 "cells": [
  {
   "cell_type": "code",
   "execution_count": 1,
   "id": "9dd9c214",
   "metadata": {},
   "outputs": [],
   "source": [
    "import numpy as np\n",
    "import pandas as pd\n",
    "import matplotlib.pyplot as plt\n",
    "from sklearn.model_selection import train_test_split, KFold\n",
    "from sklearn.metrics import mean_squared_log_error\n",
    "\n",
    "import lightgbm as lgb\n",
    "from sklearn import preprocessing\n",
    "from sklearn.experimental import enable_iterative_imputer\n",
    "from sklearn.impute import IterativeImputer\n",
    "from sklearn.impute import KNNImputer\n",
    "from sklearn.linear_model import LinearRegression\n",
    "import xgboost\n",
    "from sklearn.model_selection import RandomizedSearchCV\n",
    "from sklearn.linear_model import BayesianRidge\n",
    "from catboost import CatBoostRegressor\n",
    "from sklearn.metrics import mean_squared_log_error, mean_squared_error\n",
    "from sklearn.ensemble import RandomForestRegressor\n",
    "from sklearn.ensemble import AdaBoostRegressor\n",
    "import optuna\n",
    "\n",
    "from functions.clean import revert, write_predictions\n",
    "from functions.distance import get_distance_coordinates, norm_features, PCA_plot"
   ]
  },
  {
   "cell_type": "markdown",
   "id": "1df408da",
   "metadata": {},
   "source": [
    "# Feature Selection"
   ]
  },
  {
   "cell_type": "raw",
   "id": "1654a2a3",
   "metadata": {},
   "source": [
    "https://statisticsbyjim.com/regression/guide-stepwise-best-subsets-regression/\n",
    "\n",
    "Stepwise Regression and Best Subset are strategies for choosing the variables to use in the final regression."
   ]
  },
  {
   "cell_type": "code",
   "execution_count": 27,
   "id": "f44c2056",
   "metadata": {},
   "outputs": [],
   "source": [
    "from sklearn.feature_selection import VarianceThreshold, SelectKBest, SelectFromModel\n",
    "from sklearn.feature_selection import chi2\n",
    "from sklearn.ensemble import ExtraTreesClassifier"
   ]
  },
  {
   "cell_type": "code",
   "execution_count": 28,
   "id": "1fbfda54",
   "metadata": {},
   "outputs": [],
   "source": [
    "df_train_4 = pd.read_csv(\"../data/train_prepared_category_4.csv\")\n",
    "df_test_4 = pd.read_csv(\"../data/test_prepared_category_4.csv\")"
   ]
  },
  {
   "cell_type": "code",
   "execution_count": 29,
   "id": "6e496ae6",
   "metadata": {},
   "outputs": [],
   "source": [
    "# Keep originals\n",
    "D4_train = df_train_4.copy()\n",
    "D4_test = df_test_4.copy()\n",
    "y_train = df_train_4[\"price\"]\n",
    "y_train = np.log10(y_train)"
   ]
  },
  {
   "cell_type": "code",
   "execution_count": 30,
   "id": "731b9d7d",
   "metadata": {},
   "outputs": [],
   "source": [
    "drop_features = [\"Unnamed: 0\",\n",
    "                 \"id\", \n",
    "                 \"street\", \n",
    "                 \"address\"]"
   ]
  },
  {
   "cell_type": "code",
   "execution_count": 31,
   "id": "37ec9957",
   "metadata": {},
   "outputs": [],
   "source": [
    "D4_train = D4_train.drop(drop_features, axis=1)"
   ]
  },
  {
   "cell_type": "code",
   "execution_count": null,
   "id": "0287a6d4",
   "metadata": {},
   "outputs": [],
   "source": []
  },
  {
   "cell_type": "code",
   "execution_count": 32,
   "id": "fc5d5af9",
   "metadata": {},
   "outputs": [],
   "source": [
    "#df_train_4.info()"
   ]
  },
  {
   "cell_type": "code",
   "execution_count": 33,
   "id": "91e763a9",
   "metadata": {},
   "outputs": [],
   "source": [
    "X = D4_train.copy()\n",
    "y = y_train.copy()"
   ]
  },
  {
   "cell_type": "code",
   "execution_count": 34,
   "id": "4e1e81d5",
   "metadata": {},
   "outputs": [],
   "source": [
    "#X_train, X_test, y_train, y_test = train_test_split(X, y, train_size=0.8, random_state=42)"
   ]
  },
  {
   "cell_type": "code",
   "execution_count": null,
   "id": "c03cdff4",
   "metadata": {},
   "outputs": [],
   "source": [
    "model = SelectFromModel(clf, prefit=True)\n",
    "X_new = model.transform(X)"
   ]
  },
  {
   "cell_type": "code",
   "execution_count": null,
   "id": "d7b3e444",
   "metadata": {},
   "outputs": [],
   "source": [
    "X_new.head()"
   ]
  },
  {
   "cell_type": "code",
   "execution_count": null,
   "id": "07be5322",
   "metadata": {},
   "outputs": [],
   "source": []
  }
 ],
 "metadata": {
  "kernelspec": {
   "display_name": "Python 3 (ipykernel)",
   "language": "python",
   "name": "python3"
  },
  "language_info": {
   "codemirror_mode": {
    "name": "ipython",
    "version": 3
   },
   "file_extension": ".py",
   "mimetype": "text/x-python",
   "name": "python",
   "nbconvert_exporter": "python",
   "pygments_lexer": "ipython3",
   "version": "3.8.11"
  }
 },
 "nbformat": 4,
 "nbformat_minor": 5
}
