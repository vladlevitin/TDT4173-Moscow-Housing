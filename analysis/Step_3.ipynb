{
 "cells": [
  {
   "cell_type": "code",
   "execution_count": 1,
   "id": "524a8a14",
   "metadata": {},
   "outputs": [],
   "source": [
    "import pandas as pd\n",
    "import numpy as np\n",
    "\n",
    "from sklearn.model_selection import train_test_split, KFold\n",
    "from sklearn.tree import DecisionTreeRegressor\n",
    "from sklearn.metrics import mean_squared_error\n",
    "from sklearn.ensemble import RandomForestRegressor\n",
    "from sklearn.ensemble import AdaBoostRegressor\n",
    "from sklearn.ensemble import GradientBoostingRegressor\n",
    "import lightgbm as lgb\n",
    "from catboost import CatBoostRegressor\n",
    "\n",
    "from functions.datacleaning import MoscowHousing as mh\n",
    "from functions.distance import get_distance_coordinates, norm_features\n",
    "\n",
    "from selenium import webdriver\n",
    "from selenium.webdriver.chrome.service import Service\n",
    "\n",
    "from bs4 import BeautifulSoup\n",
    "import re\n",
    "\n",
    "import matplotlib.pylab as plt\n",
    "import seaborn as sns\n",
    "plt.style.use('ggplot')"
   ]
  },
  {
   "cell_type": "code",
   "execution_count": 2,
   "id": "32b103a7",
   "metadata": {},
   "outputs": [],
   "source": [
    "# Start web session for collecting coordinates to metro stations\n",
    "service = Service('/usr/local/bin/chromedriver')\n",
    "service.start()\n",
    "driver = webdriver.Remote(service.service_url)\n",
    "driver.get('https://en.wikipedia.org/wiki/List_of_Moscow_Metro_stations')\n",
    "\n",
    "# Get content from web page\n",
    "content = driver.page_source\n",
    "\n",
    "# Find all spans with coordinates\n",
    "soup = BeautifulSoup(content, features=\"html.parser\")\n",
    "spans = soup.find_all('span', class_=\"geo-dec\")\n",
    "driver.quit()\n",
    "\n",
    "# Collect coordinates for all metro stations in Moscow\n",
    "coordinates = []\n",
    "numbers = re.compile(r'\\d+(?:\\.\\d+)?')\n",
    "# iterate all spans with coordinates\n",
    "for span in spans:\n",
    "    coord = span.get_text()\n",
    "    coord = numbers.findall(coord)\n",
    "    coord = [float(x) for x in coord]\n",
    "    coordinates.append(tuple(coord))\n",
    "\n",
    "# Close browser connection\n",
    "driver.quit()"
   ]
  },
  {
   "cell_type": "code",
   "execution_count": 3,
   "id": "09a04b81",
   "metadata": {},
   "outputs": [],
   "source": [
    "#print(coordinates)"
   ]
  },
  {
   "cell_type": "code",
   "execution_count": 4,
   "id": "3de54c63",
   "metadata": {},
   "outputs": [],
   "source": [
    "# Get data\n",
    "data = mh(coordinates)\n",
    "features = [\"area_total\", \"distance\", \"distance_metro\", \"floor\", \"district\"]\n",
    "XTrain, YTrain = data.get_data_train(features)\n",
    "XTest = data.get_data_test()\n",
    "\n",
    "X_Train = XTrain.copy() # Keep originals\n",
    "X_Test = XTest.copy()   #\n",
    "Y_Train = YTrain.copy() #"
   ]
  },
  {
   "cell_type": "code",
   "execution_count": 5,
   "id": "3b9d4ea1",
   "metadata": {},
   "outputs": [],
   "source": [
    "# Prepare test data for modeling\n",
    "#test_features = data.features_final\n",
    "test_features = features\n",
    "X_Test = X_Test[test_features]"
   ]
  },
  {
   "cell_type": "code",
   "execution_count": 6,
   "id": "afae3fb2",
   "metadata": {},
   "outputs": [
    {
     "data": {
      "text/plain": [
       "(23285, 5)"
      ]
     },
     "execution_count": 6,
     "metadata": {},
     "output_type": "execute_result"
    }
   ],
   "source": [
    "XTrain.shape  # Should be 9937 examples"
   ]
  },
  {
   "cell_type": "code",
   "execution_count": 7,
   "id": "9eab1ec7",
   "metadata": {},
   "outputs": [
    {
     "data": {
      "text/html": [
       "<div>\n",
       "<style scoped>\n",
       "    .dataframe tbody tr th:only-of-type {\n",
       "        vertical-align: middle;\n",
       "    }\n",
       "\n",
       "    .dataframe tbody tr th {\n",
       "        vertical-align: top;\n",
       "    }\n",
       "\n",
       "    .dataframe thead th {\n",
       "        text-align: right;\n",
       "    }\n",
       "</style>\n",
       "<table border=\"1\" class=\"dataframe\">\n",
       "  <thead>\n",
       "    <tr style=\"text-align: right;\">\n",
       "      <th></th>\n",
       "      <th>building_id</th>\n",
       "      <th>id</th>\n",
       "      <th>seller</th>\n",
       "      <th>area_total</th>\n",
       "      <th>area_kitchen</th>\n",
       "      <th>area_living</th>\n",
       "      <th>floor</th>\n",
       "      <th>rooms</th>\n",
       "      <th>layout</th>\n",
       "      <th>ceiling</th>\n",
       "      <th>...</th>\n",
       "      <th>material</th>\n",
       "      <th>stories</th>\n",
       "      <th>elevator_without</th>\n",
       "      <th>elevator_passenger</th>\n",
       "      <th>elevator_service</th>\n",
       "      <th>parking</th>\n",
       "      <th>garbage_chute</th>\n",
       "      <th>heating</th>\n",
       "      <th>distance</th>\n",
       "      <th>distance_metro</th>\n",
       "    </tr>\n",
       "  </thead>\n",
       "  <tbody>\n",
       "    <tr>\n",
       "      <th>0</th>\n",
       "      <td>4</td>\n",
       "      <td>26052</td>\n",
       "      <td>NaN</td>\n",
       "      <td>5.675295</td>\n",
       "      <td>NaN</td>\n",
       "      <td>NaN</td>\n",
       "      <td>3</td>\n",
       "      <td>6</td>\n",
       "      <td>NaN</td>\n",
       "      <td>NaN</td>\n",
       "      <td>...</td>\n",
       "      <td>NaN</td>\n",
       "      <td>4</td>\n",
       "      <td>NaN</td>\n",
       "      <td>NaN</td>\n",
       "      <td>NaN</td>\n",
       "      <td>NaN</td>\n",
       "      <td>NaN</td>\n",
       "      <td>NaN</td>\n",
       "      <td>0.293752</td>\n",
       "      <td>4981.58</td>\n",
       "    </tr>\n",
       "    <tr>\n",
       "      <th>1</th>\n",
       "      <td>5</td>\n",
       "      <td>29404</td>\n",
       "      <td>1.0</td>\n",
       "      <td>-0.896821</td>\n",
       "      <td>-1.581108</td>\n",
       "      <td>-0.588336</td>\n",
       "      <td>1</td>\n",
       "      <td>1</td>\n",
       "      <td>NaN</td>\n",
       "      <td>-0.077026</td>\n",
       "      <td>...</td>\n",
       "      <td>3.0</td>\n",
       "      <td>12</td>\n",
       "      <td>0.0</td>\n",
       "      <td>1.0</td>\n",
       "      <td>0.0</td>\n",
       "      <td>NaN</td>\n",
       "      <td>1.0</td>\n",
       "      <td>NaN</td>\n",
       "      <td>0.116589</td>\n",
       "      <td>499.31</td>\n",
       "    </tr>\n",
       "    <tr>\n",
       "      <th>2</th>\n",
       "      <td>6</td>\n",
       "      <td>24089</td>\n",
       "      <td>2.0</td>\n",
       "      <td>0.494253</td>\n",
       "      <td>-0.417982</td>\n",
       "      <td>0.678815</td>\n",
       "      <td>3</td>\n",
       "      <td>4</td>\n",
       "      <td>1.0</td>\n",
       "      <td>-0.068230</td>\n",
       "      <td>...</td>\n",
       "      <td>3.0</td>\n",
       "      <td>22</td>\n",
       "      <td>0.0</td>\n",
       "      <td>1.0</td>\n",
       "      <td>1.0</td>\n",
       "      <td>1.0</td>\n",
       "      <td>1.0</td>\n",
       "      <td>0.0</td>\n",
       "      <td>-0.040901</td>\n",
       "      <td>1123.52</td>\n",
       "    </tr>\n",
       "    <tr>\n",
       "      <th>3</th>\n",
       "      <td>11</td>\n",
       "      <td>24033</td>\n",
       "      <td>0.0</td>\n",
       "      <td>0.087932</td>\n",
       "      <td>0.163582</td>\n",
       "      <td>0.165921</td>\n",
       "      <td>11</td>\n",
       "      <td>3</td>\n",
       "      <td>NaN</td>\n",
       "      <td>NaN</td>\n",
       "      <td>...</td>\n",
       "      <td>3.0</td>\n",
       "      <td>17</td>\n",
       "      <td>0.0</td>\n",
       "      <td>1.0</td>\n",
       "      <td>1.0</td>\n",
       "      <td>NaN</td>\n",
       "      <td>1.0</td>\n",
       "      <td>0.0</td>\n",
       "      <td>0.074818</td>\n",
       "      <td>955.56</td>\n",
       "    </tr>\n",
       "    <tr>\n",
       "      <th>4</th>\n",
       "      <td>11</td>\n",
       "      <td>32976</td>\n",
       "      <td>1.0</td>\n",
       "      <td>0.096804</td>\n",
       "      <td>-0.316208</td>\n",
       "      <td>0.368062</td>\n",
       "      <td>5</td>\n",
       "      <td>3</td>\n",
       "      <td>1.0</td>\n",
       "      <td>NaN</td>\n",
       "      <td>...</td>\n",
       "      <td>3.0</td>\n",
       "      <td>17</td>\n",
       "      <td>0.0</td>\n",
       "      <td>1.0</td>\n",
       "      <td>1.0</td>\n",
       "      <td>NaN</td>\n",
       "      <td>1.0</td>\n",
       "      <td>0.0</td>\n",
       "      <td>0.074818</td>\n",
       "      <td>955.56</td>\n",
       "    </tr>\n",
       "  </tbody>\n",
       "</table>\n",
       "<p>5 rows × 35 columns</p>\n",
       "</div>"
      ],
      "text/plain": [
       "   building_id     id  seller  area_total  area_kitchen  area_living  floor  \\\n",
       "0            4  26052     NaN    5.675295           NaN          NaN      3   \n",
       "1            5  29404     1.0   -0.896821     -1.581108    -0.588336      1   \n",
       "2            6  24089     2.0    0.494253     -0.417982     0.678815      3   \n",
       "3           11  24033     0.0    0.087932      0.163582     0.165921     11   \n",
       "4           11  32976     1.0    0.096804     -0.316208     0.368062      5   \n",
       "\n",
       "   rooms  layout   ceiling  ...  material  stories  elevator_without  \\\n",
       "0      6     NaN       NaN  ...       NaN        4               NaN   \n",
       "1      1     NaN -0.077026  ...       3.0       12               0.0   \n",
       "2      4     1.0 -0.068230  ...       3.0       22               0.0   \n",
       "3      3     NaN       NaN  ...       3.0       17               0.0   \n",
       "4      3     1.0       NaN  ...       3.0       17               0.0   \n",
       "\n",
       "   elevator_passenger  elevator_service  parking  garbage_chute  heating  \\\n",
       "0                 NaN               NaN      NaN            NaN      NaN   \n",
       "1                 1.0               0.0      NaN            1.0      NaN   \n",
       "2                 1.0               1.0      1.0            1.0      0.0   \n",
       "3                 1.0               1.0      NaN            1.0      0.0   \n",
       "4                 1.0               1.0      NaN            1.0      0.0   \n",
       "\n",
       "   distance  distance_metro  \n",
       "0  0.293752         4981.58  \n",
       "1  0.116589          499.31  \n",
       "2 -0.040901         1123.52  \n",
       "3  0.074818          955.56  \n",
       "4  0.074818          955.56  \n",
       "\n",
       "[5 rows x 35 columns]"
      ]
     },
     "execution_count": 7,
     "metadata": {},
     "output_type": "execute_result"
    }
   ],
   "source": [
    "XTest.head()  # All features"
   ]
  },
  {
   "cell_type": "code",
   "execution_count": 8,
   "id": "27377abd",
   "metadata": {},
   "outputs": [
    {
     "data": {
      "text/html": [
       "<div>\n",
       "<style scoped>\n",
       "    .dataframe tbody tr th:only-of-type {\n",
       "        vertical-align: middle;\n",
       "    }\n",
       "\n",
       "    .dataframe tbody tr th {\n",
       "        vertical-align: top;\n",
       "    }\n",
       "\n",
       "    .dataframe thead th {\n",
       "        text-align: right;\n",
       "    }\n",
       "</style>\n",
       "<table border=\"1\" class=\"dataframe\">\n",
       "  <thead>\n",
       "    <tr style=\"text-align: right;\">\n",
       "      <th></th>\n",
       "      <th>area_total</th>\n",
       "      <th>distance</th>\n",
       "      <th>distance_metro</th>\n",
       "      <th>floor</th>\n",
       "      <th>district</th>\n",
       "    </tr>\n",
       "  </thead>\n",
       "  <tbody>\n",
       "    <tr>\n",
       "      <th>0</th>\n",
       "      <td>5.675295</td>\n",
       "      <td>0.293752</td>\n",
       "      <td>4981.58</td>\n",
       "      <td>3</td>\n",
       "      <td>8</td>\n",
       "    </tr>\n",
       "    <tr>\n",
       "      <th>1</th>\n",
       "      <td>-0.896821</td>\n",
       "      <td>0.116589</td>\n",
       "      <td>499.31</td>\n",
       "      <td>1</td>\n",
       "      <td>1</td>\n",
       "    </tr>\n",
       "    <tr>\n",
       "      <th>2</th>\n",
       "      <td>0.494253</td>\n",
       "      <td>-0.040901</td>\n",
       "      <td>1123.52</td>\n",
       "      <td>3</td>\n",
       "      <td>2</td>\n",
       "    </tr>\n",
       "    <tr>\n",
       "      <th>3</th>\n",
       "      <td>0.087932</td>\n",
       "      <td>0.074818</td>\n",
       "      <td>955.56</td>\n",
       "      <td>11</td>\n",
       "      <td>2</td>\n",
       "    </tr>\n",
       "    <tr>\n",
       "      <th>4</th>\n",
       "      <td>0.096804</td>\n",
       "      <td>0.074818</td>\n",
       "      <td>955.56</td>\n",
       "      <td>5</td>\n",
       "      <td>2</td>\n",
       "    </tr>\n",
       "  </tbody>\n",
       "</table>\n",
       "</div>"
      ],
      "text/plain": [
       "   area_total  distance  distance_metro  floor  district\n",
       "0    5.675295  0.293752         4981.58      3         8\n",
       "1   -0.896821  0.116589          499.31      1         1\n",
       "2    0.494253 -0.040901         1123.52      3         2\n",
       "3    0.087932  0.074818          955.56     11         2\n",
       "4    0.096804  0.074818          955.56      5         2"
      ]
     },
     "execution_count": 8,
     "metadata": {},
     "output_type": "execute_result"
    }
   ],
   "source": [
    "X_Test.head()  # Only with features"
   ]
  },
  {
   "cell_type": "code",
   "execution_count": 9,
   "id": "02dfb12f",
   "metadata": {},
   "outputs": [],
   "source": [
    "X = X_Train.copy() # Keep prepared \"originals\" (the real orig = XTrain)\n",
    "y = Y_Train.copy() #\n",
    "\n",
    "X_train, X_test, y_train, y_test = train_test_split(X, y, test_size=0.2, random_state=42)"
   ]
  },
  {
   "cell_type": "markdown",
   "id": "ce0a76d6",
   "metadata": {},
   "source": [
    "# CatBoostRegressor"
   ]
  },
  {
   "cell_type": "code",
   "execution_count": 10,
   "id": "2baefeef",
   "metadata": {},
   "outputs": [
    {
     "data": {
      "text/plain": [
       "'\\n1. Default from Ensembele ---------------------> mse 0.36905\\n2. change n_estimators = 1000 (default 500) ---> mse 0.36763 # Choose this 1000\\n3. change n_estimators = 5000 -----------------> mse 0.37690\\n4. n_estim = 1000 lr = 0.08 (default 0.1) -----> mse 0.36366\\n\\n5. removing district and rooms ----------------> mse 0.35049\\n6. removing rooms -----------------------------> mse 0.33331 # Choose this\\n\\n7.  lr = 0.04 ---------------------------------> mse 0.32079\\n8.  lr = 0.02 ---------------------------------> mse 0.32118\\n9.  lr = 0.009 --------------------------------> mse 0.31140\\n10. lr = 0.008 --------------------------------> mse 0.31097 # Choose this 0.008\\n\\n11. depth = 10 (default 7) --------------------> mse 0.32140\\n12. depth = 9 ---------------------------------> mse 0.31622 # Choose default 7\\n\\n13. added \"distance_metro\" (not normalized, m) > mse 0.29202 # Choose this\\n\\n'"
      ]
     },
     "execution_count": 10,
     "metadata": {},
     "output_type": "execute_result"
    }
   ],
   "source": [
    "modelCBR = CatBoostRegressor(\n",
    "    n_estimators=1000,\n",
    "    learning_rate=0.008,\n",
    "    thread_count=-1,\n",
    "    depth=7,\n",
    "    silent=True,\n",
    "    random_seed=42,\n",
    "    bagging_temperature=0.2\n",
    "#     od_type=\"Iter\"\n",
    ")\n",
    "\n",
    "\"\"\"\n",
    "1. Default from Ensembele ---------------------> mse 0.36905\n",
    "2. change n_estimators = 1000 (default 500) ---> mse 0.36763 # Choose this 1000\n",
    "3. change n_estimators = 5000 -----------------> mse 0.37690\n",
    "4. n_estim = 1000 lr = 0.08 (default 0.1) -----> mse 0.36366\n",
    "\n",
    "5. removing district and rooms ----------------> mse 0.35049\n",
    "6. removing rooms -----------------------------> mse 0.33331 # Choose this\n",
    "\n",
    "7.  lr = 0.04 ---------------------------------> mse 0.32079\n",
    "8.  lr = 0.02 ---------------------------------> mse 0.32118\n",
    "9.  lr = 0.009 --------------------------------> mse 0.31140\n",
    "10. lr = 0.008 --------------------------------> mse 0.31097 # Choose this 0.008\n",
    "\n",
    "11. depth = 10 (default 7) --------------------> mse 0.32140\n",
    "12. depth = 9 ---------------------------------> mse 0.31622 # Choose default 7\n",
    "\n",
    "13. added \"distance_metro\" (not normalized, m) > mse 0.29202 # Choose this\n",
    "\n",
    "\"\"\""
   ]
  },
  {
   "cell_type": "code",
   "execution_count": 11,
   "id": "008da6e4",
   "metadata": {},
   "outputs": [
    {
     "data": {
      "text/plain": [
       "<catboost.core.CatBoostRegressor at 0x7f7fc7c2bfa0>"
      ]
     },
     "execution_count": 11,
     "metadata": {},
     "output_type": "execute_result"
    }
   ],
   "source": [
    "modelCBR.fit(X_train, y_train)"
   ]
  },
  {
   "cell_type": "code",
   "execution_count": 12,
   "id": "1d7b7b57",
   "metadata": {},
   "outputs": [],
   "source": [
    "cat_prediction = modelCBR.predict(X_test)"
   ]
  },
  {
   "cell_type": "code",
   "execution_count": 13,
   "id": "900f8d70",
   "metadata": {},
   "outputs": [
    {
     "name": "stdout",
     "output_type": "stream",
     "text": [
      "Test MSE: 0.29202\n"
     ]
    }
   ],
   "source": [
    "cat_mse = round(mean_squared_error(cat_prediction, y_test), 5)\n",
    "print('Test MSE:', cat_mse)"
   ]
  },
  {
   "cell_type": "code",
   "execution_count": 24,
   "id": "44ce5e0d",
   "metadata": {},
   "outputs": [],
   "source": [
    "cat_prediction_REAL = modelCBR.predict(XTest[features])"
   ]
  },
  {
   "cell_type": "code",
   "execution_count": 25,
   "id": "8e296f8b",
   "metadata": {},
   "outputs": [],
   "source": [
    "# Kaggle score on this prediction is: 0.29393 (best single performance until now)\n",
    "data.write_results(\"cat_prediction.csv\", cat_prediction_REAL)"
   ]
  },
  {
   "cell_type": "code",
   "execution_count": 26,
   "id": "2b2bd5ac",
   "metadata": {},
   "outputs": [
    {
     "data": {
      "text/plain": [
       "Text(0, 0.5, 'Ground Truth')"
      ]
     },
     "execution_count": 26,
     "metadata": {},
     "output_type": "execute_result"
    },
    {
     "data": {
      "image/png": "[encoded data removed]",
      "text/plain": [
       "<Figure size 432x288 with 1 Axes>"
      ]
     },
     "metadata": {},
     "output_type": "display_data"
    }
   ],
   "source": [
    "plt.scatter(cat_prediction, y_test)\n",
    "plt.xlabel('CatBoost prediction')\n",
    "plt.ylabel('Ground Truth')"
   ]
  },
  {
   "cell_type": "code",
   "execution_count": 27,
   "id": "a8e88e5a",
   "metadata": {},
   "outputs": [
    {
     "data": {
      "image/png": "[encoded data removed]",
      "text/plain": [
       "<Figure size 432x288 with 1 Axes>"
      ]
     },
     "metadata": {},
     "output_type": "display_data"
    }
   ],
   "source": [
    "importances = modelCBR.feature_importances_\n",
    "forest_importances = pd.Series(importances, index=X.columns)\n",
    "\n",
    "fig, ax = plt.subplots()\n",
    "forest_importances.plot.bar(ax=ax)\n",
    "ax.set_title(\"Gini Importance\")\n",
    "ax.set_ylabel(\"Importance\")\n",
    "fig.tight_layout()"
   ]
  },
  {
   "cell_type": "code",
   "execution_count": 28,
   "id": "92e5f1d9",
   "metadata": {},
   "outputs": [
    {
     "data": {
      "image/png": "[encoded data removed]",
      "text/plain": [
       "<Figure size 432x288 with 1 Axes>"
      ]
     },
     "metadata": {},
     "output_type": "display_data"
    }
   ],
   "source": [
    "ax = sns.boxplot(data=XTrain, orient=\"h\", palette=\"Set2\")"
   ]
  },
  {
   "cell_type": "code",
   "execution_count": 29,
   "id": "601a4bdc",
   "metadata": {},
   "outputs": [
    {
     "data": {
      "text/plain": [
       "Text(0, 0.5, 'Ground Truth')"
      ]
     },
     "execution_count": 29,
     "metadata": {},
     "output_type": "execute_result"
    },
    {
     "data": {
      "image/png": "[encoded data removed]",
      "text/plain": [
       "<Figure size 432x288 with 1 Axes>"
      ]
     },
     "metadata": {},
     "output_type": "display_data"
    }
   ],
   "source": [
    "plt.scatter((X_test[\"distance_metro\"]), y_test)\n",
    "plt.xlabel('Distance Metro')\n",
    "plt.ylabel('Ground Truth')"
   ]
  },
  {
   "cell_type": "code",
   "execution_count": 30,
   "id": "3bc7749a",
   "metadata": {},
   "outputs": [
    {
     "data": {
      "text/html": [
       "<div>\n",
       "<style scoped>\n",
       "    .dataframe tbody tr th:only-of-type {\n",
       "        vertical-align: middle;\n",
       "    }\n",
       "\n",
       "    .dataframe tbody tr th {\n",
       "        vertical-align: top;\n",
       "    }\n",
       "\n",
       "    .dataframe thead th {\n",
       "        text-align: right;\n",
       "    }\n",
       "</style>\n",
       "<table border=\"1\" class=\"dataframe\">\n",
       "  <thead>\n",
       "    <tr style=\"text-align: right;\">\n",
       "      <th></th>\n",
       "      <th>building_id</th>\n",
       "      <th>id</th>\n",
       "      <th>seller</th>\n",
       "      <th>area_total</th>\n",
       "      <th>area_kitchen</th>\n",
       "      <th>area_living</th>\n",
       "      <th>floor</th>\n",
       "      <th>rooms</th>\n",
       "      <th>layout</th>\n",
       "      <th>ceiling</th>\n",
       "      <th>...</th>\n",
       "      <th>material</th>\n",
       "      <th>stories</th>\n",
       "      <th>elevator_without</th>\n",
       "      <th>elevator_passenger</th>\n",
       "      <th>elevator_service</th>\n",
       "      <th>parking</th>\n",
       "      <th>garbage_chute</th>\n",
       "      <th>heating</th>\n",
       "      <th>distance</th>\n",
       "      <th>distance_metro</th>\n",
       "    </tr>\n",
       "  </thead>\n",
       "  <tbody>\n",
       "    <tr>\n",
       "      <th>0</th>\n",
       "      <td>4</td>\n",
       "      <td>26052</td>\n",
       "      <td>NaN</td>\n",
       "      <td>5.675295</td>\n",
       "      <td>NaN</td>\n",
       "      <td>NaN</td>\n",
       "      <td>3</td>\n",
       "      <td>6</td>\n",
       "      <td>NaN</td>\n",
       "      <td>NaN</td>\n",
       "      <td>...</td>\n",
       "      <td>NaN</td>\n",
       "      <td>4</td>\n",
       "      <td>NaN</td>\n",
       "      <td>NaN</td>\n",
       "      <td>NaN</td>\n",
       "      <td>NaN</td>\n",
       "      <td>NaN</td>\n",
       "      <td>NaN</td>\n",
       "      <td>0.293752</td>\n",
       "      <td>4981.58</td>\n",
       "    </tr>\n",
       "    <tr>\n",
       "      <th>1</th>\n",
       "      <td>5</td>\n",
       "      <td>29404</td>\n",
       "      <td>1.0</td>\n",
       "      <td>-0.896821</td>\n",
       "      <td>-1.581108</td>\n",
       "      <td>-0.588336</td>\n",
       "      <td>1</td>\n",
       "      <td>1</td>\n",
       "      <td>NaN</td>\n",
       "      <td>-0.077026</td>\n",
       "      <td>...</td>\n",
       "      <td>3.0</td>\n",
       "      <td>12</td>\n",
       "      <td>0.0</td>\n",
       "      <td>1.0</td>\n",
       "      <td>0.0</td>\n",
       "      <td>NaN</td>\n",
       "      <td>1.0</td>\n",
       "      <td>NaN</td>\n",
       "      <td>0.116589</td>\n",
       "      <td>499.31</td>\n",
       "    </tr>\n",
       "    <tr>\n",
       "      <th>2</th>\n",
       "      <td>6</td>\n",
       "      <td>24089</td>\n",
       "      <td>2.0</td>\n",
       "      <td>0.494253</td>\n",
       "      <td>-0.417982</td>\n",
       "      <td>0.678815</td>\n",
       "      <td>3</td>\n",
       "      <td>4</td>\n",
       "      <td>1.0</td>\n",
       "      <td>-0.068230</td>\n",
       "      <td>...</td>\n",
       "      <td>3.0</td>\n",
       "      <td>22</td>\n",
       "      <td>0.0</td>\n",
       "      <td>1.0</td>\n",
       "      <td>1.0</td>\n",
       "      <td>1.0</td>\n",
       "      <td>1.0</td>\n",
       "      <td>0.0</td>\n",
       "      <td>-0.040901</td>\n",
       "      <td>1123.52</td>\n",
       "    </tr>\n",
       "    <tr>\n",
       "      <th>3</th>\n",
       "      <td>11</td>\n",
       "      <td>24033</td>\n",
       "      <td>0.0</td>\n",
       "      <td>0.087932</td>\n",
       "      <td>0.163582</td>\n",
       "      <td>0.165921</td>\n",
       "      <td>11</td>\n",
       "      <td>3</td>\n",
       "      <td>NaN</td>\n",
       "      <td>NaN</td>\n",
       "      <td>...</td>\n",
       "      <td>3.0</td>\n",
       "      <td>17</td>\n",
       "      <td>0.0</td>\n",
       "      <td>1.0</td>\n",
       "      <td>1.0</td>\n",
       "      <td>NaN</td>\n",
       "      <td>1.0</td>\n",
       "      <td>0.0</td>\n",
       "      <td>0.074818</td>\n",
       "      <td>955.56</td>\n",
       "    </tr>\n",
       "    <tr>\n",
       "      <th>4</th>\n",
       "      <td>11</td>\n",
       "      <td>32976</td>\n",
       "      <td>1.0</td>\n",
       "      <td>0.096804</td>\n",
       "      <td>-0.316208</td>\n",
       "      <td>0.368062</td>\n",
       "      <td>5</td>\n",
       "      <td>3</td>\n",
       "      <td>1.0</td>\n",
       "      <td>NaN</td>\n",
       "      <td>...</td>\n",
       "      <td>3.0</td>\n",
       "      <td>17</td>\n",
       "      <td>0.0</td>\n",
       "      <td>1.0</td>\n",
       "      <td>1.0</td>\n",
       "      <td>NaN</td>\n",
       "      <td>1.0</td>\n",
       "      <td>0.0</td>\n",
       "      <td>0.074818</td>\n",
       "      <td>955.56</td>\n",
       "    </tr>\n",
       "  </tbody>\n",
       "</table>\n",
       "<p>5 rows × 35 columns</p>\n",
       "</div>"
      ],
      "text/plain": [
       "   building_id     id  seller  area_total  area_kitchen  area_living  floor  \\\n",
       "0            4  26052     NaN    5.675295           NaN          NaN      3   \n",
       "1            5  29404     1.0   -0.896821     -1.581108    -0.588336      1   \n",
       "2            6  24089     2.0    0.494253     -0.417982     0.678815      3   \n",
       "3           11  24033     0.0    0.087932      0.163582     0.165921     11   \n",
       "4           11  32976     1.0    0.096804     -0.316208     0.368062      5   \n",
       "\n",
       "   rooms  layout   ceiling  ...  material  stories  elevator_without  \\\n",
       "0      6     NaN       NaN  ...       NaN        4               NaN   \n",
       "1      1     NaN -0.077026  ...       3.0       12               0.0   \n",
       "2      4     1.0 -0.068230  ...       3.0       22               0.0   \n",
       "3      3     NaN       NaN  ...       3.0       17               0.0   \n",
       "4      3     1.0       NaN  ...       3.0       17               0.0   \n",
       "\n",
       "   elevator_passenger  elevator_service  parking  garbage_chute  heating  \\\n",
       "0                 NaN               NaN      NaN            NaN      NaN   \n",
       "1                 1.0               0.0      NaN            1.0      NaN   \n",
       "2                 1.0               1.0      1.0            1.0      0.0   \n",
       "3                 1.0               1.0      NaN            1.0      0.0   \n",
       "4                 1.0               1.0      NaN            1.0      0.0   \n",
       "\n",
       "   distance  distance_metro  \n",
       "0  0.293752         4981.58  \n",
       "1  0.116589          499.31  \n",
       "2 -0.040901         1123.52  \n",
       "3  0.074818          955.56  \n",
       "4  0.074818          955.56  \n",
       "\n",
       "[5 rows x 35 columns]"
      ]
     },
     "execution_count": 30,
     "metadata": {},
     "output_type": "execute_result"
    }
   ],
   "source": [
    "XTest.head()"
   ]
  },
  {
   "cell_type": "code",
   "execution_count": 31,
   "id": "8b96aaa6",
   "metadata": {},
   "outputs": [],
   "source": [
    "# Too big\n",
    "#f, ax=plt.subplots(1, 1, figsize=(12,6))\n",
    "#yt = y_train.to_numpy()\n",
    "#sns.violinplot(x=\"area_total\", y=\"distance\", hue=yt, data=X_train, split=True, ax=ax)\n",
    "#ax.set_title(\"Title\")\n",
    "#ax.set_yticks(range(-10, 110, 10))\n",
    "#plt.show"
   ]
  },
  {
   "cell_type": "markdown",
   "id": "f20037bf",
   "metadata": {},
   "source": [
    "# Dealing with NaN "
   ]
  },
  {
   "cell_type": "raw",
   "id": "9c76c872",
   "metadata": {},
   "source": [
    "Currently only one nan value has been replaced by computations and that is setting district of a property not in Moscow to 12. All other prior replacements were done on district, missing longitudes and latitudes based on existing neighbouring buildings or same street and nearby address (all done in Trifacta).\n",
    "\n",
    "The following replacing of NaN will be more experimental."
   ]
  },
  {
   "cell_type": "code",
   "execution_count": 22,
   "id": "fe3ab0de",
   "metadata": {},
   "outputs": [],
   "source": [
    "# Template for replacing nan by computing other variables\n",
    "#df[\"parking\"] = df.groupby(\"district\").transform(lambda x: x.fillna(x.median()))[\"parking\"]"
   ]
  },
  {
   "cell_type": "code",
   "execution_count": null,
   "id": "aac14506",
   "metadata": {},
   "outputs": [],
   "source": [
    "district_counts = {0:{},1:{},2:{},3:{},4{},5{},6:{},7:{},8:{},9:{},10:{},11:{},12:{}}\n",
    "districts = XTrain[\"district\"]\n",
    "for d in districts:\n",
    "    "
   ]
  },
  {
   "cell_type": "code",
   "execution_count": null,
   "id": "3e28162c",
   "metadata": {},
   "outputs": [],
   "source": []
  }
 ],
 "metadata": {
  "kernelspec": {
   "display_name": "Python 3 (ipykernel)",
   "language": "python",
   "name": "python3"
  },
  "language_info": {
   "codemirror_mode": {
    "name": "ipython",
    "version": 3
   },
   "file_extension": ".py",
   "mimetype": "text/x-python",
   "name": "python",
   "nbconvert_exporter": "python",
   "pygments_lexer": "ipython3",
   "version": "3.8.11"
  }
 },
 "nbformat": 4,
 "nbformat_minor": 5
}
