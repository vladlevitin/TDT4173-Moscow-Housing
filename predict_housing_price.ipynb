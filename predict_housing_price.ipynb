{
 "cells": [
  {
   "cell_type": "code",
   "execution_count": 1,
   "id": "6fca7566",
   "metadata": {},
   "outputs": [],
   "source": [
    "import numpy as np\n",
    "import pandas as pd\n",
    "import matplotlib.pyplot as plt\n",
    "import seaborn as sns \n",
    "from sklearn.linear_model import LinearRegression\n",
    "from sklearn.model_selection import train_test_split\n",
    "from sklearn.metrics import mean_squared_log_error\n",
    "from sklearn.metrics import mean_squared_error\n",
    "from selenium import webdriver\n",
    "from webdriver_manager.chrome import ChromeDriverManager\n",
    "from bs4 import BeautifulSoup\n",
    "import re\n",
    "from haversine import haversine, Unit\n",
    "import lightgbm as lgb\n",
    "from sklearn.preprocessing import Normalizer\n",
    "from sklearn import preprocessing"
   ]
  },
  {
   "cell_type": "code",
   "execution_count": 7,
   "id": "f4861487",
   "metadata": {},
   "outputs": [],
   "source": [
    "def get_distance_center(lat1, lon1):\n",
    "    dist = haversine((lat1, lon1), (55.751244, 37.618423), unit=Unit.METERS)\n",
    "    return round(dist/1000, 3)\n",
    "\n",
    "def get_distance_metro(lat, lon):\n",
    "    shortest = np.inf\n",
    "    for metro_coordinate in coordinates:\n",
    "        dist = haversine(metro_coordinate, (lat, lon), unit=Unit.METERS)\n",
    "        if dist < shortest:\n",
    "            shortest = dist\n",
    "    if shortest == np.inf:\n",
    "        return 100\n",
    "    return round(shortest/1000, 3)\n",
    "\n",
    "def process_data(dataframe):\n",
    "    columns = dataframe.columns.values\n",
    "    \"\"\" columns = ['building_id', 'id_x', 'id_y', 'seller', 'price', 'area_total', 'area_kitchen', \n",
    "            'area_living', 'floor', 'rooms', 'layout', 'ceiling', 'bathrooms_shared', \n",
    "            'bathrooms_private', 'windows_court', 'windows_street', 'balconies', 'loggias', \n",
    "            'condition', 'phones', 'new', 'latitude', 'longitude', 'district', 'street', 'address', \n",
    "            'constructed', 'material', 'stories', 'elevator_without', 'elevator_passenger',\n",
    "            'elevator_service', 'parking', 'garbage_chute', 'heating', 'distance_center', 'distance_metro'] \"\"\"\n",
    "\n",
    "    #remove_columns = ['latitude', 'longitude']\n",
    "    remove_columns = ['street', 'address', 'building_id', 'id_y']\n",
    "\n",
    "    dataframe = dataframe.drop(remove_columns, axis=1)\n",
    " \n",
    "    #for column in dataframe.columns.values:\n",
    "        #Finding the mean of the column having NaN\n",
    "       # mean_value=dataframe[column].mean()\n",
    "        \n",
    "        # Replace NaNs in column S2 with the\n",
    "        # mean of values in the same column\n",
    "        #dataframe[column].fillna(value=mean_value, inplace=True)\n",
    "\n",
    "    return dataframe"
   ]
  },
  {
   "cell_type": "code",
   "execution_count": 2,
   "id": "08b6cb8b",
   "metadata": {},
   "outputs": [],
   "source": [
    "a = pd.read_csv(\"data/apartments_train.csv\")\n",
    "b = pd.read_csv(\"data/buildings_train.csv\")\n",
    "merged = a.merge(b, left_on='building_id', right_on='id')\n",
    "merged.to_csv(\"prepared_data/apartments_and_building_train.csv\", index=False)\n",
    "\n",
    "a = pd.read_csv(\"data/apartments_test.csv\")\n",
    "b = pd.read_csv(\"data/buildings_test.csv\")\n",
    "merged = a.merge(b, left_on='building_id', right_on='id')\n",
    "merged.to_csv(\"prepared_data/apartments_and_building_test.csv\", index=False)"
   ]
  },
  {
   "cell_type": "code",
   "execution_count": 3,
   "id": "991d8a40",
   "metadata": {},
   "outputs": [],
   "source": [
    "dfTrain = pd.read_csv(\"prepared_data/apartments_and_building_train.csv\")\n",
    "dfTest = pd.read_csv(\"prepared_data/apartments_and_building_test.csv\")"
   ]
  },
  {
   "cell_type": "code",
   "execution_count": 4,
   "id": "a70bb6fe",
   "metadata": {},
   "outputs": [
    {
     "data": {
      "text/plain": [
       "[<matplotlib.lines.Line2D at 0x21192baec40>]"
      ]
     },
     "execution_count": 4,
     "metadata": {},
     "output_type": "execute_result"
    },
    {
     "data": {
      "image/png": "[encoded data removed]",
      "text/plain": [
       "<Figure size 432x288 with 1 Axes>"
      ]
     },
     "metadata": {
      "needs_background": "light"
     },
     "output_type": "display_data"
    }
   ],
   "source": [
    "df = dfTrain.copy()\n",
    "qhigh = df[\"price\"].quantile(0.92)\n",
    "qlow  = df[\"price\"].quantile(0.005)\n",
    "df = df[(df[\"price\"] < qhigh) & (df[\"price\"] > qlow)]\n",
    "y = df[\"price\"].copy()\n",
    "X = df[\"area_total\"].copy()\n",
    "X_train = X[:10000]\n",
    "y_train = y[:10000]\n",
    "X_test  = X[10000:]\n",
    "y_test  = y[10000:]\n",
    "reg_model = LinearRegression()\n",
    "\n",
    "reg_model.fit(X_train.values.reshape(-1, 1), y_train.values.reshape(-1, 1))\n",
    "y_pred = reg_model.predict(X_test.values.reshape(-1, 1))\n",
    "plt.scatter(X_test, y_test, s=2, color = 'red')\n",
    "plt.plot(X_test, reg_model.predict(X_test.values.reshape(-1, 1)), color = 'blue')"
   ]
  },
  {
   "cell_type": "code",
   "execution_count": 8,
   "id": "75fb82ff",
   "metadata": {},
   "outputs": [],
   "source": [
    "# normalize training data\n",
    "train_data = dfTrain.copy()\n",
    "train_data = process_data(train_data)"
   ]
  },
  {
   "cell_type": "code",
   "execution_count": 15,
   "id": "58cc9410",
   "metadata": {},
   "outputs": [
    {
     "data": {
      "text/plain": [
       "id_x                  0.000000\n",
       "seller                0.379214\n",
       "price                 0.000000\n",
       "area_total            0.000000\n",
       "area_kitchen          0.202749\n",
       "area_living           0.166717\n",
       "floor                 0.000000\n",
       "rooms                 0.000000\n",
       "layout                0.757655\n",
       "ceiling               0.476401\n",
       "bathrooms_shared      0.166287\n",
       "bathrooms_private     0.166287\n",
       "windows_court         0.346661\n",
       "windows_street        0.346661\n",
       "balconies             0.451793\n",
       "loggias               0.451793\n",
       "condition             0.421301\n",
       "phones                0.003436\n",
       "new                   0.011338\n",
       "latitude              0.000000\n",
       "longitude             0.000000\n",
       "district              0.005583\n",
       "constructed           0.034099\n",
       "material              0.170582\n",
       "stories               0.000000\n",
       "elevator_without      0.015332\n",
       "elevator_passenger    0.015332\n",
       "elevator_service      0.015332\n",
       "parking               0.291518\n",
       "garbage_chute         0.378398\n",
       "heating               0.350483\n",
       "dtype: float64"
      ]
     },
     "execution_count": 15,
     "metadata": {},
     "output_type": "execute_result"
    }
   ],
   "source": [
    "train_data.isnull().sum()/len(train_data)"
   ]
  },
  {
   "cell_type": "code",
   "execution_count": null,
   "id": "2f8c9794",
   "metadata": {},
   "outputs": [],
   "source": []
  }
 ],
 "metadata": {
  "kernelspec": {
   "display_name": "Python 3",
   "language": "python",
   "name": "python3"
  },
  "language_info": {
   "codemirror_mode": {
    "name": "ipython",
    "version": 3
   },
   "file_extension": ".py",
   "mimetype": "text/x-python",
   "name": "python",
   "nbconvert_exporter": "python",
   "pygments_lexer": "ipython3",
   "version": "3.8.8"
  }
 },
 "nbformat": 4,
 "nbformat_minor": 5
}
